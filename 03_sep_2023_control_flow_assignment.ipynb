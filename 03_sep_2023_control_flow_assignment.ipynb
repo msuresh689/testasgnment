{
 "cells": [
  {
   "cell_type": "code",
   "execution_count": 3,
   "id": "32c558d6-cc4a-45a5-b91d-7704fb65cf04",
   "metadata": {},
   "outputs": [
    {
     "name": "stdin",
     "output_type": "stream",
     "text": [
      "Enter a number to check its positive number or negative:  -1\n"
     ]
    },
    {
     "name": "stdout",
     "output_type": "stream",
     "text": [
      "Given Number ' -1 ' is Negative\n"
     ]
    }
   ],
   "source": [
    "#1. Write a Python program to check if a given number is positive or negative.\n",
    "n = int(input(\"Enter a number to check its positive number or negative: \"))\n",
    "if n >= 0:\n",
    "    print(\"Given Number '\", n , \"' is Positive\")\n",
    "else:\n",
    "    print(\"Given Number '\", n , \"' is Negative\")"
   ]
  },
  {
   "cell_type": "code",
   "execution_count": 14,
   "id": "657b654d-7522-4b84-a2be-b828cd203b86",
   "metadata": {},
   "outputs": [
    {
     "name": "stdin",
     "output_type": "stream",
     "text": [
      "Enter your age to validate for a casting vote:  18\n"
     ]
    },
    {
     "name": "stdout",
     "output_type": "stream",
     "text": [
      "You are eligible for vote\n"
     ]
    }
   ],
   "source": [
    "#2. Create a program that determines if a person is eligible to vote based on their age.\n",
    "n = int(input(\"Enter your age to validate for a casting vote: \"))\n",
    "if n >= 18:\n",
    "    print(\"You are eligible for vote\")\n",
    "else:\n",
    "    print(\"You are not eligiable for vote\")"
   ]
  },
  {
   "cell_type": "code",
   "execution_count": 13,
   "id": "bbd91b75-f750-40b5-9262-3c718ffb940d",
   "metadata": {},
   "outputs": [
    {
     "name": "stdin",
     "output_type": "stream",
     "text": [
      "Enter first number:  10\n",
      "Enter second number:  10\n"
     ]
    },
    {
     "name": "stdout",
     "output_type": "stream",
     "text": [
      "Both 10, 10 are equal \n"
     ]
    }
   ],
   "source": [
    "#3. Develop a program to find the maximum of two numbers using if-else statements.\n",
    "x = int(input(\"Enter first number: \"))\n",
    "y = int(input(\"Enter second number: \"))\n",
    "if x > y:\n",
    "    print(x, \" is bigger than \", y)\n",
    "elif y > x:\n",
    "    print(y, \" is bigger than \", x)\n",
    "else:\n",
    "    print(f\"Both {x}, {y} are equal \")"
   ]
  },
  {
   "cell_type": "code",
   "execution_count": 17,
   "id": "b02b50a3-66ab-4646-b34e-ceece55a742e",
   "metadata": {},
   "outputs": [
    {
     "name": "stdin",
     "output_type": "stream",
     "text": [
      "Enter a year to find out it's leap year or not : 2024\n"
     ]
    },
    {
     "name": "stdout",
     "output_type": "stream",
     "text": [
      "Is 2024 leap year : True\n"
     ]
    }
   ],
   "source": [
    "#4. Write a Python script to classify a given year as a leap year or not.\n",
    "y = int(input(\"Enter a year to find out it's leap year or not :\"))\n",
    "print(f\"Is {y} leap year :\", (y%4 ==0))"
   ]
  },
  {
   "cell_type": "code",
   "execution_count": null,
   "id": "3f4d1a99-4f94-4c4a-9775-7f54ff5a4d53",
   "metadata": {},
   "outputs": [],
   "source": [
    "#5. Create a program that checks whether a character is a vowel or a consonant."
   ]
  },
  {
   "cell_type": "code",
   "execution_count": 20,
   "id": "5bb64094-f145-4faf-a34a-7e75501328e8",
   "metadata": {},
   "outputs": [
    {
     "name": "stdin",
     "output_type": "stream",
     "text": [
      "Enter a char to check wheter its a vowel or consonant:  b\n"
     ]
    },
    {
     "name": "stdout",
     "output_type": "stream",
     "text": [
      "Enter a char is not a Vowel\n"
     ]
    }
   ],
   "source": [
    "c = input(\"Enter a char to check wheter its a vowel or consonant: \")\n",
    "if c in ['a','e', 'i','o', 'u', 'A', 'E', 'I', 'O', 'U']:\n",
    "    print(\"Enter a char is Vowel\")\n",
    "else:\n",
    "    print(\"Enter a char is not a Vowel\")"
   ]
  },
  {
   "cell_type": "code",
   "execution_count": 22,
   "id": "42e36b6f-ead1-4453-bfde-4984c0f74dc5",
   "metadata": {},
   "outputs": [
    {
     "name": "stdin",
     "output_type": "stream",
     "text": [
      "Enter a number to find out it's even or odd : 9\n"
     ]
    },
    {
     "name": "stdout",
     "output_type": "stream",
     "text": [
      "Given 9 is a odd\n"
     ]
    }
   ],
   "source": [
    "#6. Implement a program to determine whether a given number is even or odd.\n",
    "y = int(input(\"Enter a number to find out it's even or odd :\"))\n",
    "\n",
    "if y % 2 == 0:\n",
    "    print(f\"Given {y} is a even\")\n",
    "else:\n",
    "    print(f\"Given {y} is a odd\")"
   ]
  },
  {
   "cell_type": "code",
   "execution_count": 26,
   "id": "41a25626-9b32-46a2-8fea-d9ae34686cf2",
   "metadata": {},
   "outputs": [
    {
     "name": "stdout",
     "output_type": "stream",
     "text": [
      "10\n",
      "10.1\n",
      "20\n",
      "20.2\n"
     ]
    }
   ],
   "source": [
    "#7. Write a Python function to calculate the absolute value of a number without using the `abs()` function.\n",
    "def abs_value(x):\n",
    "    if x>=0: \n",
    "        return x\n",
    "    else:\n",
    "        return -x\n",
    "print(abs_value(10))\n",
    "print(abs_value(-10.10))\n",
    "print(abs_value(-20))\n",
    "print(abs_value(20.20))\n",
    "        "
   ]
  },
  {
   "cell_type": "code",
   "execution_count": 31,
   "id": "45b53b46-6dbd-4ad5-bb5b-97a0bce6f8b6",
   "metadata": {},
   "outputs": [
    {
     "name": "stdout",
     "output_type": "stream",
     "text": [
      "Larger number is 45\n"
     ]
    }
   ],
   "source": [
    "#8. Develop a program that determines the largest of three given numbers using if-else statements.\n",
    "a = 40\n",
    "b = 35\n",
    "c = 45\n",
    "if a > b > c :\n",
    "    print(f\"Larger number is {a}\")\n",
    "elif b > c:\n",
    "    print(f\"Larger number is {b}\")\n",
    "else:\n",
    "    print(f\"Larger number is {c}\")\n",
    "    "
   ]
  },
  {
   "cell_type": "code",
   "execution_count": 35,
   "id": "80aad818-648f-436f-ba5f-ab712d2c99e7",
   "metadata": {},
   "outputs": [
    {
     "name": "stdout",
     "output_type": "stream",
     "text": [
      "is 'palindrome' palindrome:  False\n",
      "is 'madam' palindrome:  True\n"
     ]
    }
   ],
   "source": [
    "# 9. Create a program that checks if a given string is a palindrome.\n",
    "def is_prolidrome(s):\n",
    "    bFlag = False\n",
    "    if s == s[::-1]:\n",
    "        bFlag = True\n",
    "    return bFlag\n",
    "    \n",
    "a = \"palindrome\"\n",
    "print(f\"is '{a}' palindrome: \", is_prolidrome(a))\n",
    "a = \"madam\"\n",
    "print(f\"is '{a}' palindrome: \", is_prolidrome(a))"
   ]
  },
  {
   "cell_type": "code",
   "execution_count": 46,
   "id": "4cb9e5e3-65fe-44dd-83b6-22c3d6792e76",
   "metadata": {},
   "outputs": [
    {
     "name": "stdin",
     "output_type": "stream",
     "text": [
      "Enter total marks of a Student to find out his grade:  61\n"
     ]
    },
    {
     "name": "stdout",
     "output_type": "stream",
     "text": [
      "Student grade is D\n"
     ]
    }
   ],
   "source": [
    "#10. Write a Python program to calculate the grade based on a student's score. Nested If-Else Statements:\n",
    "marks = int(input(\"Enter total marks of a Student to find out his grade: \"))\n",
    "if marks >= 91:\n",
    "    print(\"Student grade is A\")\n",
    "else:\n",
    "    if marks >= 81 and marks <= 90:\n",
    "        print(\"Student grade is B\") \n",
    "    else:\n",
    "        if marks >= 71 and marks <= 80:\n",
    "            print(\"Student grade is C\")\n",
    "        else:\n",
    "            if marks >= 61 and marks <= 70:\n",
    "                print(\"Student grade is D\")\n",
    "            else:\n",
    "                if marks >= 51 and marks <= 60:\n",
    "                    print(\"Student grade is E\")\n",
    "                else:\n",
    "                    print(\"Student grade is F, And Failed.\")"
   ]
  },
  {
   "cell_type": "code",
   "execution_count": 9,
   "id": "515eb982-0084-4c12-a952-41ad5d2a2494",
   "metadata": {},
   "outputs": [
    {
     "name": "stdout",
     "output_type": "stream",
     "text": [
      "Larger number is 65\n"
     ]
    }
   ],
   "source": [
    "#11. Write a program to find the largest among three numbers using nested if-else statements.\n",
    "a = 60\n",
    "b = 65\n",
    "c = 45\n",
    "if a > b > c :\n",
    "    print(f\"Larger number is {a}\")\n",
    "else:\n",
    "    if b > c:\n",
    "        print(f\"Larger number is {b}\")\n",
    "    else:\n",
    "        print(f\"Larger number is {c}\")"
   ]
  },
  {
   "cell_type": "code",
   "execution_count": 17,
   "id": "28046d22-ef07-418a-b544-a187863a7d4a",
   "metadata": {},
   "outputs": [
    {
     "name": "stdin",
     "output_type": "stream",
     "text": [
      "Enter sides of a triangle with spaces:  3       3 3\n"
     ]
    },
    {
     "name": "stdout",
     "output_type": "stream",
     "text": [
      "Entered triagle is Equilateral\n"
     ]
    }
   ],
   "source": [
    "# 12. Implement a program to determine if a triangle is equilateral, isosceles, or scalene.\n",
    "a, b, c = input(\"Enter sides of a triangle with spaces: \").split()\n",
    "if a == b == c:\n",
    "    print(\"Entered triagle is Equilateral\")\n",
    "elif a == c:\n",
    "    print(\"Entered triagle is Isosceles\")\n",
    "else:\n",
    "    print(\"Entered triagle is Scalene\")\n",
    "# print(a.split()[0], a.split()[1], a.split()[2])"
   ]
  },
  {
   "cell_type": "code",
   "execution_count": 20,
   "id": "2bae2b5b-e61c-4313-be1f-3a422fab71c8",
   "metadata": {},
   "outputs": [
    {
     "name": "stdin",
     "output_type": "stream",
     "text": [
      "Enter a year to find out is it a leap year:  1996\n"
     ]
    },
    {
     "name": "stdout",
     "output_type": "stream",
     "text": [
      "Entered year is a leap year\n"
     ]
    }
   ],
   "source": [
    "#13. Develop a program that checks if a year is a leap year and also if it is a century year.\n",
    "year = int(input(\"Enter a year to find out is it a leap year: \"))\n",
    "if year % 4 == 0:\n",
    "    print(\"Entered year is a leap year\")\n",
    "if year % 100 == 0:\n",
    "    print(\"Entered year is century\")"
   ]
  },
  {
   "cell_type": "code",
   "execution_count": 23,
   "id": "8e46c933-ffc6-495a-a41a-95230bac0b82",
   "metadata": {},
   "outputs": [
    {
     "name": "stdin",
     "output_type": "stream",
     "text": [
      "Enter a number to check its positive, negative or zero:  0\n"
     ]
    },
    {
     "name": "stdout",
     "output_type": "stream",
     "text": [
      "Given Number ' 0 ' is Zero\n"
     ]
    }
   ],
   "source": [
    "#14. Write a Python script to determine if a number is positive, negative, or zero.\n",
    "\n",
    "n = int(input(\"Enter a number to check its positive, negative or zero: \"))\n",
    "if n > 0:\n",
    "    print(\"Given Number '\", n , \"' is Positive\")\n",
    "elif n < 0 :\n",
    "    print(\"Given Number '\", n , \"' is Negative\")\n",
    "else:\n",
    "    print(\"Given Number '\", n , \"' is Zero\")\n"
   ]
  },
  {
   "cell_type": "code",
   "execution_count": 1,
   "id": "8746d081-875c-4c42-87b1-714b5ea99512",
   "metadata": {},
   "outputs": [
    {
     "name": "stdin",
     "output_type": "stream",
     "text": [
      "Enter an age check if a person is a teenager (between 13 and 19 years old):  14\n"
     ]
    },
    {
     "name": "stdout",
     "output_type": "stream",
     "text": [
      "You are a teenager!\n"
     ]
    }
   ],
   "source": [
    "#15. Create a program to check if a person is a teenager (between 13 and 19 years old).\n",
    "n = int(input(\"Enter an age check if a person is a teenager (between 13 and 19 years old): \"))\n",
    "if n >= 13 and n <= 19:\n",
    "    print(\"You are a teenager!\")\n",
    "else:\n",
    "    print(\"You are not a teenager!\")"
   ]
  },
  {
   "cell_type": "code",
   "execution_count": 45,
   "id": "f72df8e9-8590-42a4-9795-4a530b4e8861",
   "metadata": {},
   "outputs": [
    {
     "name": "stdin",
     "output_type": "stream",
     "text": [
      "Enter sides of a triangle with spaces:  3 4 5\n"
     ]
    },
    {
     "name": "stdout",
     "output_type": "stream",
     "text": [
      "Triangle is Right Angle\n"
     ]
    }
   ],
   "source": [
    "#16. Develop a program that determines the type of angle based on its measure (acute, obtuse, or right).\n",
    "a, b, c = input(\"Enter sides of a triangle with spaces: \").split()\n",
    "a, b, c = int(a), int(b), int(c)\n",
    "if pow(a,2) + pow(b,2) > pow(c,2):\n",
    "    print(\"Triangle is Acute Angle\")\n",
    "elif pow(a,2) + pow(b,2) < pow(c,2):\n",
    "    print(\"Triangle is Obtuse Angle\")\n",
    "else:\n",
    "    print(\"Triangle is Right Angle\")"
   ]
  },
  {
   "cell_type": "code",
   "execution_count": 2,
   "id": "8d178b08-660b-40b0-b3b3-357f4d5a2977",
   "metadata": {},
   "outputs": [
    {
     "name": "stdin",
     "output_type": "stream",
     "text": [
      "Enter a:  3\n",
      "Enter b:  4\n",
      "Enter c:  5\n"
     ]
    },
    {
     "name": "stdout",
     "output_type": "stream",
     "text": [
      "The solution are (-0.6666666666666666+1.1055415967851332j) and (-0.6666666666666666-1.1055415967851332j)\n"
     ]
    }
   ],
   "source": [
    "# 17. Write a Python program to calculate the roots of a quadratic equation.\n",
    "import cmath\n",
    "\n",
    "a = int(input('Enter a: '))  \n",
    "b = int(input('Enter b: '))  \n",
    "c = int(input('Enter c: '))  \n",
    "\n",
    "d = (b**2) - (4*a*c)\n",
    "\n",
    "x = (-b + cmath.sqrt(d)) / (2*a)\n",
    "y = (-b - cmath.sqrt(d)) / (2*a)\n",
    " \n",
    "print(f'The solution are {x} and {y}')   \n"
   ]
  },
  {
   "cell_type": "code",
   "execution_count": 35,
   "id": "abbb27d2-4f75-41eb-aeb7-28ea7ef842e4",
   "metadata": {},
   "outputs": [
    {
     "name": "stdin",
     "output_type": "stream",
     "text": [
      "Enter a week day in number, to get a week day:  7\n"
     ]
    },
    {
     "name": "stdout",
     "output_type": "stream",
     "text": [
      "Sunday\n"
     ]
    }
   ],
   "source": [
    "# 18. Implement a program to determine the day of the week based on a user-provided number (1 for Monday, 2 for Tuesday, etc.).\n",
    "week_dic= { 1 : 'Monday', 2 : 'Tuesday', 3 : 'Wednesday', 4 : 'Thursday', 5 : 'Friday', 6 : 'Saturday', 7 : 'Sunday'}\n",
    "d = int(input(\"Enter a week day in number, to get a week day: \"))\n",
    "print(week_dic.get(d))"
   ]
  },
  {
   "cell_type": "code",
   "execution_count": 37,
   "id": "446a9189-81af-4516-b2b7-95dfa71ddb14",
   "metadata": {},
   "outputs": [
    {
     "name": "stdin",
     "output_type": "stream",
     "text": [
      "Enter a year to determines it's leap year or not : 2000\n"
     ]
    },
    {
     "name": "stdout",
     "output_type": "stream",
     "text": [
      "Is '2000' leap year : True\n",
      "Is '2000' devided by 400 : True\n"
     ]
    }
   ],
   "source": [
    "# 19. Create a program that determines if a year is a leap year and also if it is evenly divisible by 400.\n",
    "y = int(input(\"Enter a year to determines it's leap year or not :\"))\n",
    "print(f\"Is '{y}' leap year :\", (y%4 ==0))\n",
    "print(f\"Is '{y}' devided by 400 :\", (y%400 ==0))"
   ]
  },
  {
   "cell_type": "code",
   "execution_count": 43,
   "id": "c7227994-d74c-4592-ac63-b114416b32d8",
   "metadata": {},
   "outputs": [
    {
     "name": "stdin",
     "output_type": "stream",
     "text": [
      "Enter number to findout is it prime or not:  7\n"
     ]
    },
    {
     "name": "stdout",
     "output_type": "stream",
     "text": [
      "Is given number prime number:  True\n"
     ]
    }
   ],
   "source": [
    "# 20. Develop a program that checks if a given number is prime or not using nested if-else statements.\n",
    "p = int(input(\"Enter number to findout is it prime or not: \"))\n",
    "bFlag = True\n",
    "for i in range(2, p):\n",
    "    if p % i == 0:\n",
    "        bFlag = False\n",
    "        break\n",
    "    \n",
    "print(\"Is given number prime number: \", bFlag)\n",
    "    \n"
   ]
  },
  {
   "cell_type": "code",
   "execution_count": 3,
   "id": "70659578-40cb-4717-9862-f09976f4b558",
   "metadata": {},
   "outputs": [
    {
     "name": "stdin",
     "output_type": "stream",
     "text": [
      "Enter total marks of a Student to find out his grade:  90\n"
     ]
    },
    {
     "name": "stdout",
     "output_type": "stream",
     "text": [
      "Student grade is B\n"
     ]
    }
   ],
   "source": [
    "# Elif Statements:\n",
    "#21. Write a Python program to assign grades based on different ranges of scores using elif statements.\n",
    "\n",
    "marks = int(input(\"Enter total marks of a Student to find out his grade: \"))\n",
    "\n",
    "if marks >= 91:\n",
    "    print(\"Student grade is A\")\n",
    "elif marks >= 81 and marks <= 90:\n",
    "    print(\"Student grade is B\") \n",
    "elif marks >= 71 and marks <= 80:\n",
    "    print(\"Student grade is C\")\n",
    "elif marks >= 61 and marks <= 70:\n",
    "    print(\"Student grade is D\")\n",
    "elif marks >= 51 and marks <= 60:\n",
    "    print(\"Student grade is E\")\n",
    "else:\n",
    "    print(\"Student grade is F, And Failed.\")"
   ]
  },
  {
   "cell_type": "code",
   "execution_count": 50,
   "id": "93414e74-2d6a-4a01-b056-6feae1913dae",
   "metadata": {},
   "outputs": [
    {
     "name": "stdin",
     "output_type": "stream",
     "text": [
      "Enter an angle to determine the type of a triangle:  45\n"
     ]
    },
    {
     "name": "stdout",
     "output_type": "stream",
     "text": [
      "Trianlge is Acute Angle Triangle\n"
     ]
    }
   ],
   "source": [
    "#22. Implement a program to determine the type of a triangle based on its angles.\n",
    "angle = int(input(\"Enter an angle to determine the type of a triangle: \"))\n",
    "\n",
    "if angle == 90:\n",
    "    print(\"Trianlge is Right Angle Triangle\")\n",
    "elif angle < 90:\n",
    "    print(\"Trianlge is Acute Angle Triangle\")\n",
    "elif angle > 90:\n",
    "    print(\"Trianlge is Obtuse Angle Triangle\")"
   ]
  },
  {
   "cell_type": "code",
   "execution_count": 54,
   "id": "c79d0b59-de46-4db6-9238-6e6eac930ca1",
   "metadata": {},
   "outputs": [
    {
     "name": "stdin",
     "output_type": "stream",
     "text": [
      "Enter a BMI to categorize you:  30\n"
     ]
    },
    {
     "name": "stdout",
     "output_type": "stream",
     "text": [
      "your are with obese\n"
     ]
    }
   ],
   "source": [
    "#23. Develop a program to categorize a given person's BMI into underweight, normal, overweight, or obese using elif statements.\n",
    "bmi = float(input(\"Enter a BMI to categorize you: \"))\n",
    "\n",
    "if bmi < 18.5:\n",
    "    print(\"You are under weight\")\n",
    "elif bmi >= 18.5 and bmi <= 24.9:\n",
    "    print(\"your are with in Healthy Weight\")\n",
    "elif bmi >= 25.0 and bmi <= 29.9:\n",
    "    print(\"your are with overweight\")\n",
    "else:\n",
    "    print(\"your are with obese\")\n"
   ]
  },
  {
   "cell_type": "code",
   "execution_count": 55,
   "id": "e40bbbe1-cad8-41c0-9023-18449ec2db09",
   "metadata": {},
   "outputs": [
    {
     "name": "stdin",
     "output_type": "stream",
     "text": [
      "Enter a number to determine its positive, negative or zero:  6\n"
     ]
    },
    {
     "name": "stdout",
     "output_type": "stream",
     "text": [
      "Given Number ' 6 ' is Positive\n"
     ]
    }
   ],
   "source": [
    "#24. Create a program that determines whether a given number is positive, negative, or zero using elifstatements.\n",
    "n = int(input(\"Enter a number to determine its positive, negative or zero: \"))\n",
    "if n > 0:\n",
    "    print(\"Given Number '\", n , \"' is Positive\")\n",
    "elif n < 0 :\n",
    "    print(\"Given Number '\", n , \"' is Negative\")\n",
    "else:\n",
    "    print(\"Given Number '\", n , \"' is Zero\")\n"
   ]
  },
  {
   "cell_type": "code",
   "execution_count": 6,
   "id": "51e2ba46-aefc-4089-a8a8-ed406bf5a84a",
   "metadata": {},
   "outputs": [
    {
     "name": "stdout",
     "output_type": "stream",
     "text": [
      "Actual  Amout:\t\t\t 499.0\n",
      "Discounted Amout:\t\t 4.99\n",
      "Amout after discount:\t\t 494.01\n"
     ]
    }
   ],
   "source": [
    "#26. Implement a program to calculate the discounted price based on different purchase amounts using elif statements.\n",
    "amt = 499\n",
    "dis_per = 0\n",
    "if amt >= 1000:\n",
    "    dis_per = 10\n",
    "elif amt >= 500 and amt < 1000:\n",
    "    dis_per = 5\n",
    "elif amt > 100 and amt < 500:\n",
    "    dis_per = 1\n",
    "\n",
    "\n",
    "dis_amt = (amt * dis_per) / 100\n",
    "print(\"Actual  Amout:\\t\\t\\t\", float(amt))\n",
    "print(\"Discounted Amout:\\t\\t\", dis_amt)\n",
    "print(\"Amout after discount:\\t\\t\", amt - dis_amt)"
   ]
  },
  {
   "cell_type": "code",
   "execution_count": 36,
   "id": "e0184579-7ea1-44da-81bd-33745581e9dd",
   "metadata": {},
   "outputs": [
    {
     "name": "stdin",
     "output_type": "stream",
     "text": [
      "Enter units to calulate your electricity bill:  189\n"
     ]
    },
    {
     "name": "stdout",
     "output_type": "stream",
     "text": [
      "Your Electricity bill:  458.75\n"
     ]
    }
   ],
   "source": [
    "#27. Develop a program to calculate the electricity bill based on different consumption slabs using elif statements.\n",
    "\n",
    "\n",
    "def unit_price_by_slab(units):\n",
    "    unit_price =1.25\n",
    "    if units > 100 and units <= 200:\n",
    "        unit_price = 2.50\n",
    "    elif units > 200 and units <= 400:\n",
    "        unit_price = 5.00\n",
    "    elif units > 400 and units <= 600:\n",
    "        unit_price = 8.00\n",
    "    elif units > 600:\n",
    "        unit_price = 11.00\n",
    "        \n",
    "    return unit_price\n",
    "\n",
    "n_units = int(input(\"Enter units to calulate your electricity bill: \"))\n",
    "\n",
    "slabs = [100, 200, 400, 600]\n",
    "bill = 0\n",
    "\n",
    "for i in slabs:\n",
    "    up = unit_price_by_slab(i)\n",
    "    if n_units <= 0:\n",
    "        break\n",
    "    else:\n",
    "        bill += n_units * up\n",
    "        n_units -= i\n",
    "        \n",
    "print(\"Your Electricity bill: \", bill)    \n",
    "    "
   ]
  },
  {
   "cell_type": "code",
   "execution_count": 1,
   "id": "33ac48ef-cb94-4a64-ac9c-4ad4a09720c5",
   "metadata": {},
   "outputs": [
    {
     "name": "stdin",
     "output_type": "stream",
     "text": [
      "Enter angle 1:  90\n",
      "Enter angle 2:  90\n",
      "Enter angle 3:  90\n",
      "Enter angle 4:  90\n",
      "Enter side 1:  4\n",
      "Enter side 2:  4\n",
      "Enter side 3:  4\n",
      "Enter side 4:  4\n"
     ]
    },
    {
     "name": "stdout",
     "output_type": "stream",
     "text": [
      "The given quadrilateral is a Square.\n"
     ]
    }
   ],
   "source": [
    "#28. Create a program to determine the type of quadrilateral based on its angles and sides using elif statements.\n",
    "# Function to determine the type of quadrilateral\n",
    "def classify_quadrilateral(sides, angles):\n",
    "    if all(angle == 90 for angle in angles):\n",
    "        if all(side1 == side2 for side1, side2 in zip(sides, sides[1:])):  # All sides are equal\n",
    "            return \"Square\"\n",
    "        else:\n",
    "            return \"Rectangle\"\n",
    "    elif any(angle == 90 for angle in angles):\n",
    "        return \"Trapezoid\"\n",
    "    elif all(side1 == side2 for side1, side2 in zip(sides, sides[1:])):  # All sides are equal\n",
    "        return \"Rhombus\"\n",
    "    else:\n",
    "        return \"Quadrilateral\"\n",
    "\n",
    "# Input angles and sides\n",
    "angles = [int(input(f\"Enter angle {i + 1}: \")) for i in range(4)]\n",
    "sides = [int(input(f\"Enter side {i + 1}: \")) for i in range(4)]\n",
    "\n",
    "# Determine the type of quadrilateral\n",
    "quadrilateral_type = classify_quadrilateral(sides, angles)\n",
    "\n",
    "# Output the result\n",
    "print(f\"The given quadrilateral is a {quadrilateral_type}.\")"
   ]
  },
  {
   "cell_type": "code",
   "execution_count": 11,
   "id": "582366b4-9b7a-416b-800b-23a995b7d158",
   "metadata": {},
   "outputs": [
    {
     "name": "stdin",
     "output_type": "stream",
     "text": [
      "Enter month name (e.g. January, February etc.):  January\n",
      "Input the day:  20\n"
     ]
    },
    {
     "name": "stdout",
     "output_type": "stream",
     "text": [
      "Season is Winter\n"
     ]
    }
   ],
   "source": [
    "#29. Write a Python script to determine the season based on a user-provided month using elif statements.\n",
    "month = input(\"Enter month name (e.g. January, February etc.): \")\n",
    "day = int(input(\"Input the day: \"))\n",
    "\n",
    "if month in ('January', 'February', 'March'):\n",
    "\tseason = 'Winter'\n",
    "elif month in ('April', 'May', 'June'):\n",
    "\tseason = 'Spring'\n",
    "elif month in ('July', 'August', 'September'):\n",
    "\tseason = 'Summer'\n",
    "else:\n",
    "\tseason = 'Autumn'\n",
    "\n",
    "if (month == 'March') and (day > 19):\n",
    "\tseason = 'Spring'\n",
    "elif (month == 'June') and (day > 20):\n",
    "\tseason = 'Summer'\n",
    "elif (month == 'September') and (day > 21):\n",
    "\tseason = 'Autumn'\n",
    "elif (month == 'December') and (day > 20):\n",
    "\tseason = 'Winter'\n",
    "\n",
    "print(\"Season is\",season)"
   ]
  },
  {
   "cell_type": "code",
   "execution_count": 13,
   "id": "0ba901d0-68ab-42db-9804-9c369be506c4",
   "metadata": {},
   "outputs": [
    {
     "name": "stdin",
     "output_type": "stream",
     "text": [
      "Enter a month(1,2,3,4...12) to find out its days 2\n",
      "Enter a Year for the month:  2023\n"
     ]
    },
    {
     "name": "stdout",
     "output_type": "stream",
     "text": [
      "Number of days is 28\n"
     ]
    }
   ],
   "source": [
    "# 30. Implement a program to determine the type of a year (leap or common) and month (30 or 31 days) using elif statements.\n",
    "month = int(input(\"Enter a month(1,2,3,4...12) to find out its days\"))\n",
    "year=int(input(\"Enter a Year for the month: \"))\n",
    "     \n",
    "if((month==2) and ((year%4==0)  or ((year%100==0) and (year%400==0)))) :\n",
    "    print(\"Number of days is 29\");\n",
    "elif(month==2) :\n",
    "    print(\"Number of days is 28\");\n",
    "elif(month==1 or month==3 or month==5 or month==7 or month==8 or month==10 or month==12) :\n",
    "    print(\"Number of days is 31\");\n",
    "else :\n",
    "    print(\"Number of days is 30\");"
   ]
  },
  {
   "cell_type": "code",
   "execution_count": 20,
   "id": "485cb380-97b6-4108-ba14-43dcc45e6964",
   "metadata": {},
   "outputs": [
    {
     "name": "stdin",
     "output_type": "stream",
     "text": [
      "Enter a number to check its positive number or negative:  0\n"
     ]
    },
    {
     "name": "stdout",
     "output_type": "stream",
     "text": [
      "Given Number ' 0 ' is Zero\n"
     ]
    }
   ],
   "source": [
    "#1. Write a Python program that checks if a given number is positive, negative, or zero.\n",
    "n = int(input(\"Enter a number to check its positive number or negative: \"))\n",
    "if n > 0:\n",
    "    print(\"Given Number '\", n , \"' is Positive\")\n",
    "elif n < 0:\n",
    "    print(\"Given Number '\", n , \"' is Negative\")\n",
    "else:\n",
    "    print(\"Given Number '\", n , \"' is Zero\")"
   ]
  },
  {
   "cell_type": "code",
   "execution_count": 22,
   "id": "4ade31dd-c1c2-40c8-b6b2-1671b95af172",
   "metadata": {},
   "outputs": [
    {
     "name": "stdin",
     "output_type": "stream",
     "text": [
      "Enter your age to validate for a casting vote:  18\n"
     ]
    },
    {
     "name": "stdout",
     "output_type": "stream",
     "text": [
      "You are eligible for vote\n"
     ]
    }
   ],
   "source": [
    "#2. Create a program to determine if a person is eligible to vote based on their age.\n",
    "n = int(input(\"Enter your age to validate for a casting vote: \"))\n",
    "if n >= 18:\n",
    "    print(\"You are eligible for vote\")\n",
    "else:\n",
    "    print(\"You are not eligiable for vote\")"
   ]
  },
  {
   "cell_type": "code",
   "execution_count": 24,
   "id": "c6066735-89a7-4064-bb61-89f3a4d1a6df",
   "metadata": {},
   "outputs": [
    {
     "name": "stdin",
     "output_type": "stream",
     "text": [
      "Enter first number:  3\n",
      "Enter second number:  4\n"
     ]
    },
    {
     "name": "stdout",
     "output_type": "stream",
     "text": [
      "4  is bigger than  3\n"
     ]
    }
   ],
   "source": [
    "#3. Write a program to find the maximum of two given numbers using conditional statements.\n",
    "x = int(input(\"Enter first number: \"))\n",
    "y = int(input(\"Enter second number: \"))\n",
    "if x > y:\n",
    "    print(x, \" is bigger than \", y)\n",
    "elif y > x:\n",
    "    print(y, \" is bigger than \", x)\n",
    "else:\n",
    "    print(f\"Both {x}, {y} are equal \")"
   ]
  },
  {
   "cell_type": "code",
   "execution_count": 26,
   "id": "fe6f328d-2dbf-495f-8b63-d015ca613a8d",
   "metadata": {},
   "outputs": [
    {
     "name": "stdin",
     "output_type": "stream",
     "text": [
      "Enter score of a Student to find out his/her grade:  78\n"
     ]
    },
    {
     "name": "stdout",
     "output_type": "stream",
     "text": [
      "Student grade is C\n"
     ]
    }
   ],
   "source": [
    "#4. Develop a program that calculates the grade of a student based on their exam score.\n",
    "marks = int(input(\"Enter score of a Student to find out his/her grade: \"))\n",
    "\n",
    "if marks >= 91:\n",
    "    print(\"Student grade is A\")\n",
    "elif marks >= 81 and marks <= 90:\n",
    "    print(\"Student grade is B\") \n",
    "elif marks >= 71 and marks <= 80:\n",
    "    print(\"Student grade is C\")\n",
    "elif marks >= 61 and marks <= 70:\n",
    "    print(\"Student grade is D\")\n",
    "elif marks >= 51 and marks <= 60:\n",
    "    print(\"Student grade is E\")\n",
    "else:\n",
    "    print(\"Student grade is F, And Failed.\")"
   ]
  },
  {
   "cell_type": "code",
   "execution_count": 29,
   "id": "a178fcf3-efc1-40ce-a8cb-d2e659bf306d",
   "metadata": {},
   "outputs": [
    {
     "name": "stdin",
     "output_type": "stream",
     "text": [
      "Enter a Year to find out a Year:  2024\n"
     ]
    },
    {
     "name": "stdout",
     "output_type": "stream",
     "text": [
      "Given year is a leap year\n"
     ]
    }
   ],
   "source": [
    "#5. Create a program that checks if a year is a leap year or not.\n",
    "year=int(input(\"Enter a Year to find out a Year: \"))\n",
    "     \n",
    "if((year%4==0)  or ((year%100==0) and (year%400==0))):\n",
    "    print(\"Given year is a leap year\")\n",
    "else:\n",
    "    print(\"Given year is a not leap year\")\n"
   ]
  },
  {
   "cell_type": "code",
   "execution_count": 33,
   "id": "90954bc5-40d6-43e4-8a77-150eba7f337a",
   "metadata": {},
   "outputs": [
    {
     "name": "stdin",
     "output_type": "stream",
     "text": [
      "Enter sides of a triangle with spaces:  2 3 3\n"
     ]
    },
    {
     "name": "stdout",
     "output_type": "stream",
     "text": [
      "Entered triagle is Isosceles\n"
     ]
    }
   ],
   "source": [
    "#6. Write a program to classify a triangle based on its sides' lengths.\n",
    "a, b, c = input(\"Enter sides of a triangle with spaces: \").split()\n",
    "a, b, c =int(a), int(b), int(c)\n",
    "if a == b == c:\n",
    "    print(\"Entered triagle is Equilateral\")\n",
    "elif a == c or b == c or a == b:\n",
    "    print(\"Entered triagle is Isosceles\")\n",
    "else:\n",
    "    print(\"Entered triagle is Scalene\")"
   ]
  },
  {
   "cell_type": "code",
   "execution_count": 34,
   "id": "3d330a79-2f54-4ba1-af9f-ae61e87aac78",
   "metadata": {},
   "outputs": [
    {
     "name": "stdout",
     "output_type": "stream",
     "text": [
      "Larger number is 65\n"
     ]
    }
   ],
   "source": [
    "#7. Build a program that determines the largest of three given numbers.\n",
    "a = 60\n",
    "b = 65\n",
    "c = 45\n",
    "if a > b > c :\n",
    "    print(f\"Larger number is {a}\")\n",
    "else:\n",
    "    if b > c:\n",
    "        print(f\"Larger number is {b}\")\n",
    "    else:\n",
    "        print(f\"Larger number is {c}\")"
   ]
  },
  {
   "cell_type": "code",
   "execution_count": 35,
   "id": "0a3ef010-b994-40d0-844d-79450b20d067",
   "metadata": {},
   "outputs": [
    {
     "name": "stdin",
     "output_type": "stream",
     "text": [
      "Enter a char to check wheter its a vowel or consonant:  a\n"
     ]
    },
    {
     "name": "stdout",
     "output_type": "stream",
     "text": [
      "Enter a char is Vowel\n"
     ]
    }
   ],
   "source": [
    "#8. Develop a program that checks whether a character is a vowel or a consonant.\n",
    "c = input(\"Enter a char to check wheter its a vowel or consonant: \")\n",
    "if c in ['a','e', 'i','o', 'u', 'A', 'E', 'I', 'O', 'U']:\n",
    "    print(\"Enter a char is Vowel\")\n",
    "else:\n",
    "    print(\"Enter a char is not a Vowel\")"
   ]
  },
  {
   "cell_type": "code",
   "execution_count": 38,
   "id": "22c84fee-bcd7-4817-95cc-2256545fe237",
   "metadata": {},
   "outputs": [
    {
     "name": "stdout",
     "output_type": "stream",
     "text": [
      "Actual  Amout:\t\t\t 1000.0\n",
      "Discounted Amout:\t\t 100.0\n",
      "Amout after discount:\t\t 900.0\n"
     ]
    }
   ],
   "source": [
    "#9. Create a program to calculate the total cost of a shopping cart based on discounts.\n",
    "amt = 1000\n",
    "dis_per = 0\n",
    "if amt >= 1000:\n",
    "    dis_per = 10\n",
    "elif amt >= 500 and amt < 1000:\n",
    "    dis_per = 5\n",
    "elif amt > 100 and amt < 500:\n",
    "    dis_per = 1\n",
    "\n",
    "\n",
    "dis_amt = (amt * dis_per) / 100\n",
    "print(\"Actual  Amout:\\t\\t\\t\", float(amt))\n",
    "print(\"Discounted Amout:\\t\\t\", dis_amt)\n",
    "print(\"Amout after discount:\\t\\t\", amt - dis_amt)"
   ]
  },
  {
   "cell_type": "code",
   "execution_count": 40,
   "id": "6a7360ea-cc17-453b-9ae3-09a5da35d425",
   "metadata": {},
   "outputs": [
    {
     "name": "stdin",
     "output_type": "stream",
     "text": [
      "Enter a number to findout even or add:  11\n"
     ]
    },
    {
     "name": "stdout",
     "output_type": "stream",
     "text": [
      "It's not a prime number\n"
     ]
    }
   ],
   "source": [
    "#10. Write a program that checks if a given number is even or odd.\n",
    "n = int(input(\"Enter a number to findout even or add: \"))\n",
    "print( \"Prime number\" if n % 2 ==0 else \"It's not a prime number\")"
   ]
  },
  {
   "cell_type": "code",
   "execution_count": 9,
   "id": "b6d22cde-08d4-4fff-958f-1cc4ca995311",
   "metadata": {},
   "outputs": [
    {
     "name": "stdin",
     "output_type": "stream",
     "text": [
      "Enter a:  2\n",
      "Enter b:  3\n",
      "Enter c:  4\n"
     ]
    },
    {
     "name": "stdout",
     "output_type": "stream",
     "text": [
      "The solution are (-0.75+1.1989578808281798j) and (-0.75-1.1989578808281798j)\n"
     ]
    }
   ],
   "source": [
    "#11. Write a program that calculates the roots of a quadratic equation .\n",
    "\n",
    "import cmath\n",
    "\n",
    "a = int(input('Enter a: '))  \n",
    "b = int(input('Enter b: '))  \n",
    "c = int(input('Enter c: '))  \n",
    "\n",
    "d = (b**2) - (4*a*c)\n",
    "\n",
    "x = (-b + cmath.sqrt(d)) / (2*a)\n",
    "y = (-b - cmath.sqrt(d)) / (2*a)\n",
    " \n",
    "print(f'The solution are {x} and {y}')   \n"
   ]
  },
  {
   "cell_type": "code",
   "execution_count": 46,
   "id": "7c53cfe4-fb19-46d5-b8a9-efeaa761c3d0",
   "metadata": {},
   "outputs": [
    {
     "name": "stdin",
     "output_type": "stream",
     "text": [
      "Enter a week day in number, to get a week day:  1\n"
     ]
    },
    {
     "name": "stdout",
     "output_type": "stream",
     "text": [
      "Monday\n"
     ]
    }
   ],
   "source": [
    "#Intermediate Level:\n",
    "#12. Create a program that determines the day of the week based on the day number (1-7).\n",
    "week_dic= { 1 : 'Monday', 2 : 'Tuesday', 3 : 'Wednesday', 4 : 'Thursday', 5 : 'Friday', 6 : 'Saturday', 7 : 'Sunday'}\n",
    "d = int(input(\"Enter a week day in number, to get a week day: \"))\n",
    "if d >=1 and d <= 7:\n",
    "    print(week_dic.get(d))\n",
    "else:\n",
    "    print(\"Invalid input\")"
   ]
  },
  {
   "cell_type": "code",
   "execution_count": 53,
   "id": "dd98e370-aa6e-4cf0-a997-9d5e16bb7d65",
   "metadata": {},
   "outputs": [
    {
     "name": "stdin",
     "output_type": "stream",
     "text": [
      "Enter a number to find out it's factorial:  5\n"
     ]
    },
    {
     "name": "stdout",
     "output_type": "stream",
     "text": [
      "Factorial of given number:  120\n"
     ]
    }
   ],
   "source": [
    "#13. Develop a program that calculates the factorial of a given number using recursion.\n",
    "\n",
    "def factorial(x):\n",
    "    if x == 1:\n",
    "        return x\n",
    "    else:\n",
    "        return (x * factorial(x-1))\n",
    "\n",
    "n = int(input(\"Enter a number to find out it's factorial: \"))\n",
    "print( \"Factorial of given number: \", factorial(n))\n"
   ]
  },
  {
   "cell_type": "code",
   "execution_count": 58,
   "id": "15259cd5-9e55-4096-bc8c-726e0a2e70fa",
   "metadata": {},
   "outputs": [
    {
     "name": "stdout",
     "output_type": "stream",
     "text": [
      "Larger number is 75\n"
     ]
    }
   ],
   "source": [
    "#14. Write a program to find the largest among three numbers without using the `max()` function.\n",
    "a, b, c = 60, 65, 75\n",
    "if a > b > c :\n",
    "    print(f\"Larger number is {a}\")\n",
    "elif b > c:\n",
    "    print(f\"Larger number is {b}\")\n",
    "else:\n",
    "    print(f\"Larger number is {c}\")"
   ]
  },
  {
   "cell_type": "code",
   "execution_count": 9,
   "id": "3de2f912-94fb-4492-b4fe-25d00a528569",
   "metadata": {},
   "outputs": [
    {
     "name": "stdin",
     "output_type": "stream",
     "text": [
      "Enter your 4 digit pin number: 1111\n"
     ]
    },
    {
     "name": "stdout",
     "output_type": "stream",
     "text": [
      "1. Withdraw\n",
      "2. My Balance \n",
      "3. Quick Cash\n"
     ]
    },
    {
     "name": "stdin",
     "output_type": "stream",
     "text": [
      "Please choose transactions:  2\n"
     ]
    },
    {
     "name": "stdout",
     "output_type": "stream",
     "text": [
      "Available Balance :  10000\n"
     ]
    }
   ],
   "source": [
    "#15. Create a program that simulates a basic ATM transaction menu.\n",
    "\n",
    "p=int(input(\"Enter your 4 digit pin number:\"))\n",
    "m = 10000\n",
    "if(p == 1111):\n",
    "    print(\"1. Withdraw\")\n",
    "    print(\"2. My Balance \")\n",
    "    print(\"3. Quick Cash\")\n",
    "    c = int(input(\"Please choose transactions: \"))\n",
    "    if (c == 1):\n",
    "        w=int(input(\"Enter withdraw amount: \"))\n",
    "        if (w < m and w%100 == 0):\n",
    "            print(\"Please take out your amount: \", w)\n",
    "        else:\n",
    "            print(\"Invalid amount or amount should be multiples of 100.\")\n",
    "\n",
    "    elif(c == 2):\n",
    "        print(\"Available Balance : \",m)\n",
    "    elif(c == 3):\n",
    "        print(\"1. 5,000\")\n",
    "        print(\"2. 10,000\")\n",
    "        f = int(input(\"Enter quick cash choice: \"))\n",
    "        if (f == 1 and 5000 < m):\n",
    "            print(\"Please take out your amount: 5000\")\n",
    "        elif (f == 2 and 10000 < m):\n",
    "            print(\"Please take out your amount: 10000\")\n",
    "        else:\n",
    "            print(\"Invalid quick cash choice\")\n",
    "    else:\n",
    "        print(\"Please enter correct choice\")\n",
    "else:\n",
    "    print(\"Invalid pin number\")"
   ]
  },
  {
   "cell_type": "code",
   "execution_count": 63,
   "id": "8182682a-bf70-4ddf-8095-7150bfe764f0",
   "metadata": {},
   "outputs": [
    {
     "name": "stdin",
     "output_type": "stream",
     "text": [
      "Enter a string to check is a palindrome:  asdfgfdsa\n"
     ]
    },
    {
     "name": "stdout",
     "output_type": "stream",
     "text": [
      "Given string is Palindrome\n"
     ]
    }
   ],
   "source": [
    "#16. Build a program that checks if a given string is a palindrome or not.\n",
    "\n",
    "a = input(\"Enter a string to check is a palindrome: \")\n",
    "if a == a[::-1]:\n",
    "    print(\"Given string is Palindrome\")\n",
    "else:\n",
    "    print(\"Given string is not a Palindrome\")\n"
   ]
  },
  {
   "cell_type": "code",
   "execution_count": 66,
   "id": "b4d88293-c02f-49ed-8da2-9dc26b3c2451",
   "metadata": {},
   "outputs": [
    {
     "name": "stdout",
     "output_type": "stream",
     "text": [
      "Avarage of list of numbers excluding the smallest and larget values:  44\n"
     ]
    }
   ],
   "source": [
    "#17. Write a program that calculates the average of a list of numbers, excluding the smallest and largest values.\n",
    "l =[1, 2,3,4,5,6,7,8,9, 10]\n",
    "l.remove(min(l))\n",
    "l.remove(max(l))\n",
    "print(\"Avarage of list of numbers excluding the smallest and larget values: \", sum(l))\n"
   ]
  },
  {
   "cell_type": "code",
   "execution_count": 67,
   "id": "272aa6d4-87a5-4535-bf2c-0496e721b2ed",
   "metadata": {},
   "outputs": [
    {
     "name": "stdin",
     "output_type": "stream",
     "text": [
      "Enter the Temperature in Celsius :\n",
      " 32\n"
     ]
    },
    {
     "name": "stdout",
     "output_type": "stream",
     "text": [
      "Temperature in Fahrenheit : 89.6\n"
     ]
    }
   ],
   "source": [
    "#18. Develop a program that converts a given temperature from Celsius to Fahrenheit.\n",
    "c = int(input(\"Enter the Temperature in Celsius :\\n\"))\n",
    "f = (1.8 * c) + 32.0\n",
    "print(\"Temperature in Fahrenheit :\", f)"
   ]
  },
  {
   "cell_type": "code",
   "execution_count": 71,
   "id": "750d7d3a-8e1c-4899-b6eb-da4e8fb2d8e0",
   "metadata": {},
   "outputs": [
    {
     "name": "stdin",
     "output_type": "stream",
     "text": [
      "\t Options\n",
      "1. addition\n",
      "2. Subtraction\n",
      "3. Multiplication\n",
      "4. Division\n",
      "5. Quit\n",
      " 1\n",
      "Enter First number:  2\n",
      "Enter Second number:  3\n"
     ]
    },
    {
     "name": "stdout",
     "output_type": "stream",
     "text": [
      "Results:  5\n"
     ]
    },
    {
     "name": "stdin",
     "output_type": "stream",
     "text": [
      "\t Options\n",
      "1. addition\n",
      "2. Subtraction\n",
      "3. Multiplication\n",
      "4. Division\n",
      "5. Quit\n",
      " 2\n",
      "Enter First number:  4\n",
      "Enter Second number:  5\n"
     ]
    },
    {
     "name": "stdout",
     "output_type": "stream",
     "text": [
      "Results:  -1\n"
     ]
    },
    {
     "name": "stdin",
     "output_type": "stream",
     "text": [
      "\t Options\n",
      "1. addition\n",
      "2. Subtraction\n",
      "3. Multiplication\n",
      "4. Division\n",
      "5. Quit\n",
      " 3\n",
      "Enter First number:  2\n",
      "Enter Second number:  6\n"
     ]
    },
    {
     "name": "stdout",
     "output_type": "stream",
     "text": [
      "Results:  12\n"
     ]
    },
    {
     "name": "stdin",
     "output_type": "stream",
     "text": [
      "\t Options\n",
      "1. addition\n",
      "2. Subtraction\n",
      "3. Multiplication\n",
      "4. Division\n",
      "5. Quit\n",
      " 4\n",
      "Enter First number:  6\n",
      "Enter Second number:  2\n"
     ]
    },
    {
     "name": "stdout",
     "output_type": "stream",
     "text": [
      "Results:  3.0\n"
     ]
    },
    {
     "name": "stdin",
     "output_type": "stream",
     "text": [
      "\t Options\n",
      "1. addition\n",
      "2. Subtraction\n",
      "3. Multiplication\n",
      "4. Division\n",
      "5. Quit\n",
      " 5\n"
     ]
    }
   ],
   "source": [
    "#19. Create a program that simulates a basic calculator for addition, subtraction, multiplication, and division.\n",
    "def input_data():\n",
    "    a = int(input(\"Enter First number: \"))\n",
    "    b = int(input(\"Enter Second number: \"))\n",
    "    return a, b\n",
    "\n",
    "def add():\n",
    "    a,b = input_data()\n",
    "    return a+b\n",
    "\n",
    "def sub():\n",
    "    a,b = input_data()\n",
    "    return a-b\n",
    "\n",
    "def mul():\n",
    "    a,b = input_data()\n",
    "    return a*b\n",
    "\n",
    "def div():\n",
    "    a,b = input_data()\n",
    "    return a/b\n",
    "\n",
    "while(True):\n",
    "    ch = int(input(\"\\t Options\\n1. addition\\n2. Subtraction\\n3. Multiplication\\n4. Division\\n5. Quit\\n\"))\n",
    "    results = 0\n",
    "    if ch == 1:\n",
    "        results = add()\n",
    "    elif ch == 2:\n",
    "        results = sub()\n",
    "    elif ch == 3:\n",
    "        results = mul()\n",
    "    elif ch == 4:\n",
    "        results = div()\n",
    "    else:\n",
    "        break\n",
    "    print(\"Results: \", results)\n",
    "\n",
    "    \n",
    "        \n",
    "    \n"
   ]
  },
  {
   "cell_type": "code",
   "execution_count": 10,
   "id": "24a80a54-7624-487e-9b5a-cd50b04367c9",
   "metadata": {},
   "outputs": [
    {
     "name": "stdout",
     "output_type": "stream",
     "text": [
      "x^3 -  10 x^2 +  31 x -  30  = 0\n"
     ]
    }
   ],
   "source": [
    "#20. Write a program that determines the roots of a cubic equation using the Cardano formula.\n",
    "\n",
    "def findEquation(a, b, c):\n",
    "    X = (a + b + c);\n",
    "    Y = (a * b) + (b * c) + (c * a);\n",
    "    Z = (a * b * c);\n",
    " \n",
    "    print(\"x^3 - \" , X ,\n",
    "          \"x^2 + \" ,Y ,\n",
    "          \"x - \" , Z , \" = 0\");\n",
    "\n",
    "     \n",
    "a = 5;\n",
    "b = 2;\n",
    "c = 3;\n",
    "\n",
    "\n",
    "findEquation(a, b, c);"
   ]
  },
  {
   "cell_type": "code",
   "execution_count": 74,
   "id": "182a87f1-e558-46b0-be76-7ad678e140e6",
   "metadata": {},
   "outputs": [
    {
     "name": "stdin",
     "output_type": "stream",
     "text": [
      "Enter your annual sal to calculate a tax:  3000000\n"
     ]
    },
    {
     "name": "stdout",
     "output_type": "stream",
     "text": [
      "you owe 637500.0 Rupees in tax!\n"
     ]
    }
   ],
   "source": [
    "#Advanced Level:\n",
    "#21. Create a program that calculates the income tax based on the user's income and tax brackets.\n",
    "income = int(input(\"Enter your annual sal to calculate a tax: \"))\n",
    "tax = 0\n",
    "if income <= 500000: #5 Lakh\n",
    "    tax = (income - 250000) * 0.05\n",
    "elif income <= 750000: #7 lakh 50 thousand\n",
    "    tax = (income - 500000) * 0.10 + 12500 \n",
    "elif income <= 1000000: #10 Lakh\n",
    "    tax = (income - 750000) * 0.15 + 37500 \n",
    "elif income <= 1250000: #12 lakh 50 thousand\n",
    "    tax = (income - 1000000) * 0.20 + 75000 \n",
    "elif income <= 1500000: #15 lakh\n",
    "    tax = (income - 1250000) * 0.25 + 125000 \n",
    "else:\n",
    "    tax = (income - 1500000) * 0.30 + 187500\n",
    "print(\"you owe\", tax, \"Rupees in tax!\")\n"
   ]
  },
  {
   "cell_type": "code",
   "execution_count": 6,
   "id": "3c2d2879-be78-4e04-bab5-bee400e859e6",
   "metadata": {},
   "outputs": [
    {
     "name": "stdin",
     "output_type": "stream",
     "text": [
      "\t Options\n",
      "1. Rock\n",
      "2. Paper\n",
      "3. Scissors\n",
      "4. Quit\n",
      " 1\n"
     ]
    },
    {
     "name": "stdout",
     "output_type": "stream",
     "text": [
      "Your Option is Rock\n",
      "System Option is Paper\n",
      "Your are a looser!\n"
     ]
    },
    {
     "name": "stdin",
     "output_type": "stream",
     "text": [
      "\t Options\n",
      "1. Rock\n",
      "2. Paper\n",
      "3. Scissors\n",
      "4. Quit\n",
      " 1\n"
     ]
    },
    {
     "name": "stdout",
     "output_type": "stream",
     "text": [
      "Your Option is Rock\n",
      "System Option is Scissors\n",
      "Your are the winner!\n"
     ]
    },
    {
     "name": "stdin",
     "output_type": "stream",
     "text": [
      "\t Options\n",
      "1. Rock\n",
      "2. Paper\n",
      "3. Scissors\n",
      "4. Quit\n",
      " 3\n"
     ]
    },
    {
     "name": "stdout",
     "output_type": "stream",
     "text": [
      "Your Option is Scissors\n",
      "System Option is Rock\n",
      "Your are the winner!\n"
     ]
    },
    {
     "name": "stdin",
     "output_type": "stream",
     "text": [
      "\t Options\n",
      "1. Rock\n",
      "2. Paper\n",
      "3. Scissors\n",
      "4. Quit\n",
      " 2\n"
     ]
    },
    {
     "name": "stdout",
     "output_type": "stream",
     "text": [
      "Your Option is Paper\n",
      "System Option is Paper\n",
      "Ohh, Tie\n"
     ]
    },
    {
     "name": "stdin",
     "output_type": "stream",
     "text": [
      "\t Options\n",
      "1. Rock\n",
      "2. Paper\n",
      "3. Scissors\n",
      "4. Quit\n",
      " 3\n"
     ]
    },
    {
     "name": "stdout",
     "output_type": "stream",
     "text": [
      "Your Option is Scissors\n",
      "System Option is Scissors\n",
      "Ohh, Tie\n"
     ]
    },
    {
     "name": "stdin",
     "output_type": "stream",
     "text": [
      "\t Options\n",
      "1. Rock\n",
      "2. Paper\n",
      "3. Scissors\n",
      "4. Quit\n",
      " 3\n"
     ]
    },
    {
     "name": "stdout",
     "output_type": "stream",
     "text": [
      "Your Option is Scissors\n",
      "System Option is Paper\n",
      "Your are a looser!\n"
     ]
    },
    {
     "name": "stdin",
     "output_type": "stream",
     "text": [
      "\t Options\n",
      "1. Rock\n",
      "2. Paper\n",
      "3. Scissors\n",
      "4. Quit\n",
      " 4\n"
     ]
    }
   ],
   "source": [
    "#22. Write a program that simulates a rock-paper-scissors game against the computer.\n",
    "import random\n",
    "options = { 1: 'Rock', 2: 'Paper', 3: 'Scissors'}\n",
    "def trace(opt):\n",
    "    c = random.randint(1,3)\n",
    "    print(f\"Your Option is {options.get(opt)}\")\n",
    "    print(f\"System Option is {options.get(c)}\")\n",
    "    \n",
    "    if c == opt:\n",
    "        print(\"Ohh, Tie\")\n",
    "    elif ((opt == 3 and c == 1) or (opt == 2 and c == 1)  or (opt==1 and c == 3)):\n",
    "        print(\"Your are the winner!\")\n",
    "    else:\n",
    "        print(\"Your are a looser!\")\n",
    "    \n",
    "    \n",
    "while(True):\n",
    "    ch = int(input(\"\\t Options\\n1. Rock\\n2. Paper\\n3. Scissors\\n4. Quit\\n\"))\n",
    "    results = 0\n",
    "    if ch >= 1 and ch <= 3:\n",
    "        trace(ch)\n",
    "    else:\n",
    "        break\n",
    "        "
   ]
  },
  {
   "cell_type": "code",
   "execution_count": 37,
   "id": "8c8a63c5-0082-4751-aa37-207ec8d8d166",
   "metadata": {},
   "outputs": [
    {
     "name": "stdin",
     "output_type": "stream",
     "text": [
      "enter length of password (range 8 to 16: ) 16\n",
      "enter complexity of the password (0: Easy, 1: Medium, 2: String):  2\n"
     ]
    },
    {
     "name": "stdout",
     "output_type": "stream",
     "text": [
      "Your Password is: 'PBd^G&q^I!^O;DTu'\n"
     ]
    }
   ],
   "source": [
    "#23. Develop a program that generates a random password based on user preferences (length, complexity).\n",
    "import random\n",
    "\n",
    "pl = int(input(\"enter length of password (range 8 to 16: )\"))\n",
    "complexity = int(input(\"enter complexity of the password (0: Easy, 1: Medium, 2: String): \"))\n",
    "len = random.randint(8, 16)\n",
    "\n",
    "small = 'abcdefghijklmnopqrstuvwxyz'\n",
    "caps = 'ABCDEFGHIJKLMNOPQRSTUVWXYZ'\n",
    "spe = '~!@#$%^&*.,;:'\n",
    "\n",
    "password = ''\n",
    "\n",
    "def rand_char(col, count):\n",
    "    n = random.randint(0, count) - 1\n",
    "    return col[n:n+1]\n",
    "\n",
    "for l in range(pl):\n",
    "    rd = random.randint(1,complexity+1)\n",
    "    if rd == 1:\n",
    "        password += rand_char(small, 26)\n",
    "    elif rd == 2:\n",
    "        password += rand_char(caps, 26)\n",
    "    else:\n",
    "        password += rand_char(spe, 13)\n",
    "    \n",
    "        \n",
    "        \n",
    "    \n",
    "print(f\"Your Password is: '{password}'\")\n"
   ]
  },
  {
   "cell_type": "code",
   "execution_count": null,
   "id": "ffe8ae1d-caee-43f1-9c14-dcefd8c6723d",
   "metadata": {},
   "outputs": [
    {
     "name": "stdout",
     "output_type": "stream",
     "text": [
      "\n",
      "WELCOME! LET'S START THE ADVENTURE\n",
      "\n",
      "You are standing outside of your house and you see a man running towards you and asking for urgent shelter.\n",
      "\n",
      "Will you provide shelter to him. (Yes / No)\n",
      "\n"
     ]
    }
   ],
   "source": [
    "#24. Create a program that implements a simple text-based adventure game with branching scenarios.\n",
    "answer_yes = [\"Yes\", \"Y\", \"yes\", \"y\"]\n",
    "answer_no = [\"No\", \"N\", \"no\", \"n\"]\n",
    "\n",
    "print(\"\"\"\n",
    "WELCOME! LET'S START THE ADVENTURE\n",
    "\n",
    "You are standing outside of your house and you see a man running towards you and asking for urgent shelter.\n",
    "\n",
    "Will you provide shelter to him. (Yes / No)\n",
    "\"\"\")\n",
    "\n",
    "ans1 = input(\">>\")\n",
    "\n",
    "if ans1 in answer_yes:\n",
    "    print(\"\\nAfter 2 minutes, the Police came to your house, and ask you that whether the thief is in your house or not. Will you say (Yes / No)\\n\")\n",
    "\n",
    "    ans2 = input(\">>\")\n",
    "\n",
    "    if ans2 in answer_yes:\n",
    "        print(\"\\nYou are an honest person. He was a thief & You won the Game\")\n",
    "\n",
    "    elif ans2 in answer_no:\n",
    "        print(\"\\nYou helped a thief. Now, go to Jail. GAME OVER\")\n",
    "\n",
    "    else:\n",
    "        print(\"\\nYou typed the wrong input. GOODBYE!\")\n",
    "\n",
    "elif ans1 in answer_no:\n",
    "    print(\"\\nNow, he is trying to kill you. Will, you knock him down? (Yes / No)\\n\")\n",
    "\n",
    "    ans3 = input(\">>\")\n",
    "\n",
    "    if ans3 in answer_yes:\n",
    "        print(\"\\nCongrats! He was a thief & You helped the police to catch him with your bravery.\")\n",
    "\n",
    "    elif ans3 in answer_no:\n",
    "        print(\"\\nSorry! You are dead. He was a thief & He killed you. GAME OVER\")\n",
    "\n",
    "    else:\n",
    "        print(\"\\nYou typed the wrong input. GOODBYE!\")\n",
    "\n",
    "else:\n",
    "    print(\"\\nYou typed the wrong input. GOODBYE!\")"
   ]
  },
  {
   "cell_type": "code",
   "execution_count": 1,
   "id": "1f065827-c46c-413c-8095-b02973417c7e",
   "metadata": {},
   "outputs": [
    {
     "name": "stdout",
     "output_type": "stream",
     "text": [
      "The solution are (-3+0j) and (-2+0j)\n"
     ]
    }
   ],
   "source": [
    "#25. Build a program that solves a linear equation for x, considering different cases.\n",
    "# import complex math module\n",
    "import cmath\n",
    "\n",
    "a = 1\n",
    "b = 5\n",
    "c = 6\n",
    "\n",
    "\n",
    "d = (b**2) - (4*a*c)\n",
    "\n",
    "sol1 = (-b-cmath.sqrt(d))/(2*a)\n",
    "sol2 = (-b+cmath.sqrt(d))/(2*a)\n",
    "\n",
    "print('The solution are {0} and {1}'.format(sol1,sol2))"
   ]
  },
  {
   "cell_type": "code",
   "execution_count": 1,
   "id": "65eb19f4-788a-4aea-abed-8c0eb8a789e5",
   "metadata": {},
   "outputs": [
    {
     "name": "stdout",
     "output_type": "stream",
     "text": [
      "Wellcome to quiz game !!\n",
      "NOTE: if your spelling is incorrect then it is considered as wrong answer\n"
     ]
    },
    {
     "name": "stdin",
     "output_type": "stream",
     "text": [
      "Do you want to play ?  yes\n",
      "\n",
      "1. what does CPU stand for?  central processing unit\n"
     ]
    },
    {
     "name": "stdout",
     "output_type": "stream",
     "text": [
      "correct! you got 1 point\n"
     ]
    },
    {
     "name": "stdin",
     "output_type": "stream",
     "text": [
      "\n",
      "2. what does GPU stand for?  graphics processing unit\n"
     ]
    },
    {
     "name": "stdout",
     "output_type": "stream",
     "text": [
      "correct! you got 1 point\n"
     ]
    },
    {
     "name": "stdin",
     "output_type": "stream",
     "text": [
      "\n",
      "3. what does RAM stand for?  random access memory\n"
     ]
    },
    {
     "name": "stdout",
     "output_type": "stream",
     "text": [
      "correct! you got 1 point\n"
     ]
    },
    {
     "name": "stdin",
     "output_type": "stream",
     "text": [
      "\n",
      "4. what does PSU stand for?  power supply unit\n"
     ]
    },
    {
     "name": "stdout",
     "output_type": "stream",
     "text": [
      "correct! you got 1 point\n"
     ]
    },
    {
     "name": "stdin",
     "output_type": "stream",
     "text": [
      "\n",
      "5. what does ROM stand for?  read only memory\n"
     ]
    },
    {
     "name": "stdout",
     "output_type": "stream",
     "text": [
      "correct! you got 1 point\n",
      "\n",
      "number of question is 5\n",
      "your score is 5\n",
      "100.0% questions are correct.\n"
     ]
    }
   ],
   "source": [
    "#26. Write a program that simulates a basic quiz game with multiple-choice questions and scoring.\n",
    "print(\"Wellcome to quiz game !!\")\n",
    "print('NOTE: if your spelling is incorrect then it is considered as wrong answer')\n",
    "score = 0\n",
    "question_no = 0\n",
    "playing = input('Do you want to play ? ').lower()\n",
    "if playing == 'yes':\n",
    "    question_no += 1\n",
    "    ques = input(f'\\n{question_no}. what does CPU stand for? ').lower()\n",
    "    if ques == 'central processing unit':\n",
    "        score +=1\n",
    "        print('correct! you got 1 point :)')\n",
    "        \n",
    "    else:\n",
    "        print('Incorrect! :(')\n",
    "        print(f'current answer is --> central processing unit :)')\n",
    "\n",
    "\n",
    "    question_no += 1\n",
    "    ques = input(f'\\n{question_no}. what does GPU stand for? ').lower()\n",
    "    \n",
    "    if ques == 'graphics processing unit':\n",
    "        score +=1\n",
    "        print('correct! you got 1 point :)')\n",
    "        \n",
    "    else:\n",
    "        print('Incorrect! :(')\n",
    "        print(f'current answer is --> graphics processing unit :)')\n",
    "\n",
    "\n",
    "    question_no += 1\n",
    "    ques = input(f'\\n{question_no}. what does RAM stand for? ').lower()\n",
    "    \n",
    "    if ques == 'random access memory':\n",
    "        score +=1\n",
    "        print('correct! you got 1 point :)')\n",
    "        \n",
    "    else:\n",
    "        print('Incorrect! :(')\n",
    "        print(f'current answer is --> random access memory :)')\n",
    "\n",
    "\n",
    "    question_no += 1\n",
    "    ques = input(f'\\n{question_no}. what does PSU stand for? ').lower()\n",
    "    \n",
    "    if ques == 'power supply unit':\n",
    "        score +=1\n",
    "        print('correct! you got 1 point :)')\n",
    "        \n",
    "    else:\n",
    "        print('Incorrect! :(')\n",
    "        print(f'current answer is --> power supply unit :)')\n",
    "\n",
    "\n",
    "    question_no += 1\n",
    "    ques = input(f'\\n{question_no}. what does ROM stand for? ').lower()\n",
    "    \n",
    "    if ques == 'read only memory':\n",
    "        score +=1\n",
    "        print('correct! you got 1 point :)')\n",
    "        \n",
    "    else:\n",
    "        print('Incorrect! :(')\n",
    "        print(f'current answer is --> read only memory :)')\n",
    "\n",
    "\n",
    "\n",
    "else:\n",
    "    print('Thank you you are out of a game.')\n",
    "\n",
    "print(f'\\nnumber of question is {question_no}')\n",
    "print(f'your score is {score}')\n",
    "try:\n",
    "    percentage = (score *100)/question_no\n",
    "except ZeroDivisionError:\n",
    "    print('0% quetions are correct')\n",
    "\n",
    "print(f'{percentage}% questions are correct.')"
   ]
  },
  {
   "cell_type": "code",
   "execution_count": 51,
   "id": "07afb24c-2903-4b0c-b3fa-f54ae56a9bb0",
   "metadata": {},
   "outputs": [
    {
     "name": "stdin",
     "output_type": "stream",
     "text": [
      "Enter an year to determine wheter its Prime number or not:  1998\n"
     ]
    },
    {
     "name": "stdout",
     "output_type": "stream",
     "text": [
      "Is given year Prime Number:  False\n"
     ]
    }
   ],
   "source": [
    "#27. Develop a program that determines whether a given year is a prime number or not.\n",
    "y = int(input(\"Enter an year to determine wheter its Prime number or not: \"))\n",
    "\n",
    "bFlag = True\n",
    "\n",
    "if y % 2 == 0:\n",
    "    bFlag = False\n",
    "else:\n",
    "    for l in range(2, int(y/2)):\n",
    "        if y % l == 0:\n",
    "            bFlag = False\n",
    "\n",
    "print(\"Is given year Prime Number: \",  bFlag)\n"
   ]
  },
  {
   "cell_type": "code",
   "execution_count": 54,
   "id": "2a63e4a5-3a3b-48d6-8257-3d62a30b5530",
   "metadata": {},
   "outputs": [
    {
     "name": "stdin",
     "output_type": "stream",
     "text": [
      "Enter First number:  1\n",
      "Enter Second number:  7\n",
      "Enter Third number:  9\n"
     ]
    },
    {
     "name": "stdout",
     "output_type": "stream",
     "text": [
      "Ascending order of given 3 numbers 1, 7, 9\n"
     ]
    }
   ],
   "source": [
    "#28. Create a program that sorts three numbers in ascending order using conditional statements.\n",
    "a = int(input(\"Enter First number: \"))\n",
    "b = int(input(\"Enter Second number: \"))\n",
    "c = int(input(\"Enter Third number: \"))\n",
    "\n",
    "if a > b:\n",
    "    a, b = b, a\n",
    "if a > c:\n",
    "    a, c = c, a\n",
    "if b > c:\n",
    "    b, c = c, b\n",
    "    \n",
    "print (f\"Ascending order of given 3 numbers {a}, {b}, {c}\")"
   ]
  },
  {
   "cell_type": "code",
   "execution_count": 17,
   "id": "616ee128-7b3e-4cdf-936e-f46fb3ca7012",
   "metadata": {},
   "outputs": [],
   "source": [
    "#29. Build a program that determines the roots of a quartic equation using numerical methods.\n",
    "\n",
    "import cmath\n",
    "\n",
    "a = int(input('Enter a: '))  \n",
    "b = int(input('Enter b: '))  \n",
    "c = int(input('Enter c: '))  \n",
    "\n",
    "d = (b**2) - (4*a*c)\n",
    "\n",
    "x = (-b + cmath.sqrt(d)) / (2*a)\n",
    "y = (-b - cmath.sqrt(d)) / (2*a)\n",
    " \n",
    "print(f'The solution are {x} and {y}')   \n"
   ]
  },
  {
   "cell_type": "code",
   "execution_count": 63,
   "id": "700bfd28-d8a7-47ac-b22b-db20813256d0",
   "metadata": {},
   "outputs": [
    {
     "name": "stdin",
     "output_type": "stream",
     "text": [
      "Enter a BMI to categorize you:  30\n"
     ]
    },
    {
     "name": "stdout",
     "output_type": "stream",
     "text": [
      "your are with obese\n",
      "Add more vigitables to your diet\n",
      "Avoid junk food\n",
      "Do excercise regularly!\n"
     ]
    }
   ],
   "source": [
    "#30. Write a program that calculates the BMI (Body Mass Index) and provides health recommendations based on the user's input.\n",
    "\n",
    "bmi = float(input(\"Enter a BMI to categorize you: \"))\n",
    "\n",
    "if bmi < 18.5:\n",
    "    print(\"You are under weight\\nAdd more protein, vitamins and minarals to your food\")\n",
    "elif bmi >= 18.5 and bmi <= 24.9:\n",
    "    print(\"your are with in Healthy Weight\")\n",
    "elif bmi >= 25.0 and bmi <= 29.9:\n",
    "    print(\"your are with overweight\\nAdd more vigitables to your diet\")\n",
    "else:\n",
    "    print(\"your are with obese\\nAdd more vigitables to your diet\\nAvoid junk food\\nDo excercise regularly!\")"
   ]
  },
  {
   "cell_type": "code",
   "execution_count": 67,
   "id": "f3eea539-94c1-41c0-9c46-774005ee8785",
   "metadata": {},
   "outputs": [
    {
     "name": "stdin",
     "output_type": "stream",
     "text": [
      "enter length of password (range 8 to 32: ) 30\n",
      "enter complexity of the password (0: Easy, 1: Medium, 2. Strong 3. Very Strong):  3\n"
     ]
    },
    {
     "name": "stdout",
     "output_type": "stream",
     "text": [
      "Your Password is: 'k,In.8r1~5U438*d%58!mSMSi.^x'\n"
     ]
    }
   ],
   "source": [
    "#Challenge Level:\n",
    "#31. Create a program that validates a password based on complexity rules (length, characters, etc.).\n",
    "pl = int(input(\"enter length of password (range 8 to 32: )\"))\n",
    "complexity = int(input(\"enter complexity of the password (0: Easy, 1: Medium, 2. Strong 3. Very Strong): \"))\n",
    "#len = random.randint(8, 16)\n",
    "\n",
    "small = 'abcdefghijklmnopqrstuvwxyz'\n",
    "nums = '0123456789'\n",
    "caps = 'ABCDEFGHIJKLMNOPQRSTUVWXYZ'\n",
    "spe = '~!@#$%^&*.,;:'\n",
    "\n",
    "password = ''\n",
    "\n",
    "def rand_char(col, count):\n",
    "    n = random.randint(0, count) - 1\n",
    "    return col[n:n+1]\n",
    "\n",
    "for l in range(pl):\n",
    "    rd = random.randint(1,complexity+1)\n",
    "    if rd == 1:\n",
    "        password += rand_char(small, 26)\n",
    "    elif rd == 2:\n",
    "        password += rand_char(caps, 26)\n",
    "    elif rd == 3:\n",
    "        password += rand_char(nums, 10)\n",
    "    else:\n",
    "        password += rand_char(spe, 13)\n",
    "    \n",
    "        \n",
    "        \n",
    "    \n",
    "print(f\"Your Password is: '{password}'\")"
   ]
  },
  {
   "cell_type": "code",
   "execution_count": 11,
   "id": "f5f16be3-0acd-4f2a-835b-329e8cf8223a",
   "metadata": {},
   "outputs": [
    {
     "name": "stdout",
     "output_type": "stream",
     "text": [
      "Given matrix are :\n",
      "[[1, 2, 3], [3, 4, 5], [6, 7, 8]]\n",
      "[[5, 6, 7], [1, 2, 3], [5, 3, 8]]\n"
     ]
    },
    {
     "name": "stdin",
     "output_type": "stream",
     "text": [
      "Enter your option 1 for addition, 2 for subtraction:  1\n"
     ]
    },
    {
     "name": "stdout",
     "output_type": "stream",
     "text": [
      "[[6, 8, 10], [4, 6, 8], [11, 10, 16]]\n"
     ]
    }
   ],
   "source": [
    "#32. Develop a program that performs matrix addition and subtraction based on user input.\n",
    "a=[ [1, 2, 3], [3, 4, 5], [6, 7, 8] ]\n",
    "b=[ [5, 6, 7], [1, 2, 3], [5, 3, 8] ]\n",
    "print(f\"Given matrix are :\\n{a}\\n{b}\")\n",
    "o = int(input(\"Enter your option 1 for addition, 2 for subtraction: \"))\n",
    "\n",
    "def add(m1, m2):\n",
    "    new = []\n",
    "    for i in range(0, len(m1)):\n",
    "        new.append(m1[i] + m2[i])\n",
    "    return new\n",
    "\n",
    "def subtract(m1, m2):\n",
    "    new = []\n",
    "    for i in range(0, len(m1)):\n",
    "        new.append(m1[i] - m2[i])\n",
    "    return new\n",
    "\n",
    "c = []\n",
    "if o == 1:\n",
    "    for i in range(0, len(a)):\n",
    "        c.append(add(a[i], b[i]))\n",
    "else:\n",
    "    for i in range(0, len(a)):\n",
    "        c.append(subtract(a[i], b[i]))\n",
    "print(c)   \n",
    "            "
   ]
  },
  {
   "cell_type": "code",
   "execution_count": 2,
   "id": "6e423ed0-f407-4948-8c87-aeb1215dbddf",
   "metadata": {},
   "outputs": [
    {
     "name": "stdout",
     "output_type": "stream",
     "text": [
      "GCD of 52 and 100 is: 4\n",
      "GCD of 52 and 100 is: 4\n"
     ]
    }
   ],
   "source": [
    "#33. Write a program that calculates the greatest common divisor (GCD) of two numbers using the Euclidean algorithm.\n",
    "x = 52\n",
    "y = 100\n",
    "def gcd(m,n):\n",
    "    if m< n:\n",
    "        (m,n) = (n,m)\n",
    "    if(m%n) == 0:\n",
    "        return n\n",
    "    else:\n",
    "        return (gcd(n, m % n)) # recursion taking place\n",
    "\n",
    "    \n",
    "print(\"GCD of\", x, \"and\", y, \"is:\", gcd(x, y))   \n",
    "\n",
    "gcd = 1\n",
    "if x > y:\n",
    "    x, y = y, x\n",
    "for i in range(1,x+1):\n",
    "    if x%i == 0 and y%i == 0:\n",
    "        gcd = i\n",
    "print(\"GCD of\", x, \"and\", y, \"is:\", gcd)\n",
    "\n"
   ]
  },
  {
   "cell_type": "code",
   "execution_count": 5,
   "id": "13c7e665-006d-437c-8502-4f9f118b9abc",
   "metadata": {},
   "outputs": [
    {
     "name": "stdout",
     "output_type": "stream",
     "text": [
      "3\n",
      "3\n",
      "[114, 160, 60, 27]\n",
      "[74, 97, 73, 14]\n",
      "[119, 157, 112, 23]\n"
     ]
    }
   ],
   "source": [
    "#34. Build a program that performs matrix multiplication using nested loops and conditional statements.\n",
    "\n",
    "X = [[12,7,3],\n",
    "    [4 ,5,6],\n",
    "    [7 ,8,9]]\n",
    "\n",
    "Y = [[5,8,1,2],\n",
    "    [6,7,3,0],\n",
    "    [4,5,9,1]]\n",
    "\n",
    "result = [[0,0,0,0],\n",
    "         [0,0,0,0],\n",
    "         [0,0,0,0]]\n",
    "\n",
    "\n",
    "print(len(X))\n",
    "print(len(Y))\n",
    "\n",
    "\n",
    "for i in range(len(X)):\n",
    "    \n",
    "    for j in range(len(Y[0])):\n",
    "        for k in range(len(Y)):\n",
    "            result[i][j] += X[i][k] * Y[k][j]\n",
    "\n",
    "for r in result:\n",
    "    print(r)\n"
   ]
  },
  {
   "cell_type": "code",
   "execution_count": 6,
   "id": "6cc65d00-6378-4528-bae3-197ee581c079",
   "metadata": {},
   "outputs": [
    {
     "name": "stdout",
     "output_type": "stream",
     "text": [
      "Player O turn\n",
      "- - - \n",
      "- - - \n",
      "- - - \n"
     ]
    },
    {
     "name": "stdin",
     "output_type": "stream",
     "text": [
      "Enter row and column numbers to fix spot:  2 2\n"
     ]
    },
    {
     "name": "stdout",
     "output_type": "stream",
     "text": [
      "\n",
      "Player X turn\n",
      "- - - \n",
      "- O - \n",
      "- - - \n"
     ]
    },
    {
     "name": "stdin",
     "output_type": "stream",
     "text": [
      "Enter row and column numbers to fix spot:  1 1\n"
     ]
    },
    {
     "name": "stdout",
     "output_type": "stream",
     "text": [
      "\n",
      "Player O turn\n",
      "X - - \n",
      "- O - \n",
      "- - - \n"
     ]
    },
    {
     "name": "stdin",
     "output_type": "stream",
     "text": [
      "Enter row and column numbers to fix spot:  1 3\n"
     ]
    },
    {
     "name": "stdout",
     "output_type": "stream",
     "text": [
      "\n",
      "Player X turn\n",
      "X - O \n",
      "- O - \n",
      "- - - \n"
     ]
    },
    {
     "name": "stdin",
     "output_type": "stream",
     "text": [
      "Enter row and column numbers to fix spot:  3 1\n"
     ]
    },
    {
     "name": "stdout",
     "output_type": "stream",
     "text": [
      "\n",
      "Player O turn\n",
      "X - O \n",
      "- O - \n",
      "X - - \n"
     ]
    },
    {
     "name": "stdin",
     "output_type": "stream",
     "text": [
      "Enter row and column numbers to fix spot:  2 1\n"
     ]
    },
    {
     "name": "stdout",
     "output_type": "stream",
     "text": [
      "\n",
      "Player X turn\n",
      "X - O \n",
      "O O - \n",
      "X - - \n"
     ]
    },
    {
     "name": "stdin",
     "output_type": "stream",
     "text": [
      "Enter row and column numbers to fix spot:  3 3\n"
     ]
    },
    {
     "name": "stdout",
     "output_type": "stream",
     "text": [
      "\n",
      "Player O turn\n",
      "X - O \n",
      "O O - \n",
      "X - X \n"
     ]
    },
    {
     "name": "stdin",
     "output_type": "stream",
     "text": [
      "Enter row and column numbers to fix spot:  2 3\n"
     ]
    },
    {
     "name": "stdout",
     "output_type": "stream",
     "text": [
      "\n",
      "Player O wins the game!\n",
      "\n",
      "X - O \n",
      "O O O \n",
      "X - X \n"
     ]
    }
   ],
   "source": [
    "#35. Create a program that simulates a basic text-based tic-tac-toe game against the computer.\n",
    "import random\n",
    "\n",
    "\n",
    "class TicTacToe:\n",
    "\n",
    "    def __init__(self):\n",
    "        self.board = []\n",
    "\n",
    "    def create_board(self):\n",
    "        for i in range(3):\n",
    "            row = []\n",
    "            for j in range(3):\n",
    "                row.append('-')\n",
    "            self.board.append(row)\n",
    "\n",
    "    def get_random_first_player(self):\n",
    "        return random.randint(0, 1)\n",
    "\n",
    "    def fix_spot(self, row, col, player):\n",
    "        self.board[row][col] = player\n",
    "\n",
    "    def is_player_win(self, player):\n",
    "        win = None\n",
    "\n",
    "        n = len(self.board)\n",
    "\n",
    "        # checking rows\n",
    "        for i in range(n):\n",
    "            win = True\n",
    "            for j in range(n):\n",
    "                if self.board[i][j] != player:\n",
    "                    win = False\n",
    "                    break\n",
    "            if win:\n",
    "                return win\n",
    "\n",
    "        # checking columns\n",
    "        for i in range(n):\n",
    "            win = True\n",
    "            for j in range(n):\n",
    "                if self.board[j][i] != player:\n",
    "                    win = False\n",
    "                    break\n",
    "            if win:\n",
    "                return win\n",
    "\n",
    "        # checking diagonals\n",
    "        win = True\n",
    "        for i in range(n):\n",
    "            if self.board[i][i] != player:\n",
    "                win = False\n",
    "                break\n",
    "        if win:\n",
    "            return win\n",
    "\n",
    "        win = True\n",
    "        for i in range(n):\n",
    "            if self.board[i][n - 1 - i] != player:\n",
    "                win = False\n",
    "                break\n",
    "        if win:\n",
    "            return win\n",
    "        return False\n",
    "\n",
    "        for row in self.board:\n",
    "            for item in row:\n",
    "                if item == '-':\n",
    "                    return False\n",
    "        return True\n",
    "\n",
    "    def is_board_filled(self):\n",
    "        for row in self.board:\n",
    "            for item in row:\n",
    "                if item == '-':\n",
    "                    return False\n",
    "        return True\n",
    "\n",
    "    def swap_player_turn(self, player):\n",
    "        return 'X' if player == 'O' else 'O'\n",
    "\n",
    "    def show_board(self):\n",
    "        for row in self.board:\n",
    "            for item in row:\n",
    "                print(item, end=\" \")\n",
    "            print()\n",
    "\n",
    "    def start(self):\n",
    "        self.create_board()\n",
    "\n",
    "        player = 'X' if self.get_random_first_player() == 1 else 'O'\n",
    "        while True:\n",
    "            print(f\"Player {player} turn\")\n",
    "\n",
    "            self.show_board()\n",
    "\n",
    "            # taking user input\n",
    "            row, col = list(\n",
    "                map(int, input(\"Enter row and column numbers to fix spot: \").split()))\n",
    "            print()\n",
    "\n",
    "            # fixing the spot\n",
    "            self.fix_spot(row - 1, col - 1, player)\n",
    "\n",
    "            # checking whether current player is won or not\n",
    "            if self.is_player_win(player):\n",
    "                print(f\"Player {player} wins the game!\")\n",
    "                break\n",
    "\n",
    "            # checking whether the game is draw or not\n",
    "            if self.is_board_filled():\n",
    "                print(\"Match Draw!\")\n",
    "                break\n",
    "\n",
    "            # swapping the turn\n",
    "            player = self.swap_player_turn(player)\n",
    "\n",
    "        # showing the final view of board\n",
    "        print()\n",
    "        self.show_board()\n",
    "\n",
    "\n",
    "# starting the game\n",
    "tic_tac_toe = TicTacToe()\n",
    "tic_tac_toe.start()\n"
   ]
  },
  {
   "cell_type": "code",
   "execution_count": 12,
   "id": "3249a9fb-d6d9-4fd4-9193-11af1d3285ab",
   "metadata": {},
   "outputs": [
    {
     "name": "stdin",
     "output_type": "stream",
     "text": [
      "Enter a value to find out fibonacci sequence:  20\n"
     ]
    },
    {
     "name": "stdout",
     "output_type": "stream",
     "text": [
      "1 1 2 3 5 8 13 21 34 55 89 144 233 377 610 987 1597 2584 4181 6765 "
     ]
    }
   ],
   "source": [
    "#36. Write a program that generates Fibonacci numbers up to a specified term using iterative methods.\n",
    "n = int(input(\"Enter a value to find out fibonacci sequence: \"))\n",
    "\n",
    "gen_fib_num = lambda x : 1 if x <= 2 else gen_fib_num(x-1) + gen_fib_num(x-2)\n",
    "\n",
    "for i in range(1, n + 1):\n",
    "    print(gen_fib_num(i), end=\" \")"
   ]
  },
  {
   "cell_type": "code",
   "execution_count": 13,
   "id": "d6a34970-1a0f-408b-9468-11307e2d434c",
   "metadata": {},
   "outputs": [
    {
     "name": "stdin",
     "output_type": "stream",
     "text": [
      "Enter a value to find out nth term of the fibonacci sequence:  4\n"
     ]
    },
    {
     "name": "stdout",
     "output_type": "stream",
     "text": [
      "3 "
     ]
    }
   ],
   "source": [
    "#37. Develop a program that calculates the nth term of the Fibonacci sequence using memoization.\n",
    "n = int(input(\"Enter a value to find out nth term of the fibonacci sequence: \"))\n",
    "\n",
    "gen_fib_num = lambda x : 1 if x <= 2 else gen_fib_num(x-1) + gen_fib_num(x-2)\n",
    "\n",
    "\n",
    "print(gen_fib_num(n), end=\" \")"
   ]
  },
  {
   "cell_type": "code",
   "execution_count": 5,
   "id": "6632d229-01ee-42c0-b7c8-62b4eb9d723e",
   "metadata": {},
   "outputs": [
    {
     "name": "stdin",
     "output_type": "stream",
     "text": [
      "Please enter the Year:  2023\n",
      "Please enter the month:  10\n"
     ]
    },
    {
     "name": "stdout",
     "output_type": "stream",
     "text": [
      "The Calendar of:      October 2023\n",
      "Mo Tu We Th Fr Sa Su\n",
      "                   1\n",
      " 2  3  4  5  6  7  8\n",
      " 9 10 11 12 13 14 15\n",
      "16 17 18 19 20 21 22\n",
      "23 24 25 26 27 28 29\n",
      "30 31\n",
      "\n"
     ]
    }
   ],
   "source": [
    "#38. Create a program that generates a calendar for a given month and year using conditional statements.\n",
    "import calendar  \n",
    "  \n",
    "year = int(input (\"Please enter the Year: \"))\n",
    "  \n",
    "if year > 0:\n",
    "    month = int(input (\"Please enter the month: \"))\n",
    "    if 0 < month <= 12:\n",
    "        # Now, we will display the calendar  \n",
    "        print(\"The Calendar of: \", calendar.month(year, month))\n",
    "    else:\n",
    "        print(\"Invalid month entered, try again...\")\n",
    "else:\n",
    "    print(\"Invalid year entered, try again...\")"
   ]
  },
  {
   "cell_type": "code",
   "execution_count": 5,
   "id": "95756856-fddb-4c1e-92ec-22ca5b514f61",
   "metadata": {},
   "outputs": [
    {
     "name": "stdout",
     "output_type": "stream",
     "text": [
      "Cards Player Has: [('10', 'Clubs'), ('6', 'Spades')]\n",
      "Score Of The Player: 16\n",
      "\n",
      "\n"
     ]
    },
    {
     "name": "stdin",
     "output_type": "stream",
     "text": [
      "What do you want? [\"play\" to request another card, \"stop\" to stop]:  stop\n"
     ]
    },
    {
     "name": "stdout",
     "output_type": "stream",
     "text": [
      "Cards Dealer Has: [('Queen', 'Diamonds'), ('5', 'Diamonds'), ('10', 'Diamonds')]\n",
      "Score Of The Dealer: 25\n",
      "\n",
      "\n",
      "Cards Dealer Has: [('Queen', 'Diamonds'), ('5', 'Diamonds'), ('10', 'Diamonds')]\n",
      "Score Of The Dealer: 25\n",
      "Cards Player Has: [('10', 'Clubs'), ('6', 'Spades')]\n",
      "Score Of The Player: 16\n",
      "Player wins (Dealer Loss Because Dealer Score is exceeding 21)\n"
     ]
    }
   ],
   "source": [
    "#39. Build a program that simulates a basic text-based blackjack game against the computer.\n",
    "import random \n",
    "  \n",
    "card_categories = ['Hearts', 'Diamonds', 'Clubs', 'Spades'] \n",
    "cards_list = ['Ace', '2', '3', '4', '5', '6', '7', '8', '9', '10', 'Jack', 'Queen', 'King'] \n",
    "deck = [(card, category) for category in card_categories for card in cards_list] \n",
    "  \n",
    "def card_value(card): \n",
    "    if card[0] in ['Jack', 'Queen', 'King']: \n",
    "        return 10\n",
    "    elif card[0] == 'Ace': \n",
    "        return 11\n",
    "    else: \n",
    "        return int(card[0]) \n",
    "\n",
    "random.shuffle(deck) \n",
    "\n",
    "player_card = [deck.pop(), deck.pop()] \n",
    "dealer_card = [deck.pop(), deck.pop()] \n",
    "  \n",
    "while True: \n",
    "    player_score = sum(card_value(card) for card in player_card) \n",
    "    dealer_score = sum(card_value(card) for card in dealer_card) \n",
    "    print(\"Cards Player Has:\", player_card) \n",
    "    print(\"Score Of The Player:\", player_score) \n",
    "    print(\"\\n\") \n",
    "    choice = input('What do you want? [\"play\" to request another card, \"stop\" to stop]: ').lower() \n",
    "    if choice == \"play\": \n",
    "        new_card = deck.pop() \n",
    "        player_card.append(new_card) \n",
    "    elif choice == \"stop\": \n",
    "        break\n",
    "    else: \n",
    "        print(\"Invalid choice. Please try again.\") \n",
    "        continue\n",
    "  \n",
    "    if player_score > 21: \n",
    "        print(\"Cards Dealer Has:\", dealer_card) \n",
    "        print(\"Score Of The Dealer:\", dealer_score) \n",
    "        print(\"Cards Player Has:\", player_card) \n",
    "        print(\"Score Of The Player:\", player_score) \n",
    "        print(\"Dealer wins (Player Loss Because Player Score is exceeding 21)\") \n",
    "        break\n",
    "\n",
    "while dealer_score < 17: \n",
    "    new_card = deck.pop() \n",
    "    dealer_card.append(new_card) \n",
    "    dealer_score += card_value(new_card) \n",
    "\n",
    "print(\"Cards Dealer Has:\", dealer_card) \n",
    "print(\"Score Of The Dealer:\", dealer_score) \n",
    "print(\"\\n\") \n",
    "  \n",
    "if dealer_score > 21: \n",
    "    print(\"Cards Dealer Has:\", dealer_card) \n",
    "    print(\"Score Of The Dealer:\", dealer_score) \n",
    "    print(\"Cards Player Has:\", player_card) \n",
    "    print(\"Score Of The Player:\", player_score) \n",
    "    print(\"Player wins (Dealer Loss Because Dealer Score is exceeding 21)\") \n",
    "elif player_score > dealer_score: \n",
    "    print(\"Cards Dealer Has:\", dealer_card) \n",
    "    print(\"Score Of The Dealer:\", dealer_score) \n",
    "    print(\"Cards Player Has:\", player_card) \n",
    "    print(\"Score Of The Player:\", player_score) \n",
    "    print(\"Player wins (Player Has High Score than Dealer)\") \n",
    "elif dealer_score > player_score: \n",
    "    print(\"Cards Dealer Has:\", dealer_card) \n",
    "    print(\"Score Of The Dealer:\", dealer_score) \n",
    "    print(\"Cards Player Has:\", player_card) \n",
    "    print(\"Score Of The Player:\", player_score) \n",
    "    print(\"Dealer wins (Dealer Has High Score than Player)\") \n",
    "else: \n",
    "    print(\"Cards Dealer Has:\", dealer_card) \n",
    "    print(\"Score Of The Dealer:\", dealer_score) \n",
    "    print(\"Cards Player Has:\", player_card) \n",
    "    print(\"Score Of The Player:\", player_score) \n",
    "    print(\"It's a tie.\")"
   ]
  },
  {
   "cell_type": "code",
   "execution_count": 86,
   "id": "932930f3-6ff9-4286-9244-0ab0825f0127",
   "metadata": {},
   "outputs": [
    {
     "name": "stdout",
     "output_type": "stream",
     "text": [
      "2\n",
      "2\n",
      "2\n",
      "5\n",
      "5\n"
     ]
    }
   ],
   "source": [
    "#40. Write a program that generates the prime factors of a given number using trial division.\n",
    "import math\n",
    "def prime_factors(num):  \n",
    "    while num % 2 == 0:  \n",
    "        print(2,)  \n",
    "        num = num / 2  \n",
    "    for i in range(3, int(math.sqrt(num)) + 1, 2):  \n",
    "        while num % i == 0:  \n",
    "            print(i,)  \n",
    "            num = num / i  \n",
    "    if num > 2:  \n",
    "        print(num)\n",
    "\n",
    "n = 200\n",
    "prime_factors(n)"
   ]
  },
  {
   "cell_type": "code",
   "execution_count": null,
   "id": "b5f40e35-2d54-4944-adfe-4bfb1e8b0e7d",
   "metadata": {},
   "outputs": [],
   "source": [
    "\n"
   ]
  },
  {
   "cell_type": "code",
   "execution_count": null,
   "id": "135d8d1b-37f9-4fe2-bcab-8162b7c052b6",
   "metadata": {},
   "outputs": [],
   "source": []
  }
 ],
 "metadata": {
  "kernelspec": {
   "display_name": "Python 3 (ipykernel)",
   "language": "python",
   "name": "python3"
  },
  "language_info": {
   "codemirror_mode": {
    "name": "ipython",
    "version": 3
   },
   "file_extension": ".py",
   "mimetype": "text/x-python",
   "name": "python",
   "nbconvert_exporter": "python",
   "pygments_lexer": "ipython3",
   "version": "3.10.8"
  }
 },
 "nbformat": 4,
 "nbformat_minor": 5
}
