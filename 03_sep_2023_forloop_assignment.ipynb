{
 "cells": [
  {
   "cell_type": "code",
   "execution_count": 1,
   "id": "9fbf50ef-0ff5-4ee3-98b8-6deb7add79da",
   "metadata": {},
   "outputs": [
    {
     "name": "stdout",
     "output_type": "stream",
     "text": [
      "1 2 3 4 5 6 7 8 9 10 "
     ]
    }
   ],
   "source": [
    "#1. Write a Python program to print the numbers from 1 to 10 using a `for` loop.\n",
    "for l in range(1, 11):\n",
    "    print(l, end=\" \")"
   ]
  },
  {
   "cell_type": "code",
   "execution_count": 4,
   "id": "96ec269a-a448-4d60-adf9-d6f9b40ffab8",
   "metadata": {},
   "outputs": [
    {
     "name": "stdout",
     "output_type": "stream",
     "text": [
      "Sum of the numbers in list is:  55\n",
      "[1, 2, 3, 4, 5, 6, 7, 8, 9, 10]\n"
     ]
    }
   ],
   "source": [
    "#2. Create a program that calculates the sum of all numbers in a list using a `for` loop.\n",
    "sums = 0\n",
    "l = range(1,11)\n",
    "for s in l:\n",
    "    sums += s\n",
    "\n",
    "print(\"Sum of the numbers in list is: \", sums)"
   ]
  },
  {
   "cell_type": "code",
   "execution_count": 8,
   "id": "a4eb4df4-bdf5-4096-b478-eafaa0aeedda",
   "metadata": {},
   "outputs": [
    {
     "name": "stdout",
     "output_type": "stream",
     "text": [
      "dlroW olleH\n",
      "dlroW olleH\n"
     ]
    }
   ],
   "source": [
    "#3. Write a program to print the characters of a string in reverse order using a `for` loop.\n",
    "s = \"Hello World\"\n",
    "sl = len(s) - 1\n",
    "\n",
    "while sl >= 0:\n",
    "    print(s[sl], end=\"\")\n",
    "    sl -= 1\n",
    "rs = \"\"\n",
    "for l in s:\n",
    "    rs = l + rs\n",
    "    \n",
    "print(\"\\n\"+rs)\n"
   ]
  },
  {
   "cell_type": "code",
   "execution_count": 10,
   "id": "422b84fc-8aaa-4ab2-8a1a-6491e338d3b8",
   "metadata": {},
   "outputs": [
    {
     "name": "stdin",
     "output_type": "stream",
     "text": [
      "Enter a number to find it's factorial:  6\n"
     ]
    },
    {
     "name": "stdout",
     "output_type": "stream",
     "text": [
      "Factorial of given number is:  720\n"
     ]
    }
   ],
   "source": [
    "#4. Develop a program that finds the factorial of a given number using a `for` loop.\n",
    "n = int(input(\"Enter a number to find it's factorial: \"))\n",
    "\n",
    "def factorial(x):\n",
    "    if x == 1:\n",
    "        return x\n",
    "    else:\n",
    "        return (x * factorial( x - 1 ))\n",
    "\n",
    "print(\"Factorial of given number is: \", factorial(n))"
   ]
  },
  {
   "cell_type": "code",
   "execution_count": null,
   "id": "54f3ced8-9f53-4cfa-bbf9-2234df0612be",
   "metadata": {},
   "outputs": [],
   "source": [
    "#5. Create a program to print the multiplication table of a given number using a `for` loop.\n",
    "n = int(input(\"Enter a number for multilication table: \"))\n",
    "\n",
    "for i in range(1, 11):\n",
    "    print(f\"{n} * {i} = { n * i}\")"
   ]
  },
  {
   "cell_type": "code",
   "execution_count": 15,
   "id": "d429eff2-e760-4e0d-a14a-d68439a9e530",
   "metadata": {},
   "outputs": [
    {
     "name": "stdout",
     "output_type": "stream",
     "text": [
      "Number of even numbers count: 8,\n",
      "Number of odd numbers count: 9\n"
     ]
    }
   ],
   "source": [
    "#6. Write a program that counts the number of even and odd numbers in a list using a `for` loop.\n",
    "l = [1,2,3,4,5,6,7,8,9,10,11,12,13,14,15,16,17]\n",
    "e = 0\n",
    "for n in l:\n",
    "    if n %2 == 0:\n",
    "        e += 1\n",
    "print(f\"Number of even numbers count: {e},\\nNumber of odd numbers count: {len(l)-e}\")"
   ]
  },
  {
   "cell_type": "code",
   "execution_count": 16,
   "id": "44df6b0f-363f-4f95-ad9d-4afe0fdb0c94",
   "metadata": {},
   "outputs": [
    {
     "name": "stdout",
     "output_type": "stream",
     "text": [
      "Square of 1 is  1\n",
      "Square of 2 is  4\n",
      "Square of 3 is  9\n",
      "Square of 4 is  16\n",
      "Square of 5 is  25\n"
     ]
    }
   ],
   "source": [
    "#7. Develop a program that prints the squares of numbers from 1 to 5 using a `for` loop.\n",
    "for n in range(1, 6):\n",
    "    print(f\"Square of {n} is  {pow(n,2)}\")"
   ]
  },
  {
   "cell_type": "code",
   "execution_count": 20,
   "id": "eb48b446-2fbc-45a6-88b1-72a269e2e661",
   "metadata": {},
   "outputs": [
    {
     "name": "stdout",
     "output_type": "stream",
     "text": [
      "Length of given string is 83\n"
     ]
    }
   ],
   "source": [
    "#8. Create a program to find the length of a string without using the `len()` function.\n",
    "s= \"Create a program to find the length of a string without using the `len()` function.\"\n",
    "l = 0\n",
    "for n in s:\n",
    "    l += 1\n",
    "print(f\"Length of given string is {l}\")"
   ]
  },
  {
   "cell_type": "code",
   "execution_count": 21,
   "id": "f92dc1d4-ea76-47c0-a31b-5cf06b689439",
   "metadata": {},
   "outputs": [
    {
     "name": "stdout",
     "output_type": "stream",
     "text": [
      "Avarage of of a list of numbers using a for loop is: 10.0\n"
     ]
    }
   ],
   "source": [
    "#9. Write a program that calculates the average of a list of numbers using a `for` loop.\n",
    "l = range(21)\n",
    "ct = 0\n",
    "sums = 0\n",
    "for n in l:\n",
    "    ct += 1\n",
    "    sums += n\n",
    "print(\"Avarage of of a list of numbers using a for loop is:\", sums/ct)"
   ]
  },
  {
   "cell_type": "code",
   "execution_count": 35,
   "id": "98350998-e763-496b-a6d1-e86b114d33b2",
   "metadata": {},
   "outputs": [
    {
     "name": "stdin",
     "output_type": "stream",
     "text": [
      "Enter an number to print the first n Fibonacci numbers:  20\n"
     ]
    },
    {
     "name": "stdout",
     "output_type": "stream",
     "text": [
      "0 1 1 2 3 5 8 13 21 34 55 89 144 233 377 610 987 1597 2584 4181 "
     ]
    }
   ],
   "source": [
    "#10. Develop a program that prints the first `n` Fibonacci numbers using a `for` loop.\n",
    "n = int(input(\"Enter an number to print the first n Fibonacci numbers: \"))\n",
    "a, b= 0, 1\n",
    "next_item = a + b\n",
    "print(a, b, end=\" \")\n",
    "for i in range(3, n+1):\n",
    "    print(next_item, end =\" \");\n",
    "    a = b;\n",
    "    b = next_item;\n",
    "    next_item = a + b;\n"
   ]
  },
  {
   "cell_type": "code",
   "execution_count": 36,
   "id": "09354351-0306-4397-9099-3d194359c5aa",
   "metadata": {},
   "outputs": [
    {
     "name": "stdout",
     "output_type": "stream",
     "text": [
      "Uniq list :  [1, 2, 6, 3, 9, 32, 5, 7, 8, 4]\n"
     ]
    }
   ],
   "source": [
    "#Intermediate Level:\n",
    "#11. Write a program to check if a given list contains any duplicates using a `for` loop.\n",
    "l = [1, 2, 6, 3, 9, 32,5, 6,2 , 7, 2, 8, 4, 8, 9]\n",
    "l1 = []\n",
    "for i in l:\n",
    "    if i not in l1:\n",
    "        l1.append(i)\n",
    "print(\"Uniq list : \", l1)\n"
   ]
  },
  {
   "cell_type": "code",
   "execution_count": 40,
   "id": "17db2558-c8cd-4272-80f5-258e9bc1460c",
   "metadata": {},
   "outputs": [
    {
     "name": "stdin",
     "output_type": "stream",
     "text": [
      "Enter a number to print the prime numbers to the specified range:  20\n"
     ]
    },
    {
     "name": "stdout",
     "output_type": "stream",
     "text": [
      "1 2 3 5 7 11 13 17 19 "
     ]
    }
   ],
   "source": [
    "#12. Create a program that prints the prime numbers in a given range using a `for` loop.\n",
    "n = int(input(\"Enter a number to print the prime numbers to the specified range: \"))\n",
    "def is_prime(num):\n",
    "    nFlag = True\n",
    "    for i in range(2, int(num+1/2)):\n",
    "        if num % i == 0:\n",
    "            nFlag = False\n",
    "            break\n",
    "    return nFlag\n",
    "for x in range(1, n +1 ):\n",
    "    if is_prime(x):\n",
    "        print(x, end = \" \")"
   ]
  },
  {
   "cell_type": "code",
   "execution_count": 22,
   "id": "465c8448-9a37-4153-9c93-56f1fdc64ce4",
   "metadata": {},
   "outputs": [
    {
     "name": "stdout",
     "output_type": "stream",
     "text": [
      "Number of Vowels for a given strings are:  24\n"
     ]
    }
   ],
   "source": [
    "#13. Develop a program that counts the number of vowels in a string using a `for` loop.\n",
    "\n",
    "s= \"Develop a program that counts the number of vowels in a string using a `for` loop.\"\n",
    "vls=['a','e', 'i','o', 'u', 'A', 'E', 'I', 'O', 'U']\n",
    "cnt = 0\n",
    "for l in s:\n",
    "    if l in vls:\n",
    "        cnt += 1\n",
    "print(\"Number of Vowels for a given strings are: \", cnt)\n"
   ]
  },
  {
   "cell_type": "code",
   "execution_count": 5,
   "id": "879d375e-3f05-44bc-a440-651f992abe33",
   "metadata": {},
   "outputs": [
    {
     "name": "stdout",
     "output_type": "stream",
     "text": [
      "Max element from 2d list using for loop:  90\n"
     ]
    }
   ],
   "source": [
    "#14. Write a program to find the maximum element in a 2D list using a nested `for` loop.\n",
    "ll = [[10, 20, 90], [20, 50, 10], [30, 50, 70]]\n",
    "max = 0\n",
    "for l in ll:\n",
    "    for n in l:\n",
    "        if n > max:\n",
    "            max = n\n",
    "            \n",
    "print(\"Max element from 2d list using for loop: \", max)\n",
    "        "
   ]
  },
  {
   "cell_type": "code",
   "execution_count": 14,
   "id": "3ecabf9e-56a3-4cc4-bc7a-830c841e0293",
   "metadata": {},
   "outputs": [
    {
     "name": "stdin",
     "output_type": "stream",
     "text": [
      "Enter an element to remove frome list:  5\n"
     ]
    },
    {
     "name": "stdout",
     "output_type": "stream",
     "text": [
      "After moved all occurences of specific element:  [1, 2, 3, 4, 6, 7, 8, 9, 10, 1, 7, 32, 9, 2, 7, 8, 7, 1, 9]\n"
     ]
    }
   ],
   "source": [
    "#15. Create a program that removes all occurrences of a specific element from a list using a `for` loop.\n",
    "l = [1, 2, 3, 4, 5, 6, 7, 8, 9, 10, 1, 5, 7 ,32, 9, 2, 7, 8 ,7, 5, 1, 5, 9]\n",
    "o = int(input(\"Enter an element to remove frome list: \"))\n",
    "for n in l:\n",
    "    if n == o:\n",
    "        l.remove(o)\n",
    "print(\"After moved all occurences of specific element: \", l)"
   ]
  },
  {
   "cell_type": "code",
   "execution_count": 42,
   "id": "2bc15841-6099-4294-b6b6-9a6f3712c0c6",
   "metadata": {},
   "outputs": [
    {
     "name": "stdout",
     "output_type": "stream",
     "text": [
      "1 * 1 = 1\n",
      "1 * 2 = 2\n",
      "1 * 3 = 3\n",
      "1 * 4 = 4\n",
      "1 * 5 = 5\n",
      "1 * 6 = 6\n",
      "1 * 7 = 7\n",
      "1 * 8 = 8\n",
      "1 * 9 = 9\n",
      "1 * 10 = 10\n",
      "____________ \n",
      "2 * 1 = 2\n",
      "2 * 2 = 4\n",
      "2 * 3 = 6\n",
      "2 * 4 = 8\n",
      "2 * 5 = 10\n",
      "2 * 6 = 12\n",
      "2 * 7 = 14\n",
      "2 * 8 = 16\n",
      "2 * 9 = 18\n",
      "2 * 10 = 20\n",
      "____________ \n",
      "3 * 1 = 3\n",
      "3 * 2 = 6\n",
      "3 * 3 = 9\n",
      "3 * 4 = 12\n",
      "3 * 5 = 15\n",
      "3 * 6 = 18\n",
      "3 * 7 = 21\n",
      "3 * 8 = 24\n",
      "3 * 9 = 27\n",
      "3 * 10 = 30\n",
      "____________ \n",
      "4 * 1 = 4\n",
      "4 * 2 = 8\n",
      "4 * 3 = 12\n",
      "4 * 4 = 16\n",
      "4 * 5 = 20\n",
      "4 * 6 = 24\n",
      "4 * 7 = 28\n",
      "4 * 8 = 32\n",
      "4 * 9 = 36\n",
      "4 * 10 = 40\n",
      "____________ \n",
      "5 * 1 = 5\n",
      "5 * 2 = 10\n",
      "5 * 3 = 15\n",
      "5 * 4 = 20\n",
      "5 * 5 = 25\n",
      "5 * 6 = 30\n",
      "5 * 7 = 35\n",
      "5 * 8 = 40\n",
      "5 * 9 = 45\n",
      "5 * 10 = 50\n",
      "____________ \n"
     ]
    }
   ],
   "source": [
    "#16. Develop a program that generates a multiplication table for numbers from 1 to 5 using a nested `for` loop.\n",
    "\n",
    "for n in range(1, 6):\n",
    "    for i in range(1, 11):\n",
    "        print(f\"{n} * {i} = { n * i}\")\n",
    "    print(\"____________ \")\n"
   ]
  },
  {
   "cell_type": "code",
   "execution_count": 23,
   "id": "6b8a3511-7abc-43d0-a6b2-f253a8c59e33",
   "metadata": {},
   "outputs": [
    {
     "name": "stdout",
     "output_type": "stream",
     "text": [
      "Temperature in Fahrenheit : [36.7, 37.2, 37.8, 38.3, 38.9, 39.4]\n"
     ]
    }
   ],
   "source": [
    "#17. Write a program that converts a list of Fahrenheit temperatures to Celsius using a `for` loop.\n",
    "l = [ 98, 99, 100, 101, 102, 103]\n",
    "# f = (1.8 * c) + 32.0\n",
    "n = 0\n",
    "for f in l:\n",
    "    l[n] =round((f-32)/1.8 , 1)\n",
    "    n += 1\n",
    "print(\"Temperature in Fahrenheit :\", l)"
   ]
  },
  {
   "cell_type": "code",
   "execution_count": 26,
   "id": "2090294a-399f-41a1-9b8a-0f76912dd37f",
   "metadata": {},
   "outputs": [
    {
     "name": "stdout",
     "output_type": "stream",
     "text": [
      "Comment Elements are:  4 2 6 3 8 9 2 5 6 3 9 10 "
     ]
    }
   ],
   "source": [
    "#18. Create a program to print the common elements from two lists using a `for` loop.\n",
    "l1 = [1, 4, 2, 6, 3, 8, 9 , 2, 5, 7, 6, 3, 9, 10]\n",
    "l2 = [ 2, 6, 3, 5, 8, 9, 10, 11, 6, 8 ,4, 2]\n",
    "print(\"Comment Elements are: \", end=\" \")\n",
    "for l in l1:\n",
    "    if l in l2:\n",
    "        print( l, end=\" \")"
   ]
  },
  {
   "cell_type": "code",
   "execution_count": 36,
   "id": "c2a8d1b0-14f8-429d-a739-bc52cca70186",
   "metadata": {},
   "outputs": [
    {
     "name": "stdin",
     "output_type": "stream",
     "text": [
      "Enter a number to form a right- angled triangle:  5\n"
     ]
    },
    {
     "name": "stdout",
     "output_type": "stream",
     "text": [
      "* \n",
      "* * \n",
      "* * * \n",
      "* * * * \n",
      "* * * * * \n"
     ]
    }
   ],
   "source": [
    "#19. Develop a program that prints the pattern of right-angled triangles using a `for` loop. Use ‘*’ to draw the pattern\n",
    "n = int(input(\"Enter a number to form a right- angled triangle: \"))\n",
    "for r in range(1, n+1):\n",
    "    for l in range(r):\n",
    "        print('*', end=' ')\n",
    "    print(\"\")\n",
    "    \n"
   ]
  },
  {
   "cell_type": "code",
   "execution_count": 2,
   "id": "a9e8f3d9-3fd0-4583-b4d7-976eec24f6f5",
   "metadata": {},
   "outputs": [
    {
     "name": "stdout",
     "output_type": "stream",
     "text": [
      "GCD of 52 and 100 is: 4\n"
     ]
    }
   ],
   "source": [
    "#20. Write a program to find the greatest common divisor (GCD) of two numbers using a `for` loop.\n",
    "x = 52\n",
    "y = 100\n",
    "gcd = 1\n",
    "if x > y:\n",
    "    x, y = y, x\n",
    "for i in range(1,x+1):\n",
    "    if x%i == 0 and y%i == 0:\n",
    "        gcd = i\n",
    "print(\"GCD of\", x, \"and\", y, \"is:\", gcd)"
   ]
  },
  {
   "cell_type": "code",
   "execution_count": null,
   "id": "fa4157e4-a4e5-4cff-a3bb-dc8e63886807",
   "metadata": {},
   "outputs": [],
   "source": [
    "#Advanced Level:\n",
    "#21. Create a program that calculates the sum of the digits of numbers in a list using a list comprehension.\n",
    "l1 = [ 98, 99, 100, 101, 102, 103]\n",
    "x = 0\n",
    "sums = [ lambda x: x for l in l1]\n",
    "print(\"Sums of elememts in from a list is \", sums)"
   ]
  },
  {
   "cell_type": "code",
   "execution_count": null,
   "id": "351bf194-7d73-4dae-b9b1-036e6689ceb3",
   "metadata": {},
   "outputs": [],
   "source": [
    "#22. Write a program to find the prime factors of a given number using a `for` loop and list comprehension.\n",
    "import math\n",
    "s = [ ]\n",
    "\n",
    "def prime_factors(num):\n",
    "    while num % 2 == 0:  \n",
    "        print(2,)  \n",
    "        num = num / 2  \n",
    "    for i in range(3, int(math.sqrt(num)) + 1, 2):  \n",
    "        while num % i == 0:  \n",
    "            print(i,)  \n",
    "            num = num / i  \n",
    "    if num > 2:  \n",
    "        print(num)\n",
    "\n",
    "n = 200\n",
    "prime_factors(n)"
   ]
  },
  {
   "cell_type": "code",
   "execution_count": 12,
   "id": "fa92b584-eeff-4c96-9641-e495fe0bcb76",
   "metadata": {},
   "outputs": [
    {
     "name": "stdout",
     "output_type": "stream",
     "text": [
      "[1, 2, 4, 5, 6, 7, 9, 3]\n",
      "[1, 2, 4, 5, 6, 7, 9, 3]\n"
     ]
    }
   ],
   "source": [
    "#23. Develop a program that extracts unique elements from a list and stores them in a new list using a list comprehension.\n",
    "from functools import reduce\n",
    "l = [1, 2, 4, 5, 6, 7, 9,3, 5, 1, 2, 2]\n",
    "l1 =[]\n",
    "for i in l:\n",
    "    if i not in l1:\n",
    "        l1.append(i)\n",
    "print(l1)\n",
    "\n",
    "def unique(list1):\n",
    "    ans = reduce(lambda re, x: re+[x] if x not in re else re, list1, [])\n",
    "    print(ans)\n",
    "\n",
    "unique(l)\n"
   ]
  },
  {
   "cell_type": "code",
   "execution_count": 6,
   "id": "ebdc6de2-1ef9-453c-99b5-fce90c52e0ce",
   "metadata": {},
   "outputs": [
    {
     "name": "stdin",
     "output_type": "stream",
     "text": [
      "Enter the limit:  250\n"
     ]
    },
    {
     "name": "stdout",
     "output_type": "stream",
     "text": [
      "Palindromic numbers up to limit 250: [0, 1, 2, 3, 4, 5, 6, 7, 8, 9, 11, 22, 33, 44, 55, 66, 77, 88, 99, 101, 111, 121, 131, 141, 151, 161, 171, 181, 191, 202, 212, 222, 232, 242]\n"
     ]
    }
   ],
   "source": [
    "#24. Create a program that generates a list of all palindromic numbers up to a specified limit using a list comprehension.\n",
    "\n",
    "\n",
    "\n",
    "is_palindrome = lambda num : str(num) == str(num)[::-1]\n",
    "\n",
    "generate_palindromic_numbers = lambda limit : [num for num in range(limit + 1) if is_palindrome(num)] \n",
    "\n",
    "limit = int(input(\"Enter the limit: \"))\n",
    "\n",
    "palindromic_numbers = generate_palindromic_numbers(limit)\n",
    "print(\"Palindromic numbers up to limit {}: {}\".format(limit, palindromic_numbers))\n",
    "\n"
   ]
  },
  {
   "cell_type": "code",
   "execution_count": 3,
   "id": "65bc989d-4553-4f09-8852-52e86841a254",
   "metadata": {},
   "outputs": [
    {
     "data": {
      "text/plain": [
       "[1, 2, 3, 4, 6, 7, 8, 9, 10]"
      ]
     },
     "execution_count": 3,
     "metadata": {},
     "output_type": "execute_result"
    }
   ],
   "source": [
    "#25. Write a program to flatten a nested list using list comprehension.\n",
    "l = [1,2,3,4,[6,7,8], 9 ,10]\n",
    "\n",
    "flatten_lambda = lambda x: [item for sublist in x for item in (flatten_lambda(sublist) if isinstance(sublist, list) else [sublist])]\n",
    "\n",
    "flatten_lambda(l)\n"
   ]
  },
  {
   "cell_type": "code",
   "execution_count": 53,
   "id": "a67c2633-6678-4175-80b9-9e28abaf9d79",
   "metadata": {},
   "outputs": [
    {
     "name": "stdout",
     "output_type": "stream",
     "text": [
      "sum of odd Numbers:  400\n",
      "Sum of even Numbers:  380\n"
     ]
    }
   ],
   "source": [
    "#26. Develop a program that computes the sum of even and odd numbers in a list separately using list comprehension.\n",
    "l = range(1, 40)\n",
    "sum_odds = lambda n: sum([x for x in n if x % 2 != 0])\n",
    "\n",
    "#sum_odds = lambda n: sum([ x for x in n if x %2 !=0 else 0])\n",
    "sum_even = lambda n: sum([x for x in n if x % 2 == 0])\n",
    "print(\"sum of odd Numbers: \", sum_odds(l))\n",
    "print(\"Sum of even Numbers: \", sum_even(l))\n"
   ]
  },
  {
   "cell_type": "code",
   "execution_count": 9,
   "id": "b2a385d2-cc27-41c9-ac4d-29a7dbc493f0",
   "metadata": {},
   "outputs": [
    {
     "name": "stdout",
     "output_type": "stream",
     "text": [
      "[1, 9, 25, 49, 81]\n"
     ]
    }
   ],
   "source": [
    "# 27. Create a program that generates a list of squares of odd numbers between 1 and 10 using list comprehension.\n",
    "\n",
    "odd_num_squares = lambda l : [ x * x for x in l if x % 2 != 0]\n",
    "\n",
    "l1 = range(1, 11)\n",
    "print(odd_num_squares(l1))\n"
   ]
  },
  {
   "cell_type": "code",
   "execution_count": 5,
   "id": "86fafa8b-c270-4720-97c3-2d42cad017a8",
   "metadata": {},
   "outputs": [
    {
     "name": "stdout",
     "output_type": "stream",
     "text": [
      "{1: 16, 2: 16, 3: 16, 4: 16, 5: 16, 6: 16, 7: 16}\n",
      "<class 'dict'>\n"
     ]
    }
   ],
   "source": [
    "#28. Write a program that combines two lists into a dictionary using list comprehension.\n",
    "l1 = [1, 2, 3, 4, 5, 6, 7]\n",
    "l2 = [11, 12, 13, 14, 15, 16]\n",
    "dictionary = { a:b for a in l1 for b in l2 }\n",
    "print(dictionary)\n",
    "print(type(dictionary))"
   ]
  },
  {
   "cell_type": "code",
   "execution_count": 17,
   "id": "6f513f64-7ebe-4aa7-b828-96a95cca9529",
   "metadata": {},
   "outputs": [
    {
     "name": "stdout",
     "output_type": "stream",
     "text": [
      "['e', 'e', 'o', 'a', 'o', 'a', 'a', 'e', 'a', 'e', 'o', 'e', 'o', 'a', 'i', 'a', 'o', 'e', 'e', 'i', 'a', 'i', 'u', 'i', 'i', 'o', 'e', 'e', 'i', 'o']\n"
     ]
    }
   ],
   "source": [
    "#29. Develop a program that extracts the vowels from a string and stores them in a list using list comprehension.\n",
    "v = ['a','e','i','o','u','A', 'E', 'I', 'O', 'U']\n",
    "s ='Develop a program that extracts the vowels from a string and stores them in a list using list comprehension.'\n",
    "vowels = lambda st : [x for x in st if x in v]\n",
    "vl = list(vowels(s))\n",
    "print(vl)\n"
   ]
  },
  {
   "cell_type": "code",
   "execution_count": 21,
   "id": "d2fae77d-fcd2-4183-bf26-fdc048f89622",
   "metadata": {},
   "outputs": [
    {
     "name": "stdout",
     "output_type": "stream",
     "text": [
      "['Create', 'a', 'program', 'that', 'removes', 'all', 'characters', 'from', 'a', 'list', 'of', 'strings', 'using', 'list', 'comprehension']\n"
     ]
    }
   ],
   "source": [
    "#30. Create a program that removes all non-numeric characters from a list of strings using list comprehension.\n",
    "v = ['a','e','i','o','u','A', 'E', 'I', 'O', 'U']\n",
    "s ='30 Create a program that removes all non-numeric characters from a list of strings using list comprehension'\n",
    "vowels = lambda st : [x for x in st if str(x).isalpha()]\n",
    "vl = list(vowels(s.split()))\n",
    "print(vl)"
   ]
  },
  {
   "cell_type": "code",
   "execution_count": 7,
   "id": "f6da94e5-2364-4d0d-b4fe-7822b4c0dfec",
   "metadata": {},
   "outputs": [
    {
     "name": "stdin",
     "output_type": "stream",
     "text": [
      "Enter the limit:  50\n"
     ]
    },
    {
     "name": "stdout",
     "output_type": "stream",
     "text": [
      "Prime numbers up to limit 50: [2, 3, 5, 7, 11, 13, 17, 19, 23, 29, 31, 37, 41, 43, 47]\n"
     ]
    }
   ],
   "source": [
    "#Challenge Level:\n",
    "#31. Write a program to generate a list of prime numbers using the Sieve of Eratosthenes algorithm and list comprehension.\n",
    "\n",
    "def sieve_of_eratosthenes(limit):\n",
    "    sieve = [True] * (limit + 1)\n",
    "    sieve[0:2] = [False, False]\n",
    "\n",
    "    for num in range(2, int(limit ** 0.5) + 1):\n",
    "        if sieve[num]:\n",
    "            for multiple in range(num * num, limit + 1, num):\n",
    "                sieve[multiple] = False\n",
    "\n",
    "    primes = [num for num in range(2, limit + 1) if sieve[num]]\n",
    "    return primes\n",
    "\n",
    "\n",
    "limit = int(input(\"Enter the limit: \"))\n",
    "\n",
    "\n",
    "prime_numbers = sieve_of_eratosthenes(limit)\n",
    "print(\"Prime numbers up to limit {}: {}\".format(limit, prime_numbers))\n",
    "\n"
   ]
  },
  {
   "cell_type": "code",
   "execution_count": 23,
   "id": "c138a729-2ba8-4c21-a7dd-0551557b1fed",
   "metadata": {},
   "outputs": [
    {
     "name": "stdin",
     "output_type": "stream",
     "text": [
      "enter number to list pythagoream triplets:  40\n"
     ]
    },
    {
     "name": "stdout",
     "output_type": "stream",
     "text": [
      "(3, 4, 5)\n",
      "(6, 8, 10)\n",
      "(5, 12, 13)\n",
      "(9, 12, 15)\n",
      "(8, 15, 17)\n",
      "(12, 16, 20)\n",
      "(15, 20, 25)\n",
      "(7, 24, 25)\n",
      "(10, 24, 26)\n",
      "(20, 21, 29)\n",
      "(18, 24, 30)\n",
      "(16, 30, 34)\n",
      "(21, 28, 35)\n",
      "(12, 35, 37)\n",
      "(15, 36, 39)\n",
      "(24, 32, 40)\n"
     ]
    }
   ],
   "source": [
    "#32. Create a program that generates a list of all Pythagorean triplets up to a specified limit using list comprehension.\n",
    "# Define the limit for generating Pythagorean triplets\n",
    "limit = int(input(\"enter number to list pythagoream triplets: \"))\n",
    "\n",
    "# Generate a list of Pythagorean triplets using list comprehension\n",
    "triplets = [(a, b, c) for c in range(1, limit + 1)\n",
    "                       for b in range(1, c)\n",
    "                       for a in range(1, b)\n",
    "                       if a**2 + b**2 == c**2]\n",
    "\n",
    "# Print the list of Pythagorean triplets\n",
    "for triplet in triplets:\n",
    "    print(triplet)\n"
   ]
  },
  {
   "cell_type": "code",
   "execution_count": 19,
   "id": "e71feddb-341e-4299-8e80-87065c2c4622",
   "metadata": {},
   "outputs": [
    {
     "name": "stdout",
     "output_type": "stream",
     "text": [
      "[(1, 'a'), (1, 'b'), (1, 'c'), (2, 'a'), (2, 'b'), (2, 'c'), (3, 'a'), (3, 'b'), (3, 'c')]\n"
     ]
    }
   ],
   "source": [
    "#33. Develop a program that generates a list of all possible combinations of two lists using list comprehension.\n",
    "list_1 = [1, 2, 3]\n",
    "list_2 = ['a', 'b', 'c']\n",
    "\n",
    "list_3 = [ (x, y) for x in list_1 for y in list_2 ]\n",
    "\n",
    "print(list_3)\n"
   ]
  },
  {
   "cell_type": "code",
   "execution_count": 15,
   "id": "e00d8ee8-9a92-47cd-98f5-091da4df614b",
   "metadata": {},
   "outputs": [
    {
     "name": "stdout",
     "output_type": "stream",
     "text": [
      "Mean: 4.769230769230769\n",
      "Median: 5\n",
      "Mode: [5]\n"
     ]
    }
   ],
   "source": [
    "#34. Write a program that calculates the mean, median, and mode of a list of numbers using list comprehension.\n",
    "from collections import Counter\n",
    "\n",
    "# Function for mean\n",
    "def calculate_mean(numbers):\n",
    "    return sum(numbers) / len(numbers)\n",
    "\n",
    "# Function median\n",
    "def calculate_median(numbers):\n",
    "    numbers.sort()\n",
    "    n = len(numbers)\n",
    "    middle = n // 2\n",
    "\n",
    "    if n % 2 == 0:\n",
    "        return (numbers[middle - 1] + numbers[middle]) / 2\n",
    "    else:\n",
    "        return numbers[middle]\n",
    "\n",
    "# Function for mode\n",
    "def calculate_mode(numbers):\n",
    "    count = Counter(numbers)\n",
    "    max_count = max(count.values())\n",
    "    mode = [key for key, value in count.items() if value == max_count]\n",
    "    \n",
    "    return mode\n",
    "\n",
    "# Example list of numbers\n",
    "numbers = [1, 2, 3, 4, 5, 3, 4, 5, 5, 6, 7, 8, 9]\n",
    "mean = calculate_mean(numbers)\n",
    "median = calculate_median(numbers)\n",
    "mode = calculate_mode(numbers)\n",
    "\n",
    "print(\"Mean:\", mean)\n",
    "print(\"Median:\", median)\n",
    "print(\"Mode:\", mode)\n",
    "\n"
   ]
  },
  {
   "cell_type": "code",
   "execution_count": 8,
   "id": "8dfe3b1b-e2c7-4ab0-8b2d-a22a4a137b3e",
   "metadata": {},
   "outputs": [
    {
     "name": "stdin",
     "output_type": "stream",
     "text": [
      "Enter a number for get a pascal triangle:  6\n"
     ]
    },
    {
     "name": "stdout",
     "output_type": "stream",
     "text": [
      "      1\n",
      "     1 1\n",
      "    1 2 1\n",
      "   1 3 3 1\n",
      "  1 4 6 4 1\n",
      " 1 5 10 10 5 1\n"
     ]
    }
   ],
   "source": [
    "#35. Create a program that generates Pascal's triangle up to a specified number of rows using list comprehension.\n",
    "def generate_pascals_triangle(rows):\n",
    "    if rows <= 0:\n",
    "        return []\n",
    "\n",
    "    p_triangle = [[1]]\n",
    "\n",
    "    while len(p_triangle) < rows:\n",
    "        p_row = p_triangle[-1]\n",
    "        n_row = [1] + [p_row[i] + p_row[i + 1] for i in range(len(p_row) - 1)] + [1]\n",
    "        p_triangle.append(n_row)\n",
    "\n",
    "    return p_triangle\n",
    "\n",
    "def print_data(triangle):\n",
    "    for index, row in enumerate(triangle):\n",
    "        for i in range(len(triangle)-index):\n",
    "            print(' ', end ='')\n",
    "        print(' '.join(map(str, row)))\n",
    "\n",
    "# Specify the number of rows you want in Pascal's triangle\n",
    "num_rows = int(input(\"Enter a number for get a pascal triangle: \"))\n",
    "data = generate_pascals_triangle(num_rows)\n",
    "print_data(data)\n"
   ]
  },
  {
   "cell_type": "code",
   "execution_count": 17,
   "id": "7ab4f5ea-dc63-4802-af3a-b536cfd162e7",
   "metadata": {},
   "outputs": [
    {
     "name": "stdout",
     "output_type": "stream",
     "text": [
      "[1, 2, 6, 24, 120, 720, 5040, 40320, 362880]\n"
     ]
    }
   ],
   "source": [
    "#36. Develop a program that calculates the sum of the digits of a factorial of numbers from 1 to 5 using list comprehension.\n",
    "s=[]\n",
    "s=[s[-1] for x in range(1,10) if not s.append(x*s[-1] if s else 1)]\n",
    "print(s)"
   ]
  },
  {
   "cell_type": "code",
   "execution_count": 1,
   "id": "83d1d00e-751e-47e4-860a-57f2014fe49b",
   "metadata": {},
   "outputs": [
    {
     "name": "stdout",
     "output_type": "stream",
     "text": [
      "longest word: comprehension\n"
     ]
    }
   ],
   "source": [
    "#37. Write a program that finds the longest word in a sentence using list comprehension.\n",
    "from functools import reduce\n",
    "s ='Write a program that finds the longest word in a sentence using list comprehension'\n",
    "# longest_word = max(s.split(), key=len)\n",
    "max_lambda = lambda a, b : a if len(a) > len(b) else b\n",
    "longest_word = reduce(max_lambda, s.split())\n",
    "print(\"longest word:\", longest_word)"
   ]
  },
  {
   "cell_type": "code",
   "execution_count": 13,
   "id": "27cbfc6e-bd29-4a46-814b-854cf7067754",
   "metadata": {},
   "outputs": [
    {
     "name": "stdout",
     "output_type": "stream",
     "text": [
      "['guava', 'pineapple', 'mandarin', 'orange']\n"
     ]
    }
   ],
   "source": [
    "#38. Create a program that filters a list of strings to include only those with more than three vowels using list comprehension.\n",
    "\n",
    "import re\n",
    "fruits = [\"mango\", \"kiwi\", \"strawberry\", \"guava\", \"pineapple\", \"mandarin\", \"orange\"]\n",
    "results = [i for i in fruits if len(re.sub(r\"[^aeiouAEIOU]\", \"\", i)) > 2 ]\n",
    "print(results)"
   ]
  },
  {
   "cell_type": "code",
   "execution_count": 25,
   "id": "2b6cbd25-cade-404a-8bd7-f9f926b7dd28",
   "metadata": {},
   "outputs": [
    {
     "name": "stdout",
     "output_type": "stream",
     "text": [
      "sum of the digits of numbers from 1 to 1000 using list comprehension:  500500\n"
     ]
    }
   ],
   "source": [
    "#39. Develop a program that calculates the sum of the digits of numbers from 1 to 1000 using list comprehension.\n",
    "sum_digits = sum([i for i in range(1, 1001)])\n",
    "print(\"sum of the digits of numbers from 1 to 1000 using list comprehension: \", sum_digits)"
   ]
  },
  {
   "cell_type": "code",
   "execution_count": 9,
   "id": "4e24c286-1753-4112-bcc7-96a77659037f",
   "metadata": {},
   "outputs": [
    {
     "name": "stdout",
     "output_type": "stream",
     "text": [
      "[2, 3, 4, 5, 7, 11, 13, 17, 19, 23, 29, 31, 37, 41, 43, 47, 53, 59, 61, 67, 71, 73, 79, 83, 89, 97, 101, 103, 107, 109, 113, 127, 131, 137, 139, 149, 151, 157, 163, 167, 173, 179, 181, 191, 193, 197, 199, 211, 223, 227, 229, 233, 239, 241, 251, 257, 263, 269, 271, 277, 281, 283, 293, 307, 311, 313, 317, 331, 337, 347, 349, 353, 359, 367, 373, 379, 383, 389, 397, 401, 409, 419, 421, 431, 433, 439, 443, 449, 457, 461, 463, 467, 479, 487, 491, 499]\n"
     ]
    }
   ],
   "source": [
    "#40. Write a program that generates a list of prime palindromic numbers using list comprehension.\n",
    "primes = [x for x in range(2, 500) if all(x % y for y in range(2, x//2))]\n",
    "print(primes)\n",
    "\n",
    "palindroms = [x for x in primes if x == y for y in "
   ]
  },
  {
   "cell_type": "code",
   "execution_count": null,
   "id": "5c026eef-2008-499f-a92d-1f65f7cae0a0",
   "metadata": {},
   "outputs": [],
   "source": []
  },
  {
   "cell_type": "code",
   "execution_count": null,
   "id": "6bb9dd3c-78ad-4838-9d01-4a024802cfbc",
   "metadata": {},
   "outputs": [],
   "source": []
  }
 ],
 "metadata": {
  "kernelspec": {
   "display_name": "Python 3 (ipykernel)",
   "language": "python",
   "name": "python3"
  },
  "language_info": {
   "codemirror_mode": {
    "name": "ipython",
    "version": 3
   },
   "file_extension": ".py",
   "mimetype": "text/x-python",
   "name": "python",
   "nbconvert_exporter": "python",
   "pygments_lexer": "ipython3",
   "version": "3.10.8"
  }
 },
 "nbformat": 4,
 "nbformat_minor": 5
}
