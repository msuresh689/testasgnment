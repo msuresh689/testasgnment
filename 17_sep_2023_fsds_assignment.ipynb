{
 "cells": [
  {
   "cell_type": "code",
   "execution_count": 6,
   "id": "3c754267-514b-4483-bbcc-064520f6c11d",
   "metadata": {},
   "outputs": [
    {
     "name": "stdout",
     "output_type": "stream",
     "text": [
      "1\n",
      "2\n",
      "3\n",
      "4\n",
      "5\n",
      "6\n",
      "7\n",
      "8\n",
      "9\n",
      "10\n"
     ]
    }
   ],
   "source": [
    "#1. Write a Python program to print numbers from 1 to 10 using a for loop.\n",
    "\n",
    "for i in range(1, 11):\n",
    "    print(i)\n"
   ]
  },
  {
   "cell_type": "code",
   "execution_count": 8,
   "id": "496b3483-b82a-463b-a819-e33355256e90",
   "metadata": {},
   "outputs": [
    {
     "name": "stdout",
     "output_type": "stream",
     "text": [
      "1\n",
      "2\n",
      "3\n",
      "4\n",
      "5\n",
      "6\n",
      "7\n",
      "8\n",
      "9\n",
      "10\n",
      "1\n",
      "2\n",
      "3\n",
      "4\n",
      "5\n",
      "6\n",
      "7\n",
      "8\n",
      "9\n",
      "10\n"
     ]
    }
   ],
   "source": [
    "#2. Explain the difference between a for loop and a while loop in Python.\n",
    "\n",
    "#For loop is used to iterate over a sequence of items. While loop is used to repeatedly execute a block of statements till a condition is true\n",
    "for i in range(1, 11):\n",
    "    print(i)\n",
    "i = 1\n",
    "while i <= 10:\n",
    "    print(i)\n",
    "    i +=1 "
   ]
  },
  {
   "cell_type": "code",
   "execution_count": 10,
   "id": "757d7014-2409-4877-8115-555c7328f7ad",
   "metadata": {},
   "outputs": [
    {
     "name": "stdout",
     "output_type": "stream",
     "text": [
      "sum of all numbers from 1 to 100 is : 5050\n"
     ]
    }
   ],
   "source": [
    "#3. Write a Python program to calculate the sum of all numbers from 1 to 100 using a for loop.\n",
    "sums = 0\n",
    "for i in range(1, 101):\n",
    "    sums += i\n",
    "\n",
    "print(\"sum of all numbers from 1 to 100 is :\", sums)"
   ]
  },
  {
   "cell_type": "code",
   "execution_count": 11,
   "id": "30fdafb7-593e-4073-8bdc-e8ea5cde7be8",
   "metadata": {},
   "outputs": [
    {
     "name": "stdout",
     "output_type": "stream",
     "text": [
      "1\n",
      "2\n",
      "3\n",
      "4\n",
      "5\n",
      "6\n",
      "7\n",
      "8\n",
      "9\n",
      "10\n"
     ]
    }
   ],
   "source": [
    "#4. How do you iterate through a list using a for loop in Python?\n",
    "l = [1,2,3,4,5,6,7,8,9,10]\n",
    "for i in l:\n",
    "    print(i)"
   ]
  },
  {
   "cell_type": "code",
   "execution_count": 17,
   "id": "e3bc3205-de3a-4582-8cf3-51b732b8f149",
   "metadata": {},
   "outputs": [
    {
     "name": "stdout",
     "output_type": "stream",
     "text": [
      "Product of all elements from a list is : 3628800\n"
     ]
    }
   ],
   "source": [
    "#5. Write a Python program to find the product of all elements in a list using a for loop.\n",
    "from functools import reduce\n",
    "l = [1,2,3,4,5,6,7,8,9,10]\n",
    "mul_val = reduce(lambda x,y: x * y, l , 1)\n",
    "print(\"Product of all elements from a list is :\", mul_val)"
   ]
  },
  {
   "cell_type": "code",
   "execution_count": 21,
   "id": "5c10e1ba-3854-4d0a-af9d-b84a69dce810",
   "metadata": {},
   "outputs": [
    {
     "name": "stdout",
     "output_type": "stream",
     "text": [
      "Even numbers from 1 to 20 are:  [2, 4, 6, 8, 10, 12, 14, 16, 18, 20]\n"
     ]
    }
   ],
   "source": [
    "# 6. Create a Python program that prints all even numbers from 1 to 20 using a for loop.\n",
    "even_num = list(filter(lambda x: x%2 ==0, range(1, 21)))\n",
    "print(\"Even numbers from 1 to 20 are: \", even_num)"
   ]
  },
  {
   "cell_type": "code",
   "execution_count": 30,
   "id": "5aa89a45-57d2-4fd8-a719-2c17295bd7fa",
   "metadata": {},
   "outputs": [
    {
     "name": "stdout",
     "output_type": "stream",
     "text": [
      "Factorial of a given number is:  3628800\n",
      "Factorial of a given number is:  3628800\n",
      "Factorial of a given number is:  3628800\n"
     ]
    }
   ],
   "source": [
    "#7. Write a Python program that calculates the factorial of a number using a for loop.\n",
    "def factorial(x):\n",
    "    if x <= 1:\n",
    "        return 1\n",
    "    else:\n",
    "        return x * factorial(x-1)\n",
    "print(\"Factorial of a given number is: \", factorial(10))\n",
    "fact = 1\n",
    "for i in range(1, 11):\n",
    "    fact *= i\n",
    "    \n",
    "print(\"Factorial of a given number is: \", fact) \n",
    "\n",
    "fact_val = lambda x : 1 if x <= 1 else x * fact_val(x-1) \n",
    "print(\"Factorial of a given number is: \", fact_val(10)) "
   ]
  },
  {
   "cell_type": "code",
   "execution_count": 31,
   "id": "d90d2e7a-e9a5-45cc-a32f-abd39aac0434",
   "metadata": {},
   "outputs": [
    {
     "name": "stdout",
     "output_type": "stream",
     "text": [
      "c h a r a c t e r s "
     ]
    }
   ],
   "source": [
    "#8. How can you iterate through the characters of a string using a for loop in Python?\n",
    "s = 'characters'\n",
    "for i in s:\n",
    "    print(i, end=\" \")"
   ]
  },
  {
   "cell_type": "code",
   "execution_count": 32,
   "id": "0ddf2088-65f0-4eaa-9f08-829db8e88c55",
   "metadata": {},
   "outputs": [
    {
     "name": "stdout",
     "output_type": "stream",
     "text": [
      "Max value from a given list is:  34\n"
     ]
    }
   ],
   "source": [
    "#9. Write a Python program to find the largest number in a list using a for loop.\n",
    "max_val = 0\n",
    "l = [2,1,7,3,2,8,2,34,1,7,9,24]\n",
    "for i in l:\n",
    "    if i > max_val:\n",
    "        max_val = i\n",
    "\n",
    "print(\"Max value from a given list is: \", max_val)"
   ]
  },
  {
   "cell_type": "code",
   "execution_count": 45,
   "id": "bf18c3bd-8f02-4ed1-a08e-a07bbc0cab30",
   "metadata": {},
   "outputs": [
    {
     "name": "stdin",
     "output_type": "stream",
     "text": [
      "Enter a value to find out fibonacci sequence:  10\n"
     ]
    },
    {
     "name": "stdout",
     "output_type": "stream",
     "text": [
      "1 1 2 3 5 8 13 21 34 55 "
     ]
    }
   ],
   "source": [
    "#10. Create a Python program that prints the Fibonacci sequence up to a specified limit using a for loop.\n",
    "n = int(input(\"Enter a value to find out fibonacci sequence: \"))\n",
    "\n",
    "gen_fib_num = lambda x : 1 if x <= 2 else gen_fib_num(x-1) + gen_fib_num(x-2)\n",
    "\n",
    "for i in range(1, n + 1):\n",
    "    print(gen_fib_num(i), end=\" \")"
   ]
  },
  {
   "cell_type": "code",
   "execution_count": 54,
   "id": "0dddc135-2e23-4528-aa28-ffd8fdf16ac8",
   "metadata": {},
   "outputs": [
    {
     "name": "stdout",
     "output_type": "stream",
     "text": [
      "Vowels count:  26\n",
      "Vowels Count:  26\n"
     ]
    }
   ],
   "source": [
    "#11. Write a Python program to count the number of vowels in a given string using a for loop.\n",
    "vowles = ['a','e','i','o','u','A', 'E', 'I', 'O', 'U']\n",
    "vowels_count = lambda s : [1 if x in vowles else 0 for x in s]\n",
    "string = 'Write a Python program to count the number of vowels in a given string using a for loop.'\n",
    "print(\"Vowels count: \", sum(vowels_count(string)))\n",
    "vowels_count = 0\n",
    "for s in string:\n",
    "    if s in vowles:\n",
    "        vowels_count += 1\n",
    "    \n",
    "print(\"Vowels Count: \", vowels_count)"
   ]
  },
  {
   "cell_type": "code",
   "execution_count": 55,
   "id": "43886e2a-3c49-43b3-a43a-441da997dd3d",
   "metadata": {},
   "outputs": [
    {
     "name": "stdout",
     "output_type": "stream",
     "text": [
      "4 * 1 = 4\n",
      "4 * 2 = 8\n",
      "4 * 3 = 12\n",
      "4 * 4 = 16\n",
      "4 * 5 = 20\n",
      "4 * 6 = 24\n",
      "4 * 7 = 28\n",
      "4 * 8 = 32\n",
      "4 * 9 = 36\n",
      "4 * 10 = 40\n"
     ]
    }
   ],
   "source": [
    "#12. Create a Python program that generates a multiplication table for a given number using a for loop.\n",
    "\n",
    "def mult_table(n):\n",
    "    for i in range(1, 11):\n",
    "        print(f\"{n} * {i} = { n * i}\")\n",
    "\n",
    "mult_table(4)"
   ]
  },
  {
   "cell_type": "code",
   "execution_count": 57,
   "id": "5dff7898-0afd-4104-bdc2-e106fff44dc3",
   "metadata": {},
   "outputs": [
    {
     "name": "stdout",
     "output_type": "stream",
     "text": [
      "Reversed string:  !dlroW olleH\n"
     ]
    }
   ],
   "source": [
    "#13. Write a Python program to reverse a list using a for loop.\n",
    "s = \"Hello World!\"\n",
    "rs = ''\n",
    "for i in s:\n",
    "    rs = i + rs\n",
    "print(\"Reversed string: \", rs)"
   ]
  },
  {
   "cell_type": "code",
   "execution_count": 59,
   "id": "1c64cbd2-000f-426d-a78a-66687fb5a572",
   "metadata": {},
   "outputs": [
    {
     "name": "stdout",
     "output_type": "stream",
     "text": [
      " Common Elements are: 8 34 24 "
     ]
    }
   ],
   "source": [
    "#14. Write a Python program to find the common elements between two lists using a for loop.\n",
    "l1 = [2,1,7,3,2,8,2,34,1,7,9,24]\n",
    "l2 = [4, 8, 10, 22, 12, 24, 25, 34]\n",
    "print(\" Common Elements are:\", end=\" \")\n",
    "for i in l1:\n",
    "    if i in l2:\n",
    "        print(i, end=\" \")\n"
   ]
  },
  {
   "cell_type": "code",
   "execution_count": 6,
   "id": "a4e53c29-2072-41b8-b6a2-a35592535e72",
   "metadata": {},
   "outputs": [
    {
     "name": "stdout",
     "output_type": "stream",
     "text": [
      "('key1', 1)\n",
      "('key2', 2)\n",
      "('key3', 3)\n",
      "key1\n",
      "key2\n",
      "key3\n",
      "1\n",
      "2\n",
      "3\n"
     ]
    }
   ],
   "source": [
    "# 15. Explain how to use a for loop to iterate through the keys and values of a dictionary in Python.\n",
    "'''\n",
    "For Loop iterate through a dictionary (dict) with a for loop, use the keys(), values(), and items() methods. \n",
    "We can also get a list of all the keys and values in a dictionary using those methods and list()\n",
    "'''\n",
    "d = {'key1': 1, 'key2': 2, 'key3': 3}\n",
    "for i in d.items():\n",
    "    print(i)\n",
    "    \n",
    "for i in d.keys():\n",
    "    print(i)\n",
    "    \n",
    "for i in d.values():\n",
    "    print(i)\n",
    "    "
   ]
  },
  {
   "cell_type": "code",
   "execution_count": 6,
   "id": "85f649f7-68a7-4d8a-a804-e1fbe376a6e3",
   "metadata": {},
   "outputs": [
    {
     "name": "stdout",
     "output_type": "stream",
     "text": [
      "GCD of 50 and 100 is: 50\n"
     ]
    }
   ],
   "source": [
    "#16. Write a Python program to find the GCD (Greatest Common Divisor) of two numbers using a for loop.\n",
    "x = 50\n",
    "y = 100\n",
    "if x > y:\n",
    "    x, y = y, x\n",
    "for i in range(1,x+1):\n",
    "    if x%i == 0 and y%i == 0:\n",
    "        gcd = i\n",
    "\n",
    "print(\"GCD of\", x, \"and\", y, \"is:\", gcd)\n"
   ]
  },
  {
   "cell_type": "code",
   "execution_count": 9,
   "id": "2a126d8a-fe0f-48f3-be9a-4502e5fb29fc",
   "metadata": {},
   "outputs": [
    {
     "name": "stdout",
     "output_type": "stream",
     "text": [
      "Is given string is palindrome:  True\n"
     ]
    }
   ],
   "source": [
    "#17. Create a Python program that checks if a string is a palindrome using a for loop.\n",
    "\n",
    "s = 'madam'\n",
    "rs = ''\n",
    "\n",
    "for n in s:\n",
    "    rs = n + rs\n",
    "\n",
    "print(\"Is given string is palindrome: \", s == rs)\n"
   ]
  },
  {
   "cell_type": "code",
   "execution_count": 11,
   "id": "801eae33-aa06-405f-a692-82430dfc5841",
   "metadata": {},
   "outputs": [
    {
     "name": "stdout",
     "output_type": "stream",
     "text": [
      "Uniq list :  [1, 2, 6, 3, 9, 32, 5, 7, 8, 4]\n"
     ]
    }
   ],
   "source": [
    "#18. Write a Python program to remove duplicates from a list using a for loop.\n",
    "l = [1, 2, 6, 3, 9, 32,5, 6,2 , 7, 2, 8, 4, 8, 9]\n",
    "l1 = []\n",
    "for i in l:\n",
    "    if i not in l1:\n",
    "        l1.append(i)\n",
    "print(\"Uniq list : \", l1)\n"
   ]
  },
  {
   "cell_type": "code",
   "execution_count": 12,
   "id": "5990fdbc-32b1-465a-8f9b-caef3f1343f5",
   "metadata": {},
   "outputs": [
    {
     "name": "stdout",
     "output_type": "stream",
     "text": [
      "Number of words from a list are:  17\n"
     ]
    }
   ],
   "source": [
    "#19. Create a Python program that counts the number of words in a sentence using a for loop.\n",
    "\n",
    "s = 'Create a Python program that counts the number of words in a sentence using a for loop'\n",
    "cnt = 0;\n",
    "for i in s.split():\n",
    "    cnt += 1\n",
    "\n",
    "print(\"Number of words from a list are: \", cnt)"
   ]
  },
  {
   "cell_type": "code",
   "execution_count": 7,
   "id": "6291d6a5-224c-4aca-9a9d-be4f4ca438f0",
   "metadata": {},
   "outputs": [
    {
     "name": "stdout",
     "output_type": "stream",
     "text": [
      "The sum of all odd numbers from 1 to 50 is:  625\n",
      "The sum of all odd numbers from 1 to 50 is:  625\n"
     ]
    }
   ],
   "source": [
    "#20. Write a Python program to find the sum of all odd numbers from 1 to 50 using a for loop.\n",
    "odd_lambda = lambda x: x if x % 2 != 0 else 0\n",
    "\n",
    "odds =[]\n",
    "for i in range(1, 51):\n",
    "    odds.append(odd_lambda(i))\n",
    "print(\"The sum of all odd numbers from 1 to 50 is: \", sum(odds))\n",
    "\n",
    "sum_odds=0\n",
    "for i in range(1, 51):\n",
    "    sum_odds += odd_lambda(i)\n",
    "print(\"The sum of all odd numbers from 1 to 50 is: \", sum_odds)"
   ]
  },
  {
   "cell_type": "code",
   "execution_count": 20,
   "id": "cc58ada8-89ed-4b3e-b11a-a51d02208c49",
   "metadata": {},
   "outputs": [
    {
     "name": "stdin",
     "output_type": "stream",
     "text": [
      "Please enter the year you would like to start checking leap years from. 2010\n",
      "Please enter over how many years you would like to check. 13\n"
     ]
    },
    {
     "name": "stdout",
     "output_type": "stream",
     "text": [
      "2010 is not a leap year\n",
      "2011 is not a leap year\n",
      "2012 is a leap year\n",
      "2013 is not a leap year\n",
      "2014 is not a leap year\n",
      "2015 is not a leap year\n",
      "2016 is a leap year\n",
      "2017 is not a leap year\n",
      "2018 is not a leap year\n",
      "2019 is not a leap year\n",
      "2020 is a leap year\n",
      "2021 is not a leap year\n",
      "2022 is not a leap year\n"
     ]
    }
   ],
   "source": [
    "#21. Write a Python program that checks if a given year is a leap year using a for loop.\n",
    "year = int(input(\"Please enter the year you would like to start checking leap years from.\"))\n",
    "total_years = int(input(\"Please enter over how many years you would like to check.\"))\n",
    "\n",
    "def is_leap_year(year):\n",
    "    if year % 4 == 0 and (year % 100 != 0 or year % 400 == 0):\n",
    "        return True\n",
    "    else:\n",
    "        return False\n",
    "\n",
    "for a in range (year, year+total_years):\n",
    "    if is_leap_year(a):\n",
    "        print(f\"{a} is a leap year\")\n",
    "    else:\n",
    "        print(f\"{a} is not a leap year\")"
   ]
  },
  {
   "cell_type": "code",
   "execution_count": 9,
   "id": "3fe53d0e-7e27-4229-92d4-889e33d13fea",
   "metadata": {},
   "outputs": [
    {
     "name": "stdin",
     "output_type": "stream",
     "text": [
      "Enter a number to find out it's sqrt:  16\n"
     ]
    },
    {
     "name": "stdout",
     "output_type": "stream",
     "text": [
      "SQRT for given number is:  4\n"
     ]
    }
   ],
   "source": [
    "# 22. Create a Python program that calculates the square root of a number using a for loop.\n",
    "n = int(input(\"Enter a number to find out it's sqrt: \"))\n",
    "sqrt_num = -1\n",
    "for i in range(int(n/2)+1):\n",
    "    if i * i == n:\n",
    "        sqrt_num = i\n",
    "        break\n",
    "\n",
    "if(sqrt_num > -1):\n",
    "    print(\"SQRT for given number is: \", sqrt_num)\n",
    "else:\n",
    "    print(\"Tere is no proper sqrt for a given number\") "
   ]
  },
  {
   "cell_type": "code",
   "execution_count": 8,
   "id": "65966eca-ce05-49ec-a25f-885b353b2d8f",
   "metadata": {},
   "outputs": [
    {
     "name": "stdout",
     "output_type": "stream",
     "text": [
      "LCM of 20 and 25 is: 100.0\n"
     ]
    }
   ],
   "source": [
    "#23. Write a Python program to find the LCM (Least Common Multiple) of two numbers using a for loop.\n",
    "\n",
    "x = 20\n",
    "y = 25\n",
    "gcd = 1\n",
    "if x > y:\n",
    "    x, y = y, x\n",
    "\n",
    "for i in range(1,x+1):\n",
    "    if x % i == 0 and y % i == 0:\n",
    "        gcd = i\n",
    "\n",
    "lcm = (x*y)/gcd\n",
    "\n",
    "print(\"LCM of\", x, \"and\", y, \"is:\", lcm)"
   ]
  },
  {
   "cell_type": "code",
   "execution_count": null,
   "id": "c1c68085-8de3-4a4c-b6f2-2bba8d081801",
   "metadata": {},
   "outputs": [],
   "source": []
  },
  {
   "cell_type": "code",
   "execution_count": 25,
   "id": "5d1ea466-f5c9-48de-816e-3d26c366642a",
   "metadata": {},
   "outputs": [
    {
     "name": "stdin",
     "output_type": "stream",
     "text": [
      "Enter a number to check whether given number is positve, negative or zero:  20\n"
     ]
    },
    {
     "name": "stdout",
     "output_type": "stream",
     "text": [
      "Given number is: Positive Number\n"
     ]
    }
   ],
   "source": [
    "#If else :\n",
    "#1. Write a Python program to check if a number is positive, negative, or zero using an if-else statement.\n",
    "n = int(input(\"Enter a number to check whether given number is positve, negative or zero: \"))\n",
    "\n",
    "if n==0:\n",
    "    print(\"Given number is: Zero\")\n",
    "elif n > 0:\n",
    "    print(\"Given number is: Positive Number\")\n",
    "else:\n",
    "    print(\"Given number is: Negative Number\")\n"
   ]
  },
  {
   "cell_type": "code",
   "execution_count": 27,
   "id": "1d3b2a21-24dc-44a5-a2c5-eb528d11fcf5",
   "metadata": {},
   "outputs": [
    {
     "name": "stdin",
     "output_type": "stream",
     "text": [
      "Enter a number to check whether given number is Even or Odd:  17\n"
     ]
    },
    {
     "name": "stdout",
     "output_type": "stream",
     "text": [
      "Given number is: Odd Number\n"
     ]
    }
   ],
   "source": [
    "#2. Create a Python program that checks if a given number is even or odd using an if-else statement.\n",
    "n = int(input(\"Enter a number to check whether given number is Even or Odd: \"))\n",
    "\n",
    "if n %2 == 0:\n",
    "    print(\"Given number is: Even Number\")\n",
    "else:\n",
    "    print(\"Given number is: Odd Number\")"
   ]
  },
  {
   "cell_type": "code",
   "execution_count": 22,
   "id": "9bcac5fb-a7e3-4675-80a4-5b145749e5f7",
   "metadata": {},
   "outputs": [
    {
     "name": "stdout",
     "output_type": "stream",
     "text": [
      "The number is positive.\n",
      "You are elible for vote.\n"
     ]
    }
   ],
   "source": [
    "#3. How can you use nested if-else statements in Python, and provide an example?\n",
    "age = 18\n",
    "\n",
    "if age >= 60:\n",
    "    print(\"You are a senior citizen.\")\n",
    "else:\n",
    "    if age >= 18:\n",
    "        print(\"You are elible for vote.\")\n",
    "    else:\n",
    "        if 18 > age >= 12:\n",
    "            print(\"You are a teenager.\")\n",
    "        else:\n",
    "            print(\"You are a kid\")"
   ]
  },
  {
   "cell_type": "code",
   "execution_count": 29,
   "id": "a28c34aa-1ca8-4ec9-a519-372e102e7486",
   "metadata": {},
   "outputs": [
    {
     "name": "stdout",
     "output_type": "stream",
     "text": [
      "Larget number is : 30\n"
     ]
    }
   ],
   "source": [
    "#4. Write a Python program to determine the largest of three numbers using if-else.\n",
    "\n",
    "a, b, c = 10, 30, 20\n",
    "\n",
    "if a > b > c:\n",
    "    print(\"Larget number is :\", a)\n",
    "else:\n",
    "    if b > c:\n",
    "        print(\"Larget number is :\", b)\n",
    "    else:\n",
    "        print(\"Larget number is :\", c)"
   ]
  },
  {
   "cell_type": "code",
   "execution_count": 35,
   "id": "09f71f75-2d32-438b-ad95-a76d67a52503",
   "metadata": {},
   "outputs": [
    {
     "name": "stdin",
     "output_type": "stream",
     "text": [
      "Enter a number to find out it's absolute value:  20\n"
     ]
    },
    {
     "name": "stdout",
     "output_type": "stream",
     "text": [
      "Absolute value is :  20\n"
     ]
    }
   ],
   "source": [
    "#5. Write a Python program that calculates the absolute value of a number using if-else.\n",
    "n = int(input(\"Enter a number to find out it's absolute value: \"))\n",
    "\n",
    "if n < 0:\n",
    "    n *= -1\n",
    "else:\n",
    "    n = n\n",
    "print(\"Absolute value is : \", n)"
   ]
  },
  {
   "cell_type": "code",
   "execution_count": 23,
   "id": "810bbb9a-6909-4f24-b5d8-56e4a6a7e7f8",
   "metadata": {},
   "outputs": [
    {
     "name": "stdin",
     "output_type": "stream",
     "text": [
      "Ener a char to check it's vowel or consonant:  a\n"
     ]
    },
    {
     "name": "stdout",
     "output_type": "stream",
     "text": [
      "Enetered char is a vowel\n"
     ]
    }
   ],
   "source": [
    "#6. Create a Python program that checks if a given character is a vowel or consonant using if-else.\n",
    "vowels =  ['a','e','i','o','u','A', 'E', 'I', 'O', 'U']\n",
    "c = input(\"Ener a char to check it's vowel or consonant: \")\n",
    "if c in vowels:\n",
    "    print(\"Enetered char is a vowel\")\n",
    "else:\n",
    "    print(\"Entered char is a consonant\")"
   ]
  },
  {
   "cell_type": "code",
   "execution_count": null,
   "id": "acbd8af1-1669-4db3-a8e8-be55a3ac2b5d",
   "metadata": {},
   "outputs": [],
   "source": []
  },
  {
   "cell_type": "code",
   "execution_count": null,
   "id": "5ff04596-ffac-409a-8c56-38cabdc7db0b",
   "metadata": {},
   "outputs": [],
   "source": [
    "#7. Write a Python program to determine if a user is eligible to vote based on their age using if-else.\n",
    "v = int(input(\"Enter your age to check whether you are eligible for vote or not: \"))\n",
    "if v >= 18:\n",
    "    print(\"Your are eligible for a vote\")\n",
    "else:\n",
    "    print(\"Your are not eligible for a vote\")"
   ]
  },
  {
   "cell_type": "code",
   "execution_count": 39,
   "id": "208fe276-524a-49c3-832e-eff9fcc98370",
   "metadata": {},
   "outputs": [
    {
     "name": "stdout",
     "output_type": "stream",
     "text": [
      "Actual  Amout:\t\t\t 1000.0\n",
      "Discounted Amout:\t\t 100.0\n",
      "Amout after discount:\t\t 900.0\n"
     ]
    }
   ],
   "source": [
    "#8. Create a Python program that calculates the discount amount based on the purchase amount using if-else.\n",
    "amt = 1000\n",
    "dis_per = 0\n",
    "if amt >= 1000:\n",
    "    dis_per = 10\n",
    "else:\n",
    "    if amt >= 500 and amt < 1000:\n",
    "        dis_per = 5\n",
    "    else:\n",
    "        if amt > 100 and amt < 500:\n",
    "            dis_per = 1\n",
    "\n",
    "\n",
    "dis_amt = (amt * dis_per) / 100\n",
    "print(\"Actual  Amout:\\t\\t\\t\", float(amt))\n",
    "print(\"Discounted Amout:\\t\\t\", dis_amt)\n",
    "print(\"Amout after discount:\\t\\t\", amt - dis_amt)"
   ]
  },
  {
   "cell_type": "code",
   "execution_count": 43,
   "id": "6d8a25d4-916c-4d86-8ca2-a6da0255c3c0",
   "metadata": {},
   "outputs": [
    {
     "name": "stdin",
     "output_type": "stream",
     "text": [
      "Enter a number :  5\n"
     ]
    },
    {
     "name": "stdout",
     "output_type": "stream",
     "text": [
      "5 is present in the range.\n"
     ]
    }
   ],
   "source": [
    "#9. Write a Python program to check if a number is within a specified range using if-else.\n",
    "r = range(2, 20, 3)\n",
    "n = int(input('Enter a number : '))\n",
    " \n",
    "if n in r:\n",
    "    print(n, 'is present in the range.')\n",
    "else:\n",
    "    print(n, 'is not present in the range.')"
   ]
  },
  {
   "cell_type": "code",
   "execution_count": 44,
   "id": "b2f7380d-12d9-4d31-b1af-cba0d18f345b",
   "metadata": {},
   "outputs": [
    {
     "name": "stdin",
     "output_type": "stream",
     "text": [
      "Enter total marks of a Student to find out his grade:  90\n"
     ]
    },
    {
     "name": "stdout",
     "output_type": "stream",
     "text": [
      "Student grade is B\n"
     ]
    }
   ],
   "source": [
    "#10. Create a Python program that determines the grade of a student based on their score using if-else.\n",
    "marks = int(input(\"Enter total marks of a Student to find out his grade: \"))\n",
    "if marks >= 91:\n",
    "    print(\"Student grade is A\")\n",
    "else:\n",
    "    if marks >= 81 and marks <= 90:\n",
    "        print(\"Student grade is B\") \n",
    "    else:\n",
    "        if marks >= 71 and marks <= 80:\n",
    "            print(\"Student grade is C\")\n",
    "        else:\n",
    "            if marks >= 61 and marks <= 70:\n",
    "                print(\"Student grade is D\")\n",
    "            else:\n",
    "                if marks >= 51 and marks <= 60:\n",
    "                    print(\"Student grade is E\")\n",
    "                else:\n",
    "                    print(\"Student grade is F, And Failed.\")"
   ]
  },
  {
   "cell_type": "code",
   "execution_count": 25,
   "id": "560c47e3-d267-4f3b-b10b-12487745bb66",
   "metadata": {},
   "outputs": [
    {
     "name": "stdin",
     "output_type": "stream",
     "text": [
      "Enter a string to check whether a sting is empty or not:        \n"
     ]
    },
    {
     "name": "stdout",
     "output_type": "stream",
     "text": [
      "Entered string is an empty string\n"
     ]
    }
   ],
   "source": [
    "#11. Write a Python program to check if a string is empty or not using if-else.\n",
    "s = input(\"Enter a string to check whether a sting is empty or not: \")\n",
    "if len(s.strip()) > 0:\n",
    "    print(\"Entered string is not an empty string\")\n",
    "else:\n",
    "    print(\"Entered string is an empty string\")"
   ]
  },
  {
   "cell_type": "code",
   "execution_count": 54,
   "id": "51ce71f2-34fd-43b6-b39c-0169d14c390d",
   "metadata": {},
   "outputs": [
    {
     "name": "stdin",
     "output_type": "stream",
     "text": [
      "Enter sides of a triangle with spaces:  10 4 10\n"
     ]
    },
    {
     "name": "stdout",
     "output_type": "stream",
     "text": [
      "Entered triagle is Isosceles\n"
     ]
    }
   ],
   "source": [
    "#12. Create a Python program that identifies the type of a triangle (e.g., equilateral, isosceles, or scalene) based on input values using if-else.\n",
    "a, b, c = input(\"Enter sides of a triangle with spaces: \").split()\n",
    "a, b, c = int(a), int(b), int(c)\n",
    "if a == b == c:\n",
    "    print(\"Entered triagle is Equilateral\")\n",
    "else:\n",
    "    if a == c or b == a or b==c:\n",
    "        print(\"Entered triagle is Isosceles\")\n",
    "    else:\n",
    "        print(\"Entered triagle is Scalene\")"
   ]
  },
  {
   "cell_type": "code",
   "execution_count": 55,
   "id": "383b2423-1836-4067-9416-24c2d9fe671d",
   "metadata": {},
   "outputs": [
    {
     "name": "stdin",
     "output_type": "stream",
     "text": [
      "Enter a week day in number, to get a week day:  7\n"
     ]
    },
    {
     "name": "stdout",
     "output_type": "stream",
     "text": [
      "Sunday\n"
     ]
    }
   ],
   "source": [
    "#13. Write a Python program to determine the day of the week based on a user-provided number using if-else.\n",
    "week_dic= { 1 : 'Monday', 2 : 'Tuesday', 3 : 'Wednesday', 4 : 'Thursday', 5 : 'Friday', 6 : 'Saturday', 7 : 'Sunday'}\n",
    "d = int(input(\"Enter a week day in number, to get a week day: \"))\n",
    "print(week_dic.get(d))"
   ]
  },
  {
   "cell_type": "code",
   "execution_count": 58,
   "id": "bc0c5fde-c083-46f6-9848-00b57e020dbb",
   "metadata": {},
   "outputs": [
    {
     "name": "stdin",
     "output_type": "stream",
     "text": [
      "Enter a year to check whether a given year leap year or not:  2020\n"
     ]
    },
    {
     "name": "stdout",
     "output_type": "stream",
     "text": [
      "Entered year is a leap year\n"
     ]
    }
   ],
   "source": [
    "#14. Create a Python program that checks if a given year is a leap year using both if-else and a function.\n",
    "year = int(input(\"Enter a year to check whether a given year leap year or not: \"))\n",
    "if year % 4 == 0 and (year % 100 != 0 or year % 400 == 0):\n",
    "    print(\"Entered year is a leap year\")\n",
    "else:\n",
    "    print(\"Entered year is not a leap year\")"
   ]
  },
  {
   "cell_type": "code",
   "execution_count": 29,
   "id": "a45f9c30-3cb6-435e-96b0-a3c1d8b741a5",
   "metadata": {},
   "outputs": [
    {
     "ename": "AssertionError",
     "evalue": "",
     "output_type": "error",
     "traceback": [
      "\u001b[0;31m---------------------------------------------------------------------------\u001b[0m",
      "\u001b[0;31mAssertionError\u001b[0m                            Traceback (most recent call last)",
      "Cell \u001b[0;32mIn[29], line 8\u001b[0m\n\u001b[1;32m      5\u001b[0m \u001b[38;5;28;01massert\u001b[39;00m s \u001b[38;5;241m==\u001b[39m \u001b[38;5;124m\"\u001b[39m\u001b[38;5;124mhello, World!\u001b[39m\u001b[38;5;124m\"\u001b[39m\n\u001b[1;32m      7\u001b[0m \u001b[38;5;66;03m#if condition returns False, AssertionError is raised:\u001b[39;00m\n\u001b[0;32m----> 8\u001b[0m \u001b[38;5;28;01massert\u001b[39;00m s \u001b[38;5;241m==\u001b[39m \u001b[38;5;124m\"\u001b[39m\u001b[38;5;124mgoodbye\u001b[39m\u001b[38;5;124m\"\u001b[39m\n",
      "\u001b[0;31mAssertionError\u001b[0m: "
     ]
    }
   ],
   "source": [
    "#15. How do you use the \"assert\" statement in Python to add debugging checks within if-else blocks?\n",
    "\n",
    "s = \"hello, World!\"\n",
    "#if condition returns True, then nothing happens:\n",
    "assert s == \"hello, World!\"\n",
    "\n",
    "#if condition returns False, AssertionError is raised:\n",
    "assert s == \"goodbye\""
   ]
  },
  {
   "cell_type": "code",
   "execution_count": 61,
   "id": "7adba339-a0f7-4a15-89b8-f2e138b21844",
   "metadata": {},
   "outputs": [
    {
     "name": "stdin",
     "output_type": "stream",
     "text": [
      "Enter your to check whether you are eligible for senior citizen discount:  70\n"
     ]
    },
    {
     "name": "stdout",
     "output_type": "stream",
     "text": [
      "Your are eligible for Senior citizen discount\n"
     ]
    }
   ],
   "source": [
    "#16. Create a Python program that determines the eligibility of a person for a senior citizen discount based on age using if-else.\n",
    "\n",
    "age = int(input(\"Enter your to check whether you are eligible for senior citizen discount: \"))\n",
    "if age >= 60:\n",
    "    print(\"Your are eligible for Senior citizen discount\")\n",
    "else:\n",
    "    print(\"Your are not eligible for Senior citizen discount\")"
   ]
  },
  {
   "cell_type": "code",
   "execution_count": 65,
   "id": "c45c5db6-6978-4f47-9513-83b03256bd6c",
   "metadata": {},
   "outputs": [
    {
     "name": "stdin",
     "output_type": "stream",
     "text": [
      "Enter a char to check whether it's uppercase letter or lower case or neither: @\n"
     ]
    },
    {
     "name": "stdout",
     "output_type": "stream",
     "text": [
      "enter char is neither uppercase  or lower case letter\n"
     ]
    }
   ],
   "source": [
    "#17. Write a Python program to categorize a given character as uppercase, lowercase, or neither using if-else.\n",
    "a = input(\"Enter a char to check whether it's uppercase letter or lower case or neither:\")\n",
    "if a.isupper():\n",
    "    print(\"enter char is an uppercase letter\")\n",
    "else:\n",
    "    if a.islower():\n",
    "         print(\"enter char is an lowercase letter\")\n",
    "    else:\n",
    "         print(\"enter char is neither uppercase  or lower case letter\")\n",
    "        "
   ]
  },
  {
   "cell_type": "code",
   "execution_count": 68,
   "id": "8ca937a7-b3cc-4e9c-b673-3515d757d3d4",
   "metadata": {},
   "outputs": [
    {
     "name": "stdin",
     "output_type": "stream",
     "text": [
      "Enter a:  3\n",
      "Enter b:  4\n",
      "Enter c:  5\n"
     ]
    },
    {
     "name": "stdout",
     "output_type": "stream",
     "text": [
      "The solution are (-0.6666666666666666+1.1055415967851332j) and (-0.6666666666666666-1.1055415967851332j)\n"
     ]
    }
   ],
   "source": [
    "#18. Write a Python program to determine the roots of a quadratic equation using if-else.\n",
    "\n",
    "import cmath\n",
    "\n",
    "a = int(input('Enter a: '))  \n",
    "b = int(input('Enter b: '))  \n",
    "c = int(input('Enter c: '))  \n",
    "\n",
    "d = (b**2) - (4*a*c)\n",
    "\n",
    "x = (-b + cmath.sqrt(d)) / (2*a)\n",
    "y = (-b - cmath.sqrt(d)) / (2*a)\n",
    " \n",
    "print(f'The solution are {x} and {y}')   \n"
   ]
  },
  {
   "cell_type": "code",
   "execution_count": 71,
   "id": "3d54a3d4-a2c0-45a0-9fe5-673598955c7a",
   "metadata": {},
   "outputs": [
    {
     "name": "stdin",
     "output_type": "stream",
     "text": [
      "Enter a year to check whether a given year century year or not:  2000\n"
     ]
    },
    {
     "name": "stdout",
     "output_type": "stream",
     "text": [
      "Entered year is a century year\n"
     ]
    }
   ],
   "source": [
    "#19. Create a Python program that checks if a given year is a century year or not using if-else.\n",
    "year = int(input(\"Enter a year to check whether a given year century year or not: \"))\n",
    "if year % 100 == 0:\n",
    "    print(\"Entered year is a century year\")\n",
    "else:\n",
    "    print(\"Entered year is not a century leap year\")"
   ]
  },
  {
   "cell_type": "code",
   "execution_count": 76,
   "id": "e4ce7d1f-0c9c-424e-83d5-7f22eda1d3a4",
   "metadata": {},
   "outputs": [
    {
     "name": "stdin",
     "output_type": "stream",
     "text": [
      "Enter a number to check whether a given number is perfect square or not:  8\n"
     ]
    },
    {
     "name": "stdout",
     "output_type": "stream",
     "text": [
      "2.8284271247461903\n",
      "Entered number is not a perfect square\n"
     ]
    }
   ],
   "source": [
    "#20. Write a Python program to determine if a given number is a perfect square using if-else.\n",
    "import math\n",
    "num = int(input(\"Enter a number to check whether a given number is perfect square or not: \"))\n",
    "sqroot_num = math.sqrt(num)\n",
    "print(sqroot_num)\n",
    "if sqroot_num.is_integer():\n",
    "    print(\"Entered number is a perfect square\")\n",
    "else:\n",
    "    print(\"Entered number is not a perfect square\")"
   ]
  },
  {
   "cell_type": "code",
   "execution_count": 31,
   "id": "95cb7f69-df8c-402b-8add-271cf5081533",
   "metadata": {},
   "outputs": [
    {
     "data": {
      "text/plain": [
       "'\\nThe break statement is used to terminate the loop immediately\\nThe continue statement is used to skip the current iteration of the loop.\\nbreak and continue will not be directly used in if-else, \\nwe need to use them in a loop with conditional operators like if-else\\n'"
      ]
     },
     "execution_count": 31,
     "metadata": {},
     "output_type": "execute_result"
    }
   ],
   "source": [
    "#21. Explain the purpose of the \"continue\" and \"break\" statements within if-else loops.\n",
    "'''\n",
    "The break statement is used to terminate the loop immediately\n",
    "The continue statement is used to skip the current iteration of the loop.\n",
    "break and continue will not be directly used in if-else, \n",
    "we need to use them in a loop with conditional operators like if-else\n",
    "'''"
   ]
  },
  {
   "cell_type": "code",
   "execution_count": 77,
   "id": "6e8b61f8-13b4-44ff-9426-248f6215a365",
   "metadata": {},
   "outputs": [
    {
     "name": "stdin",
     "output_type": "stream",
     "text": [
      "Enter a BMI to categorize you:  25\n"
     ]
    },
    {
     "name": "stdout",
     "output_type": "stream",
     "text": [
      "your are with overweight\n",
      "Add more vigitables to your diet\n"
     ]
    }
   ],
   "source": [
    "#22. Create a Python program that calculates the BMI (Body Mass Index) of a person based on their weight and height using if-else.\n",
    "\n",
    "bmi = float(input(\"Enter a BMI to categorize you: \"))\n",
    "\n",
    "if bmi < 18.5:\n",
    "    print(\"You are under weight\\nAdd more protein, vitamins and minarals to your food\")\n",
    "elif bmi >= 18.5 and bmi <= 24.9:\n",
    "    print(\"your are with in Healthy Weight\")\n",
    "elif bmi >= 25.0 and bmi <= 29.9:\n",
    "    print(\"your are with overweight\\nAdd more vigitables to your diet\")\n",
    "else:\n",
    "    print(\"your are with obese\\nAdd more vigitables to your diet\\nAvoid junk food\\nDo excercise regularly!\")"
   ]
  },
  {
   "cell_type": "code",
   "execution_count": 78,
   "id": "e60e525f-adcd-488d-9b2f-14c9ebf061ff",
   "metadata": {},
   "outputs": [
    {
     "name": "stdout",
     "output_type": "stream",
     "text": [
      "[18, 25, 60, 35]\n"
     ]
    }
   ],
   "source": [
    "#23. How can you use the \"filter()\" function with if-else statements to filter elements from a list?\n",
    "def filter_age(age):\n",
    "    if (age >= 18):\n",
    "        return True\n",
    "    else:\n",
    "        return False\n",
    "\n",
    "ages = [18, 12, 25, 60, 35]\n",
    "filtered_ages = filter(filter_age, ages)\n",
    "\n",
    "\n",
    "print(list(filtered_ages))"
   ]
  },
  {
   "cell_type": "code",
   "execution_count": 91,
   "id": "490351ee-087a-4a22-aef4-997cc252f569",
   "metadata": {},
   "outputs": [
    {
     "name": "stdin",
     "output_type": "stream",
     "text": [
      "Entered a number to check whether a given number is Prime or not:  51\n"
     ]
    },
    {
     "name": "stdout",
     "output_type": "stream",
     "text": [
      "51 is a prime number: False\n"
     ]
    }
   ],
   "source": [
    "#24. Write a Python program to determine if a given number is prime or not using if-else.\n",
    "def is_prime(x):\n",
    "    bFlag = True\n",
    "    if x <= 3:\n",
    "        return bFlag\n",
    "    for n in range(2, int(x/2)):\n",
    "        if x % n == 0:\n",
    "            bFlag = False\n",
    "            break;\n",
    "    return bFlag\n",
    "p = int(input(\"Entered a number to check whether a given number is Prime or not: \"))\n",
    "print(f\"{p} is a prime number: {is_prime(p)}\")\n",
    "            "
   ]
  },
  {
   "cell_type": "code",
   "execution_count": 95,
   "id": "8217b6f0-ad43-4f98-b483-55f313bdd188",
   "metadata": {},
   "outputs": [
    {
     "name": "stdout",
     "output_type": "stream",
     "text": [
      "[2, 4, 6, 8, 10, 12, 14, 16, 18]\n"
     ]
    }
   ],
   "source": [
    "#Map :-\n",
    "\n",
    "\n",
    "#1. Explain the purpose of the `map()` function in Python and provide an example of how it can be used to apply a function to each element of an iterable.\n",
    "'''\n",
    "map is function to iterator to return a result after applying a function to every item of an iterable\n",
    "'''\n",
    "#Program to multiply each and every element by 2 in the given collection\n",
    "l = [1, 2, 3, 4, 5, 6, 7, 8, 9]\n",
    "\n",
    "def multiply(x):\n",
    "    return x*2\n",
    "\n",
    "print(list(map(multiply, l)))"
   ]
  },
  {
   "cell_type": "code",
   "execution_count": 96,
   "id": "7c14d195-0c28-4268-88b7-b65f1c80015b",
   "metadata": {},
   "outputs": [
    {
     "name": "stdout",
     "output_type": "stream",
     "text": [
      "[1, 4, 9, 16, 25, 36, 49, 64, 81]\n"
     ]
    }
   ],
   "source": [
    "#2. Write a Python program that uses the `map()` function to square each element of a list of numbers.\n",
    "l = [1, 2, 3, 4, 5, 6, 7, 8, 9]\n",
    "\n",
    "def squares(x):\n",
    "    return x*x\n",
    "\n",
    "print(list(map(squares, l)))"
   ]
  },
  {
   "cell_type": "code",
   "execution_count": 10,
   "id": "43c3e80a-127b-40ad-a7bf-2971e746c0d4",
   "metadata": {},
   "outputs": [
    {
     "data": {
      "text/plain": [
       "'\\nList comprehension returns a list, whereas the map function returns an object of Iterable. \\nList comprehension execution is faster than that of map function when the formula expression is huge and complex. Map function is faster than list comprehension \\nwhen the formula is already defined as a function earlier\\n'"
      ]
     },
     "execution_count": 10,
     "metadata": {},
     "output_type": "execute_result"
    }
   ],
   "source": [
    "#3. How does the `map()` function differ from a list comprehension in Python, and when would you choose one over the other?\n",
    "'''\n",
    "List comprehension returns a list, whereas the map function returns an object of Iterable. \n",
    "List comprehension execution is faster than that of map function when the formula expression is huge and complex. Map function is faster than list comprehension \n",
    "when the formula is already defined as a function earlier\n",
    "'''"
   ]
  },
  {
   "cell_type": "code",
   "execution_count": 98,
   "id": "36443f9c-fcc3-44ac-bbb5-ef58c7a9b039",
   "metadata": {},
   "outputs": [
    {
     "name": "stdout",
     "output_type": "stream",
     "text": [
      "['ABC', 'QWERTY', 'LKJH', 'MNBV', 'ZXZCV', 'ASDF']\n"
     ]
    }
   ],
   "source": [
    "#4. Create a Python program that uses the `map()` function to convert a list of names to uppercase.\n",
    "sl = ['abc', 'qwerty', 'lkjh', 'mnbv', 'zxzcv', 'asdf']\n",
    "def to_upper(s):\n",
    "    return s.upper()\n",
    "print(list(map(to_upper, sl)))"
   ]
  },
  {
   "cell_type": "code",
   "execution_count": 108,
   "id": "f63849af-562d-410c-9872-40da393b05c0",
   "metadata": {},
   "outputs": [
    {
     "name": "stdout",
     "output_type": "stream",
     "text": [
      "[3, 6, 4, 4, 5, 4]\n"
     ]
    }
   ],
   "source": [
    "#5. Write a Python program that uses the `map()` function to calculate the length of each word in a list of strings.\n",
    "sl = ['abc', 'qwerty', 'lkjh', 'mnbv', 'zxzcv', 'asdf']\n",
    "def len_names(s):\n",
    "    return len(s)\n",
    "print(list(map(len_names, sl)))"
   ]
  },
  {
   "cell_type": "code",
   "execution_count": 46,
   "id": "d1f82b46-d7e2-479c-bc51-da2ebb9179a5",
   "metadata": {},
   "outputs": [
    {
     "name": "stdout",
     "output_type": "stream",
     "text": [
      "[0, 64, 0, 70, 0, 76, 0, 82, 0]\n",
      "[1, 1, 27, 256]\n"
     ]
    }
   ],
   "source": [
    "#6. How can you use the `map()` function to apply a custom function to elements of multiple lists simultaneously in Python?\n",
    "'''\n",
    "map(function, iterable, [iterable1, iterable2, ...])\n",
    "'''\n",
    "\n",
    "l1 = range(1, 10)\n",
    "l2 = range(20, 29)\n",
    "l3 = range(40, 49)\n",
    "map_lambda = lambda x,y,z : x+y+z if (x+y+z) %2 == 0 else 0\n",
    "print(list(map(map_lambda, l1,l2,l3))) #[0, 64, 0, 70, 0, 76, 0, 82, 0]\n",
    "\n",
    "\n",
    "base = [1, 2, 3, 4]\n",
    "power = [10, 0, 3, 4]\n",
    "\n",
    "result = list(map(pow, base, power))\n",
    "print(result) # [1, 4, 27, 256]"
   ]
  },
  {
   "cell_type": "code",
   "execution_count": 109,
   "id": "7c954d78-9a4b-4360-85a2-81204db108e6",
   "metadata": {},
   "outputs": [
    {
     "name": "stdout",
     "output_type": "stream",
     "text": [
      "[89.6, 91.4, 95.0, 98.6, 116.6, 105.8, 104.0]\n"
     ]
    }
   ],
   "source": [
    "#7. Create a Python program that uses `map()` to convert a list of temperatures from Celsius to Fahrenheit.\n",
    "def to_fahrenheit(x):\n",
    "    return (x * 9/5) + 32\n",
    "cl = [32, 33, 35, 37, 47, 41, 40]\n",
    "print(list(map(to_fahrenheit, cl)))"
   ]
  },
  {
   "cell_type": "code",
   "execution_count": 114,
   "id": "43399ad1-1a6a-4a51-ab54-aad41125abe3",
   "metadata": {},
   "outputs": [
    {
     "name": "stdout",
     "output_type": "stream",
     "text": [
      "[32, 33, 36, 37, 47, 42, 41]\n"
     ]
    }
   ],
   "source": [
    "#8. Write a Python program that uses the `map()` function to round each element of a list of floating-point numbers to the nearest integer.\n",
    "\n",
    "def tnearest(x):\n",
    "    return round(x)\n",
    "cl = [32.1, 33.1, 35.8, 37.2, 47.4, 41.7, 40.8]\n",
    "print(list(map(tnearest, cl)))"
   ]
  },
  {
   "cell_type": "code",
   "execution_count": 3,
   "id": "d1c4df2a-9208-4407-b71d-536bb743f1c8",
   "metadata": {},
   "outputs": [
    {
     "name": "stdout",
     "output_type": "stream",
     "text": [
      "Addition of the elements from a given list by using reduce():  30\n"
     ]
    }
   ],
   "source": [
    "#Reduce :-\n",
    "#1. What is the `reduce()` function in Python, and what module should you import to use it? Provide an example of its basic usage.\n",
    "\n",
    "#we have to import reduce from functools \n",
    "from functools import reduce\n",
    "\n",
    "l= [1,2,3,4,5,6,8]\n",
    "\n",
    "sums = reduce( lambda x,y: x + y, l, 1)\n",
    "print(\"Addition of the elements from a given list by using reduce(): \", sums)\n"
   ]
  },
  {
   "cell_type": "code",
   "execution_count": 4,
   "id": "d14d9a3e-b362-4666-97cf-e72b6084a9e7",
   "metadata": {},
   "outputs": [
    {
     "name": "stdout",
     "output_type": "stream",
     "text": [
      "Product of the elements from a given list by using reduce():  5760\n"
     ]
    }
   ],
   "source": [
    "#2. Write a Python program that uses the `reduce()` function to find the product of all elements in a list.\n",
    "from functools import reduce\n",
    "\n",
    "l= [1,2,3,4,5,6,8]\n",
    "\n",
    "product = reduce( lambda x,y: x * y, l, 1)\n",
    "print(\"Product of the elements from a given list by using reduce(): \", product)"
   ]
  },
  {
   "cell_type": "code",
   "execution_count": 7,
   "id": "c70c478e-8a67-4875-a28d-310c1dc17b8d",
   "metadata": {},
   "outputs": [
    {
     "name": "stdout",
     "output_type": "stream",
     "text": [
      "Max element from list is:  8\n"
     ]
    }
   ],
   "source": [
    "#3. Create a Python program that uses `reduce()` to find the maximum element in a list of numbers.\n",
    "from functools import reduce\n",
    "\n",
    "l= [1,2,3,4,5,6,8, 6, 3, 4, 2 ]\n",
    "\n",
    "max_ele = reduce( lambda x,y: x if x > y else y, l, 0)\n",
    "\n",
    "print(\"Max element from list is: \", max_ele)"
   ]
  },
  {
   "cell_type": "code",
   "execution_count": 10,
   "id": "41d6590c-0469-479a-adce-0bd87c3d814b",
   "metadata": {},
   "outputs": [
    {
     "name": "stdout",
     "output_type": "stream",
     "text": [
      "------- Out put -------\n",
      " How can you use the `reduce()` function to concatenate a list of strings into a single string?\n"
     ]
    }
   ],
   "source": [
    "#4. How can you use the `reduce()` function to concatenate a list of strings into a single string?\n",
    "from functools import reduce\n",
    "sl = ['How', 'can', 'you', 'use', 'the', '`reduce()`', 'function', 'to', 'concatenate', 'a', 'list', 'of', 'strings', 'into', 'a', 'single', 'string?'] \n",
    "s =\"\"\n",
    "\n",
    "stext = reduce( lambda x, y: x+\" \"+y, sl, '')\n",
    "print(\"------- Out put -------\")\n",
    "print(stext)"
   ]
  },
  {
   "cell_type": "code",
   "execution_count": 13,
   "id": "ecba482a-9536-4ade-8694-9abc4ab115b7",
   "metadata": {},
   "outputs": [
    {
     "name": "stdin",
     "output_type": "stream",
     "text": [
      "Enter number:  7\n"
     ]
    },
    {
     "name": "stdout",
     "output_type": "stream",
     "text": [
      "Factorial for a given number is : 5040\n"
     ]
    }
   ],
   "source": [
    "#5. Write a Python program that calculates the factorial of a number using the `reduce()` function.\n",
    "from functools import reduce\n",
    "fact_lambda = lambda x,y  : x * y\n",
    "num = int(input('Enter number: '))\n",
    "fact_num = reduce( fact_lambda, range(1,num+1), 1)\n",
    "print(\"Factorial for a given number is :\", fact_num)"
   ]
  },
  {
   "cell_type": "code",
   "execution_count": 12,
   "id": "aebc5400-352e-4bf5-b93f-90acf954b379",
   "metadata": {},
   "outputs": [
    {
     "name": "stdout",
     "output_type": "stream",
     "text": [
      "1\n"
     ]
    }
   ],
   "source": [
    "#6. Create a Python program that uses `reduce()` to find the GCD (Greatest Common Divisor) of a list of numbers.\n",
    "from functools import reduce\n",
    "ar = [12, 24, 27, 30, 36, 45 ]\n",
    "gcd= lambda a,b : a if b==0 else gcd(b,a%b) \n",
    "print(reduce(lambda x,y: gcd(x,y) ,ar)) "
   ]
  },
  {
   "cell_type": "code",
   "execution_count": 15,
   "id": "eb6da6b8-8049-4f25-bc40-1cd81878cd2b",
   "metadata": {},
   "outputs": [
    {
     "name": "stdin",
     "output_type": "stream",
     "text": [
      "Enter a number:  10\n"
     ]
    },
    {
     "name": "stdout",
     "output_type": "stream",
     "text": [
      "Sum of the digits from given number is :  1\n"
     ]
    }
   ],
   "source": [
    "#7. Write a Python program that uses the `reduce()` function to find the sum of the digits of a given number.\n",
    "from functools import reduce\n",
    "num = int(input(\"Enter a number: \"))\n",
    "\n",
    "def l_digits(n):\n",
    "    l =[]\n",
    "    while n > 0:\n",
    "        l.append( n %10)\n",
    "        n = int(n / 10)\n",
    "    return l\n",
    "\n",
    "    \n",
    "\n",
    "sum_digits = reduce(lambda x, y: x + y, l_digits(num), 0)\n",
    "\n",
    "print(\"Sum of the digits from given number is : \", sum_digits)\n"
   ]
  },
  {
   "cell_type": "code",
   "execution_count": 11,
   "id": "5c48f92a-ed75-4128-8622-bd47f76fcb4a",
   "metadata": {},
   "outputs": [
    {
     "name": "stdout",
     "output_type": "stream",
     "text": [
      "Odd numbers:  [1, 3, 5, 7, 9, 11, 13, 15, 17, 19, 21, 23, 25, 27, 29, 31, 33, 35, 37, 39, 41, 43, 45, 47, 49]\n"
     ]
    }
   ],
   "source": [
    "#Filter :-\n",
    "\n",
    "\n",
    "#1. Explain the purpose of the `filter()` function in Python and provide an example of how it can be used to filter elements from an iterable.\n",
    "'''Filter is used to get sub elements from a collections based on valid condition\n",
    "'''\n",
    "\n",
    "l = range(1, 51)\n",
    "\n",
    "print(\"Odd numbers: \", list(filter(lambda x: x %2 != 0, l))) #finding odd number by using filter()\n"
   ]
  },
  {
   "cell_type": "code",
   "execution_count": 18,
   "id": "7b37c043-fe06-4bce-9f4f-a82d2175830b",
   "metadata": {},
   "outputs": [
    {
     "name": "stdout",
     "output_type": "stream",
     "text": [
      "Even numbers:  [2, 4, 6, 8, 10, 12, 14, 16, 18, 20, 22, 24, 26, 28, 30, 32, 34, 36, 38, 40, 42, 44, 46, 48, 50]\n"
     ]
    }
   ],
   "source": [
    "#2. Write a Python program that uses the `filter()` function to select even numbers from a list of integers.\n",
    "l = range(1, 51)\n",
    "\n",
    "print(\"Even numbers: \", list(filter(lambda x: x %2 == 0, l)))\n"
   ]
  },
  {
   "cell_type": "code",
   "execution_count": 25,
   "id": "46b77688-e545-435c-9361-88d80f5a0b1f",
   "metadata": {},
   "outputs": [
    {
     "name": "stdout",
     "output_type": "stream",
     "text": [
      "Filtered List:  ['strings', 'single', 'string?']\n"
     ]
    }
   ],
   "source": [
    "#3. Create a Python program that uses the `filter()` function to select names that start with a specific letter from a list of strings.\n",
    "sl = ['How', 'can', 'you', 'use', 'the', '`reduce()`', 'function', 'to', 'concatenate', 'a', 'list', 'of', 'strings', 'into', 'a', 'single', 'string?'] \n",
    "fsl = list(filter(lambda x : x.startswith('s'), sl))\n",
    "print(\"Filtered List: \", fsl)"
   ]
  },
  {
   "cell_type": "code",
   "execution_count": 14,
   "id": "64f4ee8f-7598-49b9-8616-4dfd4f53007c",
   "metadata": {},
   "outputs": [
    {
     "name": "stdout",
     "output_type": "stream",
     "text": [
      "[1, 2, 3, 5, 7, 11, 13, 17, 19, 23, 29, 31, 37, 41, 43, 47]\n"
     ]
    }
   ],
   "source": [
    "#4. Write a Python program that uses the `filter()` function to select prime numbers from a list of integers.\n",
    "\n",
    "prime_filter = lambda x: all(x % n != 0 for n in range(2, x))\n",
    "l = range(1, 51)\n",
    "print(list(filter(prime_filter, l)))\n"
   ]
  },
  {
   "cell_type": "code",
   "execution_count": 27,
   "id": "7a50429e-7d87-432f-aa1e-307b12156a64",
   "metadata": {},
   "outputs": [
    {
     "name": "stdout",
     "output_type": "stream",
     "text": [
      "List With out None Values:  ['How', 'can', 'you', 'use', 'the', '`reduce()`', 'function', 'to', 'concatenate', 'a', 'list', 'of', 'strings', 'into', 'a', 'single', 'string?']\n"
     ]
    }
   ],
   "source": [
    "#5. How can you use the `filter()` function to remove None values from a list in Python?\n",
    "sl = ['How', 'can', 'you', 'use', 'the', '`reduce()`', None, 'function', 'to', 'concatenate', None, 'a', 'list', 'of', 'strings', 'into', 'a', 'single', 'string?', None, None, None] \n",
    "fsl = list(filter(lambda x : x != None, sl))\n",
    "print(\"List With out None Values: \", fsl)"
   ]
  },
  {
   "cell_type": "code",
   "execution_count": 29,
   "id": "e250d845-a9ab-482b-b47a-5a7f5f8f61f4",
   "metadata": {},
   "outputs": [
    {
     "name": "stdin",
     "output_type": "stream",
     "text": [
      "Enter a number to filter string whose legth is larger than provided length :  3\n"
     ]
    },
    {
     "name": "stdout",
     "output_type": "stream",
     "text": [
      "Filtered data set:  ['`reduce()`', 'function', 'concatenate', 'list', 'strings', 'into', 'single', 'string?']\n"
     ]
    }
   ],
   "source": [
    "\n",
    "#6. Create a Python program that uses `filter()` to select words longer than a certain length from a list of strings.\n",
    "\n",
    "sl = ['How', 'can', 'you', 'use', 'the', '`reduce()`', 'function', 'to', 'concatenate', 'a', 'list', 'of', 'strings', 'into', 'a', 'single', 'string?'] \n",
    "n = int(input(\"Enter a number to filter words whose legth is larger than provided length : \"))\n",
    "fsl = list(filter(lambda x : len(x) > n, sl))\n",
    "print(\"Filtered data set: \", fsl)"
   ]
  },
  {
   "cell_type": "code",
   "execution_count": 31,
   "id": "d4762481-e5af-4b6a-a7d4-2f2d80b733b5",
   "metadata": {},
   "outputs": [
    {
     "name": "stdin",
     "output_type": "stream",
     "text": [
      "Enter a number to select elements greater than a specified threshold from a list of values :  10\n"
     ]
    },
    {
     "name": "stdout",
     "output_type": "stream",
     "text": [
      "New data Set:  [11, 12, 13, 14, 15, 16, 17, 18, 19, 20, 21, 22, 23, 24, 25, 26, 27, 28, 29, 30, 31, 32, 33, 34, 35, 36, 37, 38, 39, 40, 41, 42, 43, 44, 45, 46, 47, 48, 49, 50]\n"
     ]
    }
   ],
   "source": [
    "#7. Write a Python program that uses the `filter()` function to select elements greater than a specified threshold from a list of values.\n",
    "l = range(1, 51)\n",
    "n = int(input(\"Enter a number to select elements greater than a specified threshold from a list of values : \"))\n",
    "\n",
    "fl = list(filter(lambda x : x > n , l))\n",
    "print(\"New data Set: \", fl)\n",
    "\n"
   ]
  },
  {
   "cell_type": "code",
   "execution_count": 48,
   "id": "f0f53aba-eec6-43b9-bbe9-d0b38d50fe6b",
   "metadata": {},
   "outputs": [
    {
     "data": {
      "text/plain": [
       "'\\nIteration will happend based on condition and collection of data for block\\nrecusion will happend based on condition and collection of the data on the method. Basically method is called by method itself.\\n'"
      ]
     },
     "execution_count": 48,
     "metadata": {},
     "output_type": "execute_result"
    }
   ],
   "source": [
    "#Recursion:-\n",
    "\n",
    "#1. Explain the concept of recursion in Python. How does it differ from iteration?\n",
    "'''\n",
    "Iteration will happend based on condition and collection of data for block\n",
    "recusion will happend based on condition and collection of the data on the method. Basically method is called by method itself.\n",
    "'''"
   ]
  },
  {
   "cell_type": "code",
   "execution_count": 11,
   "id": "660cf082-4268-47e1-aeaa-673bcaf84be0",
   "metadata": {},
   "outputs": [
    {
     "name": "stdout",
     "output_type": "stream",
     "text": [
      "Factorial of a number is : 720\n"
     ]
    }
   ],
   "source": [
    "#2. Write a Python program to calculate the factorial of a number using recursion.\n",
    "\n",
    "fact_num = lambda x : 1 if x <=1 else x * fact_num(x-1)\n",
    "\n",
    "print(\"Factorial of a number is :\", fact_num(6))\n"
   ]
  },
  {
   "cell_type": "code",
   "execution_count": 18,
   "id": "e8be15e8-138a-413e-8687-386e1824ea88",
   "metadata": {},
   "outputs": [
    {
     "name": "stdout",
     "output_type": "stream",
     "text": [
      "nth Fibonacci number : 5\n"
     ]
    }
   ],
   "source": [
    "#3. Create a recursive Python function to find the nth Fibonacci number.\n",
    "fib_num = lambda x : 1 if x <=1 else fib_num(x-1) + fib_num(x-2)\n",
    "\n",
    "print(\"nth Fibonacci number :\", fib_num(4))"
   ]
  },
  {
   "cell_type": "code",
   "execution_count": 7,
   "id": "7df4bfcd-127b-418f-9a6d-4582c4a2d71e",
   "metadata": {},
   "outputs": [
    {
     "name": "stdout",
     "output_type": "stream",
     "text": [
      "sum of the element from a list is:  1275\n"
     ]
    }
   ],
   "source": [
    "#4. Write a recursive Python function to calculate the sum of all elements in a list.\n",
    "l= range (1, 51)\n",
    "def recursive_sum(li, nsum):\n",
    "    if(len(li)):\n",
    "        return recursive_sum(li[1:], nsum+li[0])\n",
    "    else:\n",
    "        return nsum;\n",
    "print(\"sum of the element from a list is: \", recursive_sum(l, 0))"
   ]
  },
  {
   "cell_type": "code",
   "execution_count": 47,
   "id": "3e7c885b-abaf-4f8c-b827-6d6a0fa20bb9",
   "metadata": {},
   "outputs": [
    {
     "name": "stdout",
     "output_type": "stream",
     "text": [
      "5\n",
      "4\n",
      "3\n",
      "2\n"
     ]
    }
   ],
   "source": [
    "#5. How can you prevent a recursive function from running indefinitely, causing a stack overflow error?\n",
    "'''\n",
    "In order to prevent stack overflow error, you must have a base case where the function stops make new recursive calls. \n",
    "If there is no base case then the function calls will never stop and eventually a stack overflow error will occur\n",
    "'''\n",
    "#here is an example to not occure stack overflow error\n",
    "def recurring(n):\n",
    "    print(n)\n",
    "    if n == 2:\n",
    "        return\n",
    "    recurring(n - 1)\n",
    "\n",
    "recurring(5)"
   ]
  },
  {
   "cell_type": "code",
   "execution_count": 2,
   "id": "c3730dca-6931-4f60-8745-f9d2fe1f2d54",
   "metadata": {},
   "outputs": [
    {
     "name": "stdout",
     "output_type": "stream",
     "text": [
      "GCD of 12,4: 4\n"
     ]
    }
   ],
   "source": [
    "#6. Create a recursive Python function to find the greatest common divisor (GCD) of two numbers using the Euclidean algorithm.\n",
    "gcd= lambda a,b : a if b==0 else gcd(b,a%b) \n",
    "print(\"GCD of 12,4:\",gcd(12,4))"
   ]
  },
  {
   "cell_type": "code",
   "execution_count": 17,
   "id": "34d173b4-20a8-4dd1-8246-4ebe888fffdf",
   "metadata": {},
   "outputs": [
    {
     "name": "stdout",
     "output_type": "stream",
     "text": [
      "Reverse of a given strig is:  SLLIKSWP\n"
     ]
    }
   ],
   "source": [
    "#7. Write a recursive Python function to reverse a string.\n",
    "def reverse_string(sl, rstr):\n",
    "    if(len(sl)):\n",
    "        return reverse_string(sl[1:], sl[0]+rstr)\n",
    "    else:\n",
    "        return rstr;\n",
    "\n",
    "string = 'PWSKILLS'\n",
    "print(\"Reverse of a given strig is: \", reverse_string(list(string), ''))"
   ]
  },
  {
   "cell_type": "code",
   "execution_count": 5,
   "id": "f3c890e0-b5bc-4404-acc6-db101f0b5474",
   "metadata": {},
   "outputs": [
    {
     "name": "stdout",
     "output_type": "stream",
     "text": [
      " 4 power 4 is: 256\n"
     ]
    }
   ],
   "source": [
    "#8. Create a recursive Python function to calculate the power of a number (x^n).\n",
    "pow_of_num = lambda x, n : x if n <=1 else x * pow_of_num(x, n-1)\n",
    "print(\" 4 power 4 is:\", pow_of_num(4, 4))"
   ]
  },
  {
   "cell_type": "code",
   "execution_count": 43,
   "id": "8522c847-b795-4f02-9e2e-4be14a935534",
   "metadata": {},
   "outputs": [
    {
     "name": "stdout",
     "output_type": "stream",
     "text": [
      "SEP\n",
      "SPE\n",
      "ESP\n",
      "EPS\n",
      "PSE\n",
      "PES\n"
     ]
    }
   ],
   "source": [
    "#9. Write a recursive Python function to find all permutations of a given string.\n",
    "\n",
    "# Recursive function to generate all permutations of a string\n",
    "def str_permutations(string, s=''):\n",
    "    if len(string) == 0:\n",
    "        print(s)\n",
    " \n",
    "    for i in range(len(string)):\n",
    "        str1 = s + string[i]\n",
    "        str2 = string[0:i] + string[i+1:]\n",
    " \n",
    "        permutations(str2, str1)\n",
    "\n",
    "s = 'SEP'\n",
    "str_permutations(list(s))\n"
   ]
  },
  {
   "cell_type": "code",
   "execution_count": 14,
   "id": "2f40089b-abbc-4e3e-b894-e679bb0d2fd6",
   "metadata": {},
   "outputs": [
    {
     "name": "stdout",
     "output_type": "stream",
     "text": [
      "Is given string Palindrome :  True\n"
     ]
    }
   ],
   "source": [
    "#10. Write a recursive Python function to check if a string is a palindrome.\n",
    "def reverse_string(sl, rstr):\n",
    "    if(len(sl)):\n",
    "        return reverse_string(sl[1:], sl[0]+rstr)\n",
    "    else:\n",
    "        return rstr;\n",
    "\n",
    "string = 'madam'\n",
    "print(\"Is given string Palindrome : \", reverse_string(list(string), '') == string)"
   ]
  },
  {
   "cell_type": "code",
   "execution_count": 33,
   "id": "c701e267-9e6f-4b19-9754-4da81e038e0f",
   "metadata": {},
   "outputs": [
    {
     "name": "stdout",
     "output_type": "stream",
     "text": [
      "[[], [1], [2], [1, 2], [3], [1, 3], [2, 3], [1, 2, 3]]\n"
     ]
    }
   ],
   "source": [
    "#11. Create a recursive Python function to generate all possible combinations of a list of elements.\n",
    "def combinations(l):\n",
    "    if l:\n",
    "        result = combinations(l[:-1])\n",
    "        return result + [c + [l[-1]] for c in result]\n",
    "    else:\n",
    "        return [[]]\n",
    "\n",
    "print(combinations([1,2,3]))"
   ]
  },
  {
   "cell_type": "code",
   "execution_count": null,
   "id": "ad754d82-4b00-4eb7-aa3f-5f11aa29be47",
   "metadata": {},
   "outputs": [],
   "source": []
  },
  {
   "cell_type": "code",
   "execution_count": 32,
   "id": "44e18692-e8cb-44bd-bc4f-3a44cec9c2a8",
   "metadata": {},
   "outputs": [
    {
     "data": {
      "text/plain": [
       "\"\\n A function is a block of code which only runs when it is called. \\n It's used for code reusablitity\\n\""
      ]
     },
     "execution_count": 32,
     "metadata": {},
     "output_type": "execute_result"
    }
   ],
   "source": [
    "\n",
    "#Basics of Functions:\n",
    "\n",
    "#1. What is a function in Python, and why is it used?\n",
    "'''\n",
    " A function is a block of code which only runs when it is called. \n",
    " It's used for code reusablitity\n",
    "'''\n"
   ]
  },
  {
   "cell_type": "code",
   "execution_count": 31,
   "id": "debdbb68-bbf5-4a42-81a3-edd582eb1470",
   "metadata": {},
   "outputs": [
    {
     "name": "stdout",
     "output_type": "stream",
     "text": [
      "sum of two numbers are:  5\n"
     ]
    }
   ],
   "source": [
    "#2. How do you define a function in Python? Provide an example.\n",
    "'''\n",
    " Function definition would be start with def keywoard and name of the function then args/params\n",
    " If required to return value from a fuction is have to the return keyword.\n",
    "'''\n",
    "\n",
    "def sum_nums(a, b):\n",
    "    return a+b\n",
    "print(\"sum of two numbers are: \", sum_nums(2, 3))"
   ]
  },
  {
   "cell_type": "code",
   "execution_count": 30,
   "id": "68eb649a-8d3a-42c5-8ed6-5a74b79a67af",
   "metadata": {},
   "outputs": [
    {
     "data": {
      "text/plain": [
       "'\\n A function is a piece of code which enhanced the reusability and \\n modularity of your program. It means that piece of code need not be written again. \\n A function call means invoking or calling that function. Unless a function is called \\n there is no use of that function\\n'"
      ]
     },
     "execution_count": 30,
     "metadata": {},
     "output_type": "execute_result"
    }
   ],
   "source": [
    "#3. Explain the difference between a function definition and a function call.\n",
    "\n",
    "\"\"\"\n",
    " A function is a piece of code which enhanced the reusability and \n",
    " modularity of your program. It means that piece of code need not be written again. \n",
    " A function call means invoking or calling that function. Unless a function is called \n",
    " there is no use of that function\n",
    "\"\"\"\n"
   ]
  },
  {
   "cell_type": "code",
   "execution_count": null,
   "id": "311db214-7b66-468e-9477-48e26252525c",
   "metadata": {},
   "outputs": [],
   "source": [
    "#4. Write a Python program that defines a function to calculate the sum of two numbers and then calls the function.\n",
    "\n",
    "def sum_nums(a, b):  #Method definition\n",
    "    return a+b\n",
    "sum_val = sum_nums(2, 3) #function call\n",
    "print(\"sum of two numbers are: \", sum_val)\n",
    "\n"
   ]
  },
  {
   "cell_type": "code",
   "execution_count": 28,
   "id": "fc3fd12d-c497-41fb-b1f3-196a86b7c715",
   "metadata": {},
   "outputs": [
    {
     "data": {
      "text/plain": [
       "'\\n A function signature consists of the function prototype. It specifies the general information about a function like the name, scope and parameters\\n'"
      ]
     },
     "execution_count": 28,
     "metadata": {},
     "output_type": "execute_result"
    }
   ],
   "source": [
    "#5. What is a function signature, and what information does it typically include?\n",
    "'''\n",
    " A function signature consists of the function prototype. It specifies the general information about a function like the name, scope and parameters\n",
    "'''"
   ]
  },
  {
   "cell_type": "code",
   "execution_count": 18,
   "id": "fc18a303-b14d-4fb5-9adc-5e511573d962",
   "metadata": {},
   "outputs": [
    {
     "name": "stdout",
     "output_type": "stream",
     "text": [
      "product of two numbers are:  6\n"
     ]
    }
   ],
   "source": [
    "#6. Create a Python function that takes two arguments and returns their product.\n",
    "def mul_nums(a, b):  #Method definition\n",
    "    return a*b\n",
    "val = mul_nums(2, 3) #function call\n",
    "print(\"product of two numbers are: \", val)"
   ]
  },
  {
   "cell_type": "code",
   "execution_count": 21,
   "id": "fb94389f-002c-4bee-8ca0-a5575dc8a032",
   "metadata": {},
   "outputs": [
    {
     "data": {
      "text/plain": [
       "'\\nActual Parameters are values supplied to the function when it is invoked, \\nwhereas Formal Parameters are variables declared by the function that get values \\nwhen the function is called.\\n'"
      ]
     },
     "execution_count": 21,
     "metadata": {},
     "output_type": "execute_result"
    }
   ],
   "source": [
    "#Function Parameters and Arguments:\n",
    "\n",
    "#1. Explain the concepts of formal parameters and actual arguments in Python functions.\n",
    "'''\n",
    "Actual Parameters are values supplied to the function when it is invoked, \n",
    "whereas Formal Parameters are variables declared by the function that get values \n",
    "when the function is called.\n",
    "'''\n",
    "\n"
   ]
  },
  {
   "cell_type": "code",
   "execution_count": 20,
   "id": "f2954e2e-e3b7-444d-bbf0-9899ad01b35b",
   "metadata": {},
   "outputs": [
    {
     "name": "stdout",
     "output_type": "stream",
     "text": [
      "product of two numbers are : 8\n",
      "product of two numbers are : 6\n"
     ]
    }
   ],
   "source": [
    "#2. Write a Python program that defines a function with default argument values.\n",
    "\n",
    "def mult_val(a=2, b=3):\n",
    "    return a*b\n",
    "print(\"product of two numbers are :\", mult_val(2,4))\n",
    "print(\"product of two numbers are :\", mult_val(2))"
   ]
  },
  {
   "cell_type": "code",
   "execution_count": 24,
   "id": "1d5c6a20-7fb6-4f10-a648-d8737bd3dbd5",
   "metadata": {},
   "outputs": [
    {
     "name": "stdout",
     "output_type": "stream",
     "text": [
      "My string\n"
     ]
    }
   ],
   "source": [
    "#3. How do you use keyword arguments in Python function calls? Provide an example.\n",
    "def printme( str ):\n",
    "    \"This prints a passed string into this function\"\n",
    "    print(str)\n",
    "    return;\n",
    "# Now you can call printme function\n",
    "printme( str = \"My string\")\n",
    "\n"
   ]
  },
  {
   "cell_type": "code",
   "execution_count": 22,
   "id": "66167439-441b-47f0-892f-979becc98183",
   "metadata": {},
   "outputs": [
    {
     "name": "stdout",
     "output_type": "stream",
     "text": [
      "Sum of the numbers is:  55\n"
     ]
    }
   ],
   "source": [
    "#4. Create a Python function that accepts a variable number of arguments and calculates their sum.\n",
    "\n",
    "def sum_args(*nums):\n",
    "    return(sum(nums))\n",
    "\n",
    "print(\"Sum of the numbers is: \", sum_args(1,2,3,4,5,6,7,8,9,10))\n",
    "    "
   ]
  },
  {
   "cell_type": "code",
   "execution_count": 3,
   "id": "3ad5e342-26cb-4a5d-9fab-94fc2fb04714",
   "metadata": {},
   "outputs": [],
   "source": [
    "#5. What is the purpose of the `*args` and `**kwargs` syntax in function parameter lists?\n",
    "'''\n",
    "*args passes variable number of non-keyworded arguments and \n",
    "on which operation of the tuple can be performed. **kwargs passes variable \n",
    "number of keyword arguments dictionary to function on which operation of a \n",
    "dictionary can be performed.\n",
    "'''\n",
    "\n",
    "def fun_keys(*keys):\n",
    "    sum(keys)\n",
    "    \n",
    "def fun_kwards(**keys):\n",
    "    print(eys)"
   ]
  },
  {
   "cell_type": "code",
   "execution_count": 24,
   "id": "2a7e5e01-1c48-4d85-8e1f-657a46ab8d7e",
   "metadata": {},
   "outputs": [
    {
     "name": "stdout",
     "output_type": "stream",
     "text": [
      "Product of two numbers is: 40\n"
     ]
    }
   ],
   "source": [
    "#Return Values and Scoping:\n",
    "\n",
    "#1. Describe the role of the `return` statement in Python functions and provide examples.\n",
    "'''\n",
    "    return statement is used give a value. \n",
    "'''\n",
    "\n",
    "def multiply(a, b):\n",
    "    return a*b\n",
    "mul_val = multiply(4,10)\n",
    "print(\"Product of two numbers is:\", mul_val)\n"
   ]
  },
  {
   "cell_type": "code",
   "execution_count": 25,
   "id": "68394d75-099d-4fce-8dcb-f27e87174bcf",
   "metadata": {},
   "outputs": [
    {
     "data": {
      "text/plain": [
       "'\\nVariables that are defined inside a function body have a local scope, \\nand those defined outside have a global scope\\n\\n'"
      ]
     },
     "execution_count": 25,
     "metadata": {},
     "output_type": "execute_result"
    }
   ],
   "source": [
    "#2. Explain the concept of variable scope in Python, including local and global variables.\n",
    "'''\n",
    "Variables that are defined inside a function body have a local scope, \n",
    "and those defined outside have a global scope\n",
    "\n",
    "'''\n"
   ]
  },
  {
   "cell_type": "code",
   "execution_count": 2,
   "id": "267a3157-6020-48a6-99b7-6cea9c7b19bb",
   "metadata": {},
   "outputs": [
    {
     "name": "stdout",
     "output_type": "stream",
     "text": [
      "Local variable value:  20\n",
      "Global variable value: 50\n"
     ]
    }
   ],
   "source": [
    "#3. Write a Python program that demonstrates the use of global variables within functions.\n",
    "n1 = 50\n",
    "def fun_scope():\n",
    "    n1= 20\n",
    "    print(\"Local variable value: \", n1)\n",
    "\n",
    "fun_scope()\n",
    "print(\"Global variable value:\", n1)"
   ]
  },
  {
   "cell_type": "code",
   "execution_count": 4,
   "id": "1eb5a3dc-2158-4589-b2d5-bf2b35776041",
   "metadata": {},
   "outputs": [
    {
     "name": "stdout",
     "output_type": "stream",
     "text": [
      "Factorial of 5 is:  120\n"
     ]
    }
   ],
   "source": [
    "#4. Create a Python function that calculates the factorial of a number and returns it.\n",
    "\n",
    "def fact(n):\n",
    "    if n <=1:\n",
    "        return 1\n",
    "    else:\n",
    "        return n * fact(n-1)\n",
    "print(\"Factorial of 5 is: \", fact(5))"
   ]
  },
  {
   "cell_type": "code",
   "execution_count": 7,
   "id": "b3469419-4b82-4c34-bcba-ed617b646783",
   "metadata": {},
   "outputs": [
    {
     "name": "stdout",
     "output_type": "stream",
     "text": [
      "value of global variable is:  10\n",
      "value for a passed varible is:  50\n"
     ]
    }
   ],
   "source": [
    "#5. How can you access variables defined outside a function from within the function?\n",
    "'''\n",
    "    There are 2 ways to access the varialble defined outside a function \n",
    "    1. that should be defined before calling a function\n",
    "    2. by passing an argument to a method.\n",
    "'''\n",
    "# example for first one\n",
    "def func():\n",
    "    print(\"value of global variable is: \", global_val)\n",
    "\n",
    "global_val = 10\n",
    "func()\n",
    "\n",
    "def funct(a):\n",
    "    print(\"value for a passed varible is: \", a)\n",
    "    \n",
    "funct(50)"
   ]
  },
  {
   "cell_type": "code",
   "execution_count": 14,
   "id": "3445fc08-a67e-436f-80dc-011bbe616c0b",
   "metadata": {},
   "outputs": [
    {
     "data": {
      "text/plain": [
       "'\\nA function with out name is called a lambda functions\\nLambda functions typically used whenever you want to create a function that will only contain simple expressions.\\n'"
      ]
     },
     "execution_count": 14,
     "metadata": {},
     "output_type": "execute_result"
    }
   ],
   "source": [
    "#Lambda Functions and Higher-Order Functions:\n",
    "\n",
    "#1. What are lambda functions in Python, and when are they typically used?\n",
    "'''\n",
    "A function with out name is called a lambda functions\n",
    "Lambda functions typically used whenever you want to create a function that will only contain simple expressions.\n",
    "'''\n"
   ]
  },
  {
   "cell_type": "code",
   "execution_count": 12,
   "id": "42dd8940-8e76-4898-9401-932d7648f0f0",
   "metadata": {},
   "outputs": [
    {
     "name": "stdout",
     "output_type": "stream",
     "text": [
      "[('Social', 82), ('English', 88), ('Science', 90), ('Maths', 97)]\n"
     ]
    }
   ],
   "source": [
    "#2. Write a Python program that uses lambda functions to sort a list of tuples based on the second element.\n",
    "from functools import reduce\n",
    "subject_marks = [('English', 88), ('Science', 90), ('Maths', 97), ('Social', 82)]\n",
    "\n",
    "sort_marks = lambda x: x[1]\n",
    "\n",
    "print(sorted(subject_marks, key=sort_marks))"
   ]
  },
  {
   "cell_type": "code",
   "execution_count": 13,
   "id": "ef7b354f-1441-44b4-9572-2cd964c41fde",
   "metadata": {},
   "outputs": [
    {
     "data": {
      "text/plain": [
       "'\\nHigher-order functions are functions that take a function as a parameter and/or return a function as an output. \\nA few useful higher-order functions are map() , filter() , and reduce() . map() and filter() are built-in functions, \\nwhereas reduce() is contained in functools() module.\\n'"
      ]
     },
     "execution_count": 13,
     "metadata": {},
     "output_type": "execute_result"
    }
   ],
   "source": [
    "#3. Explain the concept of higher-order functions in Python, and provide an example.\n",
    "'''\n",
    "Higher-order functions are functions that take a function as a parameter and/or return a function as an output. \n",
    "A few useful higher-order functions are map() , filter() , and reduce() . map() and filter() are built-in functions, \n",
    "whereas reduce() is contained in functools() module.\n",
    "'''"
   ]
  },
  {
   "cell_type": "code",
   "execution_count": 29,
   "id": "2e181f21-ef0c-4cc5-950e-64f7487143b0",
   "metadata": {},
   "outputs": [
    {
     "name": "stdout",
     "output_type": "stream",
     "text": [
      "1 4 3 8 5 12 7 16 9 20 11 24 13 28 15 32 17 36 19 40 21 44 23 48 25 52 27 56 29 60 31 64 33 68 35 72 37 76 39 80 41 84 43 88 45 92 47 96 49 "
     ]
    }
   ],
   "source": [
    "#4. Create a Python function that takes a list of numbers and a function as arguments, applying the function to each element in the list.\n",
    "lambda_multi_2_even = lambda x : x * 2 if x % 2 == 0 else x\n",
    "\n",
    "\n",
    "def func_ex(l, func):\n",
    "    for n in l:\n",
    "        print(func(n), end=\" \")\n",
    "        \n",
    "l1 = range(1, 50)\n",
    "func_ex(l1, lambda_multi_2_even)"
   ]
  },
  {
   "cell_type": "code",
   "execution_count": null,
   "id": "218d4467-e518-4cc5-a6cf-9ee1253b1204",
   "metadata": {},
   "outputs": [],
   "source": [
    "#Built-in Functions:\n",
    "\n",
    "#Describe the role of built-in functions like `len()`, `max()`, and `min()` in Python.\n",
    "'''\n",
    "len() function will give us no of elements or chars from a given data.\n",
    "max() fucntion will return maximum number from given collection\n",
    "min() fucntion will return minimum number from given collection\n",
    "'''"
   ]
  },
  {
   "cell_type": "code",
   "execution_count": 30,
   "id": "acdb21b4-2aa2-4990-bbf6-d2a83318ae77",
   "metadata": {},
   "outputs": [
    {
     "name": "stdout",
     "output_type": "stream",
     "text": [
      "['1: odd', '2: even', '3: odd', '4: even', '5: odd', '6: even', '7: odd', '8: even', '9: odd', '10: even']\n"
     ]
    }
   ],
   "source": [
    "\n",
    "#Write a Python program that uses the `map()` function to apply a function to each element of a list.\n",
    "l = range(1, 11)\n",
    "\n",
    "print(list(map(lambda x : f\"{x}: even\" if x % 2 == 0 else f\"{x}: odd\", l))) \n"
   ]
  },
  {
   "cell_type": "code",
   "execution_count": 26,
   "id": "454e8fb6-36a0-4931-a9b5-b4fef8ca9548",
   "metadata": {},
   "outputs": [
    {
     "data": {
      "text/plain": [
       "'\\nfilter() function is used to get whole data or part of given data based given condition.\\n'"
      ]
     },
     "execution_count": 26,
     "metadata": {},
     "output_type": "execute_result"
    }
   ],
   "source": [
    "#How does the `filter()` function work in Python, and when would you use it?\n",
    "'''\n",
    "filter() function is used to get whole data or part of given data based given condition.\n",
    "'''"
   ]
  },
  {
   "cell_type": "code",
   "execution_count": 34,
   "id": "3450ee26-7c74-43bd-bff7-555ef5a0dbfe",
   "metadata": {},
   "outputs": [
    {
     "name": "stdout",
     "output_type": "stream",
     "text": [
      "120\n"
     ]
    }
   ],
   "source": [
    "#Create a Python program that uses the `reduce()` function to find the product of all elements in a list.\n",
    "l = range(1, 6)\n",
    "print(reduce(lambda x,y: x * y, l, 1))"
   ]
  },
  {
   "cell_type": "code",
   "execution_count": 3,
   "id": "5c4b331c-2975-4e38-8557-66813fe4bc3a",
   "metadata": {},
   "outputs": [],
   "source": [
    "#Function Documentation and Best Practices:\n",
    "\n",
    "#1. Explain the purpose of docstrings in Python functions and how to write them.\n",
    "'''\n",
    "Docstrings provide a convenient way of associating documentation for functions. \n",
    "'''\n",
    "\n",
    "def funct_add(a, b):\n",
    "    '''\n",
    "    funct_add is used for addition of two variable, and return a addition of both arguments\n",
    "    '''\n",
    "    return a + b\n"
   ]
  },
  {
   "cell_type": "code",
   "execution_count": 4,
   "id": "5db1d3aa-967b-41af-bf72-dbee0ae17a19",
   "metadata": {},
   "outputs": [
    {
     "data": {
      "text/plain": [
       "5"
      ]
     },
     "execution_count": 4,
     "metadata": {},
     "output_type": "execute_result"
    }
   ],
   "source": [
    "funct_add(2,3)"
   ]
  },
  {
   "cell_type": "code",
   "execution_count": 5,
   "id": "3adee8f4-ef49-4a70-ba91-303a176aed98",
   "metadata": {},
   "outputs": [
    {
     "data": {
      "text/plain": [
       "\"\\nVariable Naming Conventions\\nVariables should always start with a lower-case character.\\nUse underscores instead of spaces to separate words.\\nDon't use upper-case characters.\\nStarting with underscores is ok, but is used for a special purpose.\\n\""
      ]
     },
     "execution_count": 5,
     "metadata": {},
     "output_type": "execute_result"
    }
   ],
   "source": [
    "#2. Describe some best practices for naming functions and variables in Python, including naming conventions and guidelines.\n",
    "'''\n",
    "Variable Naming Conventions\n",
    "Variables should always start with a lower-case character.\n",
    "Use underscores instead of spaces to separate words.\n",
    "Don't use upper-case characters.\n",
    "Starting with underscores is ok, but is used for a special purpose.\n",
    "'''"
   ]
  },
  {
   "cell_type": "code",
   "execution_count": null,
   "id": "7808bbaa-19ed-4384-920f-86f72fdd7868",
   "metadata": {},
   "outputs": [],
   "source": []
  },
  {
   "cell_type": "code",
   "execution_count": null,
   "id": "fd0eeef0-8bdd-4fe8-bc66-6c17a4cef625",
   "metadata": {},
   "outputs": [],
   "source": []
  },
  {
   "cell_type": "code",
   "execution_count": null,
   "id": "b5cb0122-cad9-4015-acf9-33a5445d2246",
   "metadata": {},
   "outputs": [],
   "source": []
  }
 ],
 "metadata": {
  "kernelspec": {
   "display_name": "Python 3 (ipykernel)",
   "language": "python",
   "name": "python3"
  },
  "language_info": {
   "codemirror_mode": {
    "name": "ipython",
    "version": 3
   },
   "file_extension": ".py",
   "mimetype": "text/x-python",
   "name": "python",
   "nbconvert_exporter": "python",
   "pygments_lexer": "ipython3",
   "version": "3.10.8"
  }
 },
 "nbformat": 4,
 "nbformat_minor": 5
}
