{
 "cells": [
  {
   "cell_type": "code",
   "execution_count": 39,
   "id": "a234a9de-bebc-4034-b16b-4353e070db4a",
   "metadata": {},
   "outputs": [],
   "source": [
    "#swapping two numbers with out using temparorty variable"
   ]
  },
  {
   "cell_type": "code",
   "execution_count": 27,
   "id": "3812b309-68f8-40cb-9d1b-095b5fbe33af",
   "metadata": {},
   "outputs": [],
   "source": [
    "x = 10"
   ]
  },
  {
   "cell_type": "code",
   "execution_count": 28,
   "id": "65bd8c16-f005-49ca-b652-768c30ec0016",
   "metadata": {},
   "outputs": [],
   "source": [
    "y = 20"
   ]
  },
  {
   "cell_type": "code",
   "execution_count": 29,
   "id": "1a439069-015a-456e-965f-d9a2bc143369",
   "metadata": {},
   "outputs": [],
   "source": [
    "x = x + y"
   ]
  },
  {
   "cell_type": "code",
   "execution_count": 30,
   "id": "21e26b4f-0af9-4a1c-8a8d-9d6893489c24",
   "metadata": {},
   "outputs": [],
   "source": [
    "y = x - y"
   ]
  },
  {
   "cell_type": "code",
   "execution_count": 33,
   "id": "39f023fb-0277-48de-a814-4342e56eac52",
   "metadata": {},
   "outputs": [],
   "source": [
    "x = x - y "
   ]
  },
  {
   "cell_type": "code",
   "execution_count": 38,
   "id": "4e50d11a-f13d-4853-bfbc-c6e7b8c63fd6",
   "metadata": {},
   "outputs": [
    {
     "name": "stdout",
     "output_type": "stream",
     "text": [
      "x value:  20 \n",
      "Y value:  10\n"
     ]
    }
   ],
   "source": [
    "print(\"x value: \", x, \"\\nY value: \", y)"
   ]
  },
  {
   "cell_type": "code",
   "execution_count": 40,
   "id": "6e096e98-43cc-4697-b7c8-1b0e62d9ff8b",
   "metadata": {},
   "outputs": [],
   "source": [
    "#Find an area of rectangle from user input"
   ]
  },
  {
   "cell_type": "code",
   "execution_count": 44,
   "id": "c96e0f62-f749-4c6b-ae5b-f74a8bffe8d9",
   "metadata": {},
   "outputs": [
    {
     "name": "stdin",
     "output_type": "stream",
     "text": [
      "Enter length of rectangle: 40\n"
     ]
    }
   ],
   "source": [
    "l = int(input(\"Enter length of rectangle:\"))"
   ]
  },
  {
   "cell_type": "code",
   "execution_count": 42,
   "id": "941858c3-909d-4268-afbc-3fb033b4b0ef",
   "metadata": {},
   "outputs": [
    {
     "name": "stdin",
     "output_type": "stream",
     "text": [
      "Enter width of a rectangle: 30\n"
     ]
    }
   ],
   "source": [
    "w =  int(input(\"Enter width of a rectangle:\"))"
   ]
  },
  {
   "cell_type": "code",
   "execution_count": 45,
   "id": "999e6493-1635-4f19-9072-326689b1359a",
   "metadata": {},
   "outputs": [
    {
     "name": "stdout",
     "output_type": "stream",
     "text": [
      "Area of given rectangle is:  1200\n"
     ]
    }
   ],
   "source": [
    "print(\"Area of given rectangle is: \", l * w)"
   ]
  },
  {
   "cell_type": "code",
   "execution_count": 46,
   "id": "756386e1-d03a-4152-9878-187b7dc5f4f6",
   "metadata": {},
   "outputs": [],
   "source": [
    "#convert a temparature from Celsius to Fahrenheit\n"
   ]
  },
  {
   "cell_type": "code",
   "execution_count": 47,
   "id": "d706eef2-a45e-48e9-8605-fdaa6473ba0c",
   "metadata": {},
   "outputs": [
    {
     "name": "stdin",
     "output_type": "stream",
     "text": [
      "Enter temparature to convert to Fahrenheit: 32\n"
     ]
    }
   ],
   "source": [
    "c = float(input(\"Enter temparature to convert to Fahrenheit:\"))"
   ]
  },
  {
   "cell_type": "code",
   "execution_count": 50,
   "id": "1d47814e-3227-416d-ba73-f899bd4ed8aa",
   "metadata": {},
   "outputs": [
    {
     "name": "stdout",
     "output_type": "stream",
     "text": [
      "Fahrenheit from the celsius:  89.6\n"
     ]
    }
   ],
   "source": [
    "print(\"Fahrenheit from the celsius: \",  (c * 9/5) + 32) "
   ]
  },
  {
   "cell_type": "code",
   "execution_count": 51,
   "id": "19f08794-bb14-4ff2-ac7b-1a91dc434626",
   "metadata": {},
   "outputs": [],
   "source": [
    "#Program to find a a length of given string"
   ]
  },
  {
   "cell_type": "code",
   "execution_count": 52,
   "id": "d607481f-963f-46f8-a433-d6c5ce0002ca",
   "metadata": {},
   "outputs": [
    {
     "name": "stdin",
     "output_type": "stream",
     "text": [
      "Enter a string to find it's length: Hello, world!. how are you?\n"
     ]
    }
   ],
   "source": [
    "s = input(\"Enter a string to find it's length:\")"
   ]
  },
  {
   "cell_type": "code",
   "execution_count": 53,
   "id": "02884366-714c-491c-aa7f-f4d32ae9dab4",
   "metadata": {},
   "outputs": [
    {
     "name": "stdout",
     "output_type": "stream",
     "text": [
      "Length of given string: 27\n"
     ]
    }
   ],
   "source": [
    "print(\"Length of given string:\", len(s))"
   ]
  },
  {
   "cell_type": "code",
   "execution_count": 54,
   "id": "7246ec71-757b-4383-945f-0b8c05a9c282",
   "metadata": {},
   "outputs": [],
   "source": [
    "#Program to count the number of vowels from the given string\n"
   ]
  },
  {
   "cell_type": "code",
   "execution_count": 55,
   "id": "66d2ef6f-bfac-450f-9aee-2b4c75298edb",
   "metadata": {},
   "outputs": [
    {
     "name": "stdin",
     "output_type": "stream",
     "text": [
      "Enter a string to find out the vowels:  Hello, World!, how are you?\n"
     ]
    }
   ],
   "source": [
    "s = input(\"Enter a string to find out the vowels: \")"
   ]
  },
  {
   "cell_type": "code",
   "execution_count": 64,
   "id": "002bd66e-cac7-42f3-91b8-1779fc3c9c5a",
   "metadata": {},
   "outputs": [
    {
     "name": "stdout",
     "output_type": "stream",
     "text": [
      "Number of 'a's are: 1\n"
     ]
    }
   ],
   "source": [
    "print(\"Number of 'a's are:\", s.count('a') + s.count('A'))"
   ]
  },
  {
   "cell_type": "code",
   "execution_count": 65,
   "id": "318fa98c-c567-4e96-b65e-5883352673e4",
   "metadata": {},
   "outputs": [
    {
     "name": "stdout",
     "output_type": "stream",
     "text": [
      "Number of 'e's are: 2\n"
     ]
    }
   ],
   "source": [
    "print(\"Number of 'e's are:\", s.count('e') + s.count('E') )"
   ]
  },
  {
   "cell_type": "code",
   "execution_count": 66,
   "id": "117018b3-31b0-4c48-804b-e3c3abae096d",
   "metadata": {},
   "outputs": [
    {
     "name": "stdout",
     "output_type": "stream",
     "text": [
      "Number of 'i's are: 0\n"
     ]
    }
   ],
   "source": [
    "print(\"Number of 'i's are:\", s.count('i') + s.count('I'))"
   ]
  },
  {
   "cell_type": "code",
   "execution_count": 67,
   "id": "af5d621f-6ad2-4bf3-b68a-2c95bb6adb2b",
   "metadata": {},
   "outputs": [
    {
     "name": "stdout",
     "output_type": "stream",
     "text": [
      "Number of 'o's are: 4\n"
     ]
    }
   ],
   "source": [
    "print(\"Number of 'o's are:\", s.count('o') + s.count('O'))"
   ]
  },
  {
   "cell_type": "code",
   "execution_count": 68,
   "id": "4e443884-b1c8-4fc8-9093-757881cd21ee",
   "metadata": {},
   "outputs": [
    {
     "name": "stdout",
     "output_type": "stream",
     "text": [
      "Number of 'u's are: 1\n"
     ]
    }
   ],
   "source": [
    "print(\"Number of 'u's are:\", s.count('u') + s.count('U'))"
   ]
  },
  {
   "cell_type": "code",
   "execution_count": 69,
   "id": "f5d2c78b-e344-4ac0-8045-d612b1c32fd5",
   "metadata": {},
   "outputs": [],
   "source": [
    "no_of_vowels = s.count('a') + s.count('A') + s.count('e') + s.count('E') + s.count('i') + s.count('I') + s.count('o') + s.count('O') + s.count('u') + s.count('U')"
   ]
  },
  {
   "cell_type": "code",
   "execution_count": 70,
   "id": "432d8e13-5a32-4ec0-8af4-662d94b05876",
   "metadata": {},
   "outputs": [
    {
     "name": "stdout",
     "output_type": "stream",
     "text": [
      "Number of ('a','e','i','o','u') are: 8\n"
     ]
    }
   ],
   "source": [
    "print(\"Number of ('a','e','i','o','u') are:\", no_of_vowels)"
   ]
  },
  {
   "cell_type": "code",
   "execution_count": 71,
   "id": "379b1216-eb6b-49fa-ada6-1dbc06561188",
   "metadata": {},
   "outputs": [],
   "source": [
    "#Program to reverse a string by using slice"
   ]
  },
  {
   "cell_type": "code",
   "execution_count": 72,
   "id": "f1d2520e-1bf8-4ede-82ed-45067ea15f25",
   "metadata": {},
   "outputs": [
    {
     "name": "stdin",
     "output_type": "stream",
     "text": [
      "Enter a string to make reverse:  Hello, World!, How are you?\n"
     ]
    }
   ],
   "source": [
    "s = input(\"Enter a string to make reverse: \")"
   ]
  },
  {
   "cell_type": "code",
   "execution_count": 73,
   "id": "0cb51dcf-2614-42aa-b09b-620afc39947f",
   "metadata": {},
   "outputs": [
    {
     "name": "stdout",
     "output_type": "stream",
     "text": [
      "Here the reversed string:  ?uoy era woH ,!dlroW ,olleH\n"
     ]
    }
   ],
   "source": [
    "print(\"Here the reversed string: \", s[::-1])"
   ]
  },
  {
   "cell_type": "code",
   "execution_count": 74,
   "id": "ed656966-2814-4692-acd0-ce0e383660d0",
   "metadata": {},
   "outputs": [],
   "source": [
    "#Program for a palindrome"
   ]
  },
  {
   "cell_type": "code",
   "execution_count": 75,
   "id": "db6ea563-de28-4a4b-b56a-97bf44b32682",
   "metadata": {},
   "outputs": [
    {
     "name": "stdin",
     "output_type": "stream",
     "text": [
      "Enter a string:  Hello\n"
     ]
    }
   ],
   "source": [
    "s = input(\"Enter a string: \")"
   ]
  },
  {
   "cell_type": "code",
   "execution_count": 76,
   "id": "beafd693-d7ce-4b5e-bc5f-329027dc6c73",
   "metadata": {},
   "outputs": [
    {
     "name": "stdout",
     "output_type": "stream",
     "text": [
      "Is a given string polindrome:  False\n"
     ]
    }
   ],
   "source": [
    "print(\"Is a given string polindrome: \", s == s[::-1])"
   ]
  },
  {
   "cell_type": "code",
   "execution_count": 77,
   "id": "0c9f9b31-3d58-4b8c-bada-9d36be1bc8f4",
   "metadata": {},
   "outputs": [
    {
     "name": "stdin",
     "output_type": "stream",
     "text": [
      "Enter a string:  madam\n"
     ]
    }
   ],
   "source": [
    "s = input(\"Enter a string: \")"
   ]
  },
  {
   "cell_type": "code",
   "execution_count": 78,
   "id": "502f0068-8a87-4993-9075-b915f0a88a7a",
   "metadata": {},
   "outputs": [
    {
     "name": "stdout",
     "output_type": "stream",
     "text": [
      "Is a given string polindrome:  True\n"
     ]
    }
   ],
   "source": [
    "print(\"Is a given string polindrome: \", s == s[::-1])"
   ]
  },
  {
   "cell_type": "code",
   "execution_count": 80,
   "id": "a3ff3bb4-8b17-4f6a-ac85-1cfca6a4d64a",
   "metadata": {},
   "outputs": [],
   "source": [
    "#Write a program to remove a spaces from the given string"
   ]
  },
  {
   "cell_type": "code",
   "execution_count": 81,
   "id": "5ac0f13e-4e38-4294-ac4b-177da7433514",
   "metadata": {},
   "outputs": [
    {
     "name": "stdin",
     "output_type": "stream",
     "text": [
      "Enter a string:  Hello, World!, How are you?\n"
     ]
    }
   ],
   "source": [
    "s = input(\"Enter a string: \")"
   ]
  },
  {
   "cell_type": "code",
   "execution_count": 82,
   "id": "d9c8d3e9-9817-4c48-9329-b728234c12b1",
   "metadata": {},
   "outputs": [
    {
     "name": "stdout",
     "output_type": "stream",
     "text": [
      "Here the string without spaces for a given string:  Hello,World!,Howareyou?\n"
     ]
    }
   ],
   "source": [
    "print(\"Here the string without spaces for a given string: \", s.replace(' ', ''))"
   ]
  },
  {
   "cell_type": "code",
   "execution_count": null,
   "id": "886897ca-e2d3-403d-a865-c1fbede4de64",
   "metadata": {},
   "outputs": [],
   "source": []
  }
 ],
 "metadata": {
  "kernelspec": {
   "display_name": "Python 3 (ipykernel)",
   "language": "python",
   "name": "python3"
  },
  "language_info": {
   "codemirror_mode": {
    "name": "ipython",
    "version": 3
   },
   "file_extension": ".py",
   "mimetype": "text/x-python",
   "name": "python",
   "nbconvert_exporter": "python",
   "pygments_lexer": "ipython3",
   "version": "3.10.8"
  }
 },
 "nbformat": 4,
 "nbformat_minor": 5
}
