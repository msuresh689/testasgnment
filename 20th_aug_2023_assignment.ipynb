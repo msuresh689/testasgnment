{
 "cells": [
  {
   "cell_type": "code",
   "execution_count": 1,
   "id": "26d7f125-2075-4bac-a1e8-c6c9ce53a17e",
   "metadata": {},
   "outputs": [],
   "source": [
    "# 1.Write a program to reverse a string."
   ]
  },
  {
   "cell_type": "code",
   "execution_count": 2,
   "id": "a3afd262-230c-414c-b96f-c571b3fb0b8c",
   "metadata": {},
   "outputs": [
    {
     "data": {
      "text/plain": [
       "'.gnirts a esrever ot margorp a etirW'"
      ]
     },
     "execution_count": 2,
     "metadata": {},
     "output_type": "execute_result"
    }
   ],
   "source": [
    "s = \"Write a program to reverse a string.\"\n",
    "s[::-1]"
   ]
  },
  {
   "cell_type": "code",
   "execution_count": 3,
   "id": "e85d43f9-ca3f-4e5d-919b-c504a2858fd1",
   "metadata": {},
   "outputs": [],
   "source": [
    "# 2. Check if a string is a palindrome."
   ]
  },
  {
   "cell_type": "code",
   "execution_count": 6,
   "id": "ef22780c-ab7f-4333-99c2-0741f0c69f02",
   "metadata": {},
   "outputs": [
    {
     "name": "stdout",
     "output_type": "stream",
     "text": [
      "Is given string a palindrome:  True\n"
     ]
    }
   ],
   "source": [
    "s = \"madam\"\n",
    "print(\"Is given string a palindrome: \", s == s[::-1])"
   ]
  },
  {
   "cell_type": "code",
   "execution_count": 7,
   "id": "51dcac51-4639-4ea4-9a42-9f72f1d8de62",
   "metadata": {},
   "outputs": [],
   "source": [
    "# 3.Convert a string to uppercase."
   ]
  },
  {
   "cell_type": "code",
   "execution_count": 10,
   "id": "a8aff68e-3887-4d59-ae01-585f811ca57b",
   "metadata": {},
   "outputs": [
    {
     "name": "stdin",
     "output_type": "stream",
     "text": [
      "Provide a string to make that upper:  Convert a string to uppercase.\n"
     ]
    },
    {
     "name": "stdout",
     "output_type": "stream",
     "text": [
      "Given string in Upper: CONVERT A STRING TO UPPERCASE.\n"
     ]
    }
   ],
   "source": [
    "s= input(\"Provide a string to make that upper: \")\n",
    "print(\"Given string in Upper:\", s.upper())"
   ]
  },
  {
   "cell_type": "code",
   "execution_count": 11,
   "id": "62334210-7739-4fbd-a889-1f2a7a6df6b1",
   "metadata": {},
   "outputs": [],
   "source": [
    "# 4.Convert a string to uppercase."
   ]
  },
  {
   "cell_type": "code",
   "execution_count": 13,
   "id": "8a0b3c6a-5eb3-4812-b7f9-84db8bdbc776",
   "metadata": {},
   "outputs": [
    {
     "name": "stdin",
     "output_type": "stream",
     "text": [
      "Provide a string to make that lower:  CONVERT A STRING TO UPPERCASE\n"
     ]
    },
    {
     "name": "stdout",
     "output_type": "stream",
     "text": [
      "Given string in Lower: convert a string to uppercase\n"
     ]
    }
   ],
   "source": [
    "s= input(\"Provide a string to make that lower: \")\n",
    "print(\"Given string in Lower:\", s.lower())"
   ]
  },
  {
   "cell_type": "code",
   "execution_count": 14,
   "id": "4dbc87c5-8b0d-4c65-900b-3571a6111d5f",
   "metadata": {},
   "outputs": [],
   "source": [
    "# 5. Count the number of vowels in a string."
   ]
  },
  {
   "cell_type": "code",
   "execution_count": 15,
   "id": "a7a70255-f021-4d2c-89c0-4dc4554e5a6e",
   "metadata": {},
   "outputs": [
    {
     "name": "stdin",
     "output_type": "stream",
     "text": [
      "Enter a string to find no.of vowels from give:  Count the number of vowels in a string.\n"
     ]
    },
    {
     "name": "stdout",
     "output_type": "stream",
     "text": [
      "No. of vowels from a given string:  11\n"
     ]
    }
   ],
   "source": [
    "s= input(\"Enter a string to find no.of vowels from give: \")\n",
    "no_of_vowels =  s.count('a')+ s.count('e')+ s.count('i')+ s.count('o')+s.count('u')+s.count('A')+s.count('E')+s.count('I')+s.count('O')+s.count('U')\n",
    "print(\"No. of vowels from a given string: \", no_of_vowels)"
   ]
  },
  {
   "cell_type": "code",
   "execution_count": 17,
   "id": "64edc084-2ec0-469d-903f-a53f720fd939",
   "metadata": {},
   "outputs": [],
   "source": [
    "# 6. Count the number of consonants in a string."
   ]
  },
  {
   "cell_type": "code",
   "execution_count": 28,
   "id": "86b0405b-32ff-47fc-a1f0-c1273711979e",
   "metadata": {},
   "outputs": [
    {
     "name": "stdin",
     "output_type": "stream",
     "text": [
      "Enter a string to find no.of consonants from give:  Enter a string to find no.of consonants from give:\n"
     ]
    },
    {
     "name": "stdout",
     "output_type": "stream",
     "text": [
      "No. of consonants from a given string:  36\n"
     ]
    }
   ],
   "source": [
    "s= input(\"Enter a string to find no.of consonants from give: \")\n",
    "no_of_vowels =  s.count('a')+ s.count('e')+ s.count('i')+ s.count('o')+s.count('u')+s.count('A')+s.count('E')+s.count('I')+s.count('O')+s.count('U')\n",
    "print(\"No. of consonants from a given string: \", len(s) - no_of_vowels)"
   ]
  },
  {
   "cell_type": "code",
   "execution_count": 29,
   "id": "fbc71478-c7a2-4c44-a7b4-28be5c13d7c5",
   "metadata": {},
   "outputs": [
    {
     "data": {
      "text/plain": [
       "50"
      ]
     },
     "execution_count": 29,
     "metadata": {},
     "output_type": "execute_result"
    }
   ],
   "source": [
    "len(s)"
   ]
  },
  {
   "cell_type": "code",
   "execution_count": 20,
   "id": "5e7c26d5-b68a-45b6-ac97-bff0400ad820",
   "metadata": {},
   "outputs": [],
   "source": [
    "# 7. Remove all whitespaces from a string."
   ]
  },
  {
   "cell_type": "code",
   "execution_count": 23,
   "id": "03ba300b-b171-4457-b68e-a9b6f8597737",
   "metadata": {},
   "outputs": [
    {
     "name": "stdin",
     "output_type": "stream",
     "text": [
      "Enter a string to emove all whitespaces:  Remove all whitespaces from a string\n"
     ]
    },
    {
     "name": "stdout",
     "output_type": "stream",
     "text": [
      "Given string without whitespaces:  Removeallwhitespacesfromastring\n"
     ]
    }
   ],
   "source": [
    "s= input(\"Enter a string to emove all whitespaces: \")\n",
    "print(\"Given string without whitespaces: \", s.replace(\" \", \"\"))"
   ]
  },
  {
   "cell_type": "code",
   "execution_count": 24,
   "id": "d094fd89-fcec-499a-bffa-e343c4fa996c",
   "metadata": {},
   "outputs": [],
   "source": [
    "# 8. Find the length of a string without using the `len()` function."
   ]
  },
  {
   "cell_type": "code",
   "execution_count": 4,
   "id": "bb2fe234-4df6-4eea-b02d-9722958f7717",
   "metadata": {},
   "outputs": [
    {
     "name": "stdin",
     "output_type": "stream",
     "text": [
      "Enter a string to findout it's length without using len():  Enter a string to findout it's length without using len():\n"
     ]
    },
    {
     "name": "stdout",
     "output_type": "stream",
     "text": [
      "Length of given string:  58\n"
     ]
    }
   ],
   "source": [
    "s= input(\"Enter a string to findout it's length without using len(): \")\n",
    "count = 0\n",
    "for i in s:\n",
    "    count = count+1\n",
    "    \n",
    "print(\"Length of given string: \", count)"
   ]
  },
  {
   "cell_type": "code",
   "execution_count": 5,
   "id": "5fff2bde-eae2-4b22-99cc-6e98bac86010",
   "metadata": {},
   "outputs": [
    {
     "data": {
      "text/plain": [
       "58"
      ]
     },
     "execution_count": 5,
     "metadata": {},
     "output_type": "execute_result"
    }
   ],
   "source": [
    "len(s)"
   ]
  },
  {
   "cell_type": "code",
   "execution_count": null,
   "id": "c9b79050-245c-4ccf-92ed-2aff32a0e5f4",
   "metadata": {},
   "outputs": [],
   "source": [
    "# 9. Check if a string contains a specific word."
   ]
  },
  {
   "cell_type": "code",
   "execution_count": 32,
   "id": "b79f4561-d7be-4969-8949-28b45857a0a6",
   "metadata": {},
   "outputs": [
    {
     "name": "stdin",
     "output_type": "stream",
     "text": [
      "Enter a string:  The simplest way to check if a string contains a specific word is to use the 'in' keyword. This keyword is used to check if a value exists in a sequence, such as a string or a list. In this example, we define a string and check if the word \"fox\" is in the string using the 'in' keyword\n",
      "Enter a word to find from the above data suresh\n"
     ]
    },
    {
     "name": "stdout",
     "output_type": "stream",
     "text": [
      "Given word found from data:  False\n"
     ]
    }
   ],
   "source": [
    "s= input(\"Enter a string: \")\n",
    "search = input(\"Enter a word to find from the above data\")\n",
    "print(\"Given word found from data: \", search in s)"
   ]
  },
  {
   "cell_type": "code",
   "execution_count": 33,
   "id": "15addbbc-cdd1-4237-b15a-b6f2e7a7acf7",
   "metadata": {},
   "outputs": [],
   "source": [
    "# 10. Replace a word in a string with another word."
   ]
  },
  {
   "cell_type": "code",
   "execution_count": 1,
   "id": "ceec62d8-2c6c-432c-879b-6393f359f1d9",
   "metadata": {},
   "outputs": [
    {
     "name": "stdin",
     "output_type": "stream",
     "text": [
      "Enter a string:  Dive deep into data science with our Full Stack Data Science Pro curriculum. Acquire end-to-end expertise – from data exploration and engineering to machine learning, deep learning, CV, Natural Language Process, and prompt engineering implementations. Develop versatile skills for modern data challenges. Cultivate a full spectrum of skills for impactful data-driven results.\n",
      "Enter a word to search:  CV\n",
      "Enter a word to replace in old string Computer Vision\n"
     ]
    },
    {
     "data": {
      "text/plain": [
       "'Dive deep into data science with our Full Stack Data Science Pro curriculum. Acquire end-to-end expertise – from data exploration and engineering to machine learning, deep learning, Computer Vision, Natural Language Process, and prompt engineering implementations. Develop versatile skills for modern data challenges. Cultivate a full spectrum of skills for impactful data-driven results.'"
      ]
     },
     "execution_count": 1,
     "metadata": {},
     "output_type": "execute_result"
    }
   ],
   "source": [
    "s= input(\"Enter a string: \")\n",
    "old_str = input(\"Enter a word to search: \")\n",
    "new_str = input(\"Enter a word to replace in old string\")\n",
    "s.replace(old_str, new_str)"
   ]
  },
  {
   "cell_type": "code",
   "execution_count": null,
   "id": "58246e84-b7f9-45ea-9243-1affb758e05a",
   "metadata": {},
   "outputs": [],
   "source": []
  },
  {
   "cell_type": "code",
   "execution_count": 36,
   "id": "37bef9da-59fc-461e-9594-f5527594bcf0",
   "metadata": {},
   "outputs": [],
   "source": [
    "# 11. Count the occurrences of a word in a string."
   ]
  },
  {
   "cell_type": "code",
   "execution_count": 2,
   "id": "4456b6f6-46fc-47b1-88b7-a8f8163553f0",
   "metadata": {},
   "outputs": [
    {
     "name": "stdin",
     "output_type": "stream",
     "text": [
      "Enter a string:  ive deep into data science with our Full Stack Data Science Pro curriculum. Acquire end-to-end expertise – from data exploration and engineering to machine learning, deep learning, CV, Natural Language Process, and prompt engineering implementations. Develop versatile skills for modern data challenges. Cultivate a full spectrum of skills for impactful data-driven results\n",
      "Enter a word to find out no.of occurrences:  and\n"
     ]
    },
    {
     "name": "stdout",
     "output_type": "stream",
     "text": [
      "No. of occurrences for  and  are : 2\n"
     ]
    }
   ],
   "source": [
    "s= input(\"Enter a string: \")\n",
    "word_search = input(\"Enter a word to find out no.of occurrences: \")\n",
    "print(\"No. of occurrences for \", word_search, \" are :\", s.count(word_search))"
   ]
  },
  {
   "cell_type": "code",
   "execution_count": null,
   "id": "b6886754-47ef-4858-bf18-e3e90b45c9fd",
   "metadata": {},
   "outputs": [],
   "source": []
  },
  {
   "cell_type": "code",
   "execution_count": 41,
   "id": "1d9d1cbd-4963-46bd-a4dd-f272d69cf3e0",
   "metadata": {},
   "outputs": [
    {
     "name": "stdin",
     "output_type": "stream",
     "text": [
      "Enter a string:  Dive deep into data science with our Full Stack Data Science Pro curriculum. Acquire end-to-end expertise – from data exploration and engineering to machine learning, deep learning, CV, Natural Language Process, and prompt engineering implementations. Develop versatile skills for modern data challenges. Cultivate a full spectrum of skills for impactful data-driven results.\n",
      "Enter a word to find out the fist occurence:  data\n"
     ]
    },
    {
     "name": "stdout",
     "output_type": "stream",
     "text": [
      "First index of  data  from a given string is:  15\n"
     ]
    }
   ],
   "source": [
    "# 12. Find the first occurrence of a word in a string.\n",
    "s= input(\"Enter a string: \")\n",
    "word_search = input(\"Enter a word to find out the fist occurence: \")\n",
    "print(\"First index of \", word_search, \" from a given string is: \", s.find(word_search))"
   ]
  },
  {
   "cell_type": "code",
   "execution_count": 44,
   "id": "414dfba8-e611-429a-a187-5bcb049fd264",
   "metadata": {},
   "outputs": [
    {
     "name": "stdout",
     "output_type": "stream",
     "text": [
      "Last index of  data  from a given string is:  355\n"
     ]
    }
   ],
   "source": [
    "# 13. Find the last occurrence of a word in a string.\n",
    "print(\"Last index of \", word_search, \" from a given string is: \", s.rfind(word_search))"
   ]
  },
  {
   "cell_type": "code",
   "execution_count": 3,
   "id": "be3aac1a-ce4c-46bc-a12a-a924fb3894b8",
   "metadata": {},
   "outputs": [
    {
     "name": "stdout",
     "output_type": "stream",
     "text": [
      "List of words for a given string are:  ['Dive', 'deep', 'into', 'data', 'science', 'with', 'our', 'Full', 'Stack', 'Data', 'Science', 'Pro', 'curriculum.', 'Acquire', 'end-to-end', 'expertise', '–', 'from', 'data', 'exploration', 'and', 'engineering', 'to', 'machine', 'learning,', 'deep', 'learning,', 'CV,', 'Natural', 'Language', 'Process,', 'and', 'prompt', 'engineering', 'implementations.', 'Develop', 'versatile', 'skills', 'for', 'modern', 'data', 'challenges.', 'Cultivate', 'a', 'full', 'spectrum', 'of', 'skills', 'for', 'impactful', 'data-driven', 'results.']\n"
     ]
    }
   ],
   "source": [
    "# 14. Split a string into a list of words.\n",
    "s= 'Dive deep into data science with our Full Stack Data Science Pro curriculum. Acquire end-to-end expertise – from data exploration and engineering to machine learning, deep learning, CV, Natural Language Process, and prompt engineering implementations. Develop versatile skills for modern data challenges. Cultivate a full spectrum of skills for impactful data-driven results.'\n",
    "l = s.split(\" \")\n",
    "print( \"List of words for a given string are: \", l)\n"
   ]
  },
  {
   "cell_type": "code",
   "execution_count": 5,
   "id": "ffbedab9-c745-4bf2-9fc8-0947af260dc7",
   "metadata": {},
   "outputs": [
    {
     "name": "stdout",
     "output_type": "stream",
     "text": [
      "Join a list of words is:  Dive deep into data science with our Full Stack Data Science Pro curriculum. Acquire end-to-end expertise – from data exploration and engineering to machine learning, deep learning, CV, Natural Language Process, and prompt engineering implementations. Develop versatile skills for modern data challenges. Cultivate a full spectrum of skills for impactful data-driven results.\n"
     ]
    }
   ],
   "source": [
    "# 15. Join a list of words into a string.\n",
    "s= 'Dive deep into data science with our Full Stack Data Science Pro curriculum. Acquire end-to-end expertise – from data exploration and engineering to machine learning, deep learning, CV, Natural Language Process, and prompt engineering implementations. Develop versatile skills for modern data challenges. Cultivate a full spectrum of skills for impactful data-driven results.'\n",
    "l = s.split(\" \")\n",
    "s1 = (\" \").join(l)\n",
    "print(\"Join a list of words is: \", s1)"
   ]
  },
  {
   "cell_type": "code",
   "execution_count": null,
   "id": "1bc61bad-3779-418f-8e80-1c232a3603df",
   "metadata": {},
   "outputs": [],
   "source": []
  },
  {
   "cell_type": "code",
   "execution_count": 49,
   "id": "7500e31f-4e41-4231-a942-93da1139a942",
   "metadata": {},
   "outputs": [],
   "source": [
    "# 16. Convert a string where words are separated by spaces to one where words are separated by underscores."
   ]
  },
  {
   "cell_type": "code",
   "execution_count": 7,
   "id": "1defb61e-d834-4f12-8a10-e6a854a7aeb4",
   "metadata": {},
   "outputs": [
    {
     "name": "stdout",
     "output_type": "stream",
     "text": [
      "New string with under score:  Dive_deep_into_data_science_with_our_Full_Stack_Data_Science_Pro_curriculum._Acquire_end-to-end_expertise_–_from_data_exploration_and_engineering_to_machine_learning,_deep_learning,_CV,_Natural_Language_Process,_and_prompt_engineering_implementations._Develop_versatile_skills_for_modern_data_challenges._Cultivate_a_full_spectrum_of_skills_for_impactful_data-driven_results.\n"
     ]
    }
   ],
   "source": [
    "s= 'Dive deep into data science with our Full Stack Data Science Pro curriculum. Acquire end-to-end expertise – from data exploration and engineering to machine learning, deep learning, CV, Natural Language Process, and prompt engineering implementations. Develop versatile skills for modern data challenges. Cultivate a full spectrum of skills for impactful data-driven results.'\n",
    "new_str_underscore = s.replace(' ', '_') \n",
    "print(\"New string with under score: \", new_str_underscore)"
   ]
  },
  {
   "cell_type": "code",
   "execution_count": null,
   "id": "7c6ff3f8-ceaa-4a44-9b56-64c144598aa8",
   "metadata": {},
   "outputs": [],
   "source": []
  },
  {
   "cell_type": "code",
   "execution_count": null,
   "id": "4c8ff0ef-bc38-4634-aad4-781579b68259",
   "metadata": {},
   "outputs": [],
   "source": []
  },
  {
   "cell_type": "code",
   "execution_count": 53,
   "id": "4c3d0277-8737-442e-8268-610070dd2597",
   "metadata": {},
   "outputs": [],
   "source": [
    "# 17. Check if a string starts with a specific word or phrase."
   ]
  },
  {
   "cell_type": "code",
   "execution_count": 10,
   "id": "9172f57b-2c2b-4d7a-b3c4-72f1d20b7d09",
   "metadata": {},
   "outputs": [
    {
     "name": "stdout",
     "output_type": "stream",
     "text": [
      " Is 's1' starts with  Dive :  True\n",
      " Is 's1' starts with  dive :  False\n"
     ]
    }
   ],
   "source": [
    "s1 = 'Dive deep into data science with our Full Stack Data Science Pro curriculum. Acquire end-to-end expertise – from data exploration and engineering to machine learning, deep learning, CV, Natural Language Process, and prompt engineering implementations. Develop versatile skills for modern data challenges. Cultivate a full spectrum of skills for impactful data-driven results.'\n",
    "starts_with = \"Dive\"\n",
    "print(\" Is 's1' starts with \", starts_with, \": \", s1.startswith(starts_with))\n",
    "starts_with = \"dive\"\n",
    "print(\" Is 's1' starts with \", starts_with, \": \", s1.startswith(starts_with))"
   ]
  },
  {
   "cell_type": "code",
   "execution_count": null,
   "id": "1ebfeb20-92bd-4776-b2bb-abd891eae1dd",
   "metadata": {},
   "outputs": [],
   "source": []
  },
  {
   "cell_type": "code",
   "execution_count": 56,
   "id": "bd294aa6-35e6-4177-8f0a-8965e278f3d2",
   "metadata": {},
   "outputs": [],
   "source": [
    "# 18. Check if a string ends with a specific word or phrase."
   ]
  },
  {
   "cell_type": "code",
   "execution_count": 11,
   "id": "05d67316-4dc3-49e3-ab1e-9f7ca2d60f00",
   "metadata": {},
   "outputs": [
    {
     "name": "stdout",
     "output_type": "stream",
     "text": [
      " Is 's1' ends with  Dive :  False\n",
      " Is 's1' ends with  results. :  True\n"
     ]
    }
   ],
   "source": [
    "s1 = 'Dive deep into data science with our Full Stack Data Science Pro curriculum. Acquire end-to-end expertise – from data exploration and engineering to machine learning, deep learning, CV, Natural Language Process, and prompt engineering implementations. Develop versatile skills for modern data challenges. Cultivate a full spectrum of skills for impactful data-driven results.'\n",
    "\n",
    "ends_with = \"Dive\"\n",
    "print(\" Is 's1' ends with \", ends_with, \": \", s1.endswith(ends_with))\n",
    "ends_with = \"results.\"\n",
    "print(\" Is 's1' ends with \", ends_with, \": \", s1.endswith(ends_with))"
   ]
  },
  {
   "cell_type": "code",
   "execution_count": null,
   "id": "a2dc8d6d-072f-435f-a8bf-598396b8891c",
   "metadata": {},
   "outputs": [],
   "source": []
  },
  {
   "cell_type": "code",
   "execution_count": 59,
   "id": "53e95ae0-0b50-4b45-ad24-f9ca971d0fd0",
   "metadata": {},
   "outputs": [],
   "source": [
    "# 19. Convert a string to title case (e.g., \"hello world\" to \"Hello World\")."
   ]
  },
  {
   "cell_type": "code",
   "execution_count": 12,
   "id": "0ca1f622-227a-4ed5-8942-d3febf4410b6",
   "metadata": {},
   "outputs": [
    {
     "name": "stdout",
     "output_type": "stream",
     "text": [
      "New string with title case:  Hello World\n"
     ]
    }
   ],
   "source": [
    "string = \"hello world\"\n",
    "print(\"New string with title case: \", string.title())"
   ]
  },
  {
   "cell_type": "code",
   "execution_count": null,
   "id": "d237a2e2-a224-4b47-b5b9-9a57a59d5d39",
   "metadata": {},
   "outputs": [],
   "source": []
  },
  {
   "cell_type": "code",
   "execution_count": 62,
   "id": "ea1f36e1-4c73-447d-a5c8-c11e0a64ba05",
   "metadata": {},
   "outputs": [],
   "source": [
    "# 20. Find the longest word in a string."
   ]
  },
  {
   "cell_type": "code",
   "execution_count": 1,
   "id": "12d82236-0cbd-458e-89b1-10faeaf7c2c6",
   "metadata": {},
   "outputs": [
    {
     "name": "stdout",
     "output_type": "stream",
     "text": [
      "longest word from a given data is:  implementations.\n"
     ]
    }
   ],
   "source": [
    "\n",
    "s = 'Dive deep into data science with our Full Stack Data Science Pro curriculum. Acquire end-to-end expertise – from data exploration and engineering to machine learning, deep learning, CV, Natural Language Process, and prompt engineering implementations. Develop versatile skills for modern data challenges. Cultivate a full spectrum of skills for impactful data-driven results.'\n",
    "l = s.split(' ')\n",
    "l1 = sorted(l, key=len, reverse=True)\n",
    "print(\"longest word from a given data is: \", l1[0])"
   ]
  },
  {
   "cell_type": "code",
   "execution_count": null,
   "id": "1421314b-1b4f-41a5-8cb2-c021dbfb2fbd",
   "metadata": {},
   "outputs": [],
   "source": []
  },
  {
   "cell_type": "code",
   "execution_count": 66,
   "id": "a70197f6-3a04-49c7-b0ae-3407539b3230",
   "metadata": {},
   "outputs": [],
   "source": [
    "# 21. Find the shortest word in a string."
   ]
  },
  {
   "cell_type": "code",
   "execution_count": 19,
   "id": "df9e06a7-bd73-4b29-87b7-51626814f135",
   "metadata": {},
   "outputs": [
    {
     "name": "stdout",
     "output_type": "stream",
     "text": [
      "shortest word from a given data is:  –\n"
     ]
    }
   ],
   "source": [
    "s = 'Dive deep into data science with our Full Stack Data Science Pro curriculum. Acquire end-to-end expertise – from data exploration and engineering to machine learning, deep learning, CV, Natural Language Process, and prompt engineering implementations. Develop versatile skills for modern data challenges. Cultivate a full spectrum of skills for impactful data-driven results.'\n",
    "l = s.split(' ')\n",
    "l1 = sorted(l, key=len, reverse=False)\n",
    "print(\"shortest word from a given data is: \", l1[0])"
   ]
  },
  {
   "cell_type": "code",
   "execution_count": null,
   "id": "73a8f0f7-6f16-4119-9816-e632487be7ff",
   "metadata": {},
   "outputs": [],
   "source": []
  },
  {
   "cell_type": "code",
   "execution_count": 69,
   "id": "7f4621aa-e46c-4ae2-8f54-6c3ee0003af3",
   "metadata": {},
   "outputs": [],
   "source": [
    "# 22. Reverse the order of words in a string."
   ]
  },
  {
   "cell_type": "code",
   "execution_count": 20,
   "id": "64d6ec5c-f36c-4dd4-9f0d-c0679a5e9e0c",
   "metadata": {},
   "outputs": [
    {
     "name": "stdout",
     "output_type": "stream",
     "text": [
      "Resevsed order of words from given string:  results. data-driven impactful for skills of spectrum full a Cultivate challenges. data modern for skills versatile Develop implementations. engineering prompt and Process, Language Natural CV, learning, deep learning, machine to engineering and exploration data from – expertise end-to-end Acquire curriculum. Pro Science Data Stack Full our with science data into deep Dive\n"
     ]
    }
   ],
   "source": [
    "s = 'Dive deep into data science with our Full Stack Data Science Pro curriculum. Acquire end-to-end expertise – from data exploration and engineering to machine learning, deep learning, CV, Natural Language Process, and prompt engineering implementations. Develop versatile skills for modern data challenges. Cultivate a full spectrum of skills for impactful data-driven results.'\n",
    "l1 = s.split()\n",
    "reversed_order_word_string= ' '.join(l1[::-1])\n",
    "print(\"Resevsed order of words from given string: \", reversed_order_word_string)"
   ]
  },
  {
   "cell_type": "code",
   "execution_count": 74,
   "id": "75b83b37-b828-4327-a7ef-b708a0160795",
   "metadata": {},
   "outputs": [],
   "source": [
    "# 23. Check if a string is alphanumeric."
   ]
  },
  {
   "cell_type": "code",
   "execution_count": 21,
   "id": "09f7e8eb-f39a-45c1-949a-d4eeeaad6331",
   "metadata": {},
   "outputs": [
    {
     "name": "stdout",
     "output_type": "stream",
     "text": [
      "Is given string a alphanumeric:  False\n"
     ]
    }
   ],
   "source": [
    "s = 'Dive deep into data science with our Full Stack Data Science Pro curriculum. Acquire end-to-end expertise – from data exploration and engineering to machine learning, deep learning, CV, Natural Language Process, and prompt engineering implementations. Develop versatile skills for modern data challenges. Cultivate a full spectrum of skills for impactful data-driven results.'\n",
    "\n",
    "print(\"Is given string a alphanumeric: \", s.isalnum())"
   ]
  },
  {
   "cell_type": "code",
   "execution_count": 76,
   "id": "095a08d6-3754-4d4a-b654-c9533ea5c583",
   "metadata": {},
   "outputs": [],
   "source": [
    "# 24. Extract all digits from a string."
   ]
  },
  {
   "cell_type": "code",
   "execution_count": 22,
   "id": "64bce9fc-205f-402b-b58b-102af2f036ed",
   "metadata": {},
   "outputs": [
    {
     "name": "stdout",
     "output_type": "stream",
     "text": [
      "digits from a given data are:  ['24', '12', '2', '5', '25']\n"
     ]
    }
   ],
   "source": [
    "l = \"24 12 2 5 25 Extract all digits from a string.\".split()\n",
    "l1 = []\n",
    "for i in l:\n",
    "    if i.isdigit():\n",
    "        l1.append(i)\n",
    "print(\"digits from a given data are: \", l1)"
   ]
  },
  {
   "cell_type": "code",
   "execution_count": 79,
   "id": "8c85f07b-624f-478e-b329-0d1ee1b703dc",
   "metadata": {},
   "outputs": [],
   "source": [
    "# 25. Extract all alphabets from a string."
   ]
  },
  {
   "cell_type": "code",
   "execution_count": 23,
   "id": "8d0b2127-917d-4000-8277-3fd82b4daa2b",
   "metadata": {},
   "outputs": [
    {
     "name": "stdout",
     "output_type": "stream",
     "text": [
      "alphanets from a given data are:  ['Extract', 'all', 'digits', 'from', 'a']\n"
     ]
    }
   ],
   "source": [
    "l = \"24 12 2 5 25 Extract all digits from a string.\".split()\n",
    "l1 = []\n",
    "for i in l:\n",
    "    if i.isalpha():\n",
    "        l1.append(i)\n",
    "print(\"alphanets from a given data are: \", l1)"
   ]
  },
  {
   "cell_type": "code",
   "execution_count": 81,
   "id": "4b10357a-0fae-4e3a-bbe8-2368d6b19555",
   "metadata": {},
   "outputs": [],
   "source": [
    "# 26. Count the number of uppercase letters in a string."
   ]
  },
  {
   "cell_type": "code",
   "execution_count": 25,
   "id": "e5f7f92e-816d-4136-8a43-f512ed1fbb83",
   "metadata": {},
   "outputs": [
    {
     "name": "stdout",
     "output_type": "stream",
     "text": [
      "Number of upper case letters:  1\n"
     ]
    }
   ],
   "source": [
    "count = 0\n",
    "s = 'Dive deep into data science with our Full Stack Data Science Pro curriculum. Acquire end-to-end expertise – from data exploration and engineering to machine learning, deep learning, CV, Natural Language Process, and prompt engineering implementations. Develop versatile skills for modern data challenges. Cultivate a full spectrum of skills for impactful data-driven results.'\n",
    "for i in s.split(' '):\n",
    "    if i.isupper():\n",
    "        count = count + 1\n",
    "print(\"Number of upper case letters: \", count)"
   ]
  },
  {
   "cell_type": "code",
   "execution_count": 83,
   "id": "069570ef-8a53-4859-b5b1-0ce5f24dbf56",
   "metadata": {},
   "outputs": [],
   "source": [
    "# 27. Count the number of lowercase letters in a string."
   ]
  },
  {
   "cell_type": "code",
   "execution_count": 26,
   "id": "409125f7-7e47-4e26-8310-1f02c8aecd55",
   "metadata": {},
   "outputs": [
    {
     "name": "stdout",
     "output_type": "stream",
     "text": [
      "Number of lower case letters:  38\n"
     ]
    }
   ],
   "source": [
    "s = 'Dive deep into data science with our Full Stack Data Science Pro curriculum. Acquire end-to-end expertise – from data exploration and engineering to machine learning, deep learning, CV, Natural Language Process, and prompt engineering implementations. Develop versatile skills for modern data challenges. Cultivate a full spectrum of skills for impactful data-driven results.'\n",
    "count = 0\n",
    "for i in s.split(' '):\n",
    "    if i.islower():\n",
    "        count = count + 1\n",
    "print(\"Number of lower case letters: \", count)"
   ]
  },
  {
   "cell_type": "code",
   "execution_count": 85,
   "id": "d3b9ac11-470d-4f0c-82db-3049f2a24193",
   "metadata": {},
   "outputs": [],
   "source": [
    "# 28. Swap the case of each character in a string."
   ]
  },
  {
   "cell_type": "code",
   "execution_count": 24,
   "id": "7f391cc1-cdc7-4c57-a05f-2ed1320f450b",
   "metadata": {},
   "outputs": [
    {
     "name": "stdout",
     "output_type": "stream",
     "text": [
      "Data after swapped the case:  dIVE DEEP INTO DATA SCIENCE WITH OUR fULL sTACK dATA sCIENCE pRO CURRICULUM. aCQUIRE END-TO-END EXPERTISE – FROM DATA EXPLORATION AND ENGINEERING TO MACHINE LEARNING, DEEP LEARNING, cv, nATURAL lANGUAGE pROCESS, AND PROMPT ENGINEERING IMPLEMENTATIONS. dEVELOP VERSATILE SKILLS FOR MODERN DATA CHALLENGES. cULTIVATE A FULL SPECTRUM OF SKILLS FOR IMPACTFUL DATA-DRIVEN RESULTS.\n"
     ]
    }
   ],
   "source": [
    "s = 'Dive deep into data science with our Full Stack Data Science Pro curriculum. Acquire end-to-end expertise – from data exploration and engineering to machine learning, deep learning, CV, Natural Language Process, and prompt engineering implementations. Develop versatile skills for modern data challenges. Cultivate a full spectrum of skills for impactful data-driven results.'\n",
    "new_string = s.swapcase()\n",
    "print(\"Data after swapped the case: \", new_string)"
   ]
  },
  {
   "cell_type": "code",
   "execution_count": 87,
   "id": "c0d7d552-9d11-40aa-800d-463341eb7cd6",
   "metadata": {},
   "outputs": [],
   "source": [
    "# 29. Remove a specific word from a string."
   ]
  },
  {
   "cell_type": "code",
   "execution_count": 27,
   "id": "59f3529b-e1c9-42a4-8602-a10427bcd9d6",
   "metadata": {},
   "outputs": [
    {
     "name": "stdout",
     "output_type": "stream",
     "text": [
      "Data after removed 'ENGINEERING':  dIVE DEEP INTO DATA SCIENCE WITH OUR fULL sTACK dATA sCIENCE pRO CURRICULUM. aCQUIRE END-TO-END EXPERTISE – FROM DATA EXPLORATION AND TO MACHINE LEARNING, DEEP LEARNING, cv, nATURAL lANGUAGE pROCESS, AND PROMPT IMPLEMENTATIONS. dEVELOP VERSATILE SKILLS FOR MODERN DATA CHALLENGES. cULTIVATE A FULL SPECTRUM OF SKILLS FOR IMPACTFUL DATA-DRIVEN RESULTS.\n"
     ]
    }
   ],
   "source": [
    "s = 'Dive deep into data science with our Full Stack Data Science Pro curriculum. Acquire end-to-end expertise – from data exploration and engineering to machine learning, deep learning, CV, Natural Language Process, and prompt engineering implementations. Develop versatile skills for modern data challenges. Cultivate a full spectrum of skills for impactful data-driven results.'\n",
    "new_string = s.swapcase()\n",
    "print(\"Data after removed 'ENGINEERING': \", new_string.replace('ENGINEERING ', ''))"
   ]
  },
  {
   "cell_type": "code",
   "execution_count": 91,
   "id": "0849ae16-6be6-45af-abe0-4e593e41a12e",
   "metadata": {},
   "outputs": [],
   "source": [
    "# 30. Check if a string is a valid email address."
   ]
  },
  {
   "cell_type": "code",
   "execution_count": 24,
   "id": "3490035b-289e-410b-8ca5-f89ac997d3b0",
   "metadata": {},
   "outputs": [
    {
     "name": "stdin",
     "output_type": "stream",
     "text": [
      "Enter email to find out is it a valid:  suresh@pwskills.com\n"
     ]
    },
    {
     "name": "stdout",
     "output_type": "stream",
     "text": [
      "Is Given email is valid:  True\n"
     ]
    }
   ],
   "source": [
    "def is_valid_email(email):\n",
    "    user_name = email.split('@')[0]\n",
    "    domain = email.split('@')[1]\n",
    "    return len(user_name) > 2 and len(domain) > 2 and (domain.rindex('.') + 2 < len(domain));\n",
    "print(\"Is Given email is valid: \", is_valid_email(input(\"Enter email to find out is it a valid: \")))"
   ]
  },
  {
   "cell_type": "code",
   "execution_count": null,
   "id": "78c36d54-7455-4a07-b5a2-0cbf202db065",
   "metadata": {},
   "outputs": [],
   "source": []
  },
  {
   "cell_type": "code",
   "execution_count": 92,
   "id": "cc3f4ba1-4f1e-477f-b64c-3a42edd0b599",
   "metadata": {},
   "outputs": [],
   "source": [
    "#31. Extract the username from an email address string."
   ]
  },
  {
   "cell_type": "code",
   "execution_count": 29,
   "id": "d42af6b9-a111-4edb-bb37-4b36d0c2d68e",
   "metadata": {},
   "outputs": [
    {
     "name": "stdout",
     "output_type": "stream",
     "text": [
      "User name from given email is:  suresh\n"
     ]
    }
   ],
   "source": [
    "email = \"suresh@pwskills.com\"\n",
    "print(\"User name from given email is: \", email.split('@')[0])"
   ]
  },
  {
   "cell_type": "code",
   "execution_count": null,
   "id": "644833ab-77e7-4df0-a333-dd508d1ffe93",
   "metadata": {},
   "outputs": [],
   "source": []
  },
  {
   "cell_type": "code",
   "execution_count": 97,
   "id": "384e473b-4dd9-495e-b5d3-8ed944f931bb",
   "metadata": {},
   "outputs": [],
   "source": [
    "#32. Extract the domain name from an email address string."
   ]
  },
  {
   "cell_type": "code",
   "execution_count": 30,
   "id": "bd436550-b207-4ea8-8d1b-beec39e2dde5",
   "metadata": {},
   "outputs": [
    {
     "name": "stdout",
     "output_type": "stream",
     "text": [
      "Domain name from given email is:  pwskills.com\n"
     ]
    }
   ],
   "source": [
    "email = \"suresh@pwskills.com\"\n",
    "print(\"Domain name from given email is: \", email.split('@')[1])"
   ]
  },
  {
   "cell_type": "code",
   "execution_count": 99,
   "id": "c7e72769-a238-4a19-8b3c-4944ae41b02c",
   "metadata": {},
   "outputs": [],
   "source": [
    "# 33. Replace multiple spaces in a string with a single space."
   ]
  },
  {
   "cell_type": "code",
   "execution_count": 2,
   "id": "82fd528c-4625-44fd-a6a5-71248982bab9",
   "metadata": {},
   "outputs": [
    {
     "name": "stdout",
     "output_type": "stream",
     "text": [
      "New date after removed multiple spaces: \n",
      " Replace multiple spaces in a string with a single space.\n"
     ]
    }
   ],
   "source": [
    "string =\" Replace   multiple spaces       in a string with                     a single         space.\"\n",
    "l = string.split()\n",
    "new_string = (' ').join(l)\n",
    "print(\"New date after removed multiple spaces: \\n\", new_string)"
   ]
  },
  {
   "cell_type": "code",
   "execution_count": 102,
   "id": "99d2b95f-e5ea-4646-82c4-f0e82f77fb0c",
   "metadata": {},
   "outputs": [],
   "source": [
    "# 34. Check if a string is a valid URL."
   ]
  },
  {
   "cell_type": "code",
   "execution_count": 60,
   "id": "afa898e8-8b1b-4357-96f9-945e553515c8",
   "metadata": {},
   "outputs": [
    {
     "name": "stdin",
     "output_type": "stream",
     "text": [
      "Enter URL to find out is it a valid:  https://www.pwskills.com\n"
     ]
    },
    {
     "name": "stdout",
     "output_type": "stream",
     "text": [
      "Is Given URL is valid:  True\n"
     ]
    }
   ],
   "source": [
    "\n",
    "def is_valid_url(url):\n",
    "    url_split = url.split('://')\n",
    "    if len(url_split) < 2:\n",
    "        return False \n",
    "    protocal = url_split[0]\n",
    "    datas = url_split[1] and url_split[1].split(\".\")\n",
    "    return protocal in ['http', 'https'] and len(datas) >= 2 and len(''.join(datas[len(datas)-1:])) >= 2\n",
    "\n",
    "print(\"Is Given URL is valid: \", is_valid_url(input(\"Enter URL to find out is it a valid: \")))"
   ]
  },
  {
   "cell_type": "code",
   "execution_count": 59,
   "id": "b7e75082-33d4-494b-b6a1-27b5a5c80a00",
   "metadata": {},
   "outputs": [
    {
     "name": "stdout",
     "output_type": "stream",
     "text": [
      "1\n",
      "False\n"
     ]
    }
   ],
   "source": [
    "url = 'http://www.pwskills.com'\n",
    "url_split = url.split('://')\n",
    "protocal ='https'\n",
    "protocal in ['http', 'https']\n",
    "datas = url_split[1] and url_split[1].split(\".\")\n",
    "print(len(datas[len(datas)-1:]))\n",
    "print(len(datas[len(datas)-1:]) >= 2)"
   ]
  },
  {
   "cell_type": "code",
   "execution_count": 103,
   "id": "06c565c5-ae13-4496-a119-8292dce0d9e8",
   "metadata": {},
   "outputs": [],
   "source": [
    "# 35. Extract the protocol (http or https) from a URL string."
   ]
  },
  {
   "cell_type": "code",
   "execution_count": 63,
   "id": "f124be98-5a6e-4015-a20c-0d420b01e2a2",
   "metadata": {},
   "outputs": [
    {
     "name": "stdin",
     "output_type": "stream",
     "text": [
      "Enter URL to extract it's protocal:  http://www.pwskills.com\n"
     ]
    },
    {
     "name": "stdout",
     "output_type": "stream",
     "text": [
      "Protocal from give URL:  http\n"
     ]
    }
   ],
   "source": [
    "def extract_protocal(url):\n",
    "    url_split = url.split('://')\n",
    "    if len(url_split) < 2:\n",
    "        return False \n",
    "    url_split = url.split('://')\n",
    "    if len(url_split) < 2:\n",
    "        return False \n",
    "    protocal = url_split[0]\n",
    "    datas = url_split[1] and url_split[1].split(\".\")\n",
    "    if( protocal in ['http', 'https'] and len(datas) >= 2 and len(''.join(datas[len(datas)-1:])) >= 2):\n",
    "        return protocal\n",
    "    else:\n",
    "        return False\n",
    "\n",
    "url_with_protocal = extract_protocal(input(\"Enter URL to extract it's protocal: \"))\n",
    "if url_with_protocal != False:\n",
    "    print(\"Protocal from give URL: \", url_with_protocal )\n",
    "else:\n",
    "    print(\"Entered URL is not a valid\")"
   ]
  },
  {
   "cell_type": "code",
   "execution_count": null,
   "id": "202fb470-58e2-404a-bcc1-1ca7ca0792c3",
   "metadata": {},
   "outputs": [],
   "source": []
  },
  {
   "cell_type": "code",
   "execution_count": 104,
   "id": "bddf1e82-2029-4fa0-8436-4b6914057a0a",
   "metadata": {},
   "outputs": [],
   "source": [
    "# 36. Find the frequency of each character in a string."
   ]
  },
  {
   "cell_type": "code",
   "execution_count": 30,
   "id": "bd73594d-401b-41bb-9ad4-01eddd9e27ab",
   "metadata": {},
   "outputs": [
    {
     "name": "stdout",
     "output_type": "stream",
     "text": [
      "{'R': 1, 'e': 6, 'p': 4, 'l': 4, 'a': 5, 'c': 3, 'm': 1, 'u': 1, 't': 3, 'i': 5, 's': 5, 'n': 3, 'r': 1, 'g': 2, 'w': 1, 'h': 1}\n"
     ]
    }
   ],
   "source": [
    "string =\" Replace   multiple spaces       in a string with                     a single         space.\"\n",
    "chars_dic = {}\n",
    "for i in ''.join(string.split()):\n",
    "    if i.isalpha():\n",
    "        if chars_dic.get(i) == None:\n",
    "            chars_dic[i] =  1\n",
    "        else:\n",
    "            chars_dic[i] =  chars_dic.get(i) + 1\n",
    "\n",
    "print(chars_dic)\n"
   ]
  },
  {
   "cell_type": "code",
   "execution_count": 4,
   "id": "4b995397-87ba-4528-8d86-8b1aadf89b1d",
   "metadata": {},
   "outputs": [],
   "source": [
    "# 37. Remove all punctuation from a string."
   ]
  },
  {
   "cell_type": "code",
   "execution_count": 33,
   "id": "70efe2c5-2b8e-4999-8170-2751fa52193e",
   "metadata": {},
   "outputs": [
    {
     "name": "stdout",
     "output_type": "stream",
     "text": [
      "Punctuation string is :  Replace   multiple spaces              in a string with                     a single         space\n"
     ]
    }
   ],
   "source": [
    "string =\" Replace   multiple spaces  % @   ^ * !      in a string with                     a single         space.\"\n",
    "punc = '''!()-[]{};:'\"\\,<>./?@#$%^&*_~'''\n",
    "for i in string:\n",
    "    if i in punc:\n",
    "        string = string.replace(i, '')\n",
    "\n",
    "print(\"Punctuation string is :\", string)"
   ]
  },
  {
   "cell_type": "code",
   "execution_count": null,
   "id": "bbf3e3d3-1cec-455c-b427-f1c7750e0d95",
   "metadata": {},
   "outputs": [],
   "source": []
  },
  {
   "cell_type": "code",
   "execution_count": 12,
   "id": "09563b02-c69b-4b3f-8e41-8a35838f89b9",
   "metadata": {},
   "outputs": [],
   "source": [
    "# 38. Check if a string contains only digits."
   ]
  },
  {
   "cell_type": "code",
   "execution_count": 15,
   "id": "e6da0141-9419-4368-819f-65f2f2c4a82a",
   "metadata": {},
   "outputs": [
    {
     "name": "stdout",
     "output_type": "stream",
     "text": [
      "Is string contains only digits:  False\n",
      "Is string contains only digits:  True\n"
     ]
    }
   ],
   "source": [
    "a ='12312321s312323' #contains string also, o/p should be False\n",
    "print(\"Is string contains only digits: \", a.isdigit())\n",
    "\n",
    "a ='12312321312323'#contains only digits, o/p should be True\n",
    "print(\"Is string contains only digits: \", a.isdigit())"
   ]
  },
  {
   "cell_type": "code",
   "execution_count": 14,
   "id": "a5375a56-1861-4dfd-815b-db7086172107",
   "metadata": {},
   "outputs": [],
   "source": [
    "# 39. Check if a string contains only alphabets."
   ]
  },
  {
   "cell_type": "code",
   "execution_count": 20,
   "id": "c5a48a82-70c2-42de-b72f-f2f30559dbbd",
   "metadata": {},
   "outputs": [
    {
     "name": "stdout",
     "output_type": "stream",
     "text": [
      "Is string contains only alphabets?:  True\n",
      "Is string contains only alphabets?:  False\n"
     ]
    }
   ],
   "source": [
    "string =\"alphabets\"\n",
    "print(\"Is string contains only alphabets?: \", string.isalpha())\n",
    "\n",
    "string =\"alphabets.\" #special chars exists so the o/p should be False\n",
    "print(\"Is string contains only alphabets?: \", string.isalpha())"
   ]
  },
  {
   "cell_type": "code",
   "execution_count": 21,
   "id": "707405a5-bfb5-4122-8730-16ed1a6548a1",
   "metadata": {},
   "outputs": [],
   "source": [
    "# 40. Convert a string to a list of characters."
   ]
  },
  {
   "cell_type": "code",
   "execution_count": 58,
   "id": "2dc67eb4-5173-4c97-b992-bcbb4f603f31",
   "metadata": {},
   "outputs": [
    {
     "name": "stdout",
     "output_type": "stream",
     "text": [
      "List of chars from the give string:  {'h', 'f', 'o', 'v', 'e', 'i', 'a', '.', 'C', 't', 'c', 'n', 'l', 'r', 'g', 's', ' '}\n"
     ]
    }
   ],
   "source": [
    "string = \"Convert a string to a list of characters.\"\n",
    "s1 = set()\n",
    "for s in string:\n",
    "    s1.add(s)\n",
    "    \n",
    "print(\"List of chars from the give string: \", s1)"
   ]
  },
  {
   "cell_type": "code",
   "execution_count": 25,
   "id": "280eee33-de7b-4045-b42e-b9b157b0a31b",
   "metadata": {},
   "outputs": [],
   "source": [
    "# 41. Check if two strings are anagrams."
   ]
  },
  {
   "cell_type": "code",
   "execution_count": 33,
   "id": "596bf953-28ac-4380-8158-21bd5a74bc50",
   "metadata": {},
   "outputs": [
    {
     "name": "stdout",
     "output_type": "stream",
     "text": [
      "Are those strings are anagrams:  False\n",
      "Are those strings are anagrams:  True\n"
     ]
    }
   ],
   "source": [
    "str1 = \"spara1\"\n",
    "str2 = \"rasp\"\n",
    "string1 = ''.join(set(sorted(str1)))\n",
    "string2 = ''.join(set(sorted(str2)))\n",
    "print(\"Are those strings are anagrams: \", string1 == string2)\n",
    "\n",
    "str1 = \"spar\"\n",
    "str2 = \"rasp\"\n",
    "string1 = ''.join(set(sorted(str1)))\n",
    "string2 = ''.join(set(sorted(str2)))\n",
    "print(\"Are those strings are anagrams: \", string1 == string2)"
   ]
  },
  {
   "cell_type": "code",
   "execution_count": 34,
   "id": "ad1adc5a-7147-44ee-aa7c-af3845384b9f",
   "metadata": {},
   "outputs": [],
   "source": [
    "# 42. Encode a string using a Caesar cipher."
   ]
  },
  {
   "cell_type": "code",
   "execution_count": 4,
   "id": "8cda1639-de9d-4b25-82d4-5b926d3fa3eb",
   "metadata": {},
   "outputs": [
    {
     "data": {
      "text/plain": [
       "'Conv4rt 0 str8n6 to 0 l8st o5 270r02t4rs.'"
      ]
     },
     "execution_count": 4,
     "metadata": {},
     "output_type": "execute_result"
    }
   ],
   "source": [
    "string = \"Convert a string to a list of characters.\"\n",
    "s = str.maketrans(\"abcdefghij\", \"0123456789\")\n",
    "string = string.translate(s)\n",
    "string"
   ]
  },
  {
   "cell_type": "code",
   "execution_count": 37,
   "id": "0d3431fa-bbf5-41af-bdf6-c0b76eeecaf1",
   "metadata": {},
   "outputs": [],
   "source": [
    "# 43. Decode a Caesar cipher encoded string."
   ]
  },
  {
   "cell_type": "code",
   "execution_count": 6,
   "id": "bfecb299-1989-45be-a09b-ce1e9122ac0d",
   "metadata": {},
   "outputs": [
    {
     "data": {
      "text/plain": [
       "'Convert a string to a list of characters.'"
      ]
     },
     "execution_count": 6,
     "metadata": {},
     "output_type": "execute_result"
    }
   ],
   "source": [
    "s = str.maketrans(\"0123456789\", \"abcdefghij\")\n",
    "# string = \"Convert a string to a list of characters.\"\n",
    "string = string.translate(s)\n",
    "string"
   ]
  },
  {
   "cell_type": "code",
   "execution_count": 40,
   "id": "13339ef0-a1ec-41c9-8c5f-0eb6f4d48e4b",
   "metadata": {},
   "outputs": [],
   "source": [
    "#44. Find the most frequent word in a string."
   ]
  },
  {
   "cell_type": "code",
   "execution_count": 52,
   "id": "fd6052df-f12b-4484-bb3f-56cb3c17bceb",
   "metadata": {},
   "outputs": [
    {
     "name": "stdout",
     "output_type": "stream",
     "text": [
      "Most frequently used word is:  a\n"
     ]
    }
   ],
   "source": [
    "str_dic = {}\n",
    "for i in string.split():\n",
    "    if i.isalpha():\n",
    "        if str_dic.get(i) == None:\n",
    "            str_dic[i] =  1\n",
    "        else:\n",
    "            str_dic[i] =  str_dic.get(i) + 1\n",
    "\n",
    "str_dic = sorted(str_dic.items(), key=lambda item: item[1], reverse=True)\n",
    "print(\"Most frequently used word is: \", str_dic[0][0])"
   ]
  },
  {
   "cell_type": "code",
   "execution_count": 53,
   "id": "9851611a-dbcf-4b75-8936-4df17b3c59b4",
   "metadata": {},
   "outputs": [],
   "source": [
    "#45. Find all unique words in a string."
   ]
  },
  {
   "cell_type": "code",
   "execution_count": 31,
   "id": "7280b280-a500-4c4f-a7df-031471485b84",
   "metadata": {},
   "outputs": [
    {
     "name": "stdout",
     "output_type": "stream",
     "text": [
      "Unique words from the given string {'to', 'string', 'a', 'of', 'characters.', 'Convert', 'list'}\n"
     ]
    }
   ],
   "source": [
    "string = 'Convert a string to a list of characters.'\n",
    "print(\"Unique words from the given string\", set(string.split()))"
   ]
  },
  {
   "cell_type": "code",
   "execution_count": null,
   "id": "3f60a3e0-fec6-48b7-891a-894b27277e3c",
   "metadata": {},
   "outputs": [],
   "source": []
  },
  {
   "cell_type": "code",
   "execution_count": 62,
   "id": "2f77836e-9c9d-41c7-b6f2-7f29cac576fb",
   "metadata": {},
   "outputs": [],
   "source": [
    "# 46. Count the number of syllables in a string."
   ]
  },
  {
   "cell_type": "code",
   "execution_count": 64,
   "id": "a4564874-175d-409b-8979-0a1b5753d337",
   "metadata": {},
   "outputs": [
    {
     "name": "stdout",
     "output_type": "stream",
     "text": [
      "Number of symbols from a given data : 21\n"
     ]
    }
   ],
   "source": [
    "string =\" Count the number of syllables()-[]{};:\\,<>./?@#$% in a string.\"\n",
    "punc = '''!()-[]{};:'\"\\,<>./?@#$%^&*_~'''\n",
    "count = 0\n",
    "for i in string:\n",
    "    if i in punc:\n",
    "        count = count + 1\n",
    "\n",
    "print(\"Number of symbols from a given data :\", count)"
   ]
  },
  {
   "cell_type": "code",
   "execution_count": 65,
   "id": "c045189e-1b9e-4c38-affd-1fbf38f87f4e",
   "metadata": {},
   "outputs": [],
   "source": [
    "# 47. Check if a string contains any special characters."
   ]
  },
  {
   "cell_type": "code",
   "execution_count": 67,
   "id": "5a8d59bd-8a60-47d4-a77f-c3fde03afe00",
   "metadata": {},
   "outputs": [
    {
     "name": "stdout",
     "output_type": "stream",
     "text": [
      "Does string contains any special Chars : True\n"
     ]
    }
   ],
   "source": [
    "string =\" Count the number of syllables()-[]{};:\\,<>./?@#$% in a string.\"\n",
    "punc = '''!()-[]{};:'\"\\,<>./?@#$%^&*_~'''\n",
    "count = 0\n",
    "for i in string:\n",
    "    if i in punc:\n",
    "        count = count + 1\n",
    "        break\n",
    "\n",
    "print(\"Does string contains any special Chars :\", count > 0)"
   ]
  },
  {
   "cell_type": "code",
   "execution_count": 68,
   "id": "656e8f95-7a30-404b-bedb-a6cef44b233b",
   "metadata": {},
   "outputs": [],
   "source": [
    "# 48. Remove the nth word from a string."
   ]
  },
  {
   "cell_type": "code",
   "execution_count": 75,
   "id": "148a7616-08cc-4b36-92cf-97afb046edd8",
   "metadata": {},
   "outputs": [
    {
     "name": "stdin",
     "output_type": "stream",
     "text": [
      "enter index to remove a word from the given data:  5\n"
     ]
    },
    {
     "name": "stdout",
     "output_type": "stream",
     "text": [
      "New string is:  Remove the nth word from string.\n"
     ]
    }
   ],
   "source": [
    "string =\"Remove the nth word from a string.\"\n",
    "l = string.split()\n",
    "del l[int(input(\"enter index to remove a word from the given data: \"))]\n",
    "print(\"New string is: \", ' '.join(l))"
   ]
  },
  {
   "cell_type": "code",
   "execution_count": 76,
   "id": "9cf74918-ebe9-4a58-8f37-f2f78992830a",
   "metadata": {},
   "outputs": [],
   "source": [
    "# 49. Insert a word at the nth position in a string."
   ]
  },
  {
   "cell_type": "code",
   "execution_count": 81,
   "id": "085f5572-35c4-4373-a382-4d3f08295e1a",
   "metadata": {},
   "outputs": [
    {
     "name": "stdin",
     "output_type": "stream",
     "text": [
      "enter word into the data:  the\n",
      "ente the index to insert:  4\n"
     ]
    },
    {
     "name": "stdout",
     "output_type": "stream",
     "text": [
      "['Insert', 'a', 'word', 'at', 'the', 'nth', 'position', 'in', 'a', 'string.']\n",
      "new string with new word:  Insert a word at the nth position in a string.\n"
     ]
    }
   ],
   "source": [
    "string =\"Insert a word at nth position in a string.\"\n",
    "\n",
    "word = input(\"enter word into the data: \")\n",
    "nth = int(input(\"ente the index to insert: \"))\n",
    "l = string.split()\n",
    "l.insert(nth, word)\n",
    "print(l)\n",
    "print (\"new string with new word: \", ' '.join(l))"
   ]
  },
  {
   "cell_type": "code",
   "execution_count": 83,
   "id": "0924edb0-f02e-422e-b85e-bf62cf7d99d2",
   "metadata": {},
   "outputs": [],
   "source": [
    "#50. Convert a CSV string to a list of lists."
   ]
  },
  {
   "cell_type": "code",
   "execution_count": 13,
   "id": "8fe7ac34-2fd1-4e47-9667-a4cf076e8d4c",
   "metadata": {},
   "outputs": [
    {
     "name": "stdout",
     "output_type": "stream",
     "text": [
      "[['Name', 'Age', 'Country'], ['Alice', '25', 'USA'], ['Bob', '30', 'Canada'], ['Eve', '22', 'UK']]\n"
     ]
    }
   ],
   "source": [
    "string =\"\"\"Name,Age,Country\n",
    "Alice,25,USA\n",
    "Bob,30,Canada\n",
    "Eve,22,UK\"\"\"\n",
    "l = list()\n",
    "line = 0\n",
    "for s in string.split(\"\\n\"):\n",
    "    l.append( s.split(\",\"))\n",
    "    line += 1\n",
    "print(l)\n"
   ]
  },
  {
   "cell_type": "code",
   "execution_count": null,
   "id": "533ad474-d390-4e55-ab80-7efb936b7e34",
   "metadata": {},
   "outputs": [],
   "source": []
  },
  {
   "cell_type": "code",
   "execution_count": 84,
   "id": "4141ffb8-97b0-4686-a39c-936b955c63ba",
   "metadata": {},
   "outputs": [],
   "source": [
    "#List Based Practice Problem :"
   ]
  },
  {
   "cell_type": "code",
   "execution_count": 1,
   "id": "078a27c5-3bac-4e38-ab5f-804f69349881",
   "metadata": {},
   "outputs": [
    {
     "name": "stdout",
     "output_type": "stream",
     "text": [
      "List from 1 to 10 is:  [1, 2, 3, 4, 5, 6, 7, 8, 9, 10]\n"
     ]
    }
   ],
   "source": [
    "#1. Create a list with integers from 1 to 10.\n",
    "l = list(range(1,11))\n",
    "print(\"List from 1 to 10 is: \", l)"
   ]
  },
  {
   "cell_type": "code",
   "execution_count": 53,
   "id": "bb878235-7421-4745-b8b9-97bda6baf32e",
   "metadata": {},
   "outputs": [
    {
     "name": "stdout",
     "output_type": "stream",
     "text": [
      "No. of items from the list is :  10\n"
     ]
    }
   ],
   "source": [
    "#2. Find the length of a list without using the `len()` function.\n",
    "count = 0\n",
    "l = [1, 2, 3, 4, 5, 6, 7, 8, 9, 10]\n",
    "\n",
    "for i in l:\n",
    "    count = count + 1\n",
    "print(\"No. of items from the list is : \", count)"
   ]
  },
  {
   "cell_type": "code",
   "execution_count": 57,
   "id": "344fb55b-99d0-4d52-acbf-a50142db48da",
   "metadata": {},
   "outputs": [
    {
     "name": "stdout",
     "output_type": "stream",
     "text": [
      "List after appended:  [1, 2, 3, 4, 5, 6, 7, 8, 9, 10, 11, 12, 13, 14]\n"
     ]
    }
   ],
   "source": [
    "# 3. Append an element to the end of a list.\n",
    "l=[1, 2, 3, 4, 5, 6, 7, 8, 9, 10]\n",
    "\n",
    "l.extend([11,12,13,14])\n",
    "print(\"List after appended: \", l)"
   ]
  },
  {
   "cell_type": "code",
   "execution_count": 58,
   "id": "fc032752-6184-482a-ab77-ea0a2b46dee7",
   "metadata": {},
   "outputs": [
    {
     "name": "stdout",
     "output_type": "stream",
     "text": [
      "Inserted '0' at zeroth position:  [0, 1, 2, 3, 4, 5, 6, 7, 8, 9, 10]\n"
     ]
    }
   ],
   "source": [
    "# 4. Insert an element at a specific index in a list.\n",
    "l = [1, 2, 3, 4, 5, 6, 7, 8, 9, 10]\n",
    "\n",
    "l.insert(0, 0)\n",
    "print(\"Inserted '0' at zeroth position: \", l)"
   ]
  },
  {
   "cell_type": "code",
   "execution_count": 59,
   "id": "efb759d5-3110-4088-9d8c-c85ccf2c9072",
   "metadata": {},
   "outputs": [
    {
     "name": "stdout",
     "output_type": "stream",
     "text": [
      "List after removed '10' : [1, 2, 3, 4, 5, 6, 7, 8, 9]\n"
     ]
    }
   ],
   "source": [
    "#5. Remove an element from a list by its value.\n",
    "l = [1, 2, 3, 4, 5, 6, 7, 8, 9, 10]\n",
    "l.remove(10)\n",
    "print(\"List after removed '10' :\", l)"
   ]
  },
  {
   "cell_type": "code",
   "execution_count": 62,
   "id": "03e984ae-4356-4193-9e09-50be8a7b7ee8",
   "metadata": {},
   "outputs": [
    {
     "name": "stdout",
     "output_type": "stream",
     "text": [
      "List after removed 11th index : [1, 2, 3, 4, 5, 6, 7, 8, 9, 10, 11]\n"
     ]
    }
   ],
   "source": [
    "#6. Remove an element from a list by its index.\n",
    "l = [1, 2, 3, 4, 5, 6, 7, 8, 9, 10, 11, 12]\n",
    "l.pop(11)\n",
    "print(\"List after removed 11th index :\", l)"
   ]
  },
  {
   "cell_type": "code",
   "execution_count": 64,
   "id": "e4d7283a-a6bc-4042-8d32-395e77ec6ab0",
   "metadata": {},
   "outputs": [
    {
     "name": "stdout",
     "output_type": "stream",
     "text": [
      "Check If '0' is present in list:  True\n",
      "Check If '14' is present in list:  True\n"
     ]
    }
   ],
   "source": [
    "# 7. Check if an element exists in a list.\n",
    "l = [0, 1, 2, 3, 4, 5, 6, 7, 8, 9, 10, 11, 12, 14]\n",
    "print(\"Check If '0' is present in list: \", l.index(0) >= -1 )\n",
    "print(\"Check If '14' is present in list: \", l.index(14) >= -1 )"
   ]
  },
  {
   "cell_type": "code",
   "execution_count": 65,
   "id": "38e1a3ba-6e2a-47d7-8216-2aef4ef63758",
   "metadata": {},
   "outputs": [
    {
     "name": "stdout",
     "output_type": "stream",
     "text": [
      "First occurence for '5' is :  5\n",
      "First occurence for '14' is :  13\n"
     ]
    }
   ],
   "source": [
    "# 8. Find the index of the first occurrence of an element in a list.\n",
    "l = [0, 1, 2, 3, 4, 5, 6, 7, 8, 9, 10, 11, 12, 14]\n",
    "l.append(14)\n",
    "l.extend([5, 10, 12, 14 , 5])\n",
    "print(\"First occurence for '5' is : \", l.index(5) )\n",
    "print(\"First occurence for '14' is : \", l.index(14) )"
   ]
  },
  {
   "cell_type": "code",
   "execution_count": 66,
   "id": "5d9eef3a-7b9a-496c-832c-026e28a86e8d",
   "metadata": {},
   "outputs": [
    {
     "name": "stdout",
     "output_type": "stream",
     "text": [
      " No.of occurences for '5' is :  1\n",
      " No.of occurences for '5' is :  1\n"
     ]
    }
   ],
   "source": [
    "#9. Count the occurrences of an element in a list.\n",
    "l = [0, 1, 2, 3, 4, 5, 6, 7, 8, 9, 10, 11, 12, 14]\n",
    "ele = 5\n",
    "count = 0\n",
    "for i in l:\n",
    "    if i == ele:\n",
    "        count = count + 1\n",
    "print(\" No.of occurences for '5' is : \", count)\n",
    "print(\" No.of occurences for '5' is : \", l.count(ele))"
   ]
  },
  {
   "cell_type": "code",
   "execution_count": 67,
   "id": "04258102-a2c9-4b4d-b143-ad0eccdf3f1e",
   "metadata": {},
   "outputs": [
    {
     "name": "stdout",
     "output_type": "stream",
     "text": [
      "Reverse order of elelements from the list is:  [14, 12, 11, 10, 9, 8, 7, 6, 5, 4, 3, 2, 1, 0]\n"
     ]
    }
   ],
   "source": [
    "# 10. Reverse the order of elements in a list.\n",
    "l = [0, 1, 2, 3, 4, 5, 6, 7, 8, 9, 10, 11, 12, 14]\n",
    "print(\"Reverse order of elelements from the list is: \", l[::-1])"
   ]
  },
  {
   "cell_type": "code",
   "execution_count": 69,
   "id": "7739d565-235e-4b5a-953a-c88dc988da44",
   "metadata": {},
   "outputs": [
    {
     "name": "stdout",
     "output_type": "stream",
     "text": [
      "Asending order of List:  [0, 1, 2, 3, 4, 5, 6, 7, 8, 9, 10, 11, 12, 14]\n"
     ]
    }
   ],
   "source": [
    "# 11. Sort a list in ascending order.\n",
    "l = [0, 1, 2, 3, 4, 5, 6, 7, 8, 9, 10, 11, 12, 14]\n",
    "print(\"Asending order of List: \", sorted(l) )"
   ]
  },
  {
   "cell_type": "code",
   "execution_count": 70,
   "id": "96f1f34f-e624-4218-9168-c11ead123c2c",
   "metadata": {},
   "outputs": [
    {
     "name": "stdout",
     "output_type": "stream",
     "text": [
      "Asending order of List:  [14, 12, 11, 10, 9, 8, 7, 6, 5, 4, 3, 2, 1, 0]\n"
     ]
    }
   ],
   "source": [
    "# 12. Sort a list in descending order.\n",
    "l = [0, 1, 2, 3, 4, 5, 6, 7, 8, 9, 10, 11, 12, 14]\n",
    "print(\"Asending order of List: \", sorted(l, key = None, reverse = True) )"
   ]
  },
  {
   "cell_type": "code",
   "execution_count": 4,
   "id": "f453c566-5614-4691-9667-d5f5568482b6",
   "metadata": {},
   "outputs": [
    {
     "name": "stdout",
     "output_type": "stream",
     "text": [
      "List for Even numbers from 1 to 20:  [2, 4, 6, 8, 10, 12, 14, 16, 18, 20]\n"
     ]
    }
   ],
   "source": [
    "# 13. Create a list of even numbers from 1 to 20.\n",
    "l = []\n",
    "for a in range(1, 21):\n",
    "    if a % 2 != 0:\n",
    "        continue\n",
    "    l.append(a)\n",
    "print(\"List for Even numbers from 1 to 20: \", l)"
   ]
  },
  {
   "cell_type": "code",
   "execution_count": 2,
   "id": "d598b435-7435-4005-a862-2882a265807d",
   "metadata": {},
   "outputs": [
    {
     "name": "stdout",
     "output_type": "stream",
     "text": [
      "List for Odd numbers from 1 to 20:  [1, 3, 5, 7, 9, 11, 13, 15, 17, 19]\n"
     ]
    }
   ],
   "source": [
    "# 14. Create a list of odd numbers from 1 to 20.\n",
    "l = []\n",
    "for a in range(21):\n",
    "    if a % 2 == 0:\n",
    "        continue\n",
    "    l.append(a)\n",
    "\n",
    "print(\"List for Odd numbers from 1 to 20: \", l)"
   ]
  },
  {
   "cell_type": "code",
   "execution_count": 17,
   "id": "39cdfed4-f4ae-484d-8ed9-c78c7aecf91e",
   "metadata": {},
   "outputs": [
    {
     "name": "stdout",
     "output_type": "stream",
     "text": [
      "Sum of all elements in a list is :  158\n",
      "Sum of all elements in a list is :  158\n"
     ]
    }
   ],
   "source": [
    "# 15. Find the sum of all elements in a list.\n",
    "sum_elements = 0\n",
    "l = [0, 1, 2, 3, 4, 5, 5, 5, 6, 7, 8, 9, 10, 11, 12, 14, 14, 14, 14, 14]\n",
    "for i in l:\n",
    "    sum_elements = sum_elements + i\n",
    "print(\"Sum of all elements in a list is : \", sum_elements)\n",
    "print(\"Sum of all elements in a list is : \", sum(l))"
   ]
  },
  {
   "cell_type": "code",
   "execution_count": 72,
   "id": "fa16f1f4-a520-4d6b-b057-8ebc69cd903d",
   "metadata": {},
   "outputs": [
    {
     "name": "stdout",
     "output_type": "stream",
     "text": [
      "Maximum valus from a list is : 14\n",
      "Maximum valus from a list is : 14\n"
     ]
    }
   ],
   "source": [
    "# 16. Find the maximum value in a list.\n",
    "l = [0, 1, 2, 3, 4, 5, 5, 5, 6, 7, 8, 9, 10, 11, 12, 14, 14, 14, 14, 14]\n",
    "\n",
    "maximum = 0\n",
    "\n",
    "for i in l:\n",
    "    if i > maximum:\n",
    "        maximum = i\n",
    "\n",
    "print(\"Maximum valus from a list is :\", maximum)\n",
    "print(\"Maximum valus from a list is :\", max(l))"
   ]
  },
  {
   "cell_type": "code",
   "execution_count": 73,
   "id": "25272f0d-f837-4dab-ae2c-158b828a3c44",
   "metadata": {},
   "outputs": [
    {
     "name": "stdout",
     "output_type": "stream",
     "text": [
      "Maximum valus from a list is : 0\n",
      "Maximum valus from a list is : 0\n"
     ]
    }
   ],
   "source": [
    "# 17. Find the minimum value in a list.\n",
    "l = [0, 1, 2, 3, 4, 5, 5, 5, 6, 7, 8, 9, 10, 11, 12, 14, 14, 14, 14, 14]\n",
    "\n",
    "minimum = 0\n",
    "\n",
    "for i in l:\n",
    "    if i < minimum:\n",
    "        minimum = i\n",
    "\n",
    "print(\"Maximum valus from a list is :\", minimum)\n",
    "print(\"Maximum valus from a list is :\", min(l))"
   ]
  },
  {
   "cell_type": "code",
   "execution_count": 20,
   "id": "0dcbd558-b6fe-4ec3-8bbb-bdae8a92c033",
   "metadata": {},
   "outputs": [
    {
     "name": "stdout",
     "output_type": "stream",
     "text": [
      "Squares of numbers from a list are:  [1, 4, 9, 16, 25, 36, 49, 64, 81, 100]\n"
     ]
    }
   ],
   "source": [
    "# 18. Create a list of squares of numbers from 1 to 10.\n",
    "\n",
    "l1 = range(1, 11, 1)\n",
    "squares_list = []\n",
    "\n",
    "for i in l1:\n",
    "    squares_list.append(i*i)\n",
    "\n",
    "print(\"Squares of numbers from a list are: \", squares_list)"
   ]
  },
  {
   "cell_type": "code",
   "execution_count": 21,
   "id": "c9f6c914-3941-4580-9143-72ebcf2eb8aa",
   "metadata": {},
   "outputs": [
    {
     "name": "stdout",
     "output_type": "stream",
     "text": [
      "random data:  [31, 71, 85, 72, 54, 54, 98, 2, 76, 94]\n"
     ]
    }
   ],
   "source": [
    "# 19. Create a list of random numbers.\n",
    "import random \n",
    "rl = []\n",
    "for i in range(1,11):\n",
    "    r = random.randint(1, 100)\n",
    "    rl.append(r)\n",
    "print(\"random data: \", rl)"
   ]
  },
  {
   "cell_type": "code",
   "execution_count": 22,
   "id": "40a02acd-6ae5-4915-a52c-fe20e946ea0c",
   "metadata": {},
   "outputs": [
    {
     "name": "stdout",
     "output_type": "stream",
     "text": [
      "List without duplicates:  [0, 1, 2, 3, 4, 5, 6, 7, 8, 9, 10, 11, 12, 14]\n"
     ]
    }
   ],
   "source": [
    "# 20. Remove duplicates from a list.\n",
    "l = [0, 1, 2, 3, 4, 5, 5, 5, 6, 7, 8, 9, 10, 11, 12, 14, 14, 14, 14, 14]\n",
    "si = set(l)\n",
    "new_l = list(si)\n",
    "print(\"List without duplicates: \", new_l)"
   ]
  },
  {
   "cell_type": "code",
   "execution_count": 23,
   "id": "dd246b27-d9aa-4b73-b35c-f29c91d5a0a5",
   "metadata": {},
   "outputs": [
    {
     "name": "stdout",
     "output_type": "stream",
     "text": [
      "Common elements from the list:  {1, 3, 4, 6, 9}\n"
     ]
    }
   ],
   "source": [
    "# 21. Find the common elements between two lists.\n",
    "l = [0, 1, 2, 3, 4, 5, 5, 5, 6, 7, 8, 9, 10, 11, 12, 14, 14, 14, 14, 14]\n",
    "l1 = [1, 4, 9, 6, 25, 3, 49, 64, 81, 100]\n",
    "print(\"Common elements from the list: \", set(l) - ( set(l) - set(l1) ) )"
   ]
  },
  {
   "cell_type": "code",
   "execution_count": 24,
   "id": "248c6e22-13de-4267-a21f-e762038261e2",
   "metadata": {},
   "outputs": [
    {
     "name": "stdout",
     "output_type": "stream",
     "text": [
      "difference elements from given lists:  [64, 0, 2, 5, 7, 8, 10, 11, 12, 14, 81, 25, 100, 49]\n"
     ]
    }
   ],
   "source": [
    "#22. Find the difference between two lists.\n",
    "l = [0, 1, 2, 3, 4, 5, 5, 5, 6, 7, 8, 9, 10, 11, 12, 14, 14, 14, 14, 14]\n",
    "l1 = [1, 4, 9, 6, 25, 3, 49, 64, 81, 100]\n",
    "\n",
    "difference_result = set(l).symmetric_difference(set(l1))\n",
    "\n",
    "print(\"difference elements from given lists: \", list(difference_result) )"
   ]
  },
  {
   "cell_type": "code",
   "execution_count": 25,
   "id": "d120013d-d9f5-419c-bb1f-8108f77bed09",
   "metadata": {},
   "outputs": [
    {
     "name": "stdout",
     "output_type": "stream",
     "text": [
      "New list after merge : [0, 1, 2, 3, 4, 5, 5, 5, 6, 7, 8, 9, 10, 11, 12, 14, 14, 14, 14, 14, 1, 4, 9, 6, 25, 3, 49, 64, 81, 100]\n"
     ]
    }
   ],
   "source": [
    "# 23. Merge two lists.\n",
    "l = [0, 1, 2, 3, 4, 5, 5, 5, 6, 7, 8, 9, 10, 11, 12, 14, 14, 14, 14, 14]\n",
    "l1 = [1, 4, 9, 6, 25, 3, 49, 64, 81, 100]\n",
    "l.extend(l1)\n",
    "print(\"New list after merge :\", l )"
   ]
  },
  {
   "cell_type": "code",
   "execution_count": 26,
   "id": "7b222994-a87a-4b9a-8a4e-b0c7c51ad889",
   "metadata": {},
   "outputs": [
    {
     "name": "stdout",
     "output_type": "stream",
     "text": [
      "New list Multiply all elements in a list by 2:  [0, 2, 4, 6, 8, 10, 10, 10, 12, 14, 16, 18, 20, 22, 24, 28, 28, 28, 28, 28]\n"
     ]
    }
   ],
   "source": [
    "# 24. Multiply all elements in a list by 2.\n",
    "l = [0, 1, 2, 3, 4, 5, 5, 5, 6, 7, 8, 9, 10, 11, 12, 14, 14, 14, 14, 14]\n",
    "new_list = []\n",
    "\n",
    "for i in l:\n",
    "    new_list.append( i * 2 )\n",
    "\n",
    "print(\"New list Multiply all elements in a list by 2: \", new_list)"
   ]
  },
  {
   "cell_type": "code",
   "execution_count": 27,
   "id": "a0aa3557-181d-4ff1-b236-e5421ecbeec9",
   "metadata": {},
   "outputs": [
    {
     "name": "stdout",
     "output_type": "stream",
     "text": [
      "New list with even numbers:  [0, 2, 4, 6, 8, 10, 12, 14, 14, 14, 14, 14]\n"
     ]
    }
   ],
   "source": [
    "# 25. Filter out all even numbers from a list.\n",
    "l = [0, 1, 2, 3, 4, 5, 5, 5, 6, 7, 8, 9, 10, 11, 12, 14, 14, 14, 14, 14]\n",
    "new_list = []\n",
    "\n",
    "for i in l:\n",
    "    if i % 2 == 0:\n",
    "        new_list.append( i )\n",
    "\n",
    "print(\"New list with even numbers: \", new_list)"
   ]
  },
  {
   "cell_type": "code",
   "execution_count": 28,
   "id": "067f3223-aeba-4022-b729-90a85a68f4e1",
   "metadata": {},
   "outputs": [
    {
     "name": "stdout",
     "output_type": "stream",
     "text": [
      "New list for integers:  [1, 2, 3, 4, 5]\n"
     ]
    }
   ],
   "source": [
    "# 26. Convert a list of strings to a list of integers.\n",
    "sl = ['1', '2', '3', '4', '5']\n",
    "il = []\n",
    "for i in sl:\n",
    "    il.append(int(i))\n",
    "\n",
    "print(\"New list for integers: \", il)"
   ]
  },
  {
   "cell_type": "code",
   "execution_count": 29,
   "id": "dad59c89-4843-4b10-98fb-6fcb12fcb62c",
   "metadata": {},
   "outputs": [
    {
     "name": "stdout",
     "output_type": "stream",
     "text": [
      "New list for strings:  ['0', '1', '2', '3', '4', '5', '5', '5', '6', '7', '8', '9', '10', '11', '12', '14', '14', '14', '14', '14']\n"
     ]
    }
   ],
   "source": [
    "# 27. Convert a list of integers to a list of strings.\n",
    "l = [0, 1, 2, 3, 4, 5, 5, 5, 6, 7, 8, 9, 10, 11, 12, 14, 14, 14, 14, 14]\n",
    "sl = []\n",
    "\n",
    "for i in l:\n",
    "    sl.append(str(i))\n",
    "\n",
    "print(\"New list for strings: \", sl)\n"
   ]
  },
  {
   "cell_type": "code",
   "execution_count": 31,
   "id": "dd1f5912-b4a9-45bf-88b5-0051c3329253",
   "metadata": {},
   "outputs": [
    {
     "name": "stdout",
     "output_type": "stream",
     "text": [
      "actual List:  [1, 2, 3, 4, 5, [8, 3, 4, 52, 45]]\n",
      "Flatten List :  [1, 2, 3, 4, 5, 8, 3, 4, 52, 45]\n"
     ]
    }
   ],
   "source": [
    "# 28. Flatten a nested list.\n",
    "il = [1, 2, 3, 4, 5]\n",
    "il.append([8,3,4,52,45])\n",
    "\n",
    "print(\"actual List: \", il)\n",
    "\n",
    "flat_list = []\n",
    "\n",
    "for i in il:\n",
    "    if type(i) == list:\n",
    "            flat_list.extend(i)\n",
    "    else:\n",
    "        flat_list.append(i)\n",
    "\n",
    "print(\"Flatten List : \", flat_list)"
   ]
  },
  {
   "cell_type": "code",
   "execution_count": 32,
   "id": "d07dd839-9868-4041-bce1-2f40ee53d1e8",
   "metadata": {},
   "outputs": [
    {
     "name": "stdout",
     "output_type": "stream",
     "text": [
      "Is given list sorted:  False\n",
      "Is given list sorted:  True\n"
     ]
    }
   ],
   "source": [
    "# 30. Check if a list is sorted.\n",
    "l = [0, 1, 2, 3, 4, 5, 15, 5, 6, 7, 8, 9, 10, 11, 12, 14, 14, 14, 14, 14]\n",
    "print(\"Is given list sorted: \", l == sorted(l))\n",
    "l = [0, 1, 2, 3, 4, 5, 5, 5, 6, 7, 8, 9, 10, 11, 12, 14, 14, 14, 14, 14]\n",
    "print(\"Is given list sorted: \", l == sorted(l))"
   ]
  },
  {
   "cell_type": "code",
   "execution_count": 33,
   "id": "c1183f59-e236-4180-84e3-519fa1e798d9",
   "metadata": {},
   "outputs": [
    {
     "name": "stdout",
     "output_type": "stream",
     "text": [
      "List of prime numbers up to 50:  [2, 3, 5, 7, 11, 13, 17, 19, 23, 29, 31, 37, 41, 43, 47]\n"
     ]
    }
   ],
   "source": [
    "# 33. Create a list of prime numbers up to 50.\n",
    "list_new = range(2,51)\n",
    "prime_nums = []\n",
    "\n",
    "for i in list_new: \n",
    "    for j in list_new:\n",
    "        if i%j == 0:\n",
    "            break\n",
    "    if i == j:\n",
    "        prime_nums.append(i)\n",
    "\n",
    "print(\"List of prime numbers up to 50: \", prime_nums)"
   ]
  },
  {
   "cell_type": "code",
   "execution_count": 34,
   "id": "2f19224d-0bb4-423f-a968-300344db8031",
   "metadata": {},
   "outputs": [
    {
     "name": "stdout",
     "output_type": "stream",
     "text": [
      "2nd largest number from the given list:  12\n"
     ]
    }
   ],
   "source": [
    "# 35. Find the second largest number in a list.\n",
    "l = [0, 1, 2, 3, 4, 5, 5, 5, 6, 7, 8, 9, 10, 11, 12, 14, 14, 14, 14, 14]\n",
    "sl = list(set(l))\n",
    "sl = sorted(sl, key=None, reverse=True)\n",
    "print(\"2nd largest number from the given list: \", sl[1])"
   ]
  },
  {
   "cell_type": "code",
   "execution_count": 35,
   "id": "0781e6dd-a326-46cb-a0f2-6bfbb7f27731",
   "metadata": {},
   "outputs": [
    {
     "name": "stdout",
     "output_type": "stream",
     "text": [
      "New list wit squares:  [0, 1, 4, 9, 16, 25, 25, 25, 36, 49, 64, 81, 100, 121, 144, 196, 196, 196, 196, 196]\n"
     ]
    }
   ],
   "source": [
    "# 36. Replace every element in a list with its square.\n",
    "l = [0, 1, 2, 3, 4, 5, 5, 5, 6, 7, 8, 9, 10, 11, 12, 14, 14, 14, 14, 14]\n",
    "item = 0 \n",
    "\n",
    "for i in l:\n",
    "    l[item] = i * i\n",
    "    item = item + 1\n",
    "\n",
    "print(\"New list wit squares: \", l)"
   ]
  },
  {
   "cell_type": "code",
   "execution_count": 36,
   "id": "49c57015-4f5d-476e-8f1d-e5b7cd8c2d01",
   "metadata": {},
   "outputs": [
    {
     "name": "stdout",
     "output_type": "stream",
     "text": [
      "Dictionary for a give list:  {0: 0, 1: 1, 2: 2, 3: 3, 4: 4, 5: 5, 6: 7, 7: 8, 8: 9, 9: 10, 10: 11, 11: 12, 12: 13, 14: 14, 15: 19}\n"
     ]
    }
   ],
   "source": [
    "# 37. Convert a list to a dictionary where list elements become keys and their indices become values.\n",
    "l1 = [0, 1, 2, 3, 4, 5, 5, 6, 7, 8, 9, 10, 11, 12, 14, 14, 14, 14, 14, 15]\n",
    "dc= {}\n",
    "\n",
    "for i in l1:\n",
    "    dc[i] = l1.index(i)\n",
    "\n",
    "print(\"Dictionary for a give list: \", dc)"
   ]
  },
  {
   "cell_type": "code",
   "execution_count": 37,
   "id": "cd316cd7-c47b-4840-bb33-3157ee6276b4",
   "metadata": {},
   "outputs": [
    {
     "name": "stdout",
     "output_type": "stream",
     "text": [
      "Shuffled list : [15, 10, 14, 14, 5, 0, 14, 6, 1, 8, 5, 14, 11, 12, 4, 9, 2, 3, 7, 14]\n"
     ]
    }
   ],
   "source": [
    "# 38. Shuffle the elements of a list randomly.\n",
    "import random\n",
    "l1 = [0, 1, 2, 3, 4, 5, 5, 6, 7, 8, 9, 10, 11, 12, 14, 14, 14, 14, 14, 15]\n",
    "random.shuffle(l1)\n",
    "print(\"Shuffled list :\", l1)"
   ]
  },
  {
   "cell_type": "code",
   "execution_count": 38,
   "id": "d7960e45-8db1-4f45-8675-61e3cc6f6deb",
   "metadata": {},
   "outputs": [],
   "source": [
    "# 39. Create a list of the first 10 factorial numbers."
   ]
  },
  {
   "cell_type": "code",
   "execution_count": 35,
   "id": "87320900-c166-4237-8d8b-c472f06d76b2",
   "metadata": {},
   "outputs": [
    {
     "name": "stdout",
     "output_type": "stream",
     "text": [
      "A list of the first 10 factorial numbers are:  [2, 4, 8, 16, 32, 64, 128, 256, 512, 1024]\n"
     ]
    }
   ],
   "source": [
    "fl = []\n",
    "\n",
    "def factorial(l):\n",
    "    factorial_number = 1\n",
    "    for n in list(range(1, l+1)):\n",
    "        factorial_number = factorial_number * 2\n",
    "    return factorial_number\n",
    "\n",
    "for x in list(range(1, 11)):\n",
    "    fl.append(factorial(x))\n",
    "    \n",
    "print(\"A list of the first 10 factorial numbers are: \", fl)"
   ]
  },
  {
   "cell_type": "code",
   "execution_count": null,
   "id": "89c55762-fa3c-4e97-b260-8c5bbdcab146",
   "metadata": {},
   "outputs": [],
   "source": []
  },
  {
   "cell_type": "code",
   "execution_count": 39,
   "id": "f14f970f-8d65-4a1f-8a36-3a0451c1aeaa",
   "metadata": {},
   "outputs": [
    {
     "name": "stdout",
     "output_type": "stream",
     "text": [
      "Are there any common elements present from l2 and l3:  True\n"
     ]
    }
   ],
   "source": [
    "# 40. Check if two lists have at least one element in common.\n",
    "l2 = [1,2,3,4,5,6]\n",
    "l3 = [7,8,9,1,8,9]\n",
    "sl2 = set(l2)\n",
    "sl3 = set(l3)\n",
    "print(\"Are there any common elements present from l2 and l3: \", len(sl2.intersection(sl3)) > 0)"
   ]
  },
  {
   "cell_type": "code",
   "execution_count": 41,
   "id": "34dc6d4b-d854-4e38-84de-ac0b7e248dce",
   "metadata": {},
   "outputs": [
    {
     "name": "stdout",
     "output_type": "stream",
     "text": [
      "Any elements present in l2:  False \n",
      "Elements are:  []\n"
     ]
    }
   ],
   "source": [
    "# 41. Remove all elements from a list.\n",
    "l2 = [1,2,3,4,5,6]\n",
    "l2.clear()\n",
    "print(\"Any elements present in l2: \", len(l2) > 0, \"\\nElements are: \", l2)"
   ]
  },
  {
   "cell_type": "code",
   "execution_count": 42,
   "id": "48252094-4fc9-4799-99d0-44be8055dbac",
   "metadata": {},
   "outputs": [
    {
     "name": "stdout",
     "output_type": "stream",
     "text": [
      "New data list with positive numbers:  [1, 2, 0, 4, 0, 6]\n"
     ]
    }
   ],
   "source": [
    "# 42. Replace negative numbers in a list with 0.\n",
    "l2 = [1,2,-3,4,-5,6]\n",
    "\n",
    "for i in l2:\n",
    "    if i < 0:\n",
    "        l2[l2.index(i)] = 0\n",
    "    \n",
    "print(\"New data list with positive numbers: \", l2)"
   ]
  },
  {
   "cell_type": "code",
   "execution_count": 43,
   "id": "464fa58e-fc5d-4378-9ccb-1fc45e30df63",
   "metadata": {},
   "outputs": [
    {
     "name": "stdout",
     "output_type": "stream",
     "text": [
      "A List from a string:  ['43.', 'Convert', 'a', 'string', 'into', 'a', 'list', 'of', 'words.']\n"
     ]
    }
   ],
   "source": [
    "# 43. Convert a string into a list of words.\n",
    "s1 = \"43. Convert a string into a list of words.\"\n",
    "l11 = s1.split()\n",
    "print(\"A List from a string: \", l11)"
   ]
  },
  {
   "cell_type": "code",
   "execution_count": 44,
   "id": "1f2cb55d-8ed9-4cb1-92d9-5e60acaa7e33",
   "metadata": {},
   "outputs": [
    {
     "name": "stdout",
     "output_type": "stream",
     "text": [
      "A String from a list:  44. Convert a list of words into a string.\n"
     ]
    }
   ],
   "source": [
    "# 44. Convert a list of words into a string.\n",
    "l11 = ['44.', 'Convert', 'a', 'list', 'of', 'words', 'into', 'a', 'string.']\n",
    "print(\"A String from a list: \", ' '.join(l11))"
   ]
  },
  {
   "cell_type": "code",
   "execution_count": 45,
   "id": "c2223969-6d7d-456d-8e4c-cb37c4f3596d",
   "metadata": {},
   "outputs": [],
   "source": [
    "# 45. Create a list of the first `n` powers of 2."
   ]
  },
  {
   "cell_type": "code",
   "execution_count": 36,
   "id": "72d3dc2b-7d25-4045-94ab-7531bac37f7b",
   "metadata": {},
   "outputs": [
    {
     "name": "stdin",
     "output_type": "stream",
     "text": [
      "Enter a number to find first 'n' powers of 2: 5\n"
     ]
    },
    {
     "name": "stdout",
     "output_type": "stream",
     "text": [
      "A List of the first 'n' powers of 2: [1, 4, 9, 16, 25]\n"
     ]
    }
   ],
   "source": [
    "def n_pow_2(x):\n",
    "    return pow(x, 2)\n",
    "\n",
    "n = int(input(\"Enter a number to find first 'n' powers of 2:\"))\n",
    "l1 = list()\n",
    "for i in range(1, n+1):\n",
    "    l1.append(n_pow_2(i))\n",
    "\n",
    "print(\"A List of the first 'n' powers of 2:\", l1)"
   ]
  },
  {
   "cell_type": "code",
   "execution_count": null,
   "id": "ea5282ff-f192-4bab-a5c6-5f49438e18c2",
   "metadata": {},
   "outputs": [],
   "source": []
  },
  {
   "cell_type": "code",
   "execution_count": 46,
   "id": "b88a2c84-41b0-4845-82f5-be43eeae9857",
   "metadata": {},
   "outputs": [
    {
     "name": "stdout",
     "output_type": "stream",
     "text": [
      "longest word from a given data is:  strings.\n"
     ]
    }
   ],
   "source": [
    "# 46. Find the longest string in a list of strings.\n",
    "s1 = \"Find the longest string in the list of strings.\"\n",
    "l1 = s1.split(' ')\n",
    "l2 = sorted(l1, key=len, reverse=True)\n",
    "print(\"longest word from a given data is: \", l2[0])"
   ]
  },
  {
   "cell_type": "code",
   "execution_count": 47,
   "id": "f6c86e7e-cf9f-47e8-b338-3ea009081eab",
   "metadata": {},
   "outputs": [
    {
     "name": "stdout",
     "output_type": "stream",
     "text": [
      "longest word from a given data is:  in\n"
     ]
    }
   ],
   "source": [
    "#47. Find the shortest string in a list of strings.\n",
    "s1 = \"Find the shortest string in the list of strings.\"\n",
    "l1 = s1.split(' ')\n",
    "l2 = sorted(l1, key=len)\n",
    "print(\"longest word from a given data is: \", l2[0])"
   ]
  },
  {
   "cell_type": "code",
   "execution_count": 48,
   "id": "214ca9e7-224a-49f4-9bc2-234c3f570990",
   "metadata": {},
   "outputs": [],
   "source": [
    "# 48. Create a list of the first `n` triangular numbers."
   ]
  },
  {
   "cell_type": "code",
   "execution_count": 20,
   "id": "29cf9d0a-df83-45b9-8e77-d04c444abb4e",
   "metadata": {},
   "outputs": [
    {
     "name": "stdin",
     "output_type": "stream",
     "text": [
      "Enter a number create triangular numbers:  20\n"
     ]
    },
    {
     "name": "stdout",
     "output_type": "stream",
     "text": [
      "[1, 3, 6, 10, 15, 21, 28, 36, 45, 55, 66, 78, 91, 105, 120, 136, 153, 171, 190, 210]\n"
     ]
    }
   ],
   "source": [
    "n = int(input(\"Enter a number create triangular numbers: \"))\n",
    "tri_nums = []\n",
    "tri_num = 0\n",
    "\n",
    "for i in range(1, n + 1):\n",
    "    tri_num += i\n",
    "    tri_nums.append(tri_num)\n",
    "\n",
    "print(tri_nums)"
   ]
  },
  {
   "cell_type": "code",
   "execution_count": null,
   "id": "9c06d842-7a5e-4e01-b880-bf6e79279499",
   "metadata": {},
   "outputs": [],
   "source": []
  },
  {
   "cell_type": "code",
   "execution_count": 49,
   "id": "c57c77c1-2c68-4269-9165-79652cc3132c",
   "metadata": {},
   "outputs": [],
   "source": [
    "#49. Check if a list contains another list as a subsequence."
   ]
  },
  {
   "cell_type": "code",
   "execution_count": 3,
   "id": "8f56190a-246b-432f-b9b3-8976d4b9c4f4",
   "metadata": {},
   "outputs": [
    {
     "name": "stdout",
     "output_type": "stream",
     "text": [
      "Is a list contains another list as a subsequence: False\n"
     ]
    }
   ],
   "source": [
    "l = [1, 2, 3, [11,12,13], 21, 22, 23, 24, [31,32,33,34] ]\n",
    "#l = [1, 2, 3,  21, 22, 23, 24 ]\n",
    "bFlag = False\n",
    "for a in l:\n",
    "    if type(a) == list:\n",
    "        bFlag = True\n",
    "        \n",
    "print(\"Is a list contains another list as a subsequence:\", bFlag)"
   ]
  },
  {
   "cell_type": "code",
   "execution_count": null,
   "id": "7a79865d-1c11-4bda-b555-e6c1e689f15b",
   "metadata": {},
   "outputs": [],
   "source": []
  },
  {
   "cell_type": "code",
   "execution_count": 50,
   "id": "7d3eb0b4-cd32-43f0-bb9f-6a633c3d0833",
   "metadata": {},
   "outputs": [
    {
     "name": "stdout",
     "output_type": "stream",
     "text": [
      "Actual list is:  ['Swap', 'two', 'elements', 'in', 'a', 'list', 'by', 'their', 'indices']\n"
     ]
    },
    {
     "name": "stdin",
     "output_type": "stream",
     "text": [
      "first index to swap from the list:  1\n",
      "next index to swap from the list:  7\n"
     ]
    },
    {
     "name": "stdout",
     "output_type": "stream",
     "text": [
      "List after swapped:  ['Swap', 'their', 'elements', 'in', 'a', 'list', 'by', 'two', 'indices']\n"
     ]
    }
   ],
   "source": [
    "# 50. Swap two elements in a list by their indices.\n",
    "l2 = \"Swap two elements in a list by their indices\".split()\n",
    "print(\"Actual list is: \", l2)\n",
    "i1 = int(input(\"first index to swap from the list: \"))\n",
    "i2 = int(input(\"next index to swap from the list: \"))\n",
    "temp = l2[i1]\n",
    "l2[i1] = l2[i2]\n",
    "l2[i2] = temp\n",
    "print(\"List after swapped: \", l2)"
   ]
  },
  {
   "cell_type": "code",
   "execution_count": null,
   "id": "34157124-37f1-4c1a-93c9-b418dba79af9",
   "metadata": {},
   "outputs": [],
   "source": []
  },
  {
   "cell_type": "code",
   "execution_count": 51,
   "id": "417bcccd-ddcd-4a63-a26c-f1cc66755e32",
   "metadata": {},
   "outputs": [],
   "source": [
    "#Tuple Based Practice Problem :"
   ]
  },
  {
   "cell_type": "code",
   "execution_count": 52,
   "id": "e96042d7-6707-4167-b4be-4fa96e106cc3",
   "metadata": {},
   "outputs": [
    {
     "name": "stdout",
     "output_type": "stream",
     "text": [
      "A  <class 'tuple'>  with integers:  (1, 2, 3, 4, 5)\n"
     ]
    }
   ],
   "source": [
    "#1. Create a tuple with integers from 1 to 5.\n",
    "t = tuple(range(1, 6))\n",
    "print(\"A \", type(t), \" with integers: \", t)"
   ]
  },
  {
   "cell_type": "code",
   "execution_count": 53,
   "id": "0bce20c3-6f44-48a4-a502-b66121de7386",
   "metadata": {},
   "outputs": [
    {
     "name": "stdout",
     "output_type": "stream",
     "text": [
      "Third element from a tuple:  3\n"
     ]
    }
   ],
   "source": [
    "#2. Access the third element of a tuple.\n",
    "t = tuple(range(1, 6))\n",
    "print(\"Third element from a tuple: \", t[2])"
   ]
  },
  {
   "cell_type": "code",
   "execution_count": 54,
   "id": "1e7a34c9-4051-4294-bb17-d2fe0adf2638",
   "metadata": {},
   "outputs": [
    {
     "name": "stdout",
     "output_type": "stream",
     "text": [
      "Length of tuple with out using len():  5\n"
     ]
    }
   ],
   "source": [
    "#3. Find the length of a tuple without using the `len()` function.\n",
    "t = tuple(range(1, 6))\n",
    "length = 0\n",
    "for i in t:\n",
    "    length = length + 1\n",
    "\n",
    "print(\"Length of tuple with out using len(): \", length)\n",
    "    "
   ]
  },
  {
   "cell_type": "code",
   "execution_count": 55,
   "id": "9af96480-574a-4924-a477-d846db90cb26",
   "metadata": {},
   "outputs": [
    {
     "name": "stdin",
     "output_type": "stream",
     "text": [
      "Enter an element to find out it's occurrences:  19\n"
     ]
    },
    {
     "name": "stdout",
     "output_type": "stream",
     "text": [
      "No of occurrences of an element from a given tuple:  5\n"
     ]
    }
   ],
   "source": [
    "#4. Count the occurrences of an element in a tuple.\n",
    "t = (345, 19, 25, 5, 234, 678, 19, 5, 23, 19, 75, 89, 19, 19)\n",
    "n = int(input(\"Enter an element to find out it's occurrences: \"))\n",
    "print(\"No of occurrences of an element from a given tuple: \", t.count(n))"
   ]
  },
  {
   "cell_type": "code",
   "execution_count": 56,
   "id": "cc73cd86-71f9-449d-9ff4-95e68d49e7a4",
   "metadata": {},
   "outputs": [
    {
     "name": "stdin",
     "output_type": "stream",
     "text": [
      "Enter an element to find out it's index:  678\n"
     ]
    },
    {
     "name": "stdout",
     "output_type": "stream",
     "text": [
      "Index of an element from a given tuple:  5\n"
     ]
    }
   ],
   "source": [
    "# 5. Find the index of the first occurrence of an element in a tuple.\n",
    "t = (345, 19, 25, 5, 234, 678, 19, 5, 23, 19, 75, 89, 19, 19)\n",
    "n = int(input(\"Enter an element to find out it's index: \"))\n",
    "print(\"Index of an element from a given tuple: \", t.index(n))"
   ]
  },
  {
   "cell_type": "code",
   "execution_count": 57,
   "id": "abea3f13-f9c0-4053-93c3-ac01918bb4db",
   "metadata": {},
   "outputs": [
    {
     "name": "stdin",
     "output_type": "stream",
     "text": [
      "Enter an element to findout it's existance from the tuple:  75\n"
     ]
    },
    {
     "name": "stdout",
     "output_type": "stream",
     "text": [
      "Is given element present in a tuple:  True\n"
     ]
    }
   ],
   "source": [
    "# 6. Check if an element exists in a tuple.\n",
    "t = (345, 19, 25, 5, 234, 678, 19, 5, 23, 19, 75, 89, 19, 19)\n",
    "n = int(input(\"Enter an element to findout it's existance from the tuple: \"))\n",
    "print(\"Is given element present in a tuple: \", t.index(n) >=0 )"
   ]
  },
  {
   "cell_type": "code",
   "execution_count": 59,
   "id": "f28a201f-ea9d-4d6b-9d0f-e07ace6f9bda",
   "metadata": {},
   "outputs": [
    {
     "name": "stdout",
     "output_type": "stream",
     "text": [
      "Converted  <class 'list'>  from the given tuple:  [345, 19, 25, 5, 234, 678, 19, 5, 23, 19, 75, 89, 19, 19]\n"
     ]
    }
   ],
   "source": [
    "# 7. Convert a tuple to a list.\n",
    "t = (345, 19, 25, 5, 234, 678, 19, 5, 23, 19, 75, 89, 19, 19)\n",
    "l = list(t)\n",
    "print(\"Converted \", type(l), \" from the given tuple: \", l)"
   ]
  },
  {
   "cell_type": "code",
   "execution_count": 60,
   "id": "af4a28f8-dc95-4310-851d-5feb1c988410",
   "metadata": {},
   "outputs": [
    {
     "name": "stdout",
     "output_type": "stream",
     "text": [
      "Converted  <class 'tuple'>  from the given  <class 'list'> :  (345, 19, 25, 5, 234, 678, 19, 5, 23, 19, 75, 89, 19, 19)\n"
     ]
    }
   ],
   "source": [
    "# 8. Convert a list to a tuple.\n",
    "l = [345, 19, 25, 5, 234, 678, 19, 5, 23, 19, 75, 89, 19, 19]\n",
    "t = tuple(l)\n",
    "print(\"Converted \", type(t), \" from the given \", type(l),\": \", t)"
   ]
  },
  {
   "cell_type": "code",
   "execution_count": 61,
   "id": "c6323628-d1f2-4410-ac11-bb6e9431a4f3",
   "metadata": {},
   "outputs": [
    {
     "name": "stdout",
     "output_type": "stream",
     "text": [
      "Variable values from a typle:  1 2 3 4 5\n"
     ]
    }
   ],
   "source": [
    "# 9. Unpack the elements of a tuple into variables.\n",
    "t = (1, 2, 3, 4, 5)\n",
    "n1, n2, n3, n4, n5 = t\n",
    "print(\"Variable values from a typle: \", n1, n2, n3, n4, n5)"
   ]
  },
  {
   "cell_type": "code",
   "execution_count": 7,
   "id": "9272aa3b-7452-4a6b-85b7-813dff9aaffc",
   "metadata": {},
   "outputs": [
    {
     "name": "stdout",
     "output_type": "stream",
     "text": [
      "Even numbers from 1 to 10 in tuple format:  (2, 4, 6, 8, 10)\n"
     ]
    }
   ],
   "source": [
    "#10. Create a tuple of even numbers from 1 to 10.\n",
    "t = tuple()\n",
    "\n",
    "for a in range(1,11):\n",
    "    if a % 2 != 0:\n",
    "        continue\n",
    "    t = t + (a, )\n",
    "print(\"Even numbers from 1 to 10 in tuple format: \", t)"
   ]
  },
  {
   "cell_type": "code",
   "execution_count": 8,
   "id": "b4120c2a-e1d8-40f4-a239-d6bff312707a",
   "metadata": {},
   "outputs": [
    {
     "name": "stdout",
     "output_type": "stream",
     "text": [
      "Odd numbers from 1 to 10 in tuple format:  (1, 3, 5, 7, 9)\n"
     ]
    }
   ],
   "source": [
    "#11. Create a tuple of odd numbers from 1 to 10.\n",
    "t = tuple()\n",
    "\n",
    "for a in range(11):\n",
    "    if a % 2 == 0:\n",
    "        continue\n",
    "    t = t + (a, )\n",
    "print(\"Odd numbers from 1 to 10 in tuple format: \", t)"
   ]
  },
  {
   "cell_type": "code",
   "execution_count": 10,
   "id": "98092e28-ee52-46bb-b434-29ebf4f01438",
   "metadata": {},
   "outputs": [
    {
     "name": "stdout",
     "output_type": "stream",
     "text": [
      "Concatinate two tuples:  (2, 4, 6, 8, 10, 1, 3, 5, 7, 9)\n"
     ]
    }
   ],
   "source": [
    "#12. Concatenate two tuples.\n",
    "t_odd = (1, 3, 5, 7, 9)\n",
    "t_even = (2, 4, 6, 8, 10)\n",
    "t_results = t_even + t_odd\n",
    "print(\"Concatinate two tuples: \", t_results)"
   ]
  },
  {
   "cell_type": "code",
   "execution_count": 65,
   "id": "763ed510-bae9-4e4a-97e4-cc114c8504d4",
   "metadata": {},
   "outputs": [
    {
     "name": "stdout",
     "output_type": "stream",
     "text": [
      "Repeating 3 times a tuple:  (1, 2, 3, 4, 5, 6, 7, 8, 9, 10, 1, 2, 3, 4, 5, 6, 7, 8, 9, 10, 1, 2, 3, 4, 5, 6, 7, 8, 9, 10)\n"
     ]
    }
   ],
   "source": [
    "#13. Repeat a tuple three times.\n",
    "t1 = tuple(range(1,11))\n",
    "t_results = t1 * 3\n",
    "print(\"Repeating 3 times a tuple: \", t_results)"
   ]
  },
  {
   "cell_type": "code",
   "execution_count": 66,
   "id": "94a6902a-1bf3-4724-9b37-b187563c2334",
   "metadata": {},
   "outputs": [
    {
     "name": "stdout",
     "output_type": "stream",
     "text": [
      "Is given tuple empty?:  False\n",
      "Is given tuple empty?:  True\n"
     ]
    }
   ],
   "source": [
    "# 14. Check if a tuple is empty.\n",
    "t1 = tuple(range(1,11))\n",
    "print(\"Is given tuple empty?: \", len(t1) == 0)\n",
    "t1 = tuple()\n",
    "print(\"Is given tuple empty?: \", len(t1) == 0)\n"
   ]
  },
  {
   "cell_type": "code",
   "execution_count": 67,
   "id": "11eb4963-8bae-43d3-8259-b8a777982cbd",
   "metadata": {},
   "outputs": [
    {
     "name": "stdout",
     "output_type": "stream",
     "text": [
      "Nested typle:  (1, 2, 3, 4, (5, 6, 7, 8))\n"
     ]
    }
   ],
   "source": [
    "# 15. Create a nested tuple.\n",
    "t1 = (1,2,3,4,(5,6,7,8))\n",
    "print(\"Nested typle: \", t1)"
   ]
  },
  {
   "cell_type": "code",
   "execution_count": 68,
   "id": "8020a356-fc9e-434b-8585-c0d5c3307856",
   "metadata": {},
   "outputs": [
    {
     "name": "stdout",
     "output_type": "stream",
     "text": [
      "First of Elements of nested tuples:  5\n",
      "First of Elements of nested tuples:  10\n",
      "First of Elements of nested tuples:  20\n"
     ]
    }
   ],
   "source": [
    "#16. Access the first element of a nested tuple.\n",
    "t1 = (1,2,3,4,(5,6,7,8), (10,11,12,13,14), (20,21,22, 23))\n",
    "\n",
    "for i in t1:\n",
    "    if type(i) == tuple:\n",
    "        print(\"First of Elements of nested tuples: \", i[0])"
   ]
  },
  {
   "cell_type": "code",
   "execution_count": 69,
   "id": "ba899478-361e-4826-a6f5-0dfd33dc9699",
   "metadata": {},
   "outputs": [
    {
     "name": "stdout",
     "output_type": "stream",
     "text": [
      "Single element  <class 'tuple'>  is :  (1,)\n"
     ]
    }
   ],
   "source": [
    "#17. Create a tuple with a single element.\n",
    "t2 =(1,)\n",
    "print(\"Single element \", type(t2), \" is : \", t2)"
   ]
  },
  {
   "cell_type": "code",
   "execution_count": 70,
   "id": "24a56d14-2ea5-463e-bba6-48025e301068",
   "metadata": {},
   "outputs": [
    {
     "name": "stdout",
     "output_type": "stream",
     "text": [
      "Is both tuples 't2', 't3' are equal:  True\n",
      "Is both tuples 't2', 't4' are equal:  False\n"
     ]
    }
   ],
   "source": [
    "# 18. Compare two tuples.\n",
    "t2 = (1, 2, 3, 4 )\n",
    "t3 = (1, 2, 3, 4 )\n",
    "t4 = (1, 5, 6, 7 )\n",
    "print(\"Is both tuples 't2', 't3' are equal: \", t2 == t3)\n",
    "print(\"Is both tuples 't2', 't4' are equal: \", t2 == t4)"
   ]
  },
  {
   "cell_type": "code",
   "execution_count": 71,
   "id": "a8d86469-2ad9-4353-b880-b12cdaaecce7",
   "metadata": {},
   "outputs": [
    {
     "name": "stdout",
     "output_type": "stream",
     "text": [
      "elements from tuple are :  (1, 5, 6, 7)\n"
     ]
    },
    {
     "ename": "NameError",
     "evalue": "name 't4' is not defined",
     "output_type": "error",
     "traceback": [
      "\u001b[0;31m---------------------------------------------------------------------------\u001b[0m",
      "\u001b[0;31mNameError\u001b[0m                                 Traceback (most recent call last)",
      "Cell \u001b[0;32mIn[71], line 5\u001b[0m\n\u001b[1;32m      3\u001b[0m \u001b[38;5;28mprint\u001b[39m(\u001b[38;5;124m\"\u001b[39m\u001b[38;5;124melements from tuple are : \u001b[39m\u001b[38;5;124m\"\u001b[39m, t4)\n\u001b[1;32m      4\u001b[0m \u001b[38;5;28;01mdel\u001b[39;00m t4\n\u001b[0;32m----> 5\u001b[0m \u001b[38;5;28mprint\u001b[39m(\u001b[38;5;124m\"\u001b[39m\u001b[38;5;124melements from tuple are : \u001b[39m\u001b[38;5;124m\"\u001b[39m, \u001b[43mt4\u001b[49m)\n",
      "\u001b[0;31mNameError\u001b[0m: name 't4' is not defined"
     ]
    }
   ],
   "source": [
    "# 19. Delete a tuple.\n",
    "t4 = (1, 5, 6, 7 )\n",
    "print(\"elements from tuple are : \", t4)\n",
    "del t4\n",
    "print(\"elements from tuple are : \", t4)"
   ]
  },
  {
   "cell_type": "code",
   "execution_count": 72,
   "id": "ec3d7fa9-86d3-4ee0-95ea-db91f315f2ab",
   "metadata": {},
   "outputs": [
    {
     "name": "stdout",
     "output_type": "stream",
     "text": [
      "Slices from tuple are:  (1, 5, 6)\n",
      "Slices from tuple are:  (5, 6, 7)\n"
     ]
    }
   ],
   "source": [
    "# 20. Slice a tuple.\n",
    "t4 = (1, 5, 6, 7 )\n",
    "print(\"Slices from tuple are: \", t4[0:3])\n",
    "print(\"Slices from tuple are: \", t4[1:5])"
   ]
  },
  {
   "cell_type": "code",
   "execution_count": 73,
   "id": "5f404be7-2884-44db-adf2-20453ef3d7dd",
   "metadata": {},
   "outputs": [
    {
     "name": "stdout",
     "output_type": "stream",
     "text": [
      "Maximum value from a tuple is:  7\n"
     ]
    }
   ],
   "source": [
    "#21. Find the maximum value in a tuple.\n",
    "t4 = (1, 5, 6, 7 )\n",
    "print(\"Maximum value from a tuple is: \", max(t4))"
   ]
  },
  {
   "cell_type": "code",
   "execution_count": 74,
   "id": "f47cef10-b3be-47a2-9f50-6af8820a9094",
   "metadata": {},
   "outputs": [
    {
     "name": "stdout",
     "output_type": "stream",
     "text": [
      "Minimum value from a tuple is:  1\n"
     ]
    }
   ],
   "source": [
    "#22. Find the minimum value in a tuple.\n",
    "t4 = (1, 5, 6, 7 )\n",
    "print(\"Minimum value from a tuple is: \", min(t4))"
   ]
  },
  {
   "cell_type": "code",
   "execution_count": 75,
   "id": "0d635817-4c48-40d5-ab79-1e0bdd1c18e0",
   "metadata": {},
   "outputs": [
    {
     "name": "stdout",
     "output_type": "stream",
     "text": [
      "<class 'tuple'>  of characters from string :  ('c', 'h', 'a', 'r', 'a', 'c', 't', 'e', 'r', 's')\n"
     ]
    }
   ],
   "source": [
    "#23. Convert a string to a tuple of characters.\n",
    "string = 'characters'\n",
    "t1 = tuple(string)\n",
    "print(type(t1),\" of characters from string : \", t1)"
   ]
  },
  {
   "cell_type": "code",
   "execution_count": 76,
   "id": "265cc080-58ff-4ef4-8f2e-45fe7cc7c4ca",
   "metadata": {},
   "outputs": [
    {
     "name": "stdout",
     "output_type": "stream",
     "text": [
      "Formed  <class 'str'>  from a tuple:  characters\n"
     ]
    }
   ],
   "source": [
    "#24. Convert a tuple of characters to a string.\n",
    "t1 = ('c', 'h', 'a', 'r', 'a', 'c', 't', 'e', 'r', 's')\n",
    "string = ''.join(t1)\n",
    "print(\"Formed \", type(string), \" from a tuple: \", string)"
   ]
  },
  {
   "cell_type": "code",
   "execution_count": 32,
   "id": "c74d21e9-b0ad-4c61-a778-c0ea3e31085b",
   "metadata": {},
   "outputs": [
    {
     "name": "stdout",
     "output_type": "stream",
     "text": [
      "tuple from multiple data types:  (1, 2.5, True, 'string') <class 'tuple'>\n"
     ]
    }
   ],
   "source": [
    "#25. Create a tuple from multiple data types.\n",
    "i =1\n",
    "f = 2.5\n",
    "b = True\n",
    "string = 'string'\n",
    "t1 = (i, f, b, string)\n",
    "print(\"tuple from multiple data types: \", t1, type(t1))"
   ]
  },
  {
   "cell_type": "code",
   "execution_count": 75,
   "id": "18424853-f8dd-4024-af94-369975701025",
   "metadata": {},
   "outputs": [
    {
     "name": "stdout",
     "output_type": "stream",
     "text": [
      "Is both tuples 't2', 't3' are identical:  True\n"
     ]
    }
   ],
   "source": [
    "#26. Check if two tuples are identical.\n",
    "t2 = (1, 2, 3, 4 )\n",
    "t3 = (1, 2, 3, 4 )\n",
    "print(\"Is both tuples 't2', 't3' are identical: \", t2 == t3)"
   ]
  },
  {
   "cell_type": "code",
   "execution_count": 79,
   "id": "4fd80cb5-2450-4193-a82a-37fac0067701",
   "metadata": {},
   "outputs": [
    {
     "name": "stdout",
     "output_type": "stream",
     "text": [
      "Sorted tuple is:  [1, 2, 7, 10, 23, 45, 75, 105, 203, 234]\n"
     ]
    }
   ],
   "source": [
    "#27. Sort the elements of a tuple.\n",
    "t2 = (10, 2, 7,1, 234, 203, 45, 23, 75, 105)\n",
    "t3 = sorted(t2, key = None, reverse = False)\n",
    "print(\"Sorted tuple is: \", t3)"
   ]
  },
  {
   "cell_type": "code",
   "execution_count": 80,
   "id": "8f4a3493-5f75-4481-a974-9220fa981c45",
   "metadata": {},
   "outputs": [
    {
     "name": "stdout",
     "output_type": "stream",
     "text": [
      "Integer tuple:  (1, 2, 3, 4, 5, 6, 7, 8, 9, 10, 11, 12, 13, 14, 15, 16, 17, 18, 19, 20)\n",
      "String tuple:  ('1', '2', '3', '4', '5', '6', '7', '8', '9', '10', '11', '12', '13', '14', '15', '16', '17', '18', '19', '20')\n"
     ]
    }
   ],
   "source": [
    "#28. Convert a tuple of integers to a tuple of strings.\n",
    "t1 = tuple(range(1, 21))\n",
    "print(\"Integer tuple: \", t1)\n",
    "t2 = ()\n",
    "\n",
    "for i in t1:\n",
    "    t2 = t2 + (str(i),)\n",
    "\n",
    "print(\"String tuple: \", t2)"
   ]
  },
  {
   "cell_type": "code",
   "execution_count": 82,
   "id": "d2621792-ffb3-4141-b8a9-1de3dff69050",
   "metadata": {},
   "outputs": [
    {
     "name": "stdout",
     "output_type": "stream",
     "text": [
      "Sting tuple:  ('1', '2', '3', '4', '5', '6', '7', '8', '9', '10', '11', '12', '13', '14', '15', '16', '17', '18', '19', '20')\n",
      "Integer tuple:  (1, 2, 3, 4, 5, 6, 7, 8, 9, 10, 11, 12, 13, 14, 15, 16, 17, 18, 19, 20)\n"
     ]
    }
   ],
   "source": [
    "#29. Convert a tuple of strings to a tuple of integers.\n",
    "t1 = ('1', '2', '3', '4', '5', '6', '7', '8', '9', '10', '11', '12', '13', '14', '15', '16', '17', '18', '19', '20')\n",
    "print(\"Sting tuple: \", t1)\n",
    "t2 = ()\n",
    "\n",
    "for i in t1:\n",
    "    t2 = t2 + (int(i),)\n",
    "\n",
    "print(\"Integer tuple: \", t2)"
   ]
  },
  {
   "cell_type": "code",
   "execution_count": 83,
   "id": "0ce460b2-725d-4aba-8102-9c4f7c2a11db",
   "metadata": {},
   "outputs": [
    {
     "name": "stdout",
     "output_type": "stream",
     "text": [
      "New tuple:  (1, 2, 3, 4, 5, 6, 7, 8, 9, 10, 11, 12, 13, 14, 15, 16, 17, 18, 19, 20, '1', '2', '3', '4', '5', '6', '7', '8', '9', '10', '11', '12', '13', '14', '15', '16', '17', '18', '19', '20')\n"
     ]
    }
   ],
   "source": [
    "# 30. Merge two tuples.\n",
    "t1 = (1, 2, 3, 4, 5, 6, 7, 8, 9, 10, 11, 12, 13, 14, 15, 16, 17, 18, 19, 20)\n",
    "t2 = ('1', '2', '3', '4', '5', '6', '7', '8', '9', '10', '11', '12', '13', '14', '15', '16', '17', '18', '19', '20')\n",
    "t3 = t1 + t2\n",
    "print(\"New tuple: \", t3)"
   ]
  },
  {
   "cell_type": "code",
   "execution_count": 84,
   "id": "27f39750-a289-4060-a4ce-5570ba33d526",
   "metadata": {},
   "outputs": [
    {
     "name": "stdout",
     "output_type": "stream",
     "text": [
      "New tuple without nested tuple is:  (1, 2, 3, 4, 5, 6, 7, 8, 9, 10, 11, 12, 13, 14, 15, 16, 17, 18, 19, 20)\n"
     ]
    }
   ],
   "source": [
    "# 31. Flatten a nested tuple.\n",
    "t1 = (1, 2, 3, 4, 5, (6, 7, 8, 9, 10), 11, 12, 13, 14, 15, (16, 17, 18, 19, 20))\n",
    "t2 = ()\n",
    "for i in t1:\n",
    "    if type(i) == tuple:\n",
    "        t2 = t2 + i\n",
    "    else:\n",
    "        t2 = t2 + (i,)\n",
    "\n",
    "print(\"New tuple without nested tuple is: \", t2)"
   ]
  },
  {
   "cell_type": "code",
   "execution_count": 85,
   "id": "037fc4e1-ce5c-4cd5-9837-4311f251b67c",
   "metadata": {},
   "outputs": [
    {
     "name": "stdout",
     "output_type": "stream",
     "text": [
      "Tuple of first  5 prime numbers:  (2, 3, 5, 7, 11)\n"
     ]
    }
   ],
   "source": [
    "# 32. Create a tuple of the first 5 prime numbers.\n",
    "list_new = tuple(range(2,40))\n",
    "prime_nums = ()\n",
    "\n",
    "for i in list_new: \n",
    "    for j in list_new:\n",
    "        if i%j == 0:\n",
    "            break\n",
    "    if i == j:\n",
    "        prime_nums = prime_nums + (i,)\n",
    "    if len(prime_nums) == 5:\n",
    "        break\n",
    "print(\"Tuple of first  5 prime numbers: \", prime_nums)"
   ]
  },
  {
   "cell_type": "code",
   "execution_count": 86,
   "id": "0efb2366-e031-4b47-9778-5667d72122e1",
   "metadata": {},
   "outputs": [],
   "source": [
    "# 33. Check if a tuple is a palindrome."
   ]
  },
  {
   "cell_type": "code",
   "execution_count": 6,
   "id": "0e7bcdb6-3952-4b99-93f1-d3e4525af123",
   "metadata": {},
   "outputs": [
    {
     "name": "stdout",
     "output_type": "stream",
     "text": [
      "Is tuple a plindorme:  False\n",
      "Is tuple a plindorme:  True\n"
     ]
    }
   ],
   "source": [
    "t1= ('a', 'b', 'c', 'd', 'b', 'a')\n",
    "print(\"Is tuple a plindorme: \", t1 == t1[::-1])\n",
    "t1= ('a', 'b', 'c', 'b', 'a')\n",
    "print(\"Is tuple a plindorme: \", t1 == t1[::-1])"
   ]
  },
  {
   "cell_type": "code",
   "execution_count": null,
   "id": "7f367d40-29d7-4dfb-941c-da80e77ce017",
   "metadata": {},
   "outputs": [],
   "source": []
  },
  {
   "cell_type": "code",
   "execution_count": 87,
   "id": "d3ed9657-5fce-4803-b95f-740c26904b9c",
   "metadata": {},
   "outputs": [
    {
     "name": "stdout",
     "output_type": "stream",
     "text": [
      "Squares of each element from a tuple :  (1, 4, 9, 16, 25)\n"
     ]
    }
   ],
   "source": [
    "# 34. Create a tuple of squares of numbers from 1 to 5.\n",
    "t1 = tuple(range(1, 6))\n",
    "t2 = ()\n",
    "for i in t1:\n",
    "    t2 = t2 + ( i * i ,)\n",
    "\n",
    "print(\"Squares of each element from a tuple : \", t2)"
   ]
  },
  {
   "cell_type": "code",
   "execution_count": 88,
   "id": "246ccf8f-e6ac-4de5-8c0b-f519e8c6ecee",
   "metadata": {},
   "outputs": [
    {
     "name": "stdout",
     "output_type": "stream",
     "text": [
      "Even numbers from a tuple:  (2, 4, 6, 8, 10, 12, 14, 16, 18, 20)\n"
     ]
    }
   ],
   "source": [
    "#35. Filter out all even numbers from a tuple.\n",
    "t1 = (1, 2, 3, 4, 5, 6, 7, 8, 9, 10, 11, 12, 13, 14, 15, 16, 17, 18, 19, 20)\n",
    "\n",
    "def even(x):\n",
    "    return x % 2 == 0\n",
    "\n",
    "t2 = filter(even, t1)\n",
    "\n",
    "print(\"Even numbers from a tuple: \", tuple(t2))"
   ]
  },
  {
   "cell_type": "code",
   "execution_count": 89,
   "id": "c03c3d9b-b7a3-4435-9b5c-89b27395aa30",
   "metadata": {},
   "outputs": [
    {
     "name": "stdout",
     "output_type": "stream",
     "text": [
      "All elements multiplied by 2 :  (2, 4, 6, 8, 10, 12, 14, 16, 18, 20, 22, 24, 26, 28, 30, 32, 34, 36, 38, 40)\n"
     ]
    }
   ],
   "source": [
    "# 36. Multiply all elements in a tuple by 2.\n",
    "t1 = (1, 2, 3, 4, 5, 6, 7, 8, 9, 10, 11, 12, 13, 14, 15, 16, 17, 18, 19, 20)\n",
    "t2 = ()\n",
    "for i in t1:\n",
    "    t2 = t2 + (i*2,)\n",
    "\n",
    "print(\"All elements multiplied by 2 : \", t2) "
   ]
  },
  {
   "cell_type": "code",
   "execution_count": 1,
   "id": "f57fd82a-0e88-44ca-a051-2bdd86a0c42b",
   "metadata": {},
   "outputs": [],
   "source": [
    "# 37. Create a tuple of random numbers."
   ]
  },
  {
   "cell_type": "code",
   "execution_count": 2,
   "id": "b84eb56d-7802-4409-81f5-f93d44d10016",
   "metadata": {},
   "outputs": [
    {
     "name": "stdout",
     "output_type": "stream",
     "text": [
      "random tuple:  (26, 19, 69, 1, 93, 11, 100, 29, 39, 79)\n"
     ]
    }
   ],
   "source": [
    "import random \n",
    "rt = ()\n",
    "for i in range(1,11):\n",
    "    r = random.randint(1, 100)\n",
    "    rt = rt + (r,)\n",
    "print(\"random tuple: \", rt)"
   ]
  },
  {
   "cell_type": "code",
   "execution_count": 3,
   "id": "2a5ae3cd-2b05-4793-8ad1-32fcddc73f8c",
   "metadata": {},
   "outputs": [
    {
     "name": "stdout",
     "output_type": "stream",
     "text": [
      "Is given tuple is sorted:  False\n"
     ]
    }
   ],
   "source": [
    "# 38. Check if a tuple is sorted.\n",
    "t1 = (76, 34, 59, 5, 49, 19, 21, 19, 99, 90)\n",
    "sorted_tuple = sorted(t1, key=None, reverse = False) \n",
    "print(\"Is given tuple is sorted: \", t1 == sorted_tuple)"
   ]
  },
  {
   "cell_type": "code",
   "execution_count": 4,
   "id": "703d8a5c-610d-49ec-bcbe-d5d6aaac99e6",
   "metadata": {},
   "outputs": [],
   "source": [
    "# 39. Rotate a tuple to the left by `n` positions."
   ]
  },
  {
   "cell_type": "code",
   "execution_count": 39,
   "id": "9c1064f0-0b25-4d4b-bd79-c811e10d641c",
   "metadata": {},
   "outputs": [
    {
     "name": "stdin",
     "output_type": "stream",
     "text": [
      "Enter a number to rotate a tuple to left by 'n' positions:  5\n"
     ]
    },
    {
     "name": "stdout",
     "output_type": "stream",
     "text": [
      "A New tuple after rotate a tuple to the left by `n` positions:  (19, 21, 19, 99, 90, 76, 34, 59, 5, 49)\n"
     ]
    }
   ],
   "source": [
    "t1 = (76, 34, 59, 5, 49, 19, 21, 19, 99, 90)\n",
    "n = int(input(\"Enter a number to rotate a tuple to left by 'n' positions: \"))\n",
    "nt = t1[n:] + t1[:n]\n",
    "print(\"A New tuple after rotate a tuple to the left by `n` positions: \", nt)"
   ]
  },
  {
   "cell_type": "code",
   "execution_count": null,
   "id": "70ac35d1-f37f-4c98-adca-249c5a67b308",
   "metadata": {},
   "outputs": [],
   "source": []
  },
  {
   "cell_type": "code",
   "execution_count": 5,
   "id": "990c2c18-ef17-4faf-8b3f-3318a42efdb8",
   "metadata": {},
   "outputs": [],
   "source": [
    "#40. Rotate a tuple to the right by `n` positions."
   ]
  },
  {
   "cell_type": "code",
   "execution_count": 41,
   "id": "06d182ad-503f-4995-942e-006fb6f313be",
   "metadata": {},
   "outputs": [
    {
     "name": "stdin",
     "output_type": "stream",
     "text": [
      "Enter a number to rotate a tuple to right by 'n' positions:  4\n"
     ]
    },
    {
     "name": "stdout",
     "output_type": "stream",
     "text": [
      "A New tuple after rotate a tuple to the right by `n` positions:  (21, 19, 99, 90, 76, 34, 59, 5, 49, 19)\n"
     ]
    }
   ],
   "source": [
    "t1 = (76, 34, 59, 5, 49, 19, 21, 19, 99, 90)\n",
    "n = int(input(\"Enter a number to rotate a tuple to right by 'n' positions: \"))\n",
    "nt = t1[-n:] + t1[:-n]\n",
    "print(\"A New tuple after rotate a tuple to the right by `n` positions: \", nt)"
   ]
  },
  {
   "cell_type": "code",
   "execution_count": null,
   "id": "98729589-2a71-4ff8-ac43-6fc204ef7651",
   "metadata": {},
   "outputs": [],
   "source": []
  },
  {
   "cell_type": "code",
   "execution_count": 7,
   "id": "f7aed330-df2d-4357-821b-9ca69c66fa0b",
   "metadata": {},
   "outputs": [],
   "source": [
    "#41. Create a tuple of the first 5 Fibonacci numbers."
   ]
  },
  {
   "cell_type": "code",
   "execution_count": 23,
   "id": "2b5df93f-f2a1-42ce-aa1a-9b12514f93ae",
   "metadata": {},
   "outputs": [
    {
     "name": "stdout",
     "output_type": "stream",
     "text": [
      "First 5 Fiboncci numbers are:  (0, 1, 1, 2, 3, 5, 8)\n"
     ]
    }
   ],
   "source": [
    "\n",
    "def fibonacci(n):\n",
    "    a = [0, 1]\n",
    "    [a.append(a[-1]+a[-2]) for i in range(n)]\n",
    "    return tuple(a)\n",
    "t = fibonacci(5)\n",
    "print(\"First 5 Fiboncci numbers are: \", t)"
   ]
  },
  {
   "cell_type": "code",
   "execution_count": null,
   "id": "58379f3d-f52e-4496-a759-e436f1f4c425",
   "metadata": {},
   "outputs": [],
   "source": []
  },
  {
   "cell_type": "code",
   "execution_count": 8,
   "id": "923f8526-e988-47cf-8ccc-fff6d128201a",
   "metadata": {},
   "outputs": [
    {
     "name": "stdin",
     "output_type": "stream",
     "text": [
      "enter a number to create a tuple(to exit use -1):  9\n",
      "enter a number to create a tuple(to exit use -1):  4\n",
      "enter a number to create a tuple(to exit use -1):  6\n",
      "enter a number to create a tuple(to exit use -1):  23\n",
      "enter a number to create a tuple(to exit use -1):  67\n",
      "enter a number to create a tuple(to exit use -1):  103\n",
      "enter a number to create a tuple(to exit use -1):  -1\n"
     ]
    },
    {
     "name": "stdout",
     "output_type": "stream",
     "text": [
      "Created tuple from user input:  (9, 4, 6, 23, 67, 103)\n"
     ]
    }
   ],
   "source": [
    "# 42. Create a tuple from user input.\n",
    "t1 = ()\n",
    "while( True):\n",
    "    r = int(input(\"enter a number to create a tuple(to exit use -1): \"))\n",
    "    if( r == -1 ):\n",
    "        break\n",
    "    else:\n",
    "        t1 = t1  + (r, )\n",
    "\n",
    "print(\"Created tuple from user input: \", t1)"
   ]
  },
  {
   "cell_type": "code",
   "execution_count": 77,
   "id": "4e1fd3f9-34ac-4c66-acde-929a05700bff",
   "metadata": {},
   "outputs": [
    {
     "name": "stdout",
     "output_type": "stream",
     "text": [
      "Acutal tuple is:  (10, 20)\n",
      "swapped tuple is:  (20, 10)\n"
     ]
    }
   ],
   "source": [
    "#43. Swap two elements in a tuple.\n",
    "t1 = ( 10, 20 )\n",
    "print(\"Acutal tuple is: \", t1)\n",
    "t1 = (t1[1], t1[0])\n",
    "print(\"swapped tuple is: \", t1)"
   ]
  },
  {
   "cell_type": "code",
   "execution_count": 10,
   "id": "7a1b20c3-25c6-4e60-b774-d832d5239549",
   "metadata": {},
   "outputs": [
    {
     "name": "stdout",
     "output_type": "stream",
     "text": [
      "Actual tuple is:  (76, 34, 59, 5, 49, 19, 21, 19, 99, 90)\n",
      "Reversed elements tuple is:  (90, 99, 19, 21, 19, 49, 5, 59, 34, 76)\n"
     ]
    }
   ],
   "source": [
    "# 44. Reverse the elements of a tuple.\n",
    "t1 = (76, 34, 59, 5, 49, 19, 21, 19, 99, 90)\n",
    "\n",
    "print(\"Actual tuple is: \", t1)\n",
    "print(\"Reversed elements tuple is: \", t1[::-1])"
   ]
  },
  {
   "cell_type": "code",
   "execution_count": 11,
   "id": "af500ee4-9a00-4481-bf8b-4cd7fc5fb419",
   "metadata": {},
   "outputs": [
    {
     "name": "stdin",
     "output_type": "stream",
     "text": [
      " enter a number to create a tuple of n powers of 2:  7\n"
     ]
    },
    {
     "name": "stdout",
     "output_type": "stream",
     "text": [
      "7  powers of 2 in tuple is:  (2, 4, 8, 16, 32, 64, 128)\n"
     ]
    }
   ],
   "source": [
    "# 45. Create a tuple of the first `n` powers of 2.\n",
    "\n",
    "n  = int(input(\" enter a number to create a tuple of n powers of 2: \"))\n",
    "t1 = tuple( 2 ** j for j in range(1, n+1))\n",
    "print(n, \" powers of 2 in tuple is: \", t1)"
   ]
  },
  {
   "cell_type": "code",
   "execution_count": 12,
   "id": "276096d0-685d-4923-92ff-a2bdb02aae27",
   "metadata": {},
   "outputs": [
    {
     "name": "stdout",
     "output_type": "stream",
     "text": [
      "Longest string in a tuple is:  strings.\n"
     ]
    }
   ],
   "source": [
    "# 46. Find the longest string in a tuple of strings.\n",
    "t1=  ('Find', 'the', 'longest', 'string', 'in', 'a', 'tuple', 'of', 'strings.')\n",
    "t2 = sorted(t1, key = len, reverse = True)\n",
    "print(\"Longest string in a tuple is: \",t2[0])"
   ]
  },
  {
   "cell_type": "code",
   "execution_count": 13,
   "id": "333d9a99-676b-4e63-8c6b-ecfd349c266b",
   "metadata": {},
   "outputs": [
    {
     "name": "stdout",
     "output_type": "stream",
     "text": [
      "Longest string in a tuple is:  a\n"
     ]
    }
   ],
   "source": [
    "# 47. Find the shortest string in a tuple of strings.\n",
    "t1=  ('Find', 'the', 'longest', 'string', 'in', 'a', 'tuple', 'of', 'strings.')\n",
    "t2 = sorted(t1, key = len)\n",
    "print(\"Longest string in a tuple is: \",t2[0])"
   ]
  },
  {
   "cell_type": "code",
   "execution_count": 14,
   "id": "cd321b4e-6017-4df9-b267-6366049839bd",
   "metadata": {},
   "outputs": [],
   "source": [
    "#48. Create a tuple of the first `n` triangular numbers."
   ]
  },
  {
   "cell_type": "code",
   "execution_count": 24,
   "id": "37a38d81-94c7-40b6-8615-aef1e6596e59",
   "metadata": {},
   "outputs": [
    {
     "name": "stdin",
     "output_type": "stream",
     "text": [
      "Enter a number create triangular numbers:  6\n"
     ]
    },
    {
     "name": "stdout",
     "output_type": "stream",
     "text": [
      "(1, 3, 6, 10, 15, 21)\n"
     ]
    }
   ],
   "source": [
    "n = int(input(\"Enter a number create triangular numbers: \"))\n",
    "tri_nums = tuple()\n",
    "tri_num = 0\n",
    "\n",
    "for i in range(1, n + 1):\n",
    "    tri_num += i\n",
    "    tri_nums += (tri_num,)\n",
    "\n",
    "print(tri_nums)"
   ]
  },
  {
   "cell_type": "code",
   "execution_count": null,
   "id": "0e75e5be-4fd0-4c45-b99a-5bd9ae8af9ee",
   "metadata": {},
   "outputs": [],
   "source": []
  },
  {
   "cell_type": "code",
   "execution_count": 16,
   "id": "0435ef73-1c1a-4086-a769-fd866e7ca33b",
   "metadata": {},
   "outputs": [],
   "source": [
    "# 49. Check if a tuple contains another tuple as a subsequence."
   ]
  },
  {
   "cell_type": "code",
   "execution_count": 12,
   "id": "695a9992-06d9-466f-b161-10e6d213a900",
   "metadata": {},
   "outputs": [
    {
     "name": "stdout",
     "output_type": "stream",
     "text": [
      "Is a Tuple contains another tuple as a subsequence: True\n"
     ]
    }
   ],
   "source": [
    "t = (1, 2, 3, (11,12,13), 21, 22, 23, 24, (31,32,33,34) )\n",
    "#t = (1, 2, 3,  21, 22, 23, 24 )\n",
    "bFlag = False\n",
    "for a in t:\n",
    "    if type(a) == tuple:\n",
    "        bFlag = True\n",
    "        \n",
    "print(\"Is a Tuple contains another tuple as a subsequence:\", bFlag)"
   ]
  },
  {
   "cell_type": "code",
   "execution_count": null,
   "id": "5a6b9bcf-e74b-47e8-83e4-a424b7115531",
   "metadata": {},
   "outputs": [],
   "source": []
  },
  {
   "cell_type": "code",
   "execution_count": 15,
   "id": "5421e978-a509-4f43-8031-81edf37bfd5f",
   "metadata": {},
   "outputs": [
    {
     "name": "stdin",
     "output_type": "stream",
     "text": [
      "Enter an element to print 1s and 0s:  10\n"
     ]
    },
    {
     "name": "stdout",
     "output_type": "stream",
     "text": [
      "A tuple of alternating 1s and 0s are:  (1, 0, 1, 0, 1, 0, 1, 0, 1, 0)\n"
     ]
    }
   ],
   "source": [
    "# 50. Create a tuple of alternating 1s and 0s of length `n`.\n",
    "n = int(input(\"Enter an element to print 1s and 0s: \"))\n",
    "t1 = tuple( j%2 for j in range(1, n+1) )\n",
    "print(\"A tuple of alternating 1s and 0s are: \", t1)"
   ]
  },
  {
   "cell_type": "code",
   "execution_count": null,
   "id": "e325d18f-c60c-472e-9152-35e6c2055476",
   "metadata": {},
   "outputs": [],
   "source": []
  },
  {
   "cell_type": "code",
   "execution_count": null,
   "id": "ea9a04f0-ed00-41e9-a972-c65af86fe6da",
   "metadata": {},
   "outputs": [],
   "source": []
  },
  {
   "cell_type": "code",
   "execution_count": null,
   "id": "2ed3a764-efd5-497f-895e-122e00389b03",
   "metadata": {},
   "outputs": [],
   "source": []
  },
  {
   "cell_type": "code",
   "execution_count": 17,
   "id": "69496cb1-cff4-497e-b643-52f1a0a4388b",
   "metadata": {},
   "outputs": [],
   "source": [
    "#Set Based Practice Problem :"
   ]
  },
  {
   "cell_type": "code",
   "execution_count": 1,
   "id": "0074cd24-0994-49c2-9e20-44de70deed4f",
   "metadata": {},
   "outputs": [
    {
     "name": "stdout",
     "output_type": "stream",
     "text": [
      "Set with integers from 1 to 5 is:  {1, 2, 3, 4, 5}\n"
     ]
    }
   ],
   "source": [
    "# 1. Create a set with integers from 1 to 5.\n",
    "s = set(range(1, 6))\n",
    "print(\"Set with integers from 1 to 5 is: \", s)"
   ]
  },
  {
   "cell_type": "code",
   "execution_count": 2,
   "id": "e5621188-772b-4197-8b87-f3b15235549e",
   "metadata": {},
   "outputs": [
    {
     "name": "stdout",
     "output_type": "stream",
     "text": [
      "Set with integers from 1 to 5 is:  {1, 2, 3, 4, 5, 7}\n"
     ]
    }
   ],
   "source": [
    "# 2. Add an element to a set.\n",
    "s = set(range(1, 6))\n",
    "s.add(7)\n",
    "print(\"Set with integers from 1 to 5 is: \", s)"
   ]
  },
  {
   "cell_type": "code",
   "execution_count": 3,
   "id": "f569891e-14e6-4fe8-b1f3-830fa158f325",
   "metadata": {},
   "outputs": [
    {
     "name": "stdout",
     "output_type": "stream",
     "text": [
      "Set with integers from 1 to 5 is:  {1, 2, 3, 4, 5}\n"
     ]
    },
    {
     "name": "stdin",
     "output_type": "stream",
     "text": [
      "Enter element to remove from a set 1 to 5:  4\n"
     ]
    },
    {
     "name": "stdout",
     "output_type": "stream",
     "text": [
      "Set after removed  4  is:  {1, 2, 3, 5}\n"
     ]
    }
   ],
   "source": [
    "# 3. Remove an element from a set.\n",
    "s = set(range(1, 6))\n",
    "print(\"Set with integers from 1 to 5 is: \", s)\n",
    "n = int(input(\"Enter element to remove from a set 1 to 5: \"))\n",
    "s.remove(n)\n",
    "print(\"Set after removed \", n, \" is: \", s)"
   ]
  },
  {
   "cell_type": "code",
   "execution_count": 4,
   "id": "520f26bd-12a5-4ac8-99eb-9eb464ed3f52",
   "metadata": {},
   "outputs": [
    {
     "name": "stdout",
     "output_type": "stream",
     "text": [
      "Set with integers from 1 to 5 is:  {1, 2, 3, 4, 5}\n"
     ]
    },
    {
     "name": "stdin",
     "output_type": "stream",
     "text": [
      "Enter element for existance from a set 1 to 5:  5\n"
     ]
    },
    {
     "name": "stdout",
     "output_type": "stream",
     "text": [
      "Is entered element present in a set :  True\n"
     ]
    }
   ],
   "source": [
    "#4. Check if an element exists in a set.\n",
    "s = set(range(1, 6))\n",
    "print(\"Set with integers from 1 to 5 is: \", s)\n",
    "n = int(input(\"Enter element for existance from a set 1 to 5: \"))\n",
    "print(\"Is entered element present in a set : \", (n in s))"
   ]
  },
  {
   "cell_type": "code",
   "execution_count": 5,
   "id": "d313f71b-038e-4d55-b3fd-5532272aff59",
   "metadata": {},
   "outputs": [
    {
     "name": "stdout",
     "output_type": "stream",
     "text": [
      "Set with integers from 1 to 5 is:  {1, 2, 3, 4, 5}\n",
      "length of given set is :  5\n"
     ]
    }
   ],
   "source": [
    "# 5. Find the length of a set without using the `len()` function.\n",
    "s = set(range(1, 6))\n",
    "print(\"Set with integers from 1 to 5 is: \", s)\n",
    "n = 0\n",
    "for i in s:\n",
    "    n = n + 1\n",
    "print(\"length of given set is : \", n)"
   ]
  },
  {
   "cell_type": "code",
   "execution_count": 6,
   "id": "5df2fe00-198a-4597-97b2-a695f5666525",
   "metadata": {},
   "outputs": [
    {
     "name": "stdout",
     "output_type": "stream",
     "text": [
      "Set with integers from 1 to 5 is:  {1, 2, 3, 4, 5}\n",
      "element from a set :  set()\n"
     ]
    }
   ],
   "source": [
    "#6. Clear all elements from a set.\n",
    "s = set(range(1, 6))\n",
    "print(\"Set with integers from 1 to 5 is: \", s)\n",
    "s.clear()\n",
    "print(\"element from a set : \", s)"
   ]
  },
  {
   "cell_type": "code",
   "execution_count": 13,
   "id": "de03c2a0-d1b3-40ac-a5d8-550c37e23444",
   "metadata": {},
   "outputs": [
    {
     "name": "stdout",
     "output_type": "stream",
     "text": [
      "Set with even numbers from 1 to 10 is:  {2, 4, 6, 8, 10}\n"
     ]
    }
   ],
   "source": [
    "# 7. Create a set of even numbers from 1 to 10.\n",
    "s = set()\n",
    "for a in range(1,11):\n",
    "    if a % 2 != 0:\n",
    "        continue\n",
    "    s.add(a)\n",
    "print(\"Set with even numbers from 1 to 10 is: \", s)"
   ]
  },
  {
   "cell_type": "code",
   "execution_count": 14,
   "id": "5a7bb87c-5cf9-443e-a751-7d6b04019a88",
   "metadata": {},
   "outputs": [
    {
     "name": "stdout",
     "output_type": "stream",
     "text": [
      "Set with odd numbers from 1 to 10 is:  {1, 3, 5, 7, 9}\n"
     ]
    }
   ],
   "source": [
    "# 8. Create a set of odd numbers from 1 to 10.\n",
    "s = set()\n",
    "for a in range(1,11):\n",
    "    if a % 2 == 0:\n",
    "        continue\n",
    "    s.add(a)\n",
    "print(\"Set with odd numbers from 1 to 10 is: \", s)"
   ]
  },
  {
   "cell_type": "code",
   "execution_count": 9,
   "id": "f08f60fe-cd6b-45da-be13-318d1ee290a4",
   "metadata": {},
   "outputs": [
    {
     "name": "stdout",
     "output_type": "stream",
     "text": [
      "union of 2 sets:  {1, 2, 3, 4, 5, 6, 7, 8, 9, 10}\n"
     ]
    }
   ],
   "source": [
    "# 9. Find the union of two sets.\n",
    "s1 = set(range(1, 11, 2))\n",
    "s2 = set(range(2, 11, 2))\n",
    "print(\"union of 2 sets: \", s1.union(s2))"
   ]
  },
  {
   "cell_type": "code",
   "execution_count": 10,
   "id": "2e0eb0b5-42fb-490e-a4f3-ec186dd0bde4",
   "metadata": {},
   "outputs": [
    {
     "name": "stdout",
     "output_type": "stream",
     "text": [
      "intersection of 2 sets:  {1, 3, 5, 7, 9}\n"
     ]
    }
   ],
   "source": [
    "# 10. Find the intersection of two sets.\n",
    "s1 = {1, 3, 5, 7, 9}\n",
    "s2 = {1, 2, 3, 4, 5, 6, 7, 8, 9, 10}\n",
    "print(\"intersection of 2 sets: \", s1.intersection(s2))"
   ]
  },
  {
   "cell_type": "code",
   "execution_count": 11,
   "id": "38f935e3-65d2-4e29-a7e4-92cbf45001b2",
   "metadata": {},
   "outputs": [
    {
     "name": "stdout",
     "output_type": "stream",
     "text": [
      "differences from 2 sets:  {2, 4, 6, 8, 10}\n"
     ]
    }
   ],
   "source": [
    "# 11. Find the difference between two sets.\n",
    "s1 = {1, 3, 5, 7, 9}\n",
    "s2 = {1, 2, 3, 4, 5, 6, 7, 8, 9, 10}\n",
    "print(\"differences from 2 sets: \", s1.symmetric_difference(s2))"
   ]
  },
  {
   "cell_type": "code",
   "execution_count": 12,
   "id": "8aced159-063d-4c3f-a034-acf8cf62cad2",
   "metadata": {},
   "outputs": [
    {
     "name": "stdout",
     "output_type": "stream",
     "text": [
      "a set is subset of another sets:  True\n"
     ]
    }
   ],
   "source": [
    "#12. Check if a set is a subset of another set.\n",
    "s1 = {1, 3, 5, 7, 9}\n",
    "s2 = {1, 2, 3, 4, 5, 6, 7, 8, 9, 10}\n",
    "print(\"a set is subset of another sets: \", s1.issubset(s2))\n"
   ]
  },
  {
   "cell_type": "code",
   "execution_count": 13,
   "id": "1ac67c40-9516-464a-b5d6-9883d1b8de3e",
   "metadata": {},
   "outputs": [
    {
     "name": "stdout",
     "output_type": "stream",
     "text": [
      "a set is superset of another sets:  True\n"
     ]
    }
   ],
   "source": [
    "#13. Check if a set is a superset of another set.\n",
    "s1 = {1, 3, 5, 7, 9}\n",
    "s2 = {1, 2, 3, 4, 5, 6, 7, 8, 9, 10}\n",
    "print(\"a set is superset of another sets: \", s2.issuperset(s1))"
   ]
  },
  {
   "cell_type": "code",
   "execution_count": 14,
   "id": "a7d4f58c-dbc8-4c36-ae5b-5ca719118b49",
   "metadata": {},
   "outputs": [
    {
     "name": "stdout",
     "output_type": "stream",
     "text": [
      "type of s is :  <class 'set'>  and Set is : {1, 2, 3, 4, 5, 6, 7, 8, 9, 10, 11, 12, 13, 14, 15, 16, 17, 18, 19, 20}\n"
     ]
    }
   ],
   "source": [
    "#14. Create a set from a list.\n",
    "l = range(1, 21)\n",
    "s = set(l)\n",
    "print(\"type of s is : \", type(s), \" and Set is :\", s)"
   ]
  },
  {
   "cell_type": "code",
   "execution_count": 15,
   "id": "1a7d652b-0d3b-40ad-bc28-f0daf6ef8212",
   "metadata": {},
   "outputs": [
    {
     "name": "stdout",
     "output_type": "stream",
     "text": [
      "type of l is :  <class 'list'>  and List is : [1, 2, 3, 4, 5, 6, 7, 8, 9, 10, 11, 12, 13, 14, 15, 16, 17, 18, 19, 20]\n"
     ]
    }
   ],
   "source": [
    "#15. Convert a set to a list.\n",
    "s = set(range(1, 21))\n",
    "l = list(s)\n",
    "print(\"type of l is : \", type(l), \" and List is :\", l)"
   ]
  },
  {
   "cell_type": "code",
   "execution_count": 16,
   "id": "1a3b321d-66f3-418b-b4de-5bd3d74e51d7",
   "metadata": {},
   "outputs": [],
   "source": [
    "#16. Remove a random element from a set."
   ]
  },
  {
   "cell_type": "code",
   "execution_count": 43,
   "id": "a61c904a-e029-488e-955e-34faf52397eb",
   "metadata": {},
   "outputs": [
    {
     "name": "stdin",
     "output_type": "stream",
     "text": [
      "Enter random element from 1 to 20, to remove from it's set:  20\n"
     ]
    },
    {
     "name": "stdout",
     "output_type": "stream",
     "text": [
      "New set after remove a random element:  {1, 2, 3, 4, 5, 6, 7, 8, 9, 10, 11, 12, 13, 14, 15, 16, 17, 18, 19}\n"
     ]
    }
   ],
   "source": [
    "s = {1, 2, 3, 4, 5, 6, 7, 8, 9, 10, 11, 12, 13, 14, 15, 16, 17, 18, 19, 20}\n",
    "n = int(input(\"Enter random element from 1 to 20, to remove from it's set: \"))\n",
    "s.remove(n)\n",
    "print(\"New set after remove a random element: \", s)"
   ]
  },
  {
   "cell_type": "code",
   "execution_count": null,
   "id": "f94bce74-e118-4cf5-be40-b157221b3435",
   "metadata": {},
   "outputs": [],
   "source": []
  },
  {
   "cell_type": "code",
   "execution_count": 17,
   "id": "7b6d42fb-32b5-41bf-aa76-c4280b52162a",
   "metadata": {},
   "outputs": [
    {
     "name": "stdout",
     "output_type": "stream",
     "text": [
      "after removed random element from a sets:  1\n",
      "after removed random element from a sets:  2\n",
      "after removed random element from a sets:  3\n"
     ]
    }
   ],
   "source": [
    "#17. Pop an element from a set.\n",
    "s = set(range(1, 21))\n",
    "\n",
    "print(\"after removed random element from a sets: \", s.pop())\n",
    "print(\"after removed random element from a sets: \", s.pop())\n",
    "print(\"after removed random element from a sets: \", s.pop())\n"
   ]
  },
  {
   "cell_type": "code",
   "execution_count": 18,
   "id": "38268ec6-b85a-480d-805b-35501a2709f8",
   "metadata": {},
   "outputs": [
    {
     "name": "stdout",
     "output_type": "stream",
     "text": [
      "Is there any common elements from given sets:  False\n"
     ]
    }
   ],
   "source": [
    "#18. Check if two sets have no elements in common.\n",
    "s1 = set(range(1, 21))\n",
    "s2 = set(range(31, 51))\n",
    "print(\"Is there any common elements from given sets: \", len(s1.intersection(s2)) != 0 ) "
   ]
  },
  {
   "cell_type": "code",
   "execution_count": 19,
   "id": "6b1c48dd-44b3-4a92-9fcc-44c2209dfac1",
   "metadata": {},
   "outputs": [
    {
     "name": "stdout",
     "output_type": "stream",
     "text": [
      "sysmmetric difference from a given sets are:  {1, 2, 7, 8, 9, 11}\n"
     ]
    }
   ],
   "source": [
    "# 19. Find the symmetric difference between two sets.\n",
    "s1 = {1, 5, 6, 7, 8, 10}\n",
    "s2 = {5, 6, 2, 9, 10, 11}\n",
    "print(\"sysmmetric difference from a given sets are: \", s1.symmetric_difference(s2))"
   ]
  },
  {
   "cell_type": "code",
   "execution_count": 20,
   "id": "a7a80bdd-5038-4dd9-bfb8-5fbc153e10e5",
   "metadata": {},
   "outputs": [
    {
     "name": "stdout",
     "output_type": "stream",
     "text": [
      "After Updated a set:  {1, 2, 5, 6, 7, 8, 9, 10, 11}\n"
     ]
    }
   ],
   "source": [
    "#20. Update a set with elements from another set.\n",
    "s1 = {1, 5, 6, 7, 8, 10}\n",
    "s2 = {5, 6, 2, 9, 10, 11}\n",
    "s1.update(s2)\n",
    "print(\"After Updated a set: \", s1)"
   ]
  },
  {
   "cell_type": "code",
   "execution_count": 37,
   "id": "258cc3b6-2e14-4bca-883b-efe892580cc3",
   "metadata": {},
   "outputs": [
    {
     "name": "stdout",
     "output_type": "stream",
     "text": [
      "Prime numbers from the given numbers:  {2, 3, 5, 7, 11}\n"
     ]
    }
   ],
   "source": [
    "# 21. Create a set of the first 5 prime numbers.\n",
    "s1 = set()\n",
    "\n",
    "def isPrime(num):\n",
    "    bFlase = False\n",
    "    if num > 1:\n",
    "       # check for factors\n",
    "       for i in range(2,num):\n",
    "           if (num % i) == 0:\n",
    "               break\n",
    "       else:\n",
    "           return True\n",
    "\n",
    "n = 2;\n",
    "while(True):\n",
    "    if(isPrime(n) == True):\n",
    "        s1.add( n )\n",
    "    if len(s1) == 5:\n",
    "        break\n",
    "    n = n + 1\n",
    "\n",
    "print(\"Prime numbers from the given numbers: \", s1) "
   ]
  },
  {
   "cell_type": "code",
   "execution_count": 22,
   "id": "597ee097-7a10-4bcc-970a-f507c71f0ca4",
   "metadata": {},
   "outputs": [
    {
     "name": "stdout",
     "output_type": "stream",
     "text": [
      " Are two sets identical:  False\n",
      " Are two sets identical:  True\n"
     ]
    }
   ],
   "source": [
    "# 22. Check if two sets are identical.\n",
    "s1 = {1, 5, 6, 7, 8, 10}\n",
    "s2 = {5, 6, 2, 9, 10, 11}\n",
    "s3 = {1, 5, 6, 7, 8, 10}\n",
    "\n",
    "print(\" Are two sets identical: \", s1 == s2)\n",
    "print(\" Are two sets identical: \", s1 == s3)\n"
   ]
  },
  {
   "cell_type": "code",
   "execution_count": 23,
   "id": "12d3f24d-573b-465b-ad93-34d88b02a8c5",
   "metadata": {},
   "outputs": [
    {
     "name": "stdout",
     "output_type": "stream",
     "text": [
      "The frozen set is: frozenset({'u', 'a', 'e', 'o', 'i'})\n"
     ]
    },
    {
     "ename": "AttributeError",
     "evalue": "'frozenset' object has no attribute 'add'",
     "output_type": "error",
     "traceback": [
      "\u001b[0;31m---------------------------------------------------------------------------\u001b[0m",
      "\u001b[0;31mAttributeError\u001b[0m                            Traceback (most recent call last)",
      "Cell \u001b[0;32mIn[23], line 7\u001b[0m\n\u001b[1;32m      5\u001b[0m \u001b[38;5;28mprint\u001b[39m(\u001b[38;5;124m'\u001b[39m\u001b[38;5;124mThe frozen set is:\u001b[39m\u001b[38;5;124m'\u001b[39m, fSet)\n\u001b[1;32m      6\u001b[0m \u001b[38;5;66;03m# frozensets are immutable\u001b[39;00m\n\u001b[0;32m----> 7\u001b[0m \u001b[43mfSet\u001b[49m\u001b[38;5;241;43m.\u001b[39;49m\u001b[43madd\u001b[49m(\u001b[38;5;124m'\u001b[39m\u001b[38;5;124mv\u001b[39m\u001b[38;5;124m'\u001b[39m)\n",
      "\u001b[0;31mAttributeError\u001b[0m: 'frozenset' object has no attribute 'add'"
     ]
    }
   ],
   "source": [
    "# 23. Create a frozen set.\n",
    "vs = ('a', 'e', 'i', 'o', 'u')\n",
    "\n",
    "fSet = frozenset(vs)\n",
    "print('The frozen set is:', fSet)\n",
    "# frozensets are immutable\n",
    "fSet.add('v')"
   ]
  },
  {
   "cell_type": "code",
   "execution_count": 24,
   "id": "70c06da6-4a32-45f0-a0ab-75010469279b",
   "metadata": {},
   "outputs": [
    {
     "name": "stdout",
     "output_type": "stream",
     "text": [
      "A set is disjoint with another set:  False\n",
      "A set is disjoint with another set:  True\n"
     ]
    }
   ],
   "source": [
    "# 24. Check if a set is disjoint with another set.\n",
    "s1 = {1, 5, 6, 7, 8, 10}\n",
    "s2 = {5, 6, 2, 9, 10, 11}\n",
    "print(\"A set is disjoint with another set: \", s1.isdisjoint(s2))\n",
    "\n",
    "s1 = {1, 5, 6, 7, 8, 10}\n",
    "s2 = {2, 9, 11}\n",
    "print(\"A set is disjoint with another set: \", s1.isdisjoint(s2))"
   ]
  },
  {
   "cell_type": "code",
   "execution_count": 25,
   "id": "1b2294c0-0c9a-4b3f-9faf-1786e7bb0455",
   "metadata": {},
   "outputs": [
    {
     "name": "stdout",
     "output_type": "stream",
     "text": [
      "Even numbers form set:  {8, 10, 6}\n"
     ]
    }
   ],
   "source": [
    "#26. Filter out all even numbers from a set.\n",
    "s1 = {1, 5, 6, 7, 8, 10} \n",
    "def myFilter(a):\n",
    "    return (a % 2 ==0)\n",
    "s2= set(filter(myFilter, s1))\n",
    "print(\"Even numbers form set: \", s2)\n"
   ]
  },
  {
   "cell_type": "code",
   "execution_count": 26,
   "id": "6fc58c83-e67b-4d29-ade4-4f1999fca710",
   "metadata": {},
   "outputs": [
    {
     "name": "stdout",
     "output_type": "stream",
     "text": [
      "Even numbers form set:  {2, 10, 12, 14, 16, 20}\n"
     ]
    }
   ],
   "source": [
    "#27. Multiply all elements in a set by 2.\n",
    "def myMultiply(a):\n",
    "    return a * 2\n",
    "s1 = {1, 5, 6, 7, 8, 10} \n",
    "s2 = set()\n",
    "for i in s1:\n",
    "    s2.add(myMultiply(i))\n",
    "print(\"Even numbers form set: \", s2)"
   ]
  },
  {
   "cell_type": "code",
   "execution_count": 27,
   "id": "bec91185-1570-479b-a2f7-d7c7c244d5fe",
   "metadata": {},
   "outputs": [
    {
     "name": "stdout",
     "output_type": "stream",
     "text": [
      "randome integers:  {32, 66, 2, 100, 68, 40, 20, 59, 29}\n"
     ]
    }
   ],
   "source": [
    "#28. Create a set of random numbers.\n",
    "import random as ran\n",
    "def getRandomInt():\n",
    "    return ran.randint(0, 100)\n",
    "\n",
    "s2 = set()\n",
    "for i in range(1,10):\n",
    "    s2.add(getRandomInt())\n",
    "print(\"randome integers: \", s2)"
   ]
  },
  {
   "cell_type": "code",
   "execution_count": 29,
   "id": "c868c63e-0e6f-4fcb-b315-33531ebd8998",
   "metadata": {},
   "outputs": [
    {
     "name": "stdout",
     "output_type": "stream",
     "text": [
      "Is set empty():  True\n",
      "Is set empty():  False\n"
     ]
    }
   ],
   "source": [
    "#29. Check if a set is empty.\n",
    "s2 = set()\n",
    "print(\"Is set empty(): \", len(s2) == 0)\n",
    "s2.add(1)\n",
    "print(\"Is set empty(): \", len(s2) == 0)"
   ]
  },
  {
   "cell_type": "code",
   "execution_count": 30,
   "id": "bb3720be-67f6-4f17-9c7e-45442138667c",
   "metadata": {},
   "outputs": [],
   "source": [
    "#30. Create a nested set (hint: use frozenset)."
   ]
  },
  {
   "cell_type": "code",
   "execution_count": 27,
   "id": "3c6e17a6-a222-485e-be9b-2bad30dcd7dd",
   "metadata": {},
   "outputs": [
    {
     "name": "stdout",
     "output_type": "stream",
     "text": [
      "{frozenset({3, 4}), frozenset({1, 2})}\n"
     ]
    }
   ],
   "source": [
    "s = set([frozenset([1,2]), frozenset([3,4])])\n",
    "print(s)"
   ]
  },
  {
   "cell_type": "code",
   "execution_count": null,
   "id": "96e2bceb-75da-4a68-b9ec-330234bced8f",
   "metadata": {},
   "outputs": [],
   "source": []
  },
  {
   "cell_type": "code",
   "execution_count": 31,
   "id": "d7c416c0-8a04-449d-9427-61e6c8a33076",
   "metadata": {},
   "outputs": [
    {
     "name": "stdout",
     "output_type": "stream",
     "text": [
      "set is : {66, 7, 39, 74, 14, 48, 59, 60, 61}\n",
      "set is after removed an element by using discard: {66, 7, 39, 14, 48, 59, 60, 61}\n"
     ]
    }
   ],
   "source": [
    "#31. Remove an element from a set using the discard method.\n",
    "s1 = {66, 7, 39, 74, 14, 48, 59, 60, 61}\n",
    "print(\"set is :\", s1 )\n",
    "s1.discard(74)\n",
    "print(\"set is after removed an element by using discard:\", s1 )"
   ]
  },
  {
   "cell_type": "code",
   "execution_count": 32,
   "id": "458fbc82-2f43-4e26-a9f2-e075816cdd21",
   "metadata": {},
   "outputs": [
    {
     "name": "stdout",
     "output_type": "stream",
     "text": [
      " both seare are equal by using equal operator:  True\n",
      " both seare are equal by using 'is' operator  False\n"
     ]
    }
   ],
   "source": [
    "#32. Compare two sets.\n",
    "s1 = {66, 7, 39, 74, 14, 48, 59, 60, 61}\n",
    "s2 = {66, 7, 39, 74, 14, 48, 59, 60, 61}\n",
    "print(\" both seare are equal by using equal operator: \", s1 == s2)\n",
    "print(\" both seare are equal by using 'is' operator \", s1 is s2)"
   ]
  },
  {
   "cell_type": "code",
   "execution_count": 33,
   "id": "18249479-a8ac-4fb0-a7de-8e2d1365e967",
   "metadata": {},
   "outputs": [
    {
     "name": "stdout",
     "output_type": "stream",
     "text": [
      "Created set from a string:  {'Create', 'a', 'set', 'string.', 'from'}\n"
     ]
    }
   ],
   "source": [
    "#33. Create a set from a string.\n",
    "string = 'Create a set from a string.'\n",
    "s1 = set(string.split())\n",
    "print(\"Created set from a string: \", s1)"
   ]
  },
  {
   "cell_type": "code",
   "execution_count": 34,
   "id": "4892b7f2-08f9-448e-b0e5-7781c0638636",
   "metadata": {},
   "outputs": [
    {
     "name": "stdout",
     "output_type": "stream",
     "text": [
      "Set of integers:  {1, 2, 3, 4, 5, 6}\n"
     ]
    }
   ],
   "source": [
    "#34. Convert a set of strings to a set of integers.\n",
    "s1 = { '1', '2', '3', '4', '5', '6' }\n",
    "def string_2_integer(x):\n",
    "    return int(x)\n",
    "s2 = set()\n",
    "for i in s1:\n",
    "    s2.add(string_2_integer(i))\n",
    "\n",
    "print(\"Set of integers: \", s2)\n"
   ]
  },
  {
   "cell_type": "code",
   "execution_count": 35,
   "id": "40654a65-5da6-40f6-bd3f-85ee7939eede",
   "metadata": {},
   "outputs": [
    {
     "name": "stdout",
     "output_type": "stream",
     "text": [
      "Set of strings:  {'3', '1', '5', '2', '4', '6'}\n"
     ]
    }
   ],
   "source": [
    "#35. Convert a set of integers to a set of strings.\n",
    "s1 = {1, 2, 3, 4, 5, 6}\n",
    "def integer_2_string(x):\n",
    "    return str(x)\n",
    "s2 = set()\n",
    "for i in s1:\n",
    "    s2.add(integer_2_string(i))\n",
    "\n",
    "print(\"Set of strings: \", s2)"
   ]
  },
  {
   "cell_type": "code",
   "execution_count": 36,
   "id": "d924ce98-6a88-4d7a-ad10-2c48220eca09",
   "metadata": {},
   "outputs": [
    {
     "name": "stdout",
     "output_type": "stream",
     "text": [
      "Set from a tuple :  {1, 2, 3, 4, 5, 6}  type is:  <class 'set'>\n"
     ]
    }
   ],
   "source": [
    "#36. Create a set from a tuple.\n",
    "t1 = (1, 2, 3, 4, 5, 6)\n",
    "s1 =  set(t1)\n",
    "print(\"Set from a tuple : \", s1, \" type is: \", type(s1))"
   ]
  },
  {
   "cell_type": "code",
   "execution_count": 37,
   "id": "92c093bf-7d52-44ef-9af1-36bdb62f04e7",
   "metadata": {},
   "outputs": [
    {
     "name": "stdout",
     "output_type": "stream",
     "text": [
      "Tuple from a set :  (1, 2, 3, 4, 5, 6)  type is:  <class 'tuple'>\n"
     ]
    }
   ],
   "source": [
    "#37. Convert a set to a tuple.\n",
    "s1 = {1, 2, 3, 4, 5, 6}\n",
    "t1 =  tuple(s1)\n",
    "print(\"Tuple from a set : \", t1, \" type is: \", type(t1))"
   ]
  },
  {
   "cell_type": "code",
   "execution_count": 38,
   "id": "c7a81bce-2f23-40eb-a6a1-9ae087061ac4",
   "metadata": {},
   "outputs": [
    {
     "name": "stdout",
     "output_type": "stream",
     "text": [
      "Maximum value from a set is:  6\n"
     ]
    }
   ],
   "source": [
    "#38. Find the maximum value in a set.\n",
    "s1 = {1, 2, 3, 4, 5, 6}\n",
    "print(\"Maximum value from a set is: \", max(s1))"
   ]
  },
  {
   "cell_type": "code",
   "execution_count": 39,
   "id": "7e92123f-9efb-43fc-8897-277751c37041",
   "metadata": {},
   "outputs": [
    {
     "name": "stdout",
     "output_type": "stream",
     "text": [
      "Minimum value from a set is:  1\n"
     ]
    }
   ],
   "source": [
    "#39. Find the minimum value in a set.\n",
    "s1 = {1, 2, 3, 4, 5, 6}\n",
    "print(\"Minimum value from a set is: \", min(s1))"
   ]
  },
  {
   "cell_type": "code",
   "execution_count": 40,
   "id": "e8009796-81d3-4a26-9377-5da86b598a38",
   "metadata": {},
   "outputs": [
    {
     "name": "stdin",
     "output_type": "stream",
     "text": [
      "enter a number to create/add to a set:  3\n",
      "enter a number to create/add to a set:  6\n",
      "enter a number to create/add to a set:  3\n",
      "enter a number to create/add to a set:  9\n",
      "enter a number to create/add to a set:  6\n",
      "enter a number to create/add to a set:  3\n",
      "enter a number to create/add to a set:  101\n",
      "enter a number to create/add to a set:  -1\n"
     ]
    },
    {
     "name": "stdout",
     "output_type": "stream",
     "text": [
      "The set with inputed data is:  {9, 3, 101, 6}\n"
     ]
    }
   ],
   "source": [
    "#40. Create a set from user input.\n",
    "s1 = set()\n",
    "while True:\n",
    "    a = input(\"enter a number to create/add to a set: \")\n",
    "    if int(a) == -1:\n",
    "        break\n",
    "    s1.add(int(a))\n",
    "\n",
    "print(\"The set with inputed data is: \", s1)\n"
   ]
  },
  {
   "cell_type": "code",
   "execution_count": 41,
   "id": "d05a3124-3edf-4cdd-878f-34523453ec25",
   "metadata": {},
   "outputs": [
    {
     "name": "stdout",
     "output_type": "stream",
     "text": [
      "intersection of two sets are empty:  True\n"
     ]
    }
   ],
   "source": [
    "#41. Check if the intersection of two sets is empty.\n",
    "s1 = {2, 3, 5, 6, 8, 9}\n",
    "s2 = {1, 10, 4, 7}\n",
    "print(\"intersection of two sets are empty: \", \n",
    "      len(s1.intersection(s2)) == len(s2.intersection(s1)) == 0)"
   ]
  },
  {
   "cell_type": "code",
   "execution_count": 42,
   "id": "d4fa2351-591d-40cc-b45a-14ba527686c3",
   "metadata": {},
   "outputs": [],
   "source": [
    "#42. Create a set of the first 5 Fibonacci numbers.\n"
   ]
  },
  {
   "cell_type": "code",
   "execution_count": 25,
   "id": "7c9b81e1-f2da-4114-b914-d94918e8ae69",
   "metadata": {},
   "outputs": [
    {
     "name": "stdout",
     "output_type": "stream",
     "text": [
      "First 5 Fiboncci numbers are:  {0, 1, 2, 3, 5, 8}\n"
     ]
    }
   ],
   "source": [
    "\n",
    "def fibonacci(n):\n",
    "    a = [0, 1]\n",
    "    [a.append(a[-1]+a[-2]) for i in range(n)]\n",
    "    return set(a)\n",
    "s = fibonacci(5)\n",
    "print(\"First 5 Fiboncci numbers are: \", s)"
   ]
  },
  {
   "cell_type": "code",
   "execution_count": null,
   "id": "9162af85-0719-4942-be49-09ded067620f",
   "metadata": {},
   "outputs": [],
   "source": []
  },
  {
   "cell_type": "code",
   "execution_count": 43,
   "id": "a1f24561-2335-4e7a-92fc-0c6a2dd0800a",
   "metadata": {},
   "outputs": [
    {
     "name": "stdout",
     "output_type": "stream",
     "text": [
      "A set, after removed duplicates from a list:  {1, 2, 3, 5, 6, 7}\n"
     ]
    }
   ],
   "source": [
    "#43. Remove duplicates from a list using sets.\n",
    "l1 = [1, 2, 5, 3, 6, 3, 7, 6, 2]\n",
    "s1 = set(l1)\n",
    "print(\"A set, after removed duplicates from a list: \", s1)"
   ]
  },
  {
   "cell_type": "code",
   "execution_count": 44,
   "id": "34f2008a-7582-4c9d-9e40-e97db2af7eee",
   "metadata": {},
   "outputs": [
    {
     "name": "stdout",
     "output_type": "stream",
     "text": [
      "Are these 2 sets are equal? :  True\n"
     ]
    }
   ],
   "source": [
    "#44. Check if two sets have the same elements, regardless of their count.\n",
    "\n",
    "s1 = {1, 2, 5, 3, 6, 3, 7, 6}\n",
    "s2 = {1, 2, 5, 3, 6, 3, 7, 6, 2}\n",
    "print(\"Are these 2 sets are equal? : \", s1 == s2)"
   ]
  },
  {
   "cell_type": "code",
   "execution_count": 45,
   "id": "816c2f76-f38d-4738-8840-66453e24ca32",
   "metadata": {},
   "outputs": [
    {
     "name": "stdin",
     "output_type": "stream",
     "text": [
      "Enter a number to find first 'n' powers of 2: 7\n"
     ]
    },
    {
     "name": "stdout",
     "output_type": "stream",
     "text": [
      "A set of the first 'n' powers of 2: {1, 4, 36, 9, 16, 49, 25}\n"
     ]
    }
   ],
   "source": [
    "#45. Create a set of the first `n` powers of 2.\n",
    "def n_pow_2(x):\n",
    "    return pow(x, 2)\n",
    "\n",
    "n = int(input(\"Enter a number to find first 'n' powers of 2:\"))\n",
    "s1 = set()\n",
    "for i in range(1, n+1):\n",
    "    s1.add(n_pow_2(i))\n",
    "\n",
    "print(\"A set of the first 'n' powers of 2:\", s1)"
   ]
  },
  {
   "cell_type": "code",
   "execution_count": 46,
   "id": "bb12c0c0-5248-427c-853a-c634d0ac8eb2",
   "metadata": {},
   "outputs": [
    {
     "name": "stdout",
     "output_type": "stream",
     "text": [
      "Common elements between a set and a lists are :  {1, 2, 3, 5, 6, 7}\n"
     ]
    }
   ],
   "source": [
    "#46. Find the common elements between a set and a list.\n",
    "l1 =  (1, 2, 5, 3, 6, 4, 7, 9)\n",
    "s1 =  {1, 2, 5, 3, 6, 3, 7, 6}\n",
    "print(\"Common elements between a set and a lists are : \", s1.intersection(l1))"
   ]
  },
  {
   "cell_type": "code",
   "execution_count": 47,
   "id": "58d592d5-ed68-4f81-b3fd-264baa660085",
   "metadata": {},
   "outputs": [],
   "source": [
    "#47. Create a set of the first `n` triangular numbers."
   ]
  },
  {
   "cell_type": "code",
   "execution_count": 26,
   "id": "9b6a9873-5913-4c18-8c69-2ea7cbc7f02d",
   "metadata": {},
   "outputs": [
    {
     "name": "stdin",
     "output_type": "stream",
     "text": [
      "Enter a number create triangular numbers:  10\n"
     ]
    },
    {
     "name": "stdout",
     "output_type": "stream",
     "text": [
      "{1, 3, 36, 6, 10, 45, 15, 21, 55, 28}\n"
     ]
    }
   ],
   "source": [
    "n = int(input(\"Enter a number create triangular numbers: \"))\n",
    "tri_nums = set()\n",
    "tri_num = 0\n",
    "\n",
    "for i in range(1, n + 1):\n",
    "    tri_num += i\n",
    "    tri_nums.add(tri_num)\n",
    "\n",
    "print(tri_nums)"
   ]
  },
  {
   "cell_type": "code",
   "execution_count": null,
   "id": "3b412783-435c-4987-80f2-3e492e7c7a3b",
   "metadata": {},
   "outputs": [],
   "source": []
  },
  {
   "cell_type": "code",
   "execution_count": 48,
   "id": "5e9c5861-7d3b-4cea-bf56-0e246b52effc",
   "metadata": {},
   "outputs": [
    {
     "name": "stdout",
     "output_type": "stream",
     "text": [
      "Contains another set as a subset:  True\n",
      "Contains another set as a subset:  True\n"
     ]
    }
   ],
   "source": [
    "#48. Check if a set contains another set as a subset.\n",
    "s1 = {1, 2, 3, 4, 5}\n",
    "s2 = {1, 2, 3, 4, 5}\n",
    "print(\"Contains another set as a subset: \", s1.issubset( s2 ))\n",
    "\n",
    "s1 = {1, 2, 3, 4, 5}\n",
    "s2 = {1, 2, 3, 4, 5, 6, 7}\n",
    "\n",
    "print(\"Contains another set as a subset: \", s1.issubset( s2 ))"
   ]
  },
  {
   "cell_type": "code",
   "execution_count": 49,
   "id": "9cd040e6-8cc6-4481-9676-61c8b145c71b",
   "metadata": {},
   "outputs": [
    {
     "name": "stdin",
     "output_type": "stream",
     "text": [
      "Enter a number to create a set with 1s and 0s:  8\n"
     ]
    },
    {
     "name": "stdout",
     "output_type": "stream",
     "text": [
      "Here is the final set with 1s and 0s:  {0, 1}\n"
     ]
    }
   ],
   "source": [
    "#49. Create a set of alternating 1s and 0s of length `n`.\n",
    "n = int(input(\"Enter a number to create a set with 1s and 0s: \"))\n",
    "\n",
    "s1 = set()\n",
    "for i in range(1, n+1):\n",
    "    s1.add( i%2 )\n",
    "\n",
    "#set will not allow duplicate so the o/p would be {0, 1} or {1, 0}\n",
    "print(\"Here is the final set with 1s and 0s: \", s1)\n",
    "\n"
   ]
  },
  {
   "cell_type": "code",
   "execution_count": 50,
   "id": "17be2c89-1cda-4e41-ad8d-768ace79d6ca",
   "metadata": {},
   "outputs": [
    {
     "name": "stdout",
     "output_type": "stream",
     "text": [
      "Here is the final set after merged multiple sets:  {1, 2, 3, 4, 5, 11, 12, 13, 14, 15, 16, 17, 21, 22, 23, 24, 25, 26, 27}\n"
     ]
    }
   ],
   "source": [
    "#50. Merge multiple sets into one.\n",
    "s1 = {1, 2, 3, 4, 5}\n",
    "s2 = {11, 12, 13, 14, 15, 16, 17}\n",
    "s3 = {21, 22, 23, 24, 25, 26, 27}\n",
    "\n",
    "print(\"Here is the final set after merged multiple sets: \", s1.union(s2).union(s3))\n"
   ]
  },
  {
   "cell_type": "code",
   "execution_count": null,
   "id": "fb3b644a-2f0e-4336-b953-bc56d0b68e2e",
   "metadata": {},
   "outputs": [],
   "source": []
  }
 ],
 "metadata": {
  "kernelspec": {
   "display_name": "Python 3 (ipykernel)",
   "language": "python",
   "name": "python3"
  },
  "language_info": {
   "codemirror_mode": {
    "name": "ipython",
    "version": 3
   },
   "file_extension": ".py",
   "mimetype": "text/x-python",
   "name": "python",
   "nbconvert_exporter": "python",
   "pygments_lexer": "ipython3",
   "version": "3.10.8"
  }
 },
 "nbformat": 4,
 "nbformat_minor": 5
}
