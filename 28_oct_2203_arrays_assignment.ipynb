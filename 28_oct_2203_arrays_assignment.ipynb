{
 "cells": [
  {
   "cell_type": "code",
   "execution_count": 1,
   "id": "ca1a36b9-2681-46fe-9e20-253e34b43678",
   "metadata": {},
   "outputs": [
    {
     "name": "stdout",
     "output_type": "stream",
     "text": [
      "True\n"
     ]
    }
   ],
   "source": [
    "#1. Given an array, check if it contains any duplicates or not.\n",
    "a = [1, 2, 4, 3, 2, 9]\n",
    "def duplicates_conatins(arr):\n",
    "    \n",
    "    # Sort the array to bring duplicate elements together\n",
    "    sorted_arr = sorted(arr)\n",
    "    \n",
    "    # Get the length of the sorted array\n",
    "    arr_count = len(sorted_arr)\n",
    "    \n",
    "    \n",
    "    # Iterate through the sorted array\n",
    "    for i in sorted_arr:\n",
    "        \n",
    "        # Check if the current element is equal to the next element\n",
    "        if i < arr_count-1 and sorted_arr[i] == sorted_arr[i+1]:\n",
    "            \n",
    "            # If duplicates are found, return True\n",
    "            return True\n",
    "    \n",
    "    # If no duplicates are found, return False\n",
    "    return False\n",
    "\n",
    "print(duplicates_conatins(a))\n",
    "    "
   ]
  },
  {
   "cell_type": "code",
   "execution_count": null,
   "id": "2c9f7674-5542-449a-b344-6195a72165e4",
   "metadata": {},
   "outputs": [],
   "source": []
  },
  {
   "cell_type": "code",
   "execution_count": null,
   "id": "5e9e4921-7c33-4150-9afd-2a46889863cd",
   "metadata": {},
   "outputs": [],
   "source": []
  },
  {
   "cell_type": "code",
   "execution_count": 2,
   "id": "249ede48-ad6c-4a49-8779-bc2b8c416c60",
   "metadata": {},
   "outputs": [
    {
     "name": "stdout",
     "output_type": "stream",
     "text": [
      "[5, 6, 7, 1, 2, 3, 4]\n"
     ]
    }
   ],
   "source": [
    "#2. Given an array and an integer k, rotate the array to the right by k steps.\n",
    "# Given array 'a' and rotation index 'k'\n",
    "a = [1, 2, 3, 4, 5, 6, 7] \n",
    "k = 3\n",
    "\n",
    "# Function to rotate an array to the right by a specified index\n",
    "def rotate_array(arr, index):\n",
    "    # Calculate the number of elements to be rotated\n",
    "    count = len(arr) - index\n",
    "    \n",
    "    # Perform rotation by slicing and concatenation\n",
    "    rotated_arr = arr[count:] + arr[:count]\n",
    "    \n",
    "    # Return the rotated array\n",
    "    return rotated_arr\n",
    "\n",
    "# Print the result of rotating array 'a' by index 'k'\n",
    "print(rotate_array(a, k))\n",
    "\n",
    "#Output = [5, 6, 7, 1, 2, 3, 4]"
   ]
  },
  {
   "cell_type": "code",
   "execution_count": 3,
   "id": "43e295ba-26aa-4e68-aa8f-3b224d74682e",
   "metadata": {},
   "outputs": [
    {
     "name": "stdout",
     "output_type": "stream",
     "text": [
      "[12, 9, 5, 7, 4, 2]\n"
     ]
    }
   ],
   "source": [
    "#3. Reverse the given array in-place, means without using any extra data structure.\n",
    "# Given array 'arr'\n",
    "arr = [2, 4, 5, 7, 9, 12]\n",
    "\n",
    "# Function to reverse the elements of an array\n",
    "def reverse_array(arr):\n",
    "    # Calculate the index of the last element in the array\n",
    "    count = len(arr) - 1\n",
    "    \n",
    "    # Iterate over the first half of the array using enumeration\n",
    "    for i, v in enumerate(range(count // 2)):\n",
    "        # Swap the elements at the current index and its corresponding position from the end\n",
    "        t = arr[i]\n",
    "        arr[i] = arr[count - i]\n",
    "        arr[count - i] = t\n",
    "\n",
    "# Call the function to reverse the array 'arr'\n",
    "reverse_array(arr)\n",
    "\n",
    "# Print the reversed array\n",
    "print(arr)"
   ]
  },
  {
   "cell_type": "code",
   "execution_count": 4,
   "id": "a5478f24-bebf-4497-8204-98cdd98b576c",
   "metadata": {},
   "outputs": [
    {
     "name": "stdout",
     "output_type": "stream",
     "text": [
      "29\n",
      "29\n"
     ]
    }
   ],
   "source": [
    "#4. Given an array of integers, find the maximum element in an array\n",
    "# Given array 'arr'\n",
    "arr = [10, 5, 20, 8, 15, 29]\n",
    "\n",
    "# Print the maximum value using the sorted function\n",
    "print(sorted(arr, reverse=True)[0])\n",
    "\n",
    "# Function to find the maximum value in an array\n",
    "def max_value(arr):\n",
    "    # Initialize 'max' to negative infinity\n",
    "    max = float('-inf')\n",
    "    \n",
    "    # Iterate through the elements of the array\n",
    "    for i in arr:\n",
    "        # Update 'max' if the current element is greater\n",
    "        if max < i:\n",
    "            max = i\n",
    "    \n",
    "    # Return the maximum value\n",
    "    return max\n",
    "\n",
    "# Print the maximum value using the max_value function\n",
    "print(max_value(arr))"
   ]
  },
  {
   "cell_type": "code",
   "execution_count": 5,
   "id": "5d32970a-7cc2-45df-8b15-0949e7c59e3c",
   "metadata": {},
   "outputs": [
    {
     "name": "stdout",
     "output_type": "stream",
     "text": [
      "Modified Array: [1, 2, 3, 4, 5]\n",
      "Length: 5\n"
     ]
    }
   ],
   "source": [
    "#5. Given a sorted array, remove the duplicate element without using any extra data structure.\n",
    "arr = [1, 1, 2, 2, 2, 3, 3, 4, 4, 4, 5, 5]\n",
    "Output = [1, 2, 3, 4, 5]\n",
    "\n",
    "def remove_duplicates(nums):\n",
    "    if not nums:\n",
    "        return 0\n",
    "\n",
    "    # Index to keep track of the position to insert the next unique element\n",
    "    unique_index = 1\n",
    "\n",
    "    # Iterate through the array starting from the second element\n",
    "    for i in range(1, len(nums)):\n",
    "        # If the current element is different from the previous one, update the array\n",
    "        if nums[i] != nums[i - 1]:\n",
    "            nums[unique_index] = nums[i]\n",
    "            unique_index += 1\n",
    "\n",
    "    # The length of the modified array is the position of the last unique element\n",
    "    return unique_index\n",
    "\n",
    "# Example\n",
    "sorted_array =  arr #[1, 1, 2, 2, 2, 3, 4, 4, 5]\n",
    "length = remove_duplicates(sorted_array)\n",
    "\n",
    "# Display the modified array and its length\n",
    "print(\"Modified Array:\", sorted_array[:length])\n",
    "print(\"Length:\", length)"
   ]
  },
  {
   "cell_type": "code",
   "execution_count": null,
   "id": "7b54a693-d6b7-4bff-9455-e2e32a4ca190",
   "metadata": {},
   "outputs": [],
   "source": []
  }
 ],
 "metadata": {
  "kernelspec": {
   "display_name": "Python 3 (ipykernel)",
   "language": "python",
   "name": "python3"
  },
  "language_info": {
   "codemirror_mode": {
    "name": "ipython",
    "version": 3
   },
   "file_extension": ".py",
   "mimetype": "text/x-python",
   "name": "python",
   "nbconvert_exporter": "python",
   "pygments_lexer": "ipython3",
   "version": "3.10.8"
  }
 },
 "nbformat": 4,
 "nbformat_minor": 5
}
